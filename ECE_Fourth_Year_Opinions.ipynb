{
 "cells": [
  {
   "cell_type": "code",
   "execution_count": null,
   "metadata": {
    "tags": []
   },
   "outputs": [],
   "source": [
    "%run ./setup_notebook.ipynb"
   ]
  },
  {
   "cell_type": "code",
   "execution_count": null,
   "metadata": {},
   "outputs": [],
   "source": [
    "import numpy as np # linear algebra\n",
    "import pandas as pd \n",
    "import plotly.express as px\n",
    "import plotly.graph_objects as go\n",
    "# from plotly.subplots import make_subplot\n",
    "from geopy.geocoders import Nominatim\n",
    "from skimage import io\n",
    "# import ipywidgets as widgets\n",
    "import re\n",
    "from ipywidgets import interact, interact_manual\n",
    "import folium\n",
    "import time\n",
    "from collections import defaultdict\n",
    "import json\n",
    "# helpful modules\n",
    "from scipy.spatial.distance import euclidean, pdist, squareform\n",
    "from datetime import datetime"
   ]
  },
  {
   "cell_type": "code",
   "execution_count": null,
   "metadata": {},
   "outputs": [],
   "source": [
    "PIE_WIDTH=600\n",
    "PIE_HEIGHT=600"
   ]
  },
  {
   "attachments": {},
   "cell_type": "markdown",
   "metadata": {
    "tags": [
     "intro"
    ]
   },
   "source": [
    "<div style=\"font-family:'Trebuchet MS', 'Impact', sans-serif; \n",
    "            margin-bottom: 20px; letter-spacing: 6px; text-align:center;\n",
    "            font-size: 200%;\"><b>University of Toronto ECE2T2 Class Profile</b></div>\n",
    "\n",
    "<div style=\"font-size: 16px;text-align:center;\"><i>Number of Respondents: 52</i></div>\n",
    "<!-- <div style=\"font-size: 16px;text-align:center;\"><i>All Plots show data</i></div> -->\n",
    "\n",
    "<p style=\"text-align:start;\">Welcome to the University of Toronto ECE2T2 Class Profile -- Inspired by Waterloo Software Engineering 2021 Class Profile. \n",
    "We come here to give you all the deets, all the information on our graduating class: their passions, compassions, and the future they have built in their times at UofT.\n",
    "   \n",
    "Let's find out about who these 52 people of University of Toronto ECE2T2 are, and where they be at!</p>"
   ]
  },
  {
   "cell_type": "code",
   "execution_count": null,
   "metadata": {},
   "outputs": [],
   "source": [
    "df = pd.read_csv(\"Electrical_and_Computer_Engineering_2023_-_Class_Profile_Survey_Submissions_2023-03-29.csv\")"
   ]
  },
  {
   "cell_type": "code",
   "execution_count": null,
   "metadata": {
    "tags": [
     "hide_code"
    ]
   },
   "outputs": [],
   "source": [
    "print(len(df))\n",
    "df.head(5)"
   ]
  },
  {
   "attachments": {},
   "cell_type": "markdown",
   "metadata": {
    "tags": [
     "hide_code"
    ]
   },
   "source": [
    "## Data Cleaning\n",
    "\n"
   ]
  },
  {
   "cell_type": "code",
   "execution_count": null,
   "metadata": {},
   "outputs": [],
   "source": [
    "## Write out columns to a text file for analysis\n",
    "with open(\"all_columns.txt\", mode=\"w\", encoding=\"utf-8\") as f:\n",
    "    f.write(\"\\n\".join(df.columns))"
   ]
  },
  {
   "cell_type": "code",
   "execution_count": null,
   "metadata": {},
   "outputs": [],
   "source": [
    "# Modify these column names, if they still exist\n",
    "if {\"Untitled long answer field (1)\", \"Untitled long answer field (2)\", \"Untitled long answer field (3)\"}.issubset(df.columns):\n",
    "  df.rename(columns={\n",
    "                      \"Untitled long answer field (1)\" : \"1. Share a story, happy or sad, from your time in ECE\",\n",
    "                      \"Untitled long answer field (2)\" : \"2. What is something you regret over your time at UofT?\",\n",
    "                      \"Untitled long answer field (3)\" : \"3. Give a piece of advice to your fellow ECE 2T2 - 2023 grads\"\n",
    "                    }, inplace=True)\n",
    "\n",
    "  # Check column data has indeed been changed\n",
    "  index = df.columns.str.contains(\"1. Share a story, happy or sad, from your time in ECE\") | \\\n",
    "  df.columns.str.contains(\"2. What is something you regret over your time at UofT?\") | \\\n",
    "  df.columns.str.contains(\"3. Give a piece of advice to your fellow ECE 2T2 - 2023 grads\")\n",
    "\n",
    "  indices = df.columns[index]\n",
    "  assert len(indices) == 3"
   ]
  },
  {
   "cell_type": "code",
   "execution_count": null,
   "metadata": {},
   "outputs": [],
   "source": [
    "# Drop unnecessary article. Non-useful data.\n",
    "# Proof that all data under this column are null\n",
    "if \"https://money.usnews.com/money/personal-finance/family-finance/articles/where-do-i-fall-in-the-ameri\" + \\\n",
    "          \"can-economic-class-system\" in df.columns:\n",
    "        assert df[\"https://money.usnews.com/money/personal-finance/family-finance/articles/where-do-i-fall-in-the-ameri\"\n",
    "                \"can-economic-class-system\"].isna().sum() == len(df)\n",
    "\n",
    "        df.drop(\"https://money.usnews.com/money/personal-finance/family-finance/articles/where-do-i-fall-in-the-american-economic-class-system\", \n",
    "                axis=1, inplace=True)"
   ]
  },
  {
   "attachments": {},
   "cell_type": "markdown",
   "metadata": {
    "tags": [
     "hide_code"
    ]
   },
   "source": [
    "## Data Exploration"
   ]
  },
  {
   "attachments": {},
   "cell_type": "markdown",
   "metadata": {
    "tags": [
     "big_heading"
    ]
   },
   "source": [
    "# Class Profile"
   ]
  },
  {
   "attachments": {},
   "cell_type": "markdown",
   "metadata": {},
   "source": [
    "## What Program Were You in First Year?"
   ]
  },
  {
   "cell_type": "code",
   "execution_count": null,
   "metadata": {},
   "outputs": [],
   "source": [
    "# TO-DO! Make trace subplots with this\n",
    "fig = px.pie(df, names=\"What program were you in first year?\", color=\"What program were you in first year?\")\n",
    "fig.update_traces(hovertemplate=less_cringe_hovertext_template[\"pie\"][\"hovertemplate\"],\n",
    "                  texttemplate=\"%{label}<br>%{value} (%{percent})\", textposition=\"inside\")\n",
    "fig.update_layout(showlegend=False, margin=dict(l=2, r=2, t=10, b=2), font=dict(size=20))\n",
    "fig.show(renderer=\"svg\", width=PIE_WIDTH, height=PIE_HEIGHT)"
   ]
  },
  {
   "attachments": {},
   "cell_type": "markdown",
   "metadata": {},
   "source": [
    "## What Program Are You in Now?"
   ]
  },
  {
   "cell_type": "code",
   "execution_count": null,
   "metadata": {
    "tags": []
   },
   "outputs": [],
   "source": [
    "fig = px.pie(df, names=\"What program are you in now?\", color=\"What program are you in now?\")\n",
    "fig.update_traces(hovertemplate=less_cringe_hovertext_template[\"pie\"][\"hovertemplate\"],\n",
    "                  texttemplate=\"%{label}<br>%{value} (%{percent})\")\n",
    "fig.update_layout(showlegend=False, margin=dict(l=2, r=2, t=10, b=2), font=dict(size=20))\n",
    "fig.show(renderer=\"svg\", width=PIE_WIDTH, height=PIE_HEIGHT)"
   ]
  },
  {
   "attachments": {},
   "cell_type": "markdown",
   "metadata": {},
   "source": [
    "## What 2 Areas Did You Specialize In?"
   ]
  },
  {
   "cell_type": "code",
   "execution_count": null,
   "metadata": {},
   "outputs": [],
   "source": [
    "# Sort specialized areas to remove duplicates. (Ex. Area 6 + Area 5 is equivalent to Area 5 + Area 6)\n",
    "df[\"What 2 areas did you specialize in?\"] = remove_redundancy(df[\"What 2 areas did you specialize in?\"]) "
   ]
  },
  {
   "cell_type": "code",
   "execution_count": null,
   "metadata": {},
   "outputs": [],
   "source": [
    "df_specialization = df.loc[:, [\"What 2 areas did you specialize in?\"]]\n",
    "df_specialization.sort_values(\"What 2 areas did you specialize in?\", ascending=False, inplace=True)\n",
    "\n",
    "# hover text\n",
    "areas_long_form = df_specialization[\"What 2 areas did you specialize in?\"].str.split(\", \").map(lambda x: \"<br>\".join(x)).tolist()\n",
    "\n",
    "# Simplified areas\n",
    "areas_simplified = df_specialization[\"What 2 areas did you specialize in?\"].map(\n",
    "    lambda word: \" + \".join(re.findall('(Area.*?):', word))\n",
    ")\n",
    "\n",
    "df_specialization[\"What 2 areas did you specialize in?\"] = areas_simplified\n",
    "\n",
    "\n"
   ]
  },
  {
   "cell_type": "code",
   "execution_count": null,
   "metadata": {},
   "outputs": [],
   "source": [
    "# df.groupby(\"What 2 areas did you specialize in?\", as_index=False).count()[[\"What 2 areas did you specialize in?\", \"Submission ID\"]]\n",
    "fig = px.pie(df_specialization, names=\"What 2 areas did you specialize in?\", color=\"What 2 areas did you specialize in?\",\n",
    "             hole=0.4)\n",
    "fig.update_traces(textinfo=\"label+value\",\n",
    "                  hovertemplate=\"%{text}<br><i>Count:</i> %{value}<br> %{percent}\",\n",
    "                  texttemplate=\"%{label}<br>%{value} (%{percent})\",\n",
    "                  hovertext=areas_long_form,\n",
    "                  text=areas_simplified,\n",
    "                  textposition=\"inside\",\n",
    "                )\n",
    "fig.update_layout(margin=dict(l=2, r=2, t=10, b=2), font=dict(size=20))\n",
    "# fig.update_layout(legend=dict(traceorder=\"reversed\",\n",
    "#                               yanchor=\"top\", xanchor=\"center\",\n",
    "#                               orientation=\"h\",\n",
    "#                               x=0.5, y=-0.1),\n",
    "#                               showlegend=True)\n",
    "fig.show(renderer=\"svg\", height=PIE_HEIGHT, width=PIE_WIDTH)"
   ]
  },
  {
   "attachments": {},
   "cell_type": "markdown",
   "metadata": {},
   "source": [
    "## Exchange Information"
   ]
  },
  {
   "cell_type": "code",
   "execution_count": null,
   "metadata": {},
   "outputs": [],
   "source": [
    "# data_checker(df[\"Have you participated in an exchange?\"], check_unique=True)"
   ]
  },
  {
   "cell_type": "code",
   "execution_count": null,
   "metadata": {},
   "outputs": [],
   "source": [
    "df[\"Have you participated in an exchange?\"].fillna(\"Did not say\", inplace=True)"
   ]
  },
  {
   "cell_type": "code",
   "execution_count": null,
   "metadata": {},
   "outputs": [],
   "source": [
    "# data_checker(df[\"If yes, where did you do your exchange?\"], check_unique=True)"
   ]
  },
  {
   "cell_type": "code",
   "execution_count": null,
   "metadata": {},
   "outputs": [],
   "source": [
    "assert(\n",
    "    df.loc[(df[\"Have you participated in an exchange?\"] == \"no\") & \\\n",
    "        df[\"If yes, where did you do your exchange?\"].notna(), [\"Have you participated in an exchange?\", \n",
    "                                                                \"If yes, where did you do your exchange?\"]].shape[0] == 0\n",
    ")"
   ]
  },
  {
   "cell_type": "code",
   "execution_count": null,
   "metadata": {},
   "outputs": [],
   "source": [
    "assert(\n",
    "    df.loc[(df[\"Have you participated in an exchange?\"] == \"yes\") & \\\n",
    "        df[\"If yes, where did you do your exchange?\"].isna(), [\"Have you participated in an exchange?\", \n",
    "                                                                \"If yes, where did you do your exchange?\"]].shape[0] == 0\n",
    ")"
   ]
  },
  {
   "cell_type": "code",
   "execution_count": null,
   "metadata": {},
   "outputs": [],
   "source": [
    "# data_checker(df[\"If you did not do an exchange, what were your reasons for not?\"], check_unique=True)"
   ]
  },
  {
   "cell_type": "code",
   "execution_count": null,
   "metadata": {},
   "outputs": [],
   "source": [
    "df[\"If you did not do an exchange, what were your reasons for not?\"].fillna(\"No answer\", inplace=True)"
   ]
  },
  {
   "cell_type": "code",
   "execution_count": null,
   "metadata": {},
   "outputs": [],
   "source": [
    "assert(\n",
    "    df.loc[(df[\"Have you participated in an exchange?\"] == \"yes\") & \\\n",
    "        (df[\"If you did not do an exchange, what were your reasons for not?\"] != \"No answer\"), :].shape[0] == 0\n",
    ")"
   ]
  },
  {
   "cell_type": "code",
   "execution_count": null,
   "metadata": {},
   "outputs": [],
   "source": [
    "df_no_exchange_reasons = \\\n",
    "    process_multiple_choice_survey(df[\"If you did not do an exchange, what were your reasons for not?\"], column=\"exchangeReasons\")"
   ]
  },
  {
   "cell_type": "code",
   "execution_count": null,
   "metadata": {},
   "outputs": [],
   "source": [
    "df[\"No Exchange Reasons\"] = df_no_exchange_reasons[\"exchangeReasons\"]"
   ]
  },
  {
   "cell_type": "code",
   "execution_count": null,
   "metadata": {},
   "outputs": [],
   "source": [
    "fig = create_figure_with_dropdown(df, \n",
    "                            options=[\"Have you participated in an exchange?\",\n",
    "                                     \"If yes, where did you do your exchange?\",\n",
    "                                     \"No Exchange Reasons\"],\n",
    "                            labels=break_text([\"Have you participated in an exchange?\",\n",
    "                                     \"If yes, where did you do your exchange? (Sample Size: 2)\",\n",
    "                                     \"If you did not do an exchange, what were your reasons for not? (Sample Size: 47)\"], char_limit=27),\n",
    "                            showticklabels=[False, False, False],\n",
    "                            sort_traces=True,\n",
    "                            textposition=\"auto\",\n",
    "                            horizontal=True\n",
    "    )\n",
    "change_to_dark_mode_plotly(fig)\n",
    "fig.update_xaxes(showticklabels=False)\n",
    "fig.show(renderer=\"notebook\")"
   ]
  },
  {
   "attachments": {},
   "cell_type": "markdown",
   "metadata": {},
   "source": [
    "## Other Profile Information (Gender, Sexual Orientation, Domestic/International, Ethnicities)"
   ]
  },
  {
   "cell_type": "code",
   "execution_count": null,
   "metadata": {},
   "outputs": [],
   "source": [
    "# data_checker(df[\"Are you a domestic or international student?\"], check_unique=True)"
   ]
  },
  {
   "cell_type": "code",
   "execution_count": null,
   "metadata": {},
   "outputs": [],
   "source": [
    "# data_checker(df[\"What are your Ethnicities?\"], check_unique=True)"
   ]
  },
  {
   "cell_type": "code",
   "execution_count": null,
   "metadata": {},
   "outputs": [],
   "source": [
    "df[\"What are your Ethnicities?\"].fillna(\"Did not wish to disclose\", inplace=True)"
   ]
  },
  {
   "cell_type": "code",
   "execution_count": null,
   "metadata": {},
   "outputs": [],
   "source": [
    "df[\"What are your Ethnicities?\"] = df[\"What are your Ethnicities?\"].str.replace(\"\\s*origins\\s*\", \"\", regex=True)"
   ]
  },
  {
   "cell_type": "code",
   "execution_count": null,
   "metadata": {},
   "outputs": [],
   "source": [
    "df[\"Are you a domestic or international student?\"].fillna(\"Did not wish to disclose\", inplace=True)"
   ]
  },
  {
   "cell_type": "code",
   "execution_count": null,
   "metadata": {},
   "outputs": [],
   "source": [
    "# df[\"Are you a domestic or international student?\"].unique()"
   ]
  },
  {
   "cell_type": "code",
   "execution_count": null,
   "metadata": {
    "tags": [
     "no_margin"
    ]
   },
   "outputs": [],
   "source": [
    "fig = create_figure_with_dropdown(df,\n",
    "                                  options=[\"What is your gender?\", \"Are you a domestic or international student?\",\n",
    "                                           \"What is your sexual orientation?\", \"What are your Ethnicities?\"],\n",
    "                                  labels=break_text([\"What is your gender?\", \"Are you a domestic or international student?\",\n",
    "                                           \"What is your sexual orientation?\", \"What are your Ethnicities?\"]),\n",
    "                                  showticklabels=[False, False, False, False],\n",
    "                                  sort_traces=True,\n",
    "                                  textposition=\"auto\")\n",
    "fig.update_layout(margin=dict(l=10, r=10),\n",
    "                  hovermode=\"x unified\",\n",
    "                  legend=dict(y=1, yanchor=\"top\", orientation=\"v\")\n",
    ")\n",
    "fig.update_yaxes(showticklabels=False)\n",
    "fig.update_traces(hovertemplate=less_cringe_hovertext_template[\"histogram\"][\"hovertemplate\"])\n",
    "fig.show(renderer=\"notebook\")"
   ]
  },
  {
   "cell_type": "code",
   "execution_count": null,
   "metadata": {},
   "outputs": [],
   "source": [
    "df[\"Do you identify as an Indigenous person, that is, First Nations, Metis, or Inuk (Inuit)?\"].fillna(\"Did not wish to disclose\", \n",
    "                                                                                                       inplace=True)"
   ]
  },
  {
   "cell_type": "code",
   "execution_count": null,
   "metadata": {},
   "outputs": [],
   "source": [
    "# data_checker(df[\"Do you identify as an Indigenous person, that is, First Nations, Metis, or Inuk (Inuit)?\"], check_unique=True)"
   ]
  },
  {
   "cell_type": "code",
   "execution_count": null,
   "metadata": {
    "tags": []
   },
   "outputs": [],
   "source": [
    "fig = create_table(df,\n",
    "                  \"Do you identify as an Indigenous person, that is, First Nations, Metis, or Inuk (Inuit)?\",\n",
    "                  label=break_text(\"Do you identify as Indigenous, that is, First Nations, Metis, or Inuk (Inuit)?\", char_limit=27),\n",
    "                  cell_height=80,\n",
    "                  header_height=130)\n",
    "fig.update_layout(title_font=dict(size=19), title_y=0.94)\n",
    "fig.show(renderer=\"svg\", height=500)"
   ]
  },
  {
   "attachments": {},
   "cell_type": "markdown",
   "metadata": {},
   "source": [
    "# Location Profile!"
   ]
  },
  {
   "attachments": {},
   "cell_type": "markdown",
   "metadata": {},
   "source": [
    "## Childhood, Sweet Childhood~\n",
    "\n",
    "Where did 4th Year ECEs attend high school?"
   ]
  },
  {
   "cell_type": "code",
   "execution_count": null,
   "metadata": {},
   "outputs": [],
   "source": [
    "# data_checker(df_high_school, check_unique=True)"
   ]
  },
  {
   "cell_type": "code",
   "execution_count": null,
   "metadata": {},
   "outputs": [],
   "source": [
    "df_high_school = df.loc[df[\"Where did you attend high school?\"].notna(), \"Where did you attend high school?\"]"
   ]
  },
  {
   "cell_type": "code",
   "execution_count": null,
   "metadata": {},
   "outputs": [],
   "source": [
    "geolocator = Nominatim(user_agent=\"new_agent\")"
   ]
  },
  {
   "cell_type": "code",
   "execution_count": null,
   "metadata": {},
   "outputs": [],
   "source": [
    "## Hard Code Unique Locations (I think their API blocked me)\n",
    "# high_school_locs = \\\n",
    "#  [dict(country=\"China\"), dict(country=\"Canada\", city=\"Toronto\"),\n",
    "#  dict(country=\"Canada\", state=\"British Columbia\"),\n",
    "#  dict(country=\"Nicaragua\"), # Central America\n",
    "#  \"London, Ontario\", # Southern Ontario\n",
    "#  \"USA\"]\n",
    "\n",
    "# identified_high_school_locs = []\n",
    "# for loc in high_school_locs:\n",
    "#     identified_high_school_locs.append(geolocator.geocode(query=loc))\n",
    "#     time.sleep(1)"
   ]
  },
  {
   "cell_type": "code",
   "execution_count": null,
   "metadata": {},
   "outputs": [],
   "source": [
    "# identified_high_school_coordinates = [(location.latitude, location.longitude) for location in identified_high_school_locs]"
   ]
  },
  {
   "cell_type": "code",
   "execution_count": null,
   "metadata": {},
   "outputs": [],
   "source": [
    "# df_high_school.unique()"
   ]
  },
  {
   "cell_type": "code",
   "execution_count": null,
   "metadata": {},
   "outputs": [],
   "source": [
    "identified_high_school_coordinates = [(35.00007, 104.9999), \n",
    "                                      (43.65348, -79.38393),\n",
    "                                      (55.00125, -125.0024),\n",
    "                                      (12.60902, -85.29369),\n",
    "                                      (42.98324, -81.24337),\n",
    "                                      (39.78373, -100.4459)]"
   ]
  },
  {
   "cell_type": "code",
   "execution_count": null,
   "metadata": {},
   "outputs": [],
   "source": [
    "df_high_school_merged = map_location_setup(df_high_school, identified_high_school_coordinates)"
   ]
  },
  {
   "cell_type": "code",
   "execution_count": null,
   "metadata": {},
   "outputs": [],
   "source": [
    "df_high_school_merged.reset_index(inplace=True)"
   ]
  },
  {
   "cell_type": "code",
   "execution_count": null,
   "metadata": {},
   "outputs": [],
   "source": [
    "# df_high_school_merged"
   ]
  },
  {
   "cell_type": "code",
   "execution_count": null,
   "metadata": {},
   "outputs": [],
   "source": [
    "df_high_school_merged[\"fake_size\"] = df_high_school_merged[\"Where did you attend high school?\"] * 5 + 5"
   ]
  },
  {
   "cell_type": "code",
   "execution_count": null,
   "metadata": {},
   "outputs": [],
   "source": [
    "fig = px.scatter_geo(df_high_school_merged,\n",
    "                     lat=df_high_school_merged.Coordinates.str[0],\n",
    "                     lon=df_high_school_merged.Coordinates.str[1],\n",
    "                     size=\"fake_size\",\n",
    "                     hover_name=\"index\")\n",
    "fig.update_geos(projection_type=\"natural earth\",\n",
    "                showocean=True, oceancolor=\"LightBlue\",\n",
    "                showcountries=True, countrycolor=\"#4e4e4e\",\n",
    "                bgcolor=\"#D0E3F1\")\n",
    "fig.update_traces(hovertemplate=\"<b>%{hovertext}</b><br><br>%{text} attended high school here! <br>\" + \\\n",
    "                  \"<b>Lat</b>: %{lat}<br><b>Lon</b>: %{lon}<extra></extra>\", text=df_high_school_merged[\"Where did you attend high school?\"],\n",
    "                  marker=dict(color=\"crimson\"),\n",
    "                  mode=\"text+markers\",\n",
    "                  textposition=\"top right\",\n",
    "                  texttemplate=\"<span style='font-weight:500'>%{text}</span>\")\n",
    "fig.update_layout(margin={\"r\":0,\"t\":0,\"l\":0,\"b\":0})\n",
    "fig.show(width=1110, height=600)"
   ]
  },
  {
   "attachments": {},
   "cell_type": "markdown",
   "metadata": {},
   "source": [
    "<span style=\"font-size:1.5em\">Where are their homes?</span>"
   ]
  },
  {
   "cell_type": "code",
   "execution_count": null,
   "metadata": {},
   "outputs": [],
   "source": [
    "# data_checker(df['Where is home? '], check_unique=True)"
   ]
  },
  {
   "cell_type": "code",
   "execution_count": null,
   "metadata": {},
   "outputs": [],
   "source": [
    "df_home = df['Where is home? '].dropna()"
   ]
  },
  {
   "cell_type": "code",
   "execution_count": null,
   "metadata": {},
   "outputs": [],
   "source": [
    "# data_checker(df_home, check_unique=True)"
   ]
  },
  {
   "cell_type": "code",
   "execution_count": null,
   "metadata": {},
   "outputs": [],
   "source": [
    "geolocator = Nominatim(user_agent=\"app\")"
   ]
  },
  {
   "cell_type": "code",
   "execution_count": null,
   "metadata": {},
   "outputs": [],
   "source": [
    "## Hard Code Unique Locations\n",
    "# identified_home_locs = \\\n",
    "#  [geolocator.geocode(query=dict(country=\"South Korea\")), geolocator.geocode(query=dict(country=\"Canada\", state=\"Saskatchewan\")),\n",
    "#  geolocator.geocode(query=dict(country=\"China\", city=\"Hong Kong\")),\n",
    "#  geolocator.geocode(query=dict(country=\"Egypt\")),\n",
    "#  geolocator.geocode(query=dict(country=\"Canada\", state=\"British Columbia\")),\n",
    "#  geolocator.geocode(query=dict(country=\"Canada\", city=\"Toronto\")),\n",
    "#  geolocator.geocode(query=dict(country=\"Canada\", state=\"Saskatchewan\")),\n",
    "#  geolocator.geocode(query=dict(country=\"India\")),\n",
    "#  geolocator.geocode(query=dict(country=\"United Arab Emirates\")),\n",
    "#  geolocator.geocode(query=dict(country=\"Brazil\")),\n",
    "#  geolocator.geocode(query=dict(country=\"Bangladesh\")),\n",
    "#  geolocator.geocode(query=dict(country=\"USA\")),\n",
    "#  geolocator.geocode(query=dict(country=\"Pakistan\"))\n",
    "#  ]\n"
   ]
  },
  {
   "cell_type": "code",
   "execution_count": null,
   "metadata": {},
   "outputs": [],
   "source": [
    "# df_home.unique()"
   ]
  },
  {
   "cell_type": "code",
   "execution_count": null,
   "metadata": {},
   "outputs": [],
   "source": [
    "# identified_home_coordinates = [(location.latitude, location.longitude) for location in identified_home_locs]\n",
    "identified_home_coordinates = [\n",
    "    (36.63839, 127.6961),\n",
    "    (55.53213, -106.1412),\n",
    "    (22.27933, 114.1628),\n",
    "    (26.25405, 29.26755),\n",
    "    (55.00125, -125.0024),\n",
    "    (43.65348, -79.38393),\n",
    "    (55.53213, -106.1412),\n",
    "    (22.35111, 78.66774),\n",
    "    (24.00025, 53.99948),\n",
    "    (-10.3333, -53.2),\n",
    "    (24.47693, 90.29344),\n",
    "    (39.78373, -100.4459),\n",
    "    (30.33084, 71.2475)\n",
    "]"
   ]
  },
  {
   "cell_type": "code",
   "execution_count": null,
   "metadata": {},
   "outputs": [],
   "source": [
    "df_home_merged = map_location_setup(df_home, identified_home_coordinates)"
   ]
  },
  {
   "cell_type": "code",
   "execution_count": null,
   "metadata": {},
   "outputs": [],
   "source": [
    "df_home_merged.reset_index(inplace=True)"
   ]
  },
  {
   "cell_type": "code",
   "execution_count": null,
   "metadata": {},
   "outputs": [],
   "source": [
    "df_home_merged[\"fake_size\"] = df_home_merged[\"Where is home? \"] * 5 + 5"
   ]
  },
  {
   "cell_type": "code",
   "execution_count": null,
   "metadata": {},
   "outputs": [],
   "source": [
    "fig = px.scatter_geo(df_home_merged,\n",
    "                     lat=df_home_merged.Coordinates.str[0],\n",
    "                     lon=df_home_merged.Coordinates.str[1],\n",
    "                     size=\"fake_size\",\n",
    "                     hover_name=\"index\")\n",
    "fig.update_geos(projection_type=\"natural earth\",\n",
    "                showocean=True, oceancolor=\"LightBlue\",\n",
    "                showcountries=True, countrycolor=\"#4e4e4e\",\n",
    "                bgcolor=\"#D0E3F1\")\n",
    "fig.update_traces(hovertemplate=\"<b>%{hovertext}</b><br><br>%{text} students live here! <br>\" + \\\n",
    "                  \"<b>Lat</b>: %{lat}<br><b>Lon</b>: %{lon}<extra></extra>\", text=df_home_merged[\"Where is home? \"],\n",
    "                  mode=\"text+markers\",\n",
    "                  textposition=\"top right\",\n",
    "                  texttemplate=\"<span style='font-weight:500'>%{text}</span>\")\n",
    "fig.update_layout(margin={\"r\":0,\"t\":0,\"l\":0,\"b\":0})\n",
    "fig.show(width=1110, height=600)"
   ]
  },
  {
   "attachments": {},
   "cell_type": "markdown",
   "metadata": {},
   "source": [
    "# Family Info!\n",
    "\n",
    "Who are the proud parents?"
   ]
  },
  {
   "cell_type": "code",
   "execution_count": null,
   "metadata": {},
   "outputs": [],
   "source": [
    "# data_checker(df[\"Did you or your parents immigrate to Canada?\"], check_unique=True)\n",
    "df[\"Did you or your parents immigrate to Canada?\"].fillna(\"Did not say\", inplace=True)\n"
   ]
  },
  {
   "cell_type": "code",
   "execution_count": null,
   "metadata": {},
   "outputs": [],
   "source": [
    "# data_checker(df[\"Was one of your parents born as a Canada Citizen?\"], check_unique=True)\n",
    "df[\"Was one of your parents born as a Canada Citizen?\"].fillna(\"Did not say\", inplace=True)"
   ]
  },
  {
   "cell_type": "code",
   "execution_count": null,
   "metadata": {},
   "outputs": [],
   "source": [
    "fig = create_table_with_dropdown(df, [\"Did you or your parents immigrate to Canada?\",\n",
    "                                \"Was one of your parents born as a Canada Citizen?\"], \n",
    "                                labels=break_text(\n",
    "                                    [\"Did you or your parents immigrate to Canada?\",\n",
    "                                \"Was one of your parents born as a Canada Citizen?\"],\n",
    "                                char_limit=25), reindex=[False, True],\n",
    "                                reindex_orders=[None, [\"Yes\", \"No\", \"Did not say\"]])\n",
    "fig.show(renderer=\"notebook\")"
   ]
  },
  {
   "cell_type": "code",
   "execution_count": null,
   "metadata": {},
   "outputs": [],
   "source": [
    "# data_checker(df[\"Education Level of Parents\"], check_unique=True)\n",
    "df[\"Education Level of Parents\"].fillna(\"Did not say\", inplace=True)"
   ]
  },
  {
   "cell_type": "code",
   "execution_count": null,
   "metadata": {},
   "outputs": [],
   "source": [
    "# data_checker(df[\"Family Income Before UofT\"], check_unique=True)\n",
    "df[\"Family Income Before UofT\"].fillna(\"Did not wish to disclose\", inplace=True)"
   ]
  },
  {
   "attachments": {},
   "cell_type": "markdown",
   "metadata": {},
   "source": [
    "## Education Level of Parents"
   ]
  },
  {
   "cell_type": "code",
   "execution_count": null,
   "metadata": {},
   "outputs": [],
   "source": [
    "fig = px.histogram(df, y=\"Education Level of Parents\", color=\"Education Level of Parents\")\n",
    "fig.update_layout(showlegend=True,\n",
    "                  hovermode=\"y unified\", legend=dict(\n",
    "                      xanchor=\"right\", x=1, yanchor=\"bottom\", y=0,\n",
    "                      font=dict(size=20), title_font=dict(size=35)\n",
    "                  ))\n",
    "fig.update_yaxes(title_text=\"\", showticklabels=False, categoryorder=\"total ascending\")\n",
    "fig.update_xaxes(visible=False)\n",
    "fig.update_traces(hovertemplate=less_cringe_hovertext_template[\"histogram_h\"][\"hovertemplate\"])\n",
    "add_percent_labels_for_hist(df[\"Education Level of Parents\"], fig, horizontal=True)\n",
    "fig.show()"
   ]
  },
  {
   "attachments": {},
   "cell_type": "markdown",
   "metadata": {},
   "source": [
    "## Family Income Before UofT"
   ]
  },
  {
   "cell_type": "code",
   "execution_count": null,
   "metadata": {},
   "outputs": [],
   "source": [
    "# data_checker(df[\"Family Income Before UofT\"], check_unique=True)\n",
    "fig = px.histogram(df, y=\"Family Income Before UofT\", color=\"Family Income Before UofT\")\n",
    "fig.update_yaxes(categoryorder='array', categoryarray= ['Did not wish to disclose', '$373,894 and up', \n",
    "                                                        '$106,827 - $373,894', '$53,413 - $106,827',\n",
    "                                                        '$32,048 - $53,413', '32,048 or less' \n",
    "                                                         ])\n",
    "fig.update_layout(showlegend=False,\n",
    "                  hovermode=\"y unified\", font=dict(size=12, color=\"#2e2e2e\"))\n",
    "fig.update_yaxes(title_text=\"\")\n",
    "fig.update_xaxes(visible=False)\n",
    "fig.update_traces(hovertemplate=less_cringe_hovertext_template[\"histogram_h\"][\"hovertemplate\"])\n",
    "add_percent_labels_for_hist(df[\"Family Income Before UofT\"], fig, horizontal=True)\n",
    "fig.show(renderer=\"svg\", height=900)"
   ]
  },
  {
   "attachments": {},
   "cell_type": "markdown",
   "metadata": {},
   "source": [
    "## Language Spoken at Home?\n",
    "\n",
    "We are a diverse group, UofT ECEs!"
   ]
  },
  {
   "cell_type": "code",
   "execution_count": null,
   "metadata": {},
   "outputs": [],
   "source": [
    "df = df.rename({\"What languages do you speak at home? (If more than 1, please section by a comma. ie English, Italian, French)\":\n",
    "            \"What languages do you speak at home?\"}, axis=1)"
   ]
  },
  {
   "cell_type": "code",
   "execution_count": null,
   "metadata": {},
   "outputs": [],
   "source": [
    "# data_checker(df[\"What languages do you speak at home?\"], check_unique=True)"
   ]
  },
  {
   "cell_type": "code",
   "execution_count": null,
   "metadata": {},
   "outputs": [],
   "source": [
    "df[\"What languages do you speak at home?\"].fillna(\"Did not specify\", inplace=True)"
   ]
  },
  {
   "cell_type": "code",
   "execution_count": null,
   "metadata": {},
   "outputs": [],
   "source": [
    "language_at_home = df[\"What languages do you speak at home?\"].dropna()\n",
    "language_at_home=language_at_home.str.lower()\n",
    "language_at_home=language_at_home.str.replace(r'[-./?!,\":;()\\']', '', regex=True).str.strip()"
   ]
  },
  {
   "cell_type": "code",
   "execution_count": null,
   "metadata": {},
   "outputs": [],
   "source": [
    "generate_word_map(language_at_home, file_path=\"embed_images/Language_WordCloud.png\", width=1000, height=600)"
   ]
  },
  {
   "cell_type": "code",
   "execution_count": null,
   "metadata": {},
   "outputs": [],
   "source": [
    "word_default_dict = defaultdict(int)\n",
    "for _, values in language_at_home.items():\n",
    "    for word in values.split():\n",
    "        word_default_dict[word] += 1"
   ]
  },
  {
   "cell_type": "code",
   "execution_count": null,
   "metadata": {},
   "outputs": [],
   "source": [
    "df_languages = pd.DataFrame(sorted(word_default_dict.items(), key=lambda x: x[1], reverse=True), \n",
    "            columns=[\"language\", \"num_people_speaking\"])"
   ]
  },
  {
   "cell_type": "code",
   "execution_count": null,
   "metadata": {
    "tags": [
     "no_margin"
    ]
   },
   "outputs": [],
   "source": [
    "img = io.imread('./embed_images/Language_WordCloud.png')\n",
    "fig = px.imshow(img, binary_compression_level=9)\n",
    "fig.update_layout(xaxis={'showgrid': False, 'showticklabels': False, 'zeroline': False},\n",
    "                        yaxis={'showgrid': False, 'showticklabels': False, 'zeroline': False},\n",
    "                        margin=dict(autoexpand=False, b=0, l=0, r=0, t=0), \n",
    "                        hovermode=False)\n",
    "fig.show(renderer=\"png\", scale=3)"
   ]
  },
  {
   "cell_type": "code",
   "execution_count": null,
   "metadata": {
    "tags": []
   },
   "outputs": [],
   "source": [
    "create_table(df, column=\"What languages do you speak at home?\", label=\"Top 10 Language Combos\", limit=10)"
   ]
  },
  {
   "attachments": {},
   "cell_type": "markdown",
   "metadata": {},
   "source": [
    "## How Many Percentage of ECE2T2 Students Share the Same Religion as Their Parents? "
   ]
  },
  {
   "cell_type": "code",
   "execution_count": null,
   "metadata": {},
   "outputs": [],
   "source": [
    "# data_checker(df[\"What is your religious affiliation?\"], check_unique=True)\n",
    "df[\"What is your religious affiliation?\"].fillna(\"Did not disclose\", inplace=True)"
   ]
  },
  {
   "cell_type": "code",
   "execution_count": null,
   "metadata": {},
   "outputs": [],
   "source": [
    "# data_checker(df[\"What is the religious affiliation of your parent(s)?\"], check_unique=True)\n",
    "df[\"What is the religious affiliation of your parent(s)?\"].fillna(\"Did not say\", inplace=True)"
   ]
  },
  {
   "cell_type": "code",
   "execution_count": null,
   "metadata": {},
   "outputs": [],
   "source": [
    "series_is_same_religion = df[\"What is your religious affiliation?\"] == df[\"What is the religious affiliation of your parent(s)?\"]"
   ]
  },
  {
   "cell_type": "code",
   "execution_count": null,
   "metadata": {},
   "outputs": [],
   "source": [
    "series_is_same_religion.replace({False: \"no\", True: \"yes\"}, inplace=True)"
   ]
  },
  {
   "cell_type": "code",
   "execution_count": null,
   "metadata": {},
   "outputs": [],
   "source": [
    "fig = px.pie(names=series_is_same_religion, color=series_is_same_religion)\n",
    "fig.update_traces(textinfo=\"label+percent\",\n",
    "                  hovertemplate=less_cringe_hovertext_template[\"pie\"][\"hovertemplate\"])\n",
    "fig.show()"
   ]
  },
  {
   "attachments": {},
   "cell_type": "markdown",
   "metadata": {},
   "source": [
    "## What are the Religious Pairings if Child and Parent Share Different Religions? Same Religions?\n",
    "\n",
    "Religious Pairing is written in the format of *student_religion*, *parent_reigion*"
   ]
  },
  {
   "cell_type": "code",
   "execution_count": null,
   "metadata": {},
   "outputs": [],
   "source": [
    "df_combined_religion = df.loc[:, [\"What is your religious affiliation?\", \"What is the religious affiliation of your parent(s)?\"]]"
   ]
  },
  {
   "cell_type": "code",
   "execution_count": null,
   "metadata": {},
   "outputs": [],
   "source": [
    "df_combined_religion[\"Student+Parent_Combined_Religion\"] = df[\"What is your religious affiliation?\"] + \", \" + df[\"What is the religious affiliation of your parent(s)?\"]"
   ]
  },
  {
   "cell_type": "code",
   "execution_count": null,
   "metadata": {},
   "outputs": [],
   "source": [
    "df_combined_religion.loc[df_combined_religion[\"What is your religious affiliation?\"] == \\\n",
    "                                df[\"What is the religious affiliation of your parent(s)?\"], \n",
    "                                \"Student+Parent_Combined_Religion\"] = \\\n",
    "                                df_combined_religion.loc[df_combined_religion[\"What is your religious affiliation?\"] == \\\n",
    "                                df[\"What is the religious affiliation of your parent(s)?\"], \n",
    "                                \"Student+Parent_Combined_Religion\"].str.split(\", \").str[0].str.strip()\n",
    "                                    "
   ]
  },
  {
   "cell_type": "code",
   "execution_count": null,
   "metadata": {},
   "outputs": [],
   "source": [
    "fig = create_figure_with_dropdown(df_combined_religion,\n",
    "                            options=[\"Student+Parent_Combined_Religion\", \"Student+Parent_Combined_Religion\"],\n",
    "                            filters=[\n",
    "                                df_combined_religion[\"What is your religious affiliation?\"] == \\\n",
    "                                df[\"What is the religious affiliation of your parent(s)?\"],\n",
    "                                df[\"What is your religious affiliation?\"] != \\\n",
    "                                df[\"What is the religious affiliation of your parent(s)?\"]],\n",
    "                            labels=[\"Same Religion\", \"Different Religion\"],\n",
    "                            sort_traces=True,\n",
    "                            showticklabels=[False, False],\n",
    "                            textposition=\"inside\",\n",
    "                            add_legend=True\n",
    ")   \n",
    "fig.update_traces(hovertemplate=less_cringe_hovertext_template[\"histogram\"][\"hovertemplate\"])\n",
    "fig.update_layout(legend=dict(xanchor=\"center\", yanchor=\"top\", orientation=\"h\", x=0.5, y=-0.1))\n",
    "fig.layout.updatemenus[0].y = -0.6\n",
    "fig.show()\n"
   ]
  },
  {
   "attachments": {},
   "cell_type": "markdown",
   "metadata": {},
   "source": [
    "## How Many Siblings Do You Have?"
   ]
  },
  {
   "cell_type": "code",
   "execution_count": null,
   "metadata": {},
   "outputs": [],
   "source": [
    "# data_checker(df[\"How many siblings do you have?\"], check_unique=True)\n",
    "df[\"How many siblings do you have?\"].fillna(\"Did not wish to disclose\", inplace=True)"
   ]
  },
  {
   "cell_type": "code",
   "execution_count": null,
   "metadata": {},
   "outputs": [],
   "source": [
    "# df[\"How many siblings do you have?\"].unique()"
   ]
  },
  {
   "cell_type": "code",
   "execution_count": null,
   "metadata": {},
   "outputs": [],
   "source": [
    "fig = px.histogram(df, y=\"How many siblings do you have?\", color=\"How many siblings do you have?\")\n",
    "fig.update_yaxes(categoryorder=\"array\",\n",
    "                 categoryarray=['0', '1', '2', '3', '4', '5 or more', 'Did not wish to disclose'],\n",
    "                 title=\"\")\n",
    "fig.update_xaxes(visible=False)\n",
    "fig.update_layout(showlegend=False, font=dict(size=12))\n",
    "fig.update_traces(hovertemplate=\"How many siblings do you have?<br>\" + less_cringe_hovertext_template[\"histogram_h\"][\"hovertemplate\"])\n",
    "add_percent_labels_for_hist(df[\"How many siblings do you have?\"], fig, horizontal=True)\n",
    "fig.show()"
   ]
  },
  {
   "attachments": {},
   "cell_type": "markdown",
   "metadata": {},
   "source": [
    "# Professional Profile\n",
    "\n",
    "The careers we ECE2T2s lived as we chased after our boundless dreams"
   ]
  },
  {
   "attachments": {},
   "cell_type": "markdown",
   "metadata": {},
   "source": [
    "## Did You Participate in An Enriched Program in High School?"
   ]
  },
  {
   "cell_type": "code",
   "execution_count": null,
   "metadata": {},
   "outputs": [],
   "source": [
    "# data_checker(df[\"Did you participate in an enriched program?\"], check_unique=True)"
   ]
  },
  {
   "cell_type": "code",
   "execution_count": null,
   "metadata": {},
   "outputs": [],
   "source": [
    "fig = px.pie(df, names=\"Did you participate in an enriched program?\", color=\"Did you participate in an enriched program?\",\n",
    "             hole=0.5)\n",
    "fig.update_xaxes(categoryorder=\"array\",\n",
    "                 categoryarray=['IB', 'AP', 'TOPS', 'No'])\n",
    "fig.update_traces(textinfo=\"percent+label\",\n",
    "                  hovertemplate=\"Did You Participate in An Enriched Program in High School?<br>\" + less_cringe_hovertext_template[\"pie\"][\"hovertemplate\"])"
   ]
  },
  {
   "attachments": {},
   "cell_type": "markdown",
   "metadata": {},
   "source": [
    "## In What Year did ECE2T2s Start Their University Studies?"
   ]
  },
  {
   "cell_type": "code",
   "execution_count": null,
   "metadata": {},
   "outputs": [],
   "source": [
    "# data_checker(df[\"In what year did you start your university studies?\"], check_unique=True)"
   ]
  },
  {
   "cell_type": "code",
   "execution_count": null,
   "metadata": {},
   "outputs": [],
   "source": [
    "df_year_of_start_univ = df[\"In what year did you start your university studies?\"].dropna().astype(int)\n",
    "df_year_of_start_univ_cleaned = pd.DataFrame(df_year_of_start_univ.value_counts()).reset_index()"
   ]
  },
  {
   "cell_type": "code",
   "execution_count": null,
   "metadata": {},
   "outputs": [],
   "source": [
    "# print(df_year_of_start_univ_cleaned)\n",
    "df_year_of_start_univ_cleaned.rename({\"index\" : \"year\",\n",
    "                                     \"In what year did you start your university studies?\":\n",
    "                                     \"Number of Students\"}, axis=1, inplace=True)\n",
    "df_year_of_start_univ_cleaned.sort_values(\"year\", ascending=True, inplace=True)\n",
    "fig = px.scatter(df_year_of_start_univ_cleaned, x=\"year\", y=[0,0,0], text=df_year_of_start_univ_cleaned[\"Number of Students\"])\n",
    "\n",
    "fig.update_traces(marker_size=[30, 100, 30],\n",
    "                  hovertemplate=\"<b>Year:</b> %{x}<br><b>Number of Students:</b> %{text}\",\n",
    "                  textposition=\"top center\")\n",
    "fig.update_yaxes(\n",
    "    visible=False,\n",
    "    range=[0,0]\n",
    ")\n",
    "\n",
    "fig.update_xaxes(\n",
    "    dtick=\"Y1\",\n",
    "    linecolor=\"white\",\n",
    "    title=\"\",\n",
    "    tickfont=dict(size=16, family=\"Open Sans, Verdana, sans serif\")\n",
    ")\n",
    "\n",
    "fig.update_layout(\n",
    "    font=dict(size=13),\n",
    "    paper_bgcolor=\"white\",\n",
    "    plot_bgcolor=\"white\",\n",
    "    height=300\n",
    ")\n",
    "\n",
    "fig.add_annotation(xanchor=\"right\", x=0.97, text=\"1 person did not answer\")\n",
    "\n",
    "fig.show()"
   ]
  },
  {
   "attachments": {},
   "cell_type": "markdown",
   "metadata": {},
   "source": [
    "## What was your dream career as a kid?"
   ]
  },
  {
   "cell_type": "code",
   "execution_count": null,
   "metadata": {},
   "outputs": [],
   "source": [
    "df[\"What was your dream career as kid?\"].fillna(\"No answer\", inplace=True)"
   ]
  },
  {
   "cell_type": "code",
   "execution_count": null,
   "metadata": {},
   "outputs": [],
   "source": [
    "fig = create_table(df, \"What was your dream career as kid?\")\n",
    "fig.update_layout(height=(25 + 6) * (len(df[\"What was your dream career as kid?\"].unique()) + 1), \n",
    "                  margin=dict(l=2, r=15))\n",
    "fig.show()"
   ]
  },
  {
   "attachments": {},
   "cell_type": "markdown",
   "metadata": {},
   "source": [
    "# The Progression of Your Grades Over 8 Semesters (in %)\n",
    "\n",
    "I took the average percentage scores (%) of ECE2T2s every semester, and plotted their distributions in boxplots."
   ]
  },
  {
   "cell_type": "code",
   "execution_count": null,
   "metadata": {},
   "outputs": [],
   "source": [
    "# df[[\"What was your high school admissions average? (% percentage score)\",\n",
    "# \"What was your first-year 1st semester average (percentage)? \",\n",
    "# \"What was your first-year 2nd semester average (percentage)? \",\n",
    "# \"What was your second-year first semester average (%)?\",\n",
    "# \"What was your second-year second semester average (%)?\",\n",
    "# \"What was your third-year first semester average (%)?\",\n",
    "# \"What was your third-year second semester average (%)?\",\n",
    "# \"What was your fourth-year first semester average (%)?\"\n",
    "# ]].describe()"
   ]
  },
  {
   "cell_type": "code",
   "execution_count": null,
   "metadata": {},
   "outputs": [],
   "source": [
    "columns_before = [\"What was your high school admissions average? (% percentage score)\",\n",
    "\"What was your first-year 1st semester average (percentage)?\",\n",
    "\"What was your first-year 2nd semester average (percentage)?\",\n",
    "\"What was your second-year first semester average (%)?\",\n",
    "\"What was your second-year second semester average (%)?\",\n",
    "\"What was your third-year first semester average (%)?\",\n",
    "\"What was your third-year second semester average (%)?\",\n",
    "\"What was your fourth-year first semester average (%)?\"\n",
    "]\n",
    "columns_now = [\"High school admissions average?\", \"First-year 1st semester average\", \"First-year 2nd semester average\",\n",
    "    \"Second-year first semester average\", \"Second-year second semester average\", \"Third-year first semester average\", \n",
    "    \"Third-year second semester average\", \"Fourth-year first semester average\"]\n",
    "\n",
    "repl_dict = {columns_before[i]:columns_now[i] for i in range(8)}"
   ]
  },
  {
   "cell_type": "code",
   "execution_count": null,
   "metadata": {},
   "outputs": [],
   "source": [
    "df.rename(repl_dict, axis=1, inplace=True)"
   ]
  },
  {
   "cell_type": "code",
   "execution_count": null,
   "metadata": {},
   "outputs": [],
   "source": [
    "df_grades = df.rename(repl_dict, axis=1)\n"
   ]
  },
  {
   "cell_type": "code",
   "execution_count": null,
   "metadata": {},
   "outputs": [],
   "source": [
    "df_semester_scores = df_grades[[\"Respondent ID\", \"High school admissions average?\", \"First-year 1st semester average\", \"First-year 2nd semester average\",\n",
    "    \"Second-year first semester average\", \"Second-year second semester average\", \"Third-year first semester average\", \n",
    "    \"Third-year second semester average\", \"Fourth-year first semester average\"]]\n",
    "# Remove troll answers\n",
    "df_semester_scores = df_semester_scores[df_semester_scores != 0]"
   ]
  },
  {
   "cell_type": "code",
   "execution_count": null,
   "metadata": {},
   "outputs": [],
   "source": [
    "df_scores_melted = pd.melt(df_semester_scores, id_vars=[\"Respondent ID\"], \n",
    "                           value_vars=[\"High school admissions average?\", \"First-year 1st semester average\", \"First-year 2nd semester average\",\n",
    "    \"Second-year first semester average\", \"Second-year second semester average\", \"Third-year first semester average\", \n",
    "    \"Third-year second semester average\", \"Fourth-year first semester average\"], var_name=\"percentage_type\", value_name=\"percentage\")"
   ]
  },
  {
   "cell_type": "code",
   "execution_count": null,
   "metadata": {},
   "outputs": [],
   "source": [
    "fig = px.box(df_scores_melted, y=\"percentage\", x=\"percentage_type\", color=\"percentage_type\", points=\"all\", range_y=[45, 105])\n",
    "fig.update_traces(jitter=0.03, hovertemplate='<b>%{x}</b><br>%{y}%'\n",
    "                  )\n",
    "fig.update_xaxes(showticklabels=False, title=\"\")\n",
    "fig.update_layout(margin=dict(r=20, l=40, pad=0), font=dict(size=13), showlegend=True, boxgroupgap=0.4,\n",
    "                legend=dict(\n",
    "                      xanchor=\"center\", yanchor=\"top\", x=0.5, y=-0.1, orientation=\"h\",\n",
    "                    title=\"\"\n",
    "                ))\n",
    "\n",
    "# for i, slider in enumerate(fig.layout.sliders):\n",
    "#     slider[\"tickcolor\"] = \"white\"\n",
    "#     slider[\"currentvalue\"].font.color = \"black\"\n",
    "#     slider[\"currentvalue\"].prefix = \"<b>Percentage Type:</b> \"\n",
    "#     slider.font.color = \"#D0E3F1\"\n",
    "#     pass\n",
    "    \n",
    "\n",
    "fig.show()"
   ]
  },
  {
   "attachments": {},
   "cell_type": "markdown",
   "metadata": {},
   "source": [
    "## What was your CGPA, Cumulative Grade Point Average (% score)?"
   ]
  },
  {
   "cell_type": "code",
   "execution_count": null,
   "metadata": {},
   "outputs": [],
   "source": [
    "# data_checker(df[\"What was your CGPA, Cumulative Grade Point Average (% score)? \"], check_unique=True)"
   ]
  },
  {
   "attachments": {},
   "cell_type": "markdown",
   "metadata": {},
   "source": [
    "# Thoughts and Details on Coursework \n",
    "\n",
    "What were ECE2T2s' favourite courses? What courses did they take? Did they overload courses?"
   ]
  },
  {
   "attachments": {},
   "cell_type": "markdown",
   "metadata": {},
   "source": [
    "## Which term would you consider was the most difficult?"
   ]
  },
  {
   "cell_type": "code",
   "execution_count": null,
   "metadata": {},
   "outputs": [],
   "source": [
    "# data_checker(df[\"Which term would you consider was the most difficult?\"], check_unique=True)"
   ]
  },
  {
   "cell_type": "code",
   "execution_count": null,
   "metadata": {},
   "outputs": [],
   "source": [
    "df[\"Which term would you consider was the most difficult?\"].fillna(\"Did not answer\", inplace=True)"
   ]
  },
  {
   "cell_type": "code",
   "execution_count": null,
   "metadata": {},
   "outputs": [],
   "source": [
    "fig = px.pie(df, names=\"Which term would you consider was the most difficult?\", \n",
    "                   color=\"Which term would you consider was the most difficult?\")\n",
    "fig.update_layout(showlegend=True)\n",
    "fig.update_layout(legend=dict(yanchor=\"top\", xanchor=\"center\",\n",
    "                                x=0.5, y=-0.1)\n",
    "                                )\n",
    "fig.update_traces(hovertemplate=less_cringe_hovertext_template[\"pie\"][\"hovertemplate\"])"
   ]
  },
  {
   "cell_type": "code",
   "execution_count": null,
   "metadata": {},
   "outputs": [],
   "source": [
    "df_scores_melted = df_scores_melted[~df_scores_melted[\"percentage\"].isna()]"
   ]
  },
  {
   "cell_type": "code",
   "execution_count": null,
   "metadata": {},
   "outputs": [],
   "source": [
    "# df_scores_melted[\"percentage_type\"].unique()"
   ]
  },
  {
   "cell_type": "code",
   "execution_count": null,
   "metadata": {},
   "outputs": [],
   "source": [
    "percentage_semester_index = {\n",
    "    \"High school admissions average?\" : 0,\n",
    "    'First-year 1st semester average' : 1,\n",
    "    'First-year 2nd semester average' : 2,\n",
    "    'Second-year first semester average' : 3,\n",
    "    'Second-year second semester average' : 4,\n",
    "    'Third-year first semester average' : 5,\n",
    "    'Third-year second semester average' : 6,\n",
    "    'Fourth-year first semester average' : 7,\n",
    "}\n",
    "\n",
    "difficulty_semester_index = {\n",
    "    'first-year first semester' : 1,\n",
    "    'first-year second-semester' : 2,\n",
    "    'second-year first semester' : 3,\n",
    "    'second-year second semester' : 4,\n",
    "    'third-year first semester' : 5,\n",
    "    'third-year second semester' : 6,\n",
    "    'fourth-year first semester' : 7,\n",
    "}"
   ]
  },
  {
   "cell_type": "code",
   "execution_count": null,
   "metadata": {},
   "outputs": [],
   "source": [
    "df[\"difficulty_semester_index\"] = df[\"Which term would you consider was the most difficult?\"].replace(difficulty_semester_index)\n",
    "df_scores_melted[\"percentage_semester_index\"] = df_scores_melted[\"percentage_type\"].replace(percentage_semester_index)\n",
    "df_scores_melted[\"percentage_average\"] = df_scores_melted.groupby(\"percentage_type\")[\"percentage\"].transform(np.mean)\n",
    "df_scores_melted[\"own_average\"] = df_scores_melted[df_scores_melted[\"percentage_type\"] != \"High school admissions average?\"] \\\n",
    "                                .groupby(\"Respondent ID\")[\"percentage\"].transform(np.mean)\n",
    "df_scores_melted[\"grade_rank\"] = df_scores_melted[df_scores_melted[\"percentage_type\"] != \"High school admissions average?\"] \\\n",
    "                                .groupby(\"Respondent ID\")[\"percentage\"].rank(method=\"dense\", ascending=True)"
   ]
  },
  {
   "cell_type": "code",
   "execution_count": null,
   "metadata": {},
   "outputs": [],
   "source": [
    "df_difficulty = df[[\"Respondent ID\", \"Which term would you consider was the most difficult?\", \"difficulty_semester_index\"]]"
   ]
  },
  {
   "cell_type": "code",
   "execution_count": null,
   "metadata": {},
   "outputs": [],
   "source": [
    "df_difficulty_percentage = pd.merge(df_difficulty, df_scores_melted, left_on=[\"Respondent ID\", \"difficulty_semester_index\"], \n",
    "                                                   right_on=[\"Respondent ID\", \"percentage_semester_index\"],\n",
    "                                                   how='inner')"
   ]
  },
  {
   "attachments": {},
   "cell_type": "markdown",
   "metadata": {},
   "source": [
    "## For each semester that ECE2T2s perceived as the hardest semester, how many of them actually scored an average grade lower than their average grade across all University semesters? \n",
    "\n",
    "\n",
    "\n",
    "21 ECE2T2s believed the second year second semester was the hardest semester, yet in second year second semester, 13 of them scored higher than their average grade mark across all University semesters (isLower=False). We can see that in second year first semester, ECE2T2's perceived difficulty of the semester matched with their grades in that semester, as all 12 respondents who answered second year first semester was the hardest semester scored lower that semester than their average grade.  \n",
    "\n",
    "Maybe the reason why a large number of people thought second year second semester was the 'hardest' semester,\n",
    "was because they had to put in extra effort to rebound their GPA from second year first semester, thus ending up with better grades than average? Maybe they found the increased load of project work to be meddlesome, but not complex and still able to score high grades? Just <b>speculation</b> :))\n"
   ]
  },
  {
   "cell_type": "code",
   "execution_count": null,
   "metadata": {},
   "outputs": [],
   "source": [
    "df_difficulty_percentage[\"isLower\"] = df_difficulty_percentage[\"percentage\"] < df_difficulty_percentage[\"own_average\"]"
   ]
  },
  {
   "cell_type": "code",
   "execution_count": null,
   "metadata": {},
   "outputs": [],
   "source": [
    "# df_difficulty_percentage[(df_difficulty_percentage[\"Which term would you consider was the most difficult?\"] == \"second-year second semester\")\n",
    "#                          & (df_difficulty_percentage[\"isLower\"] == True)]"
   ]
  },
  {
   "cell_type": "code",
   "execution_count": null,
   "metadata": {
    "tags": []
   },
   "outputs": [],
   "source": [
    "fig = px.histogram(df_difficulty_percentage, x=\"isLower\", color=\"isLower\", \n",
    "             facet_col=\"Which term would you consider was the most difficult?\", facet_col_wrap=2,\n",
    "             category_orders={\"Which term would you consider was the most difficult?\": \n",
    "                              ['first-year first semester', 'first-year second-semester', \n",
    "                                'second-year first semester', 'second-year second semester',\n",
    "                                'third-year first semester', 'third-year second semester',\n",
    "                                'fourth-year first semester']})\n",
    "fig.for_each_annotation(lambda a: a.update(text=a.text.split(\"=\")[-1]))\n",
    "fig.update_traces(hovertemplate=less_cringe_hovertext_template[\"bar\"][\"hovertemplate\"])\n",
    "fig.update_layout(height=1000, minreducedheight=350, minreducedwidth=350, font=dict(size=13))"
   ]
  },
  {
   "attachments": {},
   "cell_type": "markdown",
   "metadata": {},
   "source": [
    "## Which term would you consider was the most easy?"
   ]
  },
  {
   "cell_type": "code",
   "execution_count": null,
   "metadata": {},
   "outputs": [],
   "source": [
    "# data_checker(df[\"Which term would you consider was the most easy?\"], check_unique=True)"
   ]
  },
  {
   "cell_type": "code",
   "execution_count": null,
   "metadata": {},
   "outputs": [],
   "source": [
    "df[\"Which term would you consider was the most easy?\"].fillna(\"Did not answer\", inplace=True)"
   ]
  },
  {
   "cell_type": "code",
   "execution_count": null,
   "metadata": {
    "tags": [
     "no_margin"
    ]
   },
   "outputs": [],
   "source": [
    "fig = px.pie(df, names=\"Which term would you consider was the most easy?\", \n",
    "                   color=\"Which term would you consider was the most easy?\")\n",
    "fig.update_layout(showlegend=True)\n",
    "fig.update_traces(hovertemplate=less_cringe_hovertext_template[\"pie\"][\"hovertemplate\"])\n",
    "fig.update_layout(legend=dict(yanchor=\"top\", xanchor=\"center\",\n",
    "                                x=0.5, y=-0.1, orientation=\"v\")\n",
    "                                )"
   ]
  },
  {
   "attachments": {},
   "cell_type": "markdown",
   "metadata": {
    "tags": []
   },
   "source": [
    "We chillin' in 4th Year ;)"
   ]
  },
  {
   "cell_type": "code",
   "execution_count": null,
   "metadata": {},
   "outputs": [],
   "source": [
    "percentage_semester_index = {\n",
    "    \"High school admissions average?\" : 0,\n",
    "    'First-year 1st semester average' : 1,\n",
    "    'First-year 2nd semester average' : 2,\n",
    "    'Second-year first semester average' : 3,\n",
    "    'Second-year second semester average' : 4,\n",
    "    'Third-year first semester average' : 5,\n",
    "    'Third-year second semester average' : 6,\n",
    "    'Fourth-year first semester average' : 7,\n",
    "}\n",
    "\n",
    "easiness_semester_index = {\n",
    "    'first-year first semester' : 1,\n",
    "    'first-year second-semester' : 2,\n",
    "    'second-year first semester' : 3,\n",
    "    'second-year second semester' : 4,\n",
    "    'third-year first semester' : 5,\n",
    "    'third-year second semester' : 6,\n",
    "    'fourth-year first semester' : 7,\n",
    "}"
   ]
  },
  {
   "cell_type": "code",
   "execution_count": null,
   "metadata": {},
   "outputs": [],
   "source": [
    "df[\"easiness_semester_index\"] = df[\"Which term would you consider was the most easy?\"].replace(easiness_semester_index)"
   ]
  },
  {
   "cell_type": "code",
   "execution_count": null,
   "metadata": {},
   "outputs": [],
   "source": [
    "df_easiness = df[[\"Respondent ID\", \"Which term would you consider was the most easy?\", \"easiness_semester_index\"]]"
   ]
  },
  {
   "cell_type": "code",
   "execution_count": null,
   "metadata": {},
   "outputs": [],
   "source": [
    "df_easiness_percentage = pd.merge(df_easiness, df_scores_melted, left_on=[\"Respondent ID\", \"easiness_semester_index\"], \n",
    "                                                   right_on=[\"Respondent ID\", \"percentage_semester_index\"],\n",
    "                                                   how='inner')"
   ]
  },
  {
   "attachments": {},
   "cell_type": "markdown",
   "metadata": {},
   "source": [
    "## For each semester that ECE2T2s perceived as the easiest semester, how many of them actually scored an average grade higher than their average grade across all University semesters? \n"
   ]
  },
  {
   "cell_type": "code",
   "execution_count": null,
   "metadata": {},
   "outputs": [],
   "source": [
    "df_easiness_percentage[\"isHigher\"] = df_easiness_percentage[\"percentage\"] > df_easiness_percentage[\"own_average\"]"
   ]
  },
  {
   "cell_type": "code",
   "execution_count": null,
   "metadata": {},
   "outputs": [],
   "source": [
    "# df_difficulty_percentage[(df_difficulty_percentage[\"Which term would you consider was the most difficult?\"] == \"second-year second semester\")\n",
    "#                          & (df_difficulty_percentage[\"isLower\"] == True)]"
   ]
  },
  {
   "attachments": {},
   "cell_type": "markdown",
   "metadata": {
    "tags": [
     "yes_margin"
    ]
   },
   "source": [
    "Man some of y'all capping about a semester being easy since your average grades for that semester are lower than your University averages (one of them being me for sure LOL). Kinda interesting that the 4 people who scored a lower grade than their average grade perceived fourth-year first semester and first-year first semester were the easiest. Maybe some of us tend to perceive things as easy in our first and final semesters because we don't give a shit about grades anymore... So even if we get lower than average grades we still think the semesters are easy because... When nothing matters, why would anything be hard? :)))"
   ]
  },
  {
   "cell_type": "code",
   "execution_count": null,
   "metadata": {
    "tags": []
   },
   "outputs": [],
   "source": [
    "fig = px.histogram(df_easiness_percentage, x=\"isHigher\", color=\"isHigher\", \n",
    "             facet_col=\"Which term would you consider was the most easy?\", facet_col_wrap=2,\n",
    "             category_orders={\"Which term would you consider was the most easy?\": \n",
    "                              ['first-year first semester', 'first-year second-semester', \n",
    "                                'second-year first semester', 'second-year second semester',\n",
    "                                'third-year first semester', 'third-year second semester',\n",
    "                                'fourth-year first semester']})\n",
    "fig.for_each_annotation(lambda a: a.update(text=a.text.split(\"=\")[-1]))\n",
    "fig.update_traces(hovertemplate=less_cringe_hovertext_template[\"bar\"][\"hovertemplate\"])\n",
    "fig.update_layout(height=1000, minreducedheight=150, minreducedwidth=150, font=dict(size=13))"
   ]
  },
  {
   "attachments": {},
   "cell_type": "markdown",
   "metadata": {},
   "source": [
    "## Favourite Profs"
   ]
  },
  {
   "cell_type": "code",
   "execution_count": null,
   "metadata": {},
   "outputs": [],
   "source": [
    "# data_checker(df[\"If you did not do an exchange, what were your reasons for not?\"], check_unique=True)"
   ]
  },
  {
   "cell_type": "code",
   "execution_count": null,
   "metadata": {},
   "outputs": [],
   "source": [
    "df.rename({\"Favourite Professors (if multiple, separate with comma)?\": \"Favorite Professors\"}, axis=1, inplace=True)"
   ]
  },
  {
   "cell_type": "code",
   "execution_count": null,
   "metadata": {},
   "outputs": [],
   "source": [
    "# data_checker(df[\"Favorite Professors\"])"
   ]
  },
  {
   "cell_type": "code",
   "execution_count": null,
   "metadata": {},
   "outputs": [],
   "source": [
    "df[\"Favorite Professors\"].fillna(\"Did not specify\", inplace=True)"
   ]
  },
  {
   "cell_type": "code",
   "execution_count": null,
   "metadata": {},
   "outputs": [],
   "source": [
    "df_profs = process_multiple_choice_survey(df[\"Favorite Professors\"], column=\"FavProfs\")"
   ]
  },
  {
   "attachments": {},
   "cell_type": "markdown",
   "metadata": {
    "tags": [
     "hide_code"
    ]
   },
   "source": [
    "## Compute Similarity Matrix using Longest Common Subsequence as Distance\n",
    "\n",
    "Students enter their professor names in many different ways, so we need to cluster similar inputs under one ground truth value and replace all inputs under that cluster with the ground truth value. (ex. group entries of Belinda Wang and Belinda Yang under one cluster and replace all of those entries with Belinda Wang)\n",
    " \n",
    "To solve this problem,\n",
    "1. We first compute the similarity matrix between all unique inputs in the survey.\n",
    "2. Let the clustering algorithm to create several clusters.\n",
    "3. Finally, decide manually (using your own brain) the ideal ground truth value for those clusters.\n",
    "\n",
    "**IMPORTANT!! Only rerun this piece of code when survey inputs change and new clusters are required**"
   ]
  },
  {
   "cell_type": "code",
   "execution_count": null,
   "metadata": {},
   "outputs": [],
   "source": [
    "# from similarity.longest_common_subsequence import LongestCommonSubsequence\n",
    "# LCS = LongestCommonSubsequence()"
   ]
  },
  {
   "cell_type": "code",
   "execution_count": null,
   "metadata": {},
   "outputs": [],
   "source": [
    "# # from scipy.spatial.distance import pdist, squareform\n",
    "# def compare_lcs(u, v):\n",
    "#     min_length = min(len(u[0]), len(v[0]))\n",
    "#     return min(-0.001, -(1 - (abs((LCS.distance(u[0], v[0]) - len(u[0]) - len(v[0])) / 2) / min_length)))\n",
    "#     # return -((1 - cosine.similarity_profiles(cosine.get_profile(u[0]), cosine.get_profile(v[0]))) + levenshtein.distance(u[0], v[0]))\n",
    "\n",
    "# precomputed_similarity_matrix = squareform(pdist(np.expand_dims(df_profs[\"FavProfs\"].unique(), axis=1), compare_lcs)) \n",
    "# df_precompute_sim_matrix = pd.DataFrame(\n",
    "#     precomputed_similarity_matrix,\n",
    "#     index=df_profs[\"FavProfs\"].unique(),\n",
    "#     columns=df_profs[\"FavProfs\"].unique(),\n",
    "# )\n",
    "\n",
    "# # Generate similarity matrix between every possible professor input\n",
    "# df_precompute_sim_matrix"
   ]
  },
  {
   "cell_type": "code",
   "execution_count": null,
   "metadata": {},
   "outputs": [],
   "source": [
    "# Distribution of Similarity Matrix\n",
    "# px.histogram(df_precompute_sim_matrix[df_precompute_sim_matrix != 0].max(axis=1), title=\"Distribution of Largest Common Subsequence Metric\")"
   ]
  },
  {
   "attachments": {},
   "cell_type": "markdown",
   "metadata": {
    "tags": [
     "hide_code"
    ]
   },
   "source": [
    "### Removing Unique Professor Names\n",
    "We apply this filter to try out best to not cluster professor names that were only entered in one way. \n",
    "For example, if we all entered Hamid's name as Hamid, then there is no need to rewrite Hamid is any other way.\n",
    "\n",
    "I only included inputs that have an LCS distance > -0.3, because I thought most inputs that have an LCS distance < -0.3 appeared to be unique professor names. I deducted this through trial and error. For each input, I found their most closely associated inputs with the LCS distance closest to 0 and put this information in a dataframe"
   ]
  },
  {
   "cell_type": "code",
   "execution_count": null,
   "metadata": {},
   "outputs": [],
   "source": [
    "# Enter that similarity scores you'd like to see here. Ex find all similarity scores less than -0.5\n",
    "# MAT = df_precompute_sim_matrix[(df_precompute_sim_matrix[df_precompute_sim_matrix != 0].max() > -0.3)]"
   ]
  },
  {
   "cell_type": "code",
   "execution_count": null,
   "metadata": {},
   "outputs": [],
   "source": [
    "# MAT"
   ]
  },
  {
   "cell_type": "code",
   "execution_count": null,
   "metadata": {},
   "outputs": [],
   "source": [
    "# def gather_closest_distances_for_each_word(row):\n",
    "#     closest_distances = row[row == row[row != 0].max()]\n",
    "#     best_matches_for_each_word = closest_distances.index.tolist()\n",
    "#     return [best_matches_for_each_word, row[row != 0].max()]\n",
    "\n",
    "\n",
    "# df_MAT = MAT.apply(gather_closest_distances_for_each_word, axis=1, result_type=\"expand\")"
   ]
  },
  {
   "cell_type": "code",
   "execution_count": null,
   "metadata": {},
   "outputs": [],
   "source": [
    "# df_MAT"
   ]
  },
  {
   "cell_type": "code",
   "execution_count": null,
   "metadata": {},
   "outputs": [],
   "source": [
    "# Per analysis above, We only include words iff they have at least one LCS distance < -0.3 with another word.\n",
    "# df_precompute_sim_matrix = df_precompute_sim_matrix.loc[df_precompute_sim_matrix[(df_precompute_sim_matrix > -0.3) & (df_precompute_sim_matrix != 0)].any()]"
   ]
  },
  {
   "cell_type": "code",
   "execution_count": null,
   "metadata": {},
   "outputs": [],
   "source": [
    "# df_precompute_sim_matrix = df_precompute_sim_matrix[df_precompute_sim_matrix.index]"
   ]
  },
  {
   "cell_type": "code",
   "execution_count": null,
   "metadata": {},
   "outputs": [],
   "source": [
    "# Fit data to AP Cluster model\n",
    "# from sklearn.cluster import AffinityPropagation\n",
    "# ap_cluster = AffinityPropagation(random_state=5, affinity=\"precomputed\").fit(df_precompute_sim_matrix.to_numpy())"
   ]
  },
  {
   "attachments": {},
   "cell_type": "markdown",
   "metadata": {
    "tags": [
     "hide_code"
    ]
   },
   "source": [
    "### Automated Text Cleaning Using AP Clustering \n",
    "\n",
    "ONLY RUN ONCE"
   ]
  },
  {
   "cell_type": "code",
   "execution_count": null,
   "metadata": {
    "tags": [
     "hide_code"
    ]
   },
   "outputs": [],
   "source": [
    "# # ONLY RUN ONCE. This codeblock is used to memoize user prompt input.\n",
    "\n",
    "# replacement_tracker = [] # Keep track of user prompt input\n",
    "# for label in sorted(np.unique(ap_cluster.labels_)):\n",
    "#     prompt_tuple = []\n",
    "#     indices = df_precompute_sim_matrix.index[np.where(ap_cluster.labels_ == label)]\n",
    "#     text = input(f\"Cluster: {indices}. Would you like to replace this cluster? (Y/N)\")\n",
    "#     replacement_text = None\n",
    "#     if text == \"Y\" or text == \"y\":\n",
    "#         replacement_text = input(f\"Cluster: {indices}. Enter the text your would like to replace this cluster with:\")\n",
    "#     else:\n",
    "#         pass\n",
    "\n",
    "#     prompt_tuple.append(text)\n",
    "#     prompt_tuple.append(indices.tolist())\n",
    "#     prompt_tuple.append(replacement_text)\n",
    "#     replacement_tracker.append(prompt_tuple)\n",
    "\n",
    "    "
   ]
  },
  {
   "cell_type": "code",
   "execution_count": null,
   "metadata": {
    "tags": [
     "hide_code"
    ]
   },
   "outputs": [],
   "source": [
    "'''\n",
    "    Write out replacement file. In the form of [Should_I_Replace_Cluster_With_Text, Replacement_Text]\n",
    "    [[\"Y\", \"Ashvin\"], [\"Y\", \"Bruno\"], [\"N\", None]]\n",
    "'''\n",
    "\n",
    "# json_obj = json.dumps(replacement_tracker)\n",
    "# with open(\"./survey_text_replacements/35_Favorite_Professors.json\", \"w\") as f:\n",
    "#     f.write(json_obj)"
   ]
  },
  {
   "cell_type": "code",
   "execution_count": null,
   "metadata": {},
   "outputs": [],
   "source": [
    "f = open(f\"./survey_text_replacements/35_Favorite_Professors.json\") \n",
    "list_of_profs = json.load(f)\n",
    "f.close()"
   ]
  },
  {
   "cell_type": "code",
   "execution_count": null,
   "metadata": {},
   "outputs": [],
   "source": [
    "for text, indices, replacement_text in list_of_profs:\n",
    "    if text == \"Y\" or text == \"y\":\n",
    "        df_profs[\"FavProfs\"].replace({index: replacement_text for index in indices}, inplace=True)\n",
    "    else:\n",
    "        continue\n",
    "    "
   ]
  },
  {
   "attachments": {},
   "cell_type": "markdown",
   "metadata": {
    "tags": [
     "hide_code"
    ]
   },
   "source": [
    "### Manual Text Cleaning"
   ]
  },
  {
   "cell_type": "code",
   "execution_count": null,
   "metadata": {},
   "outputs": [],
   "source": [
    "# df_multiple_choice_answers[\"FavProfs\"].sort_values().unique()"
   ]
  },
  {
   "cell_type": "code",
   "execution_count": null,
   "metadata": {},
   "outputs": [],
   "source": [
    "replacement_dict = {\"Adve\" : \"Ravi Adve\", \"Ashvin Gole\" : \"Ashvin Goel\", \"Kschischang\" : 'Frank Kschischang',\n",
    "                    \"Papernot\" : \"Michael Papernot\", \"Rose\" : \"Jonathan Rose\", \"Tarek\" : \"Tarek Abdelrahman\"}"
   ]
  },
  {
   "cell_type": "code",
   "execution_count": null,
   "metadata": {},
   "outputs": [],
   "source": [
    "df_profs[\"FavProfs\"].replace(replacement_dict, inplace=True)"
   ]
  },
  {
   "cell_type": "code",
   "execution_count": null,
   "metadata": {},
   "outputs": [],
   "source": [
    "# df_profs[\"FavProfs\"].sort_values().unique()"
   ]
  },
  {
   "cell_type": "code",
   "execution_count": null,
   "metadata": {},
   "outputs": [],
   "source": [
    "df_top_10_profs = df_profs[df_profs[\"FavProfs\"] != \"Did not specify\"].value_counts()"
   ]
  },
  {
   "cell_type": "code",
   "execution_count": null,
   "metadata": {},
   "outputs": [],
   "source": [
    "df_top_10_profs = df_top_10_profs.head(10).reset_index()"
   ]
  },
  {
   "cell_type": "code",
   "execution_count": null,
   "metadata": {},
   "outputs": [],
   "source": [
    "df_top_10_profs.columns = [\"FavProfs\", \"num_students\"]"
   ]
  },
  {
   "cell_type": "code",
   "execution_count": null,
   "metadata": {},
   "outputs": [],
   "source": [
    "df_top_10_profs[\"percent_students\"] = (df_top_10_profs[\"num_students\"] / len(df) * 100).round(2)"
   ]
  },
  {
   "cell_type": "code",
   "execution_count": null,
   "metadata": {},
   "outputs": [],
   "source": [
    "fig = px.bar(df_top_10_profs, x=\"FavProfs\", y=\"num_students\", color=\"FavProfs\", text=df_top_10_profs[\"percent_students\"].astype(str) + \"%\")\n",
    "fig.update_traces(hovertemplate=less_cringe_hovertext_template[\"bar\"][\"hovertemplate\"],\n",
    "                  )\n",
    "fig.show()"
   ]
  },
  {
   "attachments": {},
   "cell_type": "markdown",
   "metadata": {},
   "source": [
    "## Favourite/Least Favourite Course in ECE"
   ]
  },
  {
   "cell_type": "code",
   "execution_count": null,
   "metadata": {},
   "outputs": [],
   "source": [
    "# data_checker(df[\"What is your favourite required course in ECE?\"], check_unique=True)"
   ]
  },
  {
   "cell_type": "code",
   "execution_count": null,
   "metadata": {},
   "outputs": [],
   "source": [
    "df[\"What is your favourite required course in ECE?\"].fillna(\"Did not specify\", inplace=True)"
   ]
  },
  {
   "cell_type": "code",
   "execution_count": null,
   "metadata": {},
   "outputs": [],
   "source": [
    "# data_checker(df[\"What is your LEAST favourite required course in ECE?\"], check_unique=True)"
   ]
  },
  {
   "cell_type": "code",
   "execution_count": null,
   "metadata": {},
   "outputs": [],
   "source": [
    "df[\"What is your LEAST favourite required course in ECE?\"].fillna(\"Did not specify\", inplace=True)"
   ]
  },
  {
   "cell_type": "code",
   "execution_count": null,
   "metadata": {},
   "outputs": [],
   "source": [
    "fig = create_table_with_dropdown(df, columns=[\"What is your favourite required course in ECE?\", \n",
    "                                 \"What is your LEAST favourite required course in ECE?\"],\n",
    "                                 labels=break_text([\"What is your favourite required course in ECE?\", \n",
    "                                 \"What is your LEAST favourite required course in ECE?\"])\n",
    "                                )\n",
    "\n",
    "fig.update_layout(showlegend=False)"
   ]
  },
  {
   "attachments": {},
   "cell_type": "markdown",
   "metadata": {},
   "source": [
    "## Which technical electives did you take?  (course codes only)"
   ]
  },
  {
   "cell_type": "code",
   "execution_count": null,
   "metadata": {},
   "outputs": [],
   "source": [
    "# data_checker(df[\"Which technical electives did you take?  (course codes only)\"], check_unique=True)"
   ]
  },
  {
   "cell_type": "code",
   "execution_count": null,
   "metadata": {},
   "outputs": [],
   "source": [
    "df[\"Which technical electives did you take?  (course codes only)\"].fillna(\"NoAnswer\", inplace=True)"
   ]
  },
  {
   "cell_type": "code",
   "execution_count": null,
   "metadata": {},
   "outputs": [],
   "source": [
    "df[\"Which technical electives did you take?  (course codes only)\"] = df[\"Which technical electives did you take?  (course codes only)\"].str.upper()"
   ]
  },
  {
   "cell_type": "code",
   "execution_count": null,
   "metadata": {},
   "outputs": [],
   "source": [
    "df.replace(\"NOANSWER\", \"NoAnswer\", inplace=True)"
   ]
  },
  {
   "cell_type": "code",
   "execution_count": null,
   "metadata": {
    "tags": [
     "no_margin"
    ]
   },
   "outputs": [],
   "source": [
    "generate_word_map(df[\"Which technical electives did you take?  (course codes only)\"], \n",
    "                  file_path=\"./embed_images/TechElectives_WordCloud.png\")\n",
    "fig = plot_word_map(\"./embed_images/TechElectives_WordCloud.png\")\n",
    "fig.show()"
   ]
  },
  {
   "cell_type": "code",
   "execution_count": null,
   "metadata": {},
   "outputs": [],
   "source": [
    "create_table(df, column=\"Which technical electives did you take?  (course codes only)\", label=\"TOP 10 technical electives\", limit=10)"
   ]
  },
  {
   "attachments": {},
   "cell_type": "markdown",
   "metadata": {},
   "source": [
    "## What Complimentary Studies (CSS)/Humanities & Social Science (HSS) electives & Science/Math courses did you take?"
   ]
  },
  {
   "cell_type": "code",
   "execution_count": null,
   "metadata": {},
   "outputs": [],
   "source": [
    "df.rename({\"What Complimentary Studies (CSS)/Humanities &amp; Social Science (HSS) electives did you take? (course codes only)\" : \n",
    "           \"electives\"}, axis=1, inplace=True)"
   ]
  },
  {
   "cell_type": "code",
   "execution_count": null,
   "metadata": {},
   "outputs": [],
   "source": [
    "# data_checker(df[\"electives\"], check_unique=True)"
   ]
  },
  {
   "cell_type": "code",
   "execution_count": null,
   "metadata": {},
   "outputs": [],
   "source": [
    "df[\"electives\"].fillna(\"No Answer\", inplace=True)"
   ]
  },
  {
   "cell_type": "code",
   "execution_count": null,
   "metadata": {},
   "outputs": [],
   "source": [
    "df[\"electives\"] = df[\"electives\"].str.upper()"
   ]
  },
  {
   "cell_type": "code",
   "execution_count": null,
   "metadata": {},
   "outputs": [],
   "source": [
    "df.replace(\"NO ANSWER\", \"No Answer\", inplace=True)"
   ]
  },
  {
   "cell_type": "code",
   "execution_count": null,
   "metadata": {},
   "outputs": [],
   "source": [
    "# data_checker(df[\"What Science/Math did you take? (course code only)\"], check_unique=True)"
   ]
  },
  {
   "cell_type": "code",
   "execution_count": null,
   "metadata": {},
   "outputs": [],
   "source": [
    "df[\"What Science/Math did you take? (course code only)\"].fillna(\"No Answer\", inplace=True)"
   ]
  },
  {
   "cell_type": "code",
   "execution_count": null,
   "metadata": {},
   "outputs": [],
   "source": [
    "df[\"What Science/Math did you take? (course code only)\"] = df[\"What Science/Math did you take? (course code only)\"].str.upper()"
   ]
  },
  {
   "cell_type": "code",
   "execution_count": null,
   "metadata": {},
   "outputs": [],
   "source": [
    "df.replace(\"NO ANSWER\", \"No Answer\", inplace=True)"
   ]
  },
  {
   "cell_type": "code",
   "execution_count": null,
   "metadata": {},
   "outputs": [],
   "source": [
    "fig = create_table_with_dropdown(df, columns=[\"electives\", \n",
    "                                 \"What Science/Math did you take? (course code only)\"],\n",
    "                                 labels=break_text([\n",
    "                                    \"Top 10 Complimentary Studies (CSS)/Humanities & Social Science (HSS) electives\",\n",
    "                                    \"Top 10 Science/Math Courses (course code only)\"\n",
    "                                 ], char_limit=20),\n",
    "                                 limit=10,\n",
    "                                 base_height=230\n",
    "                                )\n",
    "fig.show()"
   ]
  },
  {
   "attachments": {},
   "cell_type": "markdown",
   "metadata": {},
   "source": [
    "## Have you ever take summer courses?"
   ]
  },
  {
   "cell_type": "code",
   "execution_count": null,
   "metadata": {},
   "outputs": [],
   "source": [
    "# data_checker(df[\"Have you ever take summer courses?\"], check_unique=True)"
   ]
  },
  {
   "cell_type": "code",
   "execution_count": null,
   "metadata": {},
   "outputs": [],
   "source": [
    "df[\"Have you ever take summer courses?\"].fillna(\"Did not answer\", inplace=True)"
   ]
  },
  {
   "cell_type": "code",
   "execution_count": null,
   "metadata": {},
   "outputs": [],
   "source": [
    "fig = px.histogram(df, x=\"Have you ever take summer courses?\", color=\"Have you ever take summer courses?\")\n",
    "fig.update_traces(hovertemplate=less_cringe_hovertext_template[\"histogram\"][\"hovertemplate\"])\n",
    "add_percent_labels_for_hist(df[\"Have you ever take summer courses?\"], fig, horizontal=False)\n",
    "fig"
   ]
  },
  {
   "attachments": {},
   "cell_type": "markdown",
   "metadata": {},
   "source": [
    "## Have you overloaded (taken 6 or more courses in a semester)?"
   ]
  },
  {
   "cell_type": "code",
   "execution_count": null,
   "metadata": {},
   "outputs": [],
   "source": [
    "# data_checker(df[\"Have you ever overloaded (taken 6 or more courses in a semester)? \"], check_unique=True)"
   ]
  },
  {
   "cell_type": "code",
   "execution_count": null,
   "metadata": {},
   "outputs": [],
   "source": [
    "df[\"Have you ever overloaded (taken 6 or more courses in a semester)?\"].fillna(\"Did not answer\", inplace=True)"
   ]
  },
  {
   "cell_type": "code",
   "execution_count": null,
   "metadata": {},
   "outputs": [],
   "source": [
    "# fig = px.histogram(df, x=\"Have you ever overloaded (taken 6 or more courses in a semester)?\", \n",
    "#                    color=\"Have you ever overloaded (taken 6 or more courses in a semester)?\")\n",
    "# fig.update_traces(hovertemplate=less_cringe_hovertext_template[\"histogram\"][\"hovertemplate\"])"
   ]
  },
  {
   "attachments": {},
   "cell_type": "markdown",
   "metadata": {},
   "source": [
    "## Which terms did you overload?"
   ]
  },
  {
   "cell_type": "code",
   "execution_count": null,
   "metadata": {},
   "outputs": [],
   "source": [
    "# data_checker(df[\"What terms did you overload?\"], check_unique=True)"
   ]
  },
  {
   "cell_type": "code",
   "execution_count": null,
   "metadata": {},
   "outputs": [],
   "source": [
    "# DQ check for no overloaded semesters but overloaded terms exist.\n",
    "\n",
    "# term_filter = (\n",
    "#  (df[\"What terms did you overload?\"].notna()) & \n",
    "#  ((df[\"Have you ever overloaded (taken 6 or more courses in a semester)?\"] == \"no\") |\n",
    "#  (df[\"Have you ever overloaded (taken 6 or more courses in a semester)?\"] == \"Did not answer\"))\n",
    "# )\n",
    "\n",
    "# df.loc[term_filter, [\"Have you ever overloaded (taken 6 or more courses in a semester)?\", \"What terms did you overload?\"]]"
   ]
  },
  {
   "cell_type": "code",
   "execution_count": null,
   "metadata": {},
   "outputs": [],
   "source": [
    "df[\"What terms did you overload?\"].dropna(inplace=True)"
   ]
  },
  {
   "attachments": {},
   "cell_type": "markdown",
   "metadata": {},
   "source": [
    "## Course Overload Info"
   ]
  },
  {
   "cell_type": "code",
   "execution_count": null,
   "metadata": {},
   "outputs": [],
   "source": [
    "fig = create_figure_with_dropdown(df, options=[\"Have you ever overloaded (taken 6 or more courses in a semester)?\", \n",
    "                                               \"What terms did you overload?\"],\n",
    "                                        labels=[ \"Have you ever overloaded (taken 6 or more courses in a semester)?\", \n",
    "                                                \"Which terms did you overload? (For those who did overload)\"],\n",
    "                                        showticklabels=[False,\n",
    "                                                         False],\n",
    "                                        sort_traces=True)\n",
    "fig.update_traces(hovertemplate=less_cringe_hovertext_template[\"histogram\"][\"hovertemplate\"])\n",
    "fig.update_layout(legend=dict(yanchor=\"top\", y=1))\n",
    "# fig.layout.updatemenus[0].y = -0.4\n",
    "fig"
   ]
  },
  {
   "attachments": {},
   "cell_type": "markdown",
   "metadata": {},
   "source": [
    "# Failures\n",
    "\n",
    "<i>why you still no doctor la</i>"
   ]
  },
  {
   "cell_type": "code",
   "execution_count": null,
   "metadata": {},
   "outputs": [],
   "source": [
    "df[\"Have you ever failed a course?\"].fillna(\"Too embarassed to say\", inplace=True)\n",
    "df[\"Have you ever failed a midterm/exam?\"].fillna(\"Too embarassed to say\", inplace=True)"
   ]
  },
  {
   "cell_type": "code",
   "execution_count": null,
   "metadata": {},
   "outputs": [],
   "source": [
    "# data_checker(df[\"Have you ever failed a course?\"], check_unique=True)\n",
    "# data_checker(df[\"Have you ever failed a midterm/exam?\"], check_unique=True)"
   ]
  },
  {
   "cell_type": "code",
   "execution_count": null,
   "metadata": {},
   "outputs": [],
   "source": [
    "fig = create_figure_with_dropdown(df, [\"Have you ever failed a course?\", \"Have you ever failed a midterm/exam?\"],\n",
    "                            is_order_manually=True, manual_category_orders=[[\"yes\", \"no\", \"Too embarassed to say\"], None])\n",
    "fig.update_traces(hovertemplate=less_cringe_hovertext_template[\"histogram\"][\"hovertemplate\"])\n",
    "fig.update_layout(legend=dict(yanchor=\"top\", y=1))\n",
    "fig.layout.updatemenus[0].y = -0.2\n",
    "fig.show()\n",
    "\n"
   ]
  },
  {
   "attachments": {},
   "cell_type": "markdown",
   "metadata": {},
   "source": [
    "# Contentness with UofT Life"
   ]
  },
  {
   "attachments": {},
   "cell_type": "markdown",
   "metadata": {},
   "source": [
    "## How satisfied are you with your academic experience at UofT? (Out of 10)"
   ]
  },
  {
   "cell_type": "code",
   "execution_count": null,
   "metadata": {},
   "outputs": [],
   "source": [
    "# data_checker(df[\"How satisfied are you with your academic experience at UofT?\"], check_unique=True)"
   ]
  },
  {
   "cell_type": "code",
   "execution_count": null,
   "metadata": {},
   "outputs": [],
   "source": [
    "df_uoft_satisfaction = df[\"How satisfied are you with your academic experience at UofT?\"].dropna()"
   ]
  },
  {
   "cell_type": "code",
   "execution_count": null,
   "metadata": {},
   "outputs": [],
   "source": [
    "fig_avg, fig = create_rating_distributions(\"out of 10\", \"Contentedness with UofT Academic Experience<br><i>(Rating out of 10)</i>\",\n",
    "                            df_uoft_satisfaction)"
   ]
  },
  {
   "cell_type": "code",
   "execution_count": null,
   "metadata": {
    "tags": [
     "no_margin"
    ]
   },
   "outputs": [],
   "source": [
    "fig_avg.show()"
   ]
  },
  {
   "cell_type": "code",
   "execution_count": null,
   "metadata": {},
   "outputs": [],
   "source": [
    "fig.show()"
   ]
  },
  {
   "attachments": {},
   "cell_type": "markdown",
   "metadata": {},
   "source": [
    "## How satisfied are you with your student life at UofT?"
   ]
  },
  {
   "cell_type": "code",
   "execution_count": null,
   "metadata": {},
   "outputs": [],
   "source": [
    "# data_checker(df[\"How satisfied are you with your student life at UofT?\"], check_unique=True)"
   ]
  },
  {
   "cell_type": "code",
   "execution_count": null,
   "metadata": {},
   "outputs": [],
   "source": [
    "df_student_life = df[\"How satisfied are you with your student life at UofT?\"].dropna()"
   ]
  },
  {
   "cell_type": "code",
   "execution_count": null,
   "metadata": {},
   "outputs": [],
   "source": [
    "fig_avg, fig = create_rating_distributions(\"out of 10\", \"Contentedness with UofT Student Life Experience<br><i>(Rating out of 10)</i>\",\n",
    "                            df_student_life)"
   ]
  },
  {
   "cell_type": "code",
   "execution_count": null,
   "metadata": {
    "tags": [
     "no_margin"
    ]
   },
   "outputs": [],
   "source": [
    "fig_avg.show()"
   ]
  },
  {
   "cell_type": "code",
   "execution_count": null,
   "metadata": {},
   "outputs": [],
   "source": [
    "fig.show()"
   ]
  },
  {
   "cell_type": "code",
   "execution_count": null,
   "metadata": {},
   "outputs": [],
   "source": [
    "# data_checker(df[\"Would you choose your same program again?\"], check_unique=True)"
   ]
  },
  {
   "attachments": {},
   "cell_type": "markdown",
   "metadata": {},
   "source": [
    "## Would you choose your same program again?"
   ]
  },
  {
   "cell_type": "code",
   "execution_count": null,
   "metadata": {},
   "outputs": [],
   "source": [
    "df[\"Would you choose your same program again?\"].fillna(\"Did not specify\", inplace=True)"
   ]
  },
  {
   "cell_type": "code",
   "execution_count": null,
   "metadata": {},
   "outputs": [],
   "source": [
    "create_table(df, column=\"Would you choose your same program again?\", label=break_text(\"Would you choose your same program again?\"))"
   ]
  },
  {
   "attachments": {},
   "cell_type": "markdown",
   "metadata": {},
   "source": [
    "## If you responded no, which program would you have chosen instead?"
   ]
  },
  {
   "cell_type": "code",
   "execution_count": null,
   "metadata": {},
   "outputs": [],
   "source": [
    "# data_checker(df[\"If you responded no, which program would you have chosen instead?\"], check_unique=True)"
   ]
  },
  {
   "cell_type": "code",
   "execution_count": null,
   "metadata": {},
   "outputs": [],
   "source": [
    "df_which_progam_instead = df[\"If you responded no, which program would you have chosen instead?\"].dropna().reset_index()"
   ]
  },
  {
   "cell_type": "code",
   "execution_count": null,
   "metadata": {},
   "outputs": [],
   "source": [
    "fig = px.pie(df_which_progam_instead, names=\"If you responded no, which program would you have chosen instead?\")\n",
    "fig.update_traces(textinfo=\"label+percent\",\n",
    "                  hovertemplate=less_cringe_hovertext_template[\"pie\"][\"hovertemplate\"])\n",
    "fig.update_layout(showlegend=False)\n",
    "fig.add_annotation(\n",
    "    dict(xanchor=\"right\", x=0.98, y=-0.1, text=f\"{len(df_which_progam_instead)} respondents<br>total\", font=dict(size=16), ax=0, ay=0)\n",
    ")"
   ]
  },
  {
   "attachments": {},
   "cell_type": "markdown",
   "metadata": {},
   "source": [
    "## How likely is it you would recommend this department to other prospective students?"
   ]
  },
  {
   "cell_type": "code",
   "execution_count": null,
   "metadata": {},
   "outputs": [],
   "source": [
    "# data_checker(df[\"How likely is it you would recommend this department to other prospective students?\"], check_unique=True)"
   ]
  },
  {
   "cell_type": "code",
   "execution_count": null,
   "metadata": {},
   "outputs": [],
   "source": [
    "df_likely_to_recommend_program = \\\n",
    "    df[\"How likely is it you would recommend this department to other prospective students?\"].dropna()"
   ]
  },
  {
   "cell_type": "code",
   "execution_count": null,
   "metadata": {},
   "outputs": [],
   "source": [
    "fig_avg, fig = \\\n",
    "    create_rating_distributions(\"out of 10\", \n",
    "                                \"Likely to Recommend ECE Program<br><i>(Rating out of 10)</i>\",\n",
    "                                df_likely_to_recommend_program)"
   ]
  },
  {
   "cell_type": "code",
   "execution_count": null,
   "metadata": {
    "tags": [
     "no_margin"
    ]
   },
   "outputs": [],
   "source": [
    "fig_avg.show()"
   ]
  },
  {
   "cell_type": "code",
   "execution_count": null,
   "metadata": {},
   "outputs": [],
   "source": [
    "fig.show()"
   ]
  },
  {
   "attachments": {},
   "cell_type": "markdown",
   "metadata": {},
   "source": [
    "## I developed close friendships within my ECE class"
   ]
  },
  {
   "cell_type": "code",
   "execution_count": null,
   "metadata": {},
   "outputs": [],
   "source": [
    "# data_checker(df[\"I developed close friendships within my ECE class\"], check_unique=True)"
   ]
  },
  {
   "cell_type": "code",
   "execution_count": null,
   "metadata": {},
   "outputs": [],
   "source": [
    "df_closeness_of_friendships = df[\"I developed close friendships within my ECE class\"].dropna()"
   ]
  },
  {
   "cell_type": "code",
   "execution_count": null,
   "metadata": {},
   "outputs": [],
   "source": [
    "fig_avg, fig = \\\n",
    "    create_rating_distributions(\"out of 5\", \n",
    "                                \"Closeness of Friendships Developed<br><i>(Rating out of 5)</i>\",\n",
    "                                df_closeness_of_friendships)"
   ]
  },
  {
   "cell_type": "code",
   "execution_count": null,
   "metadata": {
    "tags": [
     "no_margin"
    ]
   },
   "outputs": [],
   "source": [
    "fig_avg.show()"
   ]
  },
  {
   "cell_type": "code",
   "execution_count": null,
   "metadata": {},
   "outputs": [],
   "source": [
    "fig.show()"
   ]
  },
  {
   "attachments": {},
   "cell_type": "markdown",
   "metadata": {},
   "source": [
    "## Overall, my class is tight-knit and friendly with each other"
   ]
  },
  {
   "cell_type": "code",
   "execution_count": null,
   "metadata": {
    "tags": []
   },
   "outputs": [],
   "source": [
    "# data_checker(df[\"Overall, my class is tight-knit and friendly with each other\"], check_unique=True)"
   ]
  },
  {
   "cell_type": "code",
   "execution_count": null,
   "metadata": {},
   "outputs": [],
   "source": [
    "df_tightness = df[\"Overall, my class is tight-knit and friendly with each other\"].dropna()"
   ]
  },
  {
   "cell_type": "code",
   "execution_count": null,
   "metadata": {},
   "outputs": [],
   "source": [
    "fig_avg, fig = \\\n",
    "    create_rating_distributions(\"out of 5\", \n",
    "                                \"Tightness and Friendliness of Class<br><i>(Rating out of 5)</i>\",\n",
    "                                df_tightness)"
   ]
  },
  {
   "cell_type": "code",
   "execution_count": null,
   "metadata": {
    "tags": [
     "no_margin"
    ]
   },
   "outputs": [],
   "source": [
    "fig_avg.show()"
   ]
  },
  {
   "cell_type": "code",
   "execution_count": null,
   "metadata": {},
   "outputs": [],
   "source": [
    "fig.show()"
   ]
  },
  {
   "attachments": {},
   "cell_type": "markdown",
   "metadata": {},
   "source": [
    "## How many close friends would you say you have in the ECE 2T2 cohort? "
   ]
  },
  {
   "cell_type": "code",
   "execution_count": null,
   "metadata": {},
   "outputs": [],
   "source": [
    "# data_checker(df[\"How many close friends would you say you have in the ECE 2T2 cohort?  \"], check_unique=True)"
   ]
  },
  {
   "cell_type": "code",
   "execution_count": null,
   "metadata": {},
   "outputs": [],
   "source": [
    "df_close_friends_str = df[\"How many close friends would you say you have in the ECE 2T2 cohort?\"] \\\n",
    "                       .dropna().astype(str) \\\n",
    "                       .str.split(\".\").str[0]"
   ]
  },
  {
   "cell_type": "code",
   "execution_count": null,
   "metadata": {},
   "outputs": [],
   "source": [
    "df_close_friends_sorted = df[\"How many close friends would you say you have in the ECE 2T2 cohort?\"].dropna() \\\n",
    "                         .sort_values().astype(int).astype(str)"
   ]
  },
  {
   "cell_type": "code",
   "execution_count": null,
   "metadata": {},
   "outputs": [],
   "source": [
    "fig = px.histogram(df_close_friends_str, color=\"value\")\n",
    "fig.update_traces(hovertemplate=less_cringe_hovertext_template[\"histogram\"][\"hovertemplate\"])\n",
    "fig.update_xaxes(categoryorder=\"array\", categoryarray=df_close_friends_sorted.unique(), title_text=\"Number of Close Friends\")\n",
    "add_percent_labels_for_hist(df_close_friends_str, fig, horizontal=False)\n",
    "fig.add_annotation(\n",
    "    dict(xanchor=\"right\", yanchor=\"middle\", x=0.6, y=11, ax=0, ay=0,\n",
    "    text=f\"Sample Size: {len(df_close_friends_str)}\", font=dict(size=12))\n",
    ")"
   ]
  },
  {
   "attachments": {},
   "cell_type": "markdown",
   "metadata": {},
   "source": [
    "## How many friends would you say you have in the ECE 2T2 cohort? "
   ]
  },
  {
   "cell_type": "code",
   "execution_count": null,
   "metadata": {},
   "outputs": [],
   "source": [
    "# data_checker(df[\"How many friends would you say you have in the ECE 2T2 cohort?  \"], check_unique=True)"
   ]
  },
  {
   "cell_type": "code",
   "execution_count": null,
   "metadata": {},
   "outputs": [],
   "source": [
    "df_friends_str = df[\"How many friends would you say you have in the ECE 2T2 cohort?\"] \\\n",
    "                       .dropna().astype(str) \\\n",
    "                       .str.split(\".\").str[0]"
   ]
  },
  {
   "cell_type": "code",
   "execution_count": null,
   "metadata": {},
   "outputs": [],
   "source": [
    "df_friends_sorted = df[\"How many friends would you say you have in the ECE 2T2 cohort?\"].dropna() \\\n",
    "                         .sort_values().astype(int).astype(str)"
   ]
  },
  {
   "cell_type": "code",
   "execution_count": null,
   "metadata": {},
   "outputs": [],
   "source": [
    "fig = px.histogram(df_friends_str, color=\"value\")\n",
    "fig.update_traces(hovertemplate=less_cringe_hovertext_template[\"histogram\"][\"hovertemplate\"])\n",
    "fig.update_xaxes(categoryorder=\"array\", categoryarray=df_friends_sorted.unique(), title_text=\"Number of Friends\")\n",
    "add_percent_labels_for_hist(df_friends_str, fig, horizontal=False)\n",
    "fig.add_annotation(\n",
    "    dict(xanchor=\"right\", yanchor=\"middle\", x=0.75, y=14, ax=0, ay=0,\n",
    "    text=f\"Sample Size: {len(df_friends_str)}\", font=dict(size=12))\n",
    ")"
   ]
  },
  {
   "cell_type": "code",
   "execution_count": null,
   "metadata": {},
   "outputs": [],
   "source": [
    "# data_checker(df[\"Overall, my feelings about the ECE department are\"], check_unique=True)"
   ]
  },
  {
   "cell_type": "code",
   "execution_count": null,
   "metadata": {},
   "outputs": [],
   "source": [
    "df[\"Overall, my feelings about the ECE department are\"].fillna(\"Did not specify\", inplace=True)"
   ]
  },
  {
   "cell_type": "code",
   "execution_count": null,
   "metadata": {},
   "outputs": [],
   "source": [
    "fig = px.pie(df, names=\"Overall, my feelings about the ECE department are\", color=\"Overall, my feelings about the ECE department are\")\n",
    "fig.update_traces(textinfo=\"percent+label\", hovertemplate=less_cringe_hovertext_template[\"pie\"][\"hovertemplate\"])"
   ]
  },
  {
   "attachments": {},
   "cell_type": "markdown",
   "metadata": {},
   "source": [
    "# ECE Mental Health"
   ]
  },
  {
   "attachments": {},
   "cell_type": "markdown",
   "metadata": {},
   "source": [
    "## During your time at UofT, have you experienced any of the following?"
   ]
  },
  {
   "cell_type": "code",
   "execution_count": null,
   "metadata": {},
   "outputs": [],
   "source": [
    "# data_checker(df[\"During your time at UofT, have you experienced any of the following?\"],\n",
    "#             check_unique=True)"
   ]
  },
  {
   "cell_type": "code",
   "execution_count": null,
   "metadata": {},
   "outputs": [],
   "source": [
    "df[\"During your time at UofT, have you experienced any of the following?\"].fillna(\"No answer\", inplace=True)"
   ]
  },
  {
   "cell_type": "code",
   "execution_count": null,
   "metadata": {},
   "outputs": [],
   "source": [
    "df_mental_experience = process_multiple_choice_survey(df[\"During your time at UofT, have you experienced any of the following?\"],\n",
    "                                                      column=\"mental\")"
   ]
  },
  {
   "cell_type": "code",
   "execution_count": null,
   "metadata": {},
   "outputs": [],
   "source": [
    "df_mental_experience_meta = get_percentages_for_multiple_choice_survey(df_mental_experience[\"mental\"])"
   ]
  },
  {
   "cell_type": "code",
   "execution_count": null,
   "metadata": {},
   "outputs": [],
   "source": [
    "fig = px.bar(df_mental_experience_meta, x=\"index\", y=\"count\", text=\"percentage\", color=\"index\", labels={\n",
    "      \"index\" :  \"Mental Disorder\"\n",
    "})\n",
    "fig.update_traces(hovertemplate=less_cringe_hovertext_template[\"bar\"][\"hovertemplate\"])\n",
    "fig.update_xaxes(title=\"\", showticklabels=False)\n",
    "fig.update_layout(showlegend=True, legend=dict(yanchor=\"top\", xanchor=\"right\", x=1, y=1))"
   ]
  },
  {
   "attachments": {},
   "cell_type": "markdown",
   "metadata": {},
   "source": [
    "## Which aspects, if any, contributed to your mental health negatively?\""
   ]
  },
  {
   "cell_type": "code",
   "execution_count": null,
   "metadata": {},
   "outputs": [],
   "source": [
    "# data_checker(df[\"Which aspects, if any, contributed to your mental health negatively?\"], check_unique=True)"
   ]
  },
  {
   "cell_type": "code",
   "execution_count": null,
   "metadata": {},
   "outputs": [],
   "source": [
    "df[\"Which aspects, if any, contributed to your mental health negatively?\"].fillna(\"No answer\", inplace=True)"
   ]
  },
  {
   "cell_type": "code",
   "execution_count": null,
   "metadata": {},
   "outputs": [],
   "source": [
    "df_mental_negative = process_multiple_choice_survey(df[\"Which aspects, if any, contributed to your mental health negatively?\"],\n",
    "                                                      column=\"mental_negative_impact\")"
   ]
  },
  {
   "cell_type": "code",
   "execution_count": null,
   "metadata": {},
   "outputs": [],
   "source": [
    "df_mental_negative_meta = get_percentages_for_multiple_choice_survey(df_mental_negative[\"mental_negative_impact\"])"
   ]
  },
  {
   "cell_type": "code",
   "execution_count": null,
   "metadata": {},
   "outputs": [],
   "source": [
    "fig = px.bar(df_mental_negative_meta, x=\"index\", y=\"count\", text=\"percentage\", color=\"index\", labels={\n",
    "      \"index\" :  \"Contributions to Negative Mental Health\"\n",
    "})\n",
    "fig.update_traces(hovertemplate=less_cringe_hovertext_template[\"bar\"][\"hovertemplate\"])\n",
    "fig.update_xaxes(title=\"\", showticklabels=False)\n",
    "fig.update_layout(showlegend=True, legend=dict(yanchor=\"top\", xanchor=\"right\", x=1, y=1))"
   ]
  },
  {
   "attachments": {},
   "cell_type": "markdown",
   "metadata": {},
   "source": [
    "## Have you sought out mental health support at the university?"
   ]
  },
  {
   "cell_type": "code",
   "execution_count": null,
   "metadata": {},
   "outputs": [],
   "source": [
    "# data_checker(df[\"Have you sought out mental health support at the university?\"], check_unique=True)"
   ]
  },
  {
   "cell_type": "code",
   "execution_count": null,
   "metadata": {},
   "outputs": [],
   "source": [
    "df[\"Have you sought out mental health support at the university?\"].fillna(\"No answer\", inplace=True)"
   ]
  },
  {
   "cell_type": "code",
   "execution_count": null,
   "metadata": {},
   "outputs": [],
   "source": [
    "fig = px.pie(df, names=\"Have you sought out mental health support at the university?\",\n",
    "       color=\"Have you sought out mental health support at the university?\")\n",
    "\n",
    "fig.update_traces(textinfo=\"label+percent\", hovertemplate=less_cringe_hovertext_template[\"pie\"][\"hovertemplate\"])"
   ]
  },
  {
   "attachments": {},
   "cell_type": "markdown",
   "metadata": {},
   "source": [
    "## Which mental health supports did you seek out?"
   ]
  },
  {
   "cell_type": "code",
   "execution_count": null,
   "metadata": {},
   "outputs": [],
   "source": [
    "# data_checker(df[\"Which mental health supports did you seek out?\"], check_unique=True)"
   ]
  },
  {
   "cell_type": "code",
   "execution_count": null,
   "metadata": {},
   "outputs": [],
   "source": [
    "df[\"Which mental health supports did you seek out?\"].fillna(\"No answer\", inplace=True)"
   ]
  },
  {
   "cell_type": "code",
   "execution_count": null,
   "metadata": {},
   "outputs": [],
   "source": [
    "df_mental_supports = process_multiple_choice_survey(df[\"Which mental health supports did you seek out?\"],\n",
    "                                                      column=\"supports\")"
   ]
  },
  {
   "cell_type": "code",
   "execution_count": null,
   "metadata": {},
   "outputs": [],
   "source": [
    "df_mental_supports = get_percentages_for_multiple_choice_survey(df_mental_supports[\"supports\"])"
   ]
  },
  {
   "cell_type": "code",
   "execution_count": null,
   "metadata": {},
   "outputs": [],
   "source": [
    "fig = px.bar(df_mental_supports, x=\"index\", y=\"count\", text=\"percentage\", color=\"index\", labels={\n",
    "      \"index\" :  \"Mental Health Resources\"\n",
    "})\n",
    "fig.update_traces(hovertemplate=less_cringe_hovertext_template[\"bar\"][\"hovertemplate\"])\n",
    "fig.update_xaxes(title=\"\", showticklabels=False)\n",
    "fig.update_layout(showlegend=True, legend=dict(yanchor=\"top\", xanchor=\"right\", x=1, y=1))"
   ]
  },
  {
   "attachments": {},
   "cell_type": "markdown",
   "metadata": {},
   "source": [
    "## Would you attribute changes in your mental health, if any, to your university experiences?"
   ]
  },
  {
   "cell_type": "code",
   "execution_count": null,
   "metadata": {},
   "outputs": [],
   "source": [
    "# data_checker(df[\"Would you attribute changes in your mental health, if any, to your university experiences?\"], check_unique=True)"
   ]
  },
  {
   "cell_type": "code",
   "execution_count": null,
   "metadata": {},
   "outputs": [],
   "source": [
    "df_mental_changes = df[\"Would you attribute changes in your mental health, if any, to your university experiences?\"].dropna()"
   ]
  },
  {
   "cell_type": "code",
   "execution_count": null,
   "metadata": {},
   "outputs": [],
   "source": [
    "fig_avg, fig = \\\n",
    "    create_rating_distributions(\"out of 5\", \n",
    "                                \"Mental Changes due to University Experiences<br><i>(Rating out of 5)</i>\",\n",
    "                                df_mental_changes)"
   ]
  },
  {
   "cell_type": "code",
   "execution_count": null,
   "metadata": {
    "tags": [
     "no_margin"
    ]
   },
   "outputs": [],
   "source": [
    "fig_avg.show()"
   ]
  },
  {
   "cell_type": "code",
   "execution_count": null,
   "metadata": {},
   "outputs": [],
   "source": [
    "fig.show()"
   ]
  },
  {
   "cell_type": "code",
   "execution_count": null,
   "metadata": {},
   "outputs": [],
   "source": [
    "data_checker(df[\"Do you think UofT has adequate mental health resources for students?\"], check_unique=True)"
   ]
  },
  {
   "cell_type": "code",
   "execution_count": null,
   "metadata": {},
   "outputs": [],
   "source": [
    "create_table(df, column=\"Do you think UofT has adequate mental health resources for students?\",\n",
    "            label=break_text(\"Do you think UofT has adequate mental health resources for students?\", char_limit=25))"
   ]
  },
  {
   "attachments": {},
   "cell_type": "markdown",
   "metadata": {},
   "source": [
    "# PEY Profile\n",
    "\n",
    "ECE2T2's PEY Experience"
   ]
  },
  {
   "attachments": {},
   "cell_type": "markdown",
   "metadata": {},
   "source": [
    "## Did you take a course over PEY?"
   ]
  },
  {
   "cell_type": "code",
   "execution_count": null,
   "metadata": {},
   "outputs": [],
   "source": [
    "# data_checker(df[\"Did you take a course over PEY?\"], check_unique=True)"
   ]
  },
  {
   "cell_type": "code",
   "execution_count": null,
   "metadata": {},
   "outputs": [],
   "source": [
    "df[\"Did you take a course over PEY?\"].fillna(\"Did not answer\", inplace=True)"
   ]
  },
  {
   "cell_type": "code",
   "execution_count": null,
   "metadata": {},
   "outputs": [],
   "source": [
    "fig = px.pie(df, names=\"Did you take a course over PEY?\", color=\"Did you take a course over PEY?\")\n",
    "fig.update_traces(hovertemplate=less_cringe_hovertext_template[\"pie\"][\"hovertemplate\"],\n",
    "                  textinfo=\"percent+label\")"
   ]
  },
  {
   "attachments": {},
   "cell_type": "markdown",
   "metadata": {},
   "source": [
    "## What area(s) did you do your PEY Co-op?"
   ]
  },
  {
   "cell_type": "code",
   "execution_count": null,
   "metadata": {},
   "outputs": [],
   "source": [
    "# data_checker(df[\"What area(s) did you do your PEY Co-op?\"], check_unique=True)"
   ]
  },
  {
   "cell_type": "code",
   "execution_count": null,
   "metadata": {},
   "outputs": [],
   "source": [
    "df[\"What area(s) did you do your PEY Co-op?\"].fillna(\"Did not specify\", inplace=True)"
   ]
  },
  {
   "cell_type": "code",
   "execution_count": null,
   "metadata": {},
   "outputs": [],
   "source": [
    "df_area = process_multiple_choice_survey(df[\"What area(s) did you do your PEY Co-op?\"], column=\"Area\")"
   ]
  },
  {
   "cell_type": "code",
   "execution_count": null,
   "metadata": {},
   "outputs": [],
   "source": [
    "generate_word_map(df_area[\"Area\"], file_path=\"./embed_images/PEY_Area_WordCloud.png\")"
   ]
  },
  {
   "cell_type": "code",
   "execution_count": null,
   "metadata": {
    "tags": [
     "no_margin"
    ]
   },
   "outputs": [],
   "source": [
    "fig = plot_word_map(\"./embed_images/PEY_Area_WordCloud.png\")\n",
    "fig.show()"
   ]
  },
  {
   "cell_type": "code",
   "execution_count": null,
   "metadata": {
    "tags": []
   },
   "outputs": [],
   "source": [
    "create_table(df_area, column=\"Area\", label=\"Top 10 Co-op Areas\", limit=10)"
   ]
  },
  {
   "attachments": {},
   "cell_type": "markdown",
   "metadata": {},
   "source": [
    "## Where did you do your PEY-Co-op?"
   ]
  },
  {
   "cell_type": "code",
   "execution_count": null,
   "metadata": {},
   "outputs": [],
   "source": [
    "# data_checker(df[\"Where did you do your PEY Co-op?\"], check_unique=True)"
   ]
  },
  {
   "cell_type": "code",
   "execution_count": null,
   "metadata": {},
   "outputs": [],
   "source": [
    "df[\"Where did you do your PEY Co-op?\"].fillna(\"Did not answer\", inplace=True)"
   ]
  },
  {
   "cell_type": "code",
   "execution_count": null,
   "metadata": {},
   "outputs": [],
   "source": [
    "fig = px.pie(df, names=\"Where did you do your PEY Co-op?\", color=\"Where did you do your PEY Co-op?\", hole=0.75)\n",
    "fig.update_traces(textinfo=\"label+percent\", hovertemplate=less_cringe_hovertext_template[\"pie\"][\"hovertemplate\"])"
   ]
  },
  {
   "attachments": {},
   "cell_type": "markdown",
   "metadata": {},
   "source": [
    "## What was your hourly pay for PEY?\n",
    "\n",
    "<i>Some higher pay values were truncated for box plot aesthetism</i>"
   ]
  },
  {
   "cell_type": "code",
   "execution_count": null,
   "metadata": {},
   "outputs": [],
   "source": [
    "# data_checker(df[\"What was your hourly pay for PEY?\"], check_unique=True)"
   ]
  },
  {
   "cell_type": "code",
   "execution_count": null,
   "metadata": {},
   "outputs": [],
   "source": [
    "\n",
    "fig = px.box(df, y=\"What was your hourly pay for PEY?\", notched=True, points=\"all\")\n",
    "fig.update_layout(yaxis_range=[20,40])\n",
    "fig.show()"
   ]
  },
  {
   "attachments": {},
   "cell_type": "markdown",
   "metadata": {},
   "source": [
    "## Who was your employer?\n",
    "\n",
    "I dropped people who did not answer"
   ]
  },
  {
   "cell_type": "code",
   "execution_count": null,
   "metadata": {},
   "outputs": [],
   "source": [
    "# data_checker(df[\"Who was your employer?\"], check_unique=True)"
   ]
  },
  {
   "cell_type": "code",
   "execution_count": null,
   "metadata": {},
   "outputs": [],
   "source": [
    "employer_series = df[\"Who was your employer?\"]"
   ]
  },
  {
   "cell_type": "code",
   "execution_count": null,
   "metadata": {},
   "outputs": [],
   "source": [
    "employer_series.dropna(inplace=True)"
   ]
  },
  {
   "cell_type": "code",
   "execution_count": null,
   "metadata": {},
   "outputs": [],
   "source": [
    "df_employer = process_multiple_choice_survey(employer_series, column=\"employer\")"
   ]
  },
  {
   "cell_type": "code",
   "execution_count": null,
   "metadata": {},
   "outputs": [],
   "source": [
    "generate_word_map(df_employer[\"employer\"], file_path=\"./embed_images/PEY_Employer_WordCloud.png\")"
   ]
  },
  {
   "cell_type": "code",
   "execution_count": null,
   "metadata": {
    "tags": [
     "no_margin"
    ]
   },
   "outputs": [],
   "source": [
    "fig = plot_word_map(file_path=\"./embed_images/PEY_Employer_WordCloud.png\")\n",
    "fig.show()"
   ]
  },
  {
   "cell_type": "code",
   "execution_count": null,
   "metadata": {
    "tags": []
   },
   "outputs": [],
   "source": [
    "create_table(df_employer, column=\"employer\", label=\"TOP 10 Employers\", limit=10)"
   ]
  },
  {
   "attachments": {},
   "cell_type": "markdown",
   "metadata": {},
   "source": [
    "## ECE2T2's Ratings of Their Work Experience"
   ]
  },
  {
   "cell_type": "code",
   "execution_count": null,
   "metadata": {},
   "outputs": [],
   "source": [
    "# data_checker(df[\"Please rate your work term experience. \"], check_unique=True)"
   ]
  },
  {
   "cell_type": "code",
   "execution_count": null,
   "metadata": {},
   "outputs": [],
   "source": [
    "fig = px.histogram(df, x=\"Please rate your work term experience. \", color=\"Please rate your work term experience. \")\n",
    "fig.update_xaxes(title=\"Rating out of 10\")\n",
    "fig.update_traces(hovertemplate=less_cringe_hovertext_template[\"histogram\"][\"hovertemplate\"])"
   ]
  },
  {
   "attachments": {},
   "cell_type": "markdown",
   "metadata": {},
   "source": [
    "## Out of 10, Did ECE2T2's Think That the Pandemic Affeted Their Job Search for PEY Co-op Negatively?"
   ]
  },
  {
   "cell_type": "code",
   "execution_count": null,
   "metadata": {},
   "outputs": [],
   "source": [
    "data_checker(df[\"Do you think that the pandemic affected your search for a PEY Co-op negatively?\"], check_unique=True)"
   ]
  },
  {
   "cell_type": "code",
   "execution_count": null,
   "metadata": {},
   "outputs": [],
   "source": [
    "fig = px.histogram(df, x=\"Do you think that the pandemic affected your search for a PEY Co-op negatively?\", \n",
    "                   color=\"Do you think that the pandemic affected your search for a PEY Co-op negatively?\")\n",
    "fig.update_xaxes(title=\"Rating out of 10\")\n",
    "fig.update_traces(hovertemplate=less_cringe_hovertext_template[\"histogram\"][\"hovertemplate\"])"
   ]
  },
  {
   "cell_type": "code",
   "execution_count": null,
   "metadata": {},
   "outputs": [],
   "source": [
    "# data_checker(df[\"Will you be returning to your past PEY employer?\"], check_unique=True)"
   ]
  },
  {
   "attachments": {},
   "cell_type": "markdown",
   "metadata": {},
   "source": [
    "## Will ECE2T2's Be Returning to Their Past PEY Employer?"
   ]
  },
  {
   "cell_type": "code",
   "execution_count": null,
   "metadata": {},
   "outputs": [],
   "source": [
    "df[\"Will you be returning to your past PEY employer?\"].fillna(\"Did not answer\", inplace=True)"
   ]
  },
  {
   "cell_type": "code",
   "execution_count": null,
   "metadata": {},
   "outputs": [],
   "source": [
    "create_table(df, column=\"Will you be returning to your past PEY employer?\", label=\"\")"
   ]
  },
  {
   "attachments": {},
   "cell_type": "markdown",
   "metadata": {},
   "source": [
    "# After-Grad Life"
   ]
  },
  {
   "cell_type": "code",
   "execution_count": null,
   "metadata": {},
   "outputs": [],
   "source": [
    "# data_checker(df[\"After graduation, my next step is..\"], check_unique=True)"
   ]
  },
  {
   "cell_type": "code",
   "execution_count": null,
   "metadata": {},
   "outputs": [],
   "source": [
    "df[\"After graduation, my next step is..\"].fillna(\"Did not answer\", inplace=True)"
   ]
  },
  {
   "cell_type": "code",
   "execution_count": null,
   "metadata": {},
   "outputs": [],
   "source": [
    "fig = px.pie(df, names=\"After graduation, my next step is..\", color=\"After graduation, my next step is..\",\n",
    "             hole=0.4)\n",
    "fig.update_traces(textinfo=\"label+percent\",\n",
    "                  textposition=\"outside\",\n",
    "                  hovertemplate=less_cringe_hovertext_template[\"pie\"][\"hovertemplate\"],\n",
    "                  )"
   ]
  },
  {
   "attachments": {},
   "cell_type": "markdown",
   "metadata": {},
   "source": [
    "## Will you obtain your Professional Engineering (P.Eng) designation?"
   ]
  },
  {
   "cell_type": "code",
   "execution_count": null,
   "metadata": {},
   "outputs": [],
   "source": [
    "# data_checker(df[\"Will you obtain your Professional Engineering (P.Eng) designation?\"], check_unique=True)"
   ]
  },
  {
   "cell_type": "code",
   "execution_count": null,
   "metadata": {},
   "outputs": [],
   "source": [
    "df[\"Will you obtain your Professional Engineering (P.Eng) designation?\"].fillna(\"Did not answer\", inplace=True)"
   ]
  },
  {
   "cell_type": "code",
   "execution_count": null,
   "metadata": {},
   "outputs": [],
   "source": [
    "create_table(df, column=\"Will you obtain your Professional Engineering (P.Eng) designation?\", label=\"\")"
   ]
  },
  {
   "attachments": {},
   "cell_type": "markdown",
   "metadata": {},
   "source": [
    "## If you are doing grad school, where will you study?\n",
    "\n",
    "At the time of the survey response, not everyone was set on going to grad school or they were waiting for confirmation of enrollment, so not everyone currently going to grad school answered."
   ]
  },
  {
   "cell_type": "code",
   "execution_count": null,
   "metadata": {},
   "outputs": [],
   "source": [
    "# data_checker(df[\"If you are doing grad school, where will you study?\"], check_unique=True)"
   ]
  },
  {
   "cell_type": "code",
   "execution_count": null,
   "metadata": {},
   "outputs": [],
   "source": [
    "df_where_to_study = df[\"If you are doing grad school, where will you study?\"].dropna()"
   ]
  },
  {
   "cell_type": "code",
   "execution_count": null,
   "metadata": {},
   "outputs": [],
   "source": [
    "df_where_to_study"
   ]
  },
  {
   "cell_type": "code",
   "execution_count": null,
   "metadata": {},
   "outputs": [],
   "source": [
    "fig = px.pie(df_where_to_study, names=\"If you are doing grad school, where will you study?\")\n",
    "fig.update_traces(texttemplate=\"%{label}<br>%{value} (%{percent})\")"
   ]
  },
  {
   "attachments": {},
   "cell_type": "markdown",
   "metadata": {},
   "source": [
    "# After-Grad Life: Employment"
   ]
  },
  {
   "attachments": {},
   "cell_type": "markdown",
   "metadata": {},
   "source": [
    "## Regardless of your current circumstance, where do you prefer for your Full-Time job to be?"
   ]
  },
  {
   "cell_type": "code",
   "execution_count": null,
   "metadata": {},
   "outputs": [],
   "source": [
    "# data_checker(df[\"Regardless of your current circumstance, where do you prefer for your Full-Time job to be?\"],\n",
    "#              check_unique=True)"
   ]
  },
  {
   "cell_type": "code",
   "execution_count": null,
   "metadata": {},
   "outputs": [],
   "source": [
    "df[\"Regardless of your current circumstance, where do you prefer for your Full-Time job to be?\"].fillna(\"No Answer\", inplace=True)"
   ]
  },
  {
   "cell_type": "code",
   "execution_count": null,
   "metadata": {},
   "outputs": [],
   "source": [
    "fig = px.pie(df, names=\"Regardless of your current circumstance, where do you prefer for your Full-Time job to be?\")\n",
    "fig.update_traces(texttemplate=\"%{label}<br>%{value} (%{percent})\", textposition=\"inside\")\n",
    "fig.update_layout(margin=dict(l=0, r=0, t=0, b=0))\n",
    "fig.show(renderer=\"svg\", length=600, height=600)"
   ]
  },
  {
   "cell_type": "code",
   "execution_count": null,
   "metadata": {},
   "outputs": [],
   "source": [
    "# data_checker(df[\"If you are working, what is your Full-Time Base Salary for your role?\"],\n",
    "#              check_unique=True)"
   ]
  },
  {
   "cell_type": "code",
   "execution_count": null,
   "metadata": {},
   "outputs": [],
   "source": [
    "# df[\"Currency: USD, CAD, EUR (1)\"]"
   ]
  },
  {
   "cell_type": "code",
   "execution_count": null,
   "metadata": {
    "tags": [
     "no_margin"
    ]
   },
   "outputs": [],
   "source": [
    "# px.box(df, x=\"If you are working, what is your Full-Time Base Salary for your role?\", points=\"all\")"
   ]
  },
  {
   "attachments": {},
   "cell_type": "markdown",
   "metadata": {},
   "source": [
    "No, I'm not the one who answered that I'm making $0 for my role, even though I am technically making $0 too working on this survey, so <i>$0 guy</i>, I appreciate you for standing up to evil corporate power HAHAHAHAHAHAH cuz I, am a victim of it too. I was once too afraid to stand up, but now you have given me voice and reason. I commend you comrade. "
   ]
  },
  {
   "attachments": {},
   "cell_type": "markdown",
   "metadata": {},
   "source": [
    "## What company are you going to for Full-Time Work?"
   ]
  },
  {
   "cell_type": "code",
   "execution_count": null,
   "metadata": {},
   "outputs": [],
   "source": [
    "# data_checker(df[\"Which company are you going to for Full-Time work?\"], check_unique=True)"
   ]
  },
  {
   "cell_type": "code",
   "execution_count": null,
   "metadata": {},
   "outputs": [],
   "source": [
    "df[\"Which company are you going to for Full-Time work?\"] = \\\n",
    "    df[\"Which company are you going to for Full-Time work?\"].str.strip()"
   ]
  },
  {
   "cell_type": "code",
   "execution_count": null,
   "metadata": {},
   "outputs": [],
   "source": [
    "df_full_time_employer = df[\"Which company are you going to for Full-Time work?\"].dropna()"
   ]
  },
  {
   "cell_type": "code",
   "execution_count": null,
   "metadata": {},
   "outputs": [],
   "source": [
    "generate_word_map(df_full_time_employer, \n",
    "                  file_path=\"./embed_images/Full_Time_Employer_WordCloud.png\")"
   ]
  },
  {
   "cell_type": "code",
   "execution_count": null,
   "metadata": {
    "tags": [
     "no_margin"
    ]
   },
   "outputs": [],
   "source": [
    "plot_word_map(\"./embed_images/Full_Time_Employer_WordCloud.png\")"
   ]
  },
  {
   "cell_type": "code",
   "execution_count": null,
   "metadata": {},
   "outputs": [],
   "source": [
    "create_table(pd.DataFrame({\"Full Time Employer\": df_full_time_employer.tolist()}), column=\"Full Time Employer\", label=\"TOP 10 Full-Time Employers\",\n",
    "limit=10)"
   ]
  },
  {
   "attachments": {},
   "cell_type": "markdown",
   "metadata": {},
   "source": [
    "## When did you start and finish your Full-Time Job Search?\n",
    "\n",
    "For everyone who indicated a start time, but didn't indicate an end time, I imputed an end time with the date of the survey's publification (June 1st).\n",
    "\n",
    "The earliest result for this survey was collected on *Insert Data Here*"
   ]
  },
  {
   "cell_type": "code",
   "execution_count": null,
   "metadata": {},
   "outputs": [],
   "source": [
    "# data_checker(df[\"When did you start your Full-Time Job Search?\"], check_unique=True)"
   ]
  },
  {
   "cell_type": "code",
   "execution_count": null,
   "metadata": {},
   "outputs": [],
   "source": [
    "# data_checker(df[\"When did you stop your your Full-Time Job Search?\"], check_unique=True)"
   ]
  },
  {
   "cell_type": "code",
   "execution_count": null,
   "metadata": {},
   "outputs": [],
   "source": [
    "df_start_end_job_search = df[[\"Respondent ID\", \"When did you start your Full-Time Job Search?\",\n",
    "                              \"When did you stop your your Full-Time Job Search?\"]]\n",
    "\n",
    "df_start_end_job_search.columns = [\"Task\", \"Start\", \"Finish\"]"
   ]
  },
  {
   "cell_type": "code",
   "execution_count": null,
   "metadata": {},
   "outputs": [],
   "source": [
    "df_start_end_job_search[\"Finish\"].fillna(str(datetime.now()).split()[0], inplace=True)"
   ]
  },
  {
   "cell_type": "code",
   "execution_count": null,
   "metadata": {
    "tags": [
     "no_margin"
    ]
   },
   "outputs": [],
   "source": [
    "fig = px.timeline(df_start_end_job_search, x_start=\"Start\", x_end=\"Finish\", y=\"Task\", color=\"Task\")\n",
    "fig.update_yaxes(showticklabels=False, showgrid=False, title=\"ECE2T2 Student\")\n",
    "fig.update_traces(hovertemplate=\"<b>Start</b>: %{base}<br><b>Finish:</b> %{x}<extra></extra>\")\n",
    "fig.update_layout(title_text=\"\", height=1000)\n",
    "fig.show()"
   ]
  },
  {
   "attachments": {},
   "cell_type": "markdown",
   "metadata": {},
   "source": [
    "Props to all of y'all who wrapped up your job search.\n",
    "Also giving flowers to those who are working hard to find a job in the present.\n",
    "\n",
    "To the person who claims to have ended their job search in Sep 2023, either you are one cocky engineer, or you were offered a job but still want to look for other options until the said date."
   ]
  },
  {
   "attachments": {},
   "cell_type": "markdown",
   "metadata": {},
   "source": [
    "## Are you returning to companies you have previously worked at?"
   ]
  },
  {
   "cell_type": "code",
   "execution_count": null,
   "metadata": {},
   "outputs": [],
   "source": [
    "# data_checker(df[\"Are you returning to the company where you did your PEY? \"], check_unique=True)"
   ]
  },
  {
   "cell_type": "code",
   "execution_count": null,
   "metadata": {},
   "outputs": [],
   "source": [
    "# data_checker(df[\"Are you returning to the company where you did a summer internship? \"], check_unique=True)"
   ]
  },
  {
   "cell_type": "code",
   "execution_count": null,
   "metadata": {},
   "outputs": [],
   "source": [
    "create_table_with_dropdown(df, columns=[\"Are you returning to the company where you did your PEY? \", \n",
    "                          \"Are you returning to the company where you did a summer internship? \"])"
   ]
  },
  {
   "attachments": {},
   "cell_type": "markdown",
   "metadata": {},
   "source": [
    "## What are the reasons you chose your Full-Time Job?"
   ]
  },
  {
   "cell_type": "code",
   "execution_count": null,
   "metadata": {},
   "outputs": [],
   "source": [
    "# data_checker(df[\"What are the reasons you chose your Full-Time Job?\"])"
   ]
  },
  {
   "cell_type": "code",
   "execution_count": null,
   "metadata": {},
   "outputs": [],
   "source": [
    "df[\"What are the reasons you chose your Full-Time Job?\"].fillna(\"Did not specify\", inplace=True)"
   ]
  },
  {
   "cell_type": "code",
   "execution_count": null,
   "metadata": {},
   "outputs": [],
   "source": [
    "df_reason_full_time = process_multiple_choice_survey(df[\"What are the reasons you chose your Full-Time Job?\"], column=\"Reason_Full_Time\")"
   ]
  },
  {
   "cell_type": "code",
   "execution_count": null,
   "metadata": {},
   "outputs": [],
   "source": [
    "fig = px.histogram(df_reason_full_time, y=\"Reason_Full_Time\",\n",
    "       color=\"Reason_Full_Time\")\n",
    "fig.update_yaxes(categoryorder=\"total ascending\", title=\"\")\n",
    "fig.update_traces(hovertemplate=less_cringe_hovertext_template[\"histogram_h\"][\"hovertemplate\"])\n",
    "fig.update_layout(font=dict(size=13))"
   ]
  },
  {
   "attachments": {},
   "cell_type": "markdown",
   "metadata": {},
   "source": [
    "# After-Grad Life: Financial Situation\n",
    "\n",
    "How much debt are you graduating with?\n",
    "How much of your tuition did you pay on your own (%) ?\n",
    "Did you receive OSAP at least once?\n",
    "Did you receive UTAPS at least once?\n",
    "Would you consider donating to UofT in the future?"
   ]
  },
  {
   "attachments": {},
   "cell_type": "markdown",
   "metadata": {},
   "source": [
    "## How much debt are you graduating with?"
   ]
  },
  {
   "cell_type": "code",
   "execution_count": null,
   "metadata": {},
   "outputs": [],
   "source": [
    "# data_checker(df[\"How much debt are you graduating with?\"], check_unique=True)"
   ]
  },
  {
   "cell_type": "code",
   "execution_count": null,
   "metadata": {},
   "outputs": [],
   "source": [
    "fig = px.histogram(df, y=\"How much debt are you graduating with?\")\n",
    "fig.update_traces(hovertemplate=less_cringe_hovertext_template[\"histogram_h\"][\"hovertemplate\"])\n",
    "fig.show()"
   ]
  },
  {
   "attachments": {},
   "cell_type": "markdown",
   "metadata": {},
   "source": [
    "## How much of your tuition did you pay on your own (%) ?"
   ]
  },
  {
   "cell_type": "code",
   "execution_count": null,
   "metadata": {},
   "outputs": [],
   "source": [
    "data_checker(df[\"How much of your tuition did you pay on your own (%) ?\"], check_unique=True)"
   ]
  },
  {
   "cell_type": "code",
   "execution_count": null,
   "metadata": {},
   "outputs": [],
   "source": [
    "px.histogram(df, x=\"How much of your tuition did you pay on your own (%) ?\", nbins=10)"
   ]
  },
  {
   "attachments": {},
   "cell_type": "markdown",
   "metadata": {},
   "source": [
    "## Other Financial Profiles"
   ]
  },
  {
   "cell_type": "code",
   "execution_count": null,
   "metadata": {},
   "outputs": [],
   "source": [
    "# data_checker(df[\"Did you receive OSAP at least once?\"], check_unique=True)"
   ]
  },
  {
   "cell_type": "code",
   "execution_count": null,
   "metadata": {},
   "outputs": [],
   "source": [
    "df[\"Did you receive OSAP at least once?\"].fillna(\"Did not specify\", inplace=True)"
   ]
  },
  {
   "cell_type": "code",
   "execution_count": null,
   "metadata": {},
   "outputs": [],
   "source": [
    "# data_checker(df[\"Did you receive UTAPS at least once?\"], check_unique=True)"
   ]
  },
  {
   "cell_type": "code",
   "execution_count": null,
   "metadata": {},
   "outputs": [],
   "source": [
    "df[\"Did you receive UTAPS at least once?\"].fillna(\"Did not specify\", inplace=True)"
   ]
  },
  {
   "cell_type": "code",
   "execution_count": null,
   "metadata": {},
   "outputs": [],
   "source": [
    "# data_checker(df[\"Would you consider donating to UofT in the future?\"], check_unique=True)"
   ]
  },
  {
   "cell_type": "code",
   "execution_count": null,
   "metadata": {},
   "outputs": [],
   "source": [
    "df[\"Would you consider donating to UofT in the future?\"].fillna(\"Did not specify\", inplace=True)"
   ]
  },
  {
   "cell_type": "code",
   "execution_count": null,
   "metadata": {},
   "outputs": [],
   "source": [
    "create_table_with_dropdown(df, columns=[\"Did you receive OSAP at least once?\", \"Did you receive UTAPS at least once?\",\n",
    "                          \"Would you consider donating to UofT in the future?\"], reindex=[False, True, True],\n",
    "                          reindex_orders=[None, [\"yes\", \"no\", \"Did not specify\"], [\"yes\", \"no\", \"Did not specify\"]])"
   ]
  },
  {
   "attachments": {},
   "cell_type": "markdown",
   "metadata": {},
   "source": [
    "# After-Grad Life: Miscellnaneous"
   ]
  },
  {
   "attachments": {},
   "cell_type": "markdown",
   "metadata": {},
   "source": [
    "## What will you do after an ECE-related career, apart from retirement?"
   ]
  },
  {
   "cell_type": "code",
   "execution_count": null,
   "metadata": {},
   "outputs": [],
   "source": [
    "# data_checker(df[\"What will you do after an ECE-related career, apart from retirement? \"], check_unique=True)"
   ]
  },
  {
   "cell_type": "code",
   "execution_count": null,
   "metadata": {},
   "outputs": [],
   "source": [
    "df[\"What will you do after an ECE-related career, apart from retirement? \"] = \\\n",
    "    df[\"What will you do after an ECE-related career, apart from retirement? \"].str.strip()"
   ]
  },
  {
   "cell_type": "code",
   "execution_count": null,
   "metadata": {},
   "outputs": [],
   "source": [
    "df[\"What will you do after an ECE-related career, apart from retirement? \"].dropna(inplace=True)"
   ]
  },
  {
   "cell_type": "code",
   "execution_count": null,
   "metadata": {},
   "outputs": [],
   "source": [
    "create_table(df, column=\"What will you do after an ECE-related career, apart from retirement? \", label=\"\")"
   ]
  },
  {
   "attachments": {},
   "cell_type": "markdown",
   "metadata": {},
   "source": [
    "## Are you planning to do Grad Trip?"
   ]
  },
  {
   "cell_type": "code",
   "execution_count": null,
   "metadata": {},
   "outputs": [],
   "source": [
    "data_checker(df[\"Are you planning to do Grad Trip?\"], check_unique=True)"
   ]
  },
  {
   "cell_type": "code",
   "execution_count": null,
   "metadata": {},
   "outputs": [],
   "source": [
    "df[\"Are you planning to do Grad Trip?\"].fillna(\"Did not specify\", inplace=True)"
   ]
  },
  {
   "cell_type": "code",
   "execution_count": null,
   "metadata": {},
   "outputs": [],
   "source": [
    "create_table(df, column=\"Are you planning to do Grad Trip?\", label=\"\")"
   ]
  },
  {
   "attachments": {},
   "cell_type": "markdown",
   "metadata": {},
   "source": [
    "## Post-Grad Contentness, Out of 5"
   ]
  },
  {
   "cell_type": "code",
   "execution_count": null,
   "metadata": {},
   "outputs": [],
   "source": [
    "data_checker(df[\"Please score your post-grad contentedness\"], check_unique=True)"
   ]
  },
  {
   "cell_type": "code",
   "execution_count": null,
   "metadata": {},
   "outputs": [],
   "source": [
    "df_post_grad_contentedness = df[\"Please score your post-grad contentedness\"].dropna()"
   ]
  },
  {
   "cell_type": "code",
   "execution_count": null,
   "metadata": {},
   "outputs": [],
   "source": [
    "df_post_grad_contentedness = df_post_grad_contentedness.astype(str)"
   ]
  },
  {
   "cell_type": "code",
   "execution_count": null,
   "metadata": {},
   "outputs": [],
   "source": [
    "fig = px.histogram(df_post_grad_contentedness)\n",
    "fig.update_xaxes(categoryorder=\"array\", categoryarray=df_post_grad_contentedness.sort_values().unique(),\n",
    "                 title=\"\")\n",
    "fig.update_traces(hovertemplate=less_cringe_hovertext_template[\"histogram\"][\"hovertemplate\"])"
   ]
  },
  {
   "attachments": {},
   "cell_type": "markdown",
   "metadata": {},
   "source": [
    "# Habits and Preferences"
   ]
  },
  {
   "attachments": {},
   "cell_type": "markdown",
   "metadata": {},
   "source": [
    "## How many hours a week do you spend with your parents (online/digitally)?"
   ]
  },
  {
   "cell_type": "code",
   "execution_count": null,
   "metadata": {},
   "outputs": [],
   "source": [
    "# data_checker(df[\"How many hours a week do you spend with your parents (online/digitally)?\"], check_unique=True)"
   ]
  },
  {
   "cell_type": "code",
   "execution_count": null,
   "metadata": {},
   "outputs": [],
   "source": [
    "df_hours_with_parents = df[\"How many hours a week do you spend with your parents (online/digitally)?\"].dropna()"
   ]
  },
  {
   "cell_type": "code",
   "execution_count": null,
   "metadata": {},
   "outputs": [],
   "source": [
    "df_hours_with_parents_str = df_hours_with_parents.astype(str)"
   ]
  },
  {
   "cell_type": "code",
   "execution_count": null,
   "metadata": {},
   "outputs": [],
   "source": [
    "fig = px.histogram(df_hours_with_parents_str, color=\"value\")\n",
    "fig.update_traces(hovertemplate=less_cringe_hovertext_template[\"histogram\"][\"hovertemplate\"])\n",
    "fig.update_xaxes(title=\"hours\", categoryorder=\"array\", categoryarray=df_hours_with_parents.sort_values().astype(str))\n",
    "fig.add_vline(x=2.5, line_width=3, line_dash=\"dash\", line_color=\"green\")\n",
    "fig.add_annotation(x=2.5, y=12, text=f\"Average: {format(df_hours_with_parents.mean(), '.2f')} hours<br>a week\", ax=10, xanchor=\"left\")\n",
    "fig.add_annotation(xref=\"paper\", yref=\"paper\", xanchor=\"right\", x=1, y=-0.15, ax=0, ay=0, \n",
    "                   text=f\"Sample Size: {len(df_hours_with_parents)}\")"
   ]
  },
  {
   "attachments": {},
   "cell_type": "markdown",
   "metadata": {},
   "source": [
    "## How many hours a week do you spend with your parents (in-person)?"
   ]
  },
  {
   "cell_type": "code",
   "execution_count": null,
   "metadata": {},
   "outputs": [],
   "source": [
    "# data_checker(df[\"How many hours a week do you spend with your parents (in-person)?\"], check_unique=True)"
   ]
  },
  {
   "cell_type": "code",
   "execution_count": null,
   "metadata": {},
   "outputs": [],
   "source": [
    "df_hours_with_parents_in_person = df[\"How many hours a week do you spend with your parents (in-person)?\"].dropna()"
   ]
  },
  {
   "cell_type": "code",
   "execution_count": null,
   "metadata": {},
   "outputs": [],
   "source": [
    "df_hours_with_parents_in_person_str = df_hours_with_parents_in_person.astype(str)"
   ]
  },
  {
   "cell_type": "code",
   "execution_count": null,
   "metadata": {},
   "outputs": [],
   "source": [
    "fig = px.histogram(df_hours_with_parents_in_person_str, color=\"value\")\n",
    "fig.update_traces(hovertemplate=less_cringe_hovertext_template[\"histogram\"][\"hovertemplate\"])\n",
    "fig.update_xaxes(title=\"hours\", categoryorder=\"array\", categoryarray=df_hours_with_parents_in_person.sort_values().astype(str))\n",
    "fig.add_vline(x=5.55, line_width=3, line_dash=\"dash\", line_color=\"green\")\n",
    "fig.add_annotation(x=5.55, y=12, text=f\"Average: {format(df_hours_with_parents_in_person.mean(), '.2f')} hours<br>a week\", ax=10, xanchor=\"left\")\n",
    "fig.add_annotation(xref=\"paper\", yref=\"paper\", xanchor=\"right\", x=1, y=-0.15, ax=0, ay=0, \n",
    "                   text=f\"Sample Size: {len(df_hours_with_parents_in_person)}\")"
   ]
  },
  {
   "attachments": {},
   "cell_type": "markdown",
   "metadata": {},
   "source": [
    "## How often do you exercise?"
   ]
  },
  {
   "cell_type": "code",
   "execution_count": null,
   "metadata": {},
   "outputs": [],
   "source": [
    "# data_checker(df[\"How often do you exercise?\"], check_unique=True)"
   ]
  },
  {
   "cell_type": "code",
   "execution_count": null,
   "metadata": {},
   "outputs": [],
   "source": [
    "df[\"How often do you exercise?\"].fillna(\"Did not say\", inplace=True)"
   ]
  },
  {
   "cell_type": "code",
   "execution_count": null,
   "metadata": {},
   "outputs": [],
   "source": [
    "fig = px.pie(df, names=\"How often do you exercise?\", color=\"How often do you exercise?\")\n",
    "fig.update_traces(textinfo=\"label+percent\", hovertemplate=less_cringe_hovertext_template[\"pie\"][\"hovertemplate\"])\n",
    "fig.show()"
   ]
  },
  {
   "attachments": {},
   "cell_type": "markdown",
   "metadata": {},
   "source": [
    "## What types of physical activity do you do?"
   ]
  },
  {
   "cell_type": "code",
   "execution_count": null,
   "metadata": {},
   "outputs": [],
   "source": [
    "# data_checker(df[\"What types of physical activity do you do?\"], check_unique=True)"
   ]
  },
  {
   "cell_type": "code",
   "execution_count": null,
   "metadata": {},
   "outputs": [],
   "source": [
    "df_activity = df[\"What types of physical activity do you do?\"].dropna()"
   ]
  },
  {
   "cell_type": "code",
   "execution_count": null,
   "metadata": {},
   "outputs": [],
   "source": [
    "df_activity_processed = process_multiple_choice_survey(df_activity, column=\"activity\", delimeter=\",\")"
   ]
  },
  {
   "cell_type": "code",
   "execution_count": null,
   "metadata": {},
   "outputs": [],
   "source": [
    "df_activity_cleaned = df_activity_processed[\"activity\"].str.lower().str.strip().sort_values()"
   ]
  },
  {
   "cell_type": "code",
   "execution_count": null,
   "metadata": {},
   "outputs": [],
   "source": [
    "# df_activity_cleaned.sort_values().unique()"
   ]
  },
  {
   "cell_type": "code",
   "execution_count": null,
   "metadata": {},
   "outputs": [],
   "source": [
    "df_activity_manual_cluster = df_activity_cleaned.replace([\"go to the gym\", \"gym\", \"gyming\", \"gymming\"], \"gym\") \\\n",
    "                   .replace([\"walk\", \"walking\"], \"walking\") \\\n",
    "                   .replace([\"weight lifting\", \"weight-lifting\", \"weightlifting\"], \"weightlifting\") \\\n",
    "                   .replace([\"working out\", \"workout\"], \"workout\")"
   ]
  },
  {
   "cell_type": "code",
   "execution_count": null,
   "metadata": {},
   "outputs": [],
   "source": [
    "fig = create_table(df_activity_manual_cluster.reset_index(), column=\"activity\", \n",
    "                   label=f\"Physical<br>Activities<br><i>(Sample Size:{len(df_activity)})</i>\")\n",
    "fig"
   ]
  },
  {
   "attachments": {},
   "cell_type": "markdown",
   "metadata": {},
   "source": [
    "## How often do you cook for yourself?"
   ]
  },
  {
   "cell_type": "code",
   "execution_count": null,
   "metadata": {},
   "outputs": [],
   "source": [
    "data_checker(df[\"How often do you cook for yourself?\"], check_unique=True)"
   ]
  },
  {
   "cell_type": "code",
   "execution_count": null,
   "metadata": {},
   "outputs": [],
   "source": [
    "df[\"How often do you cook for yourself?\"].fillna(\"Not sure\", inplace=True)"
   ]
  },
  {
   "cell_type": "code",
   "execution_count": null,
   "metadata": {},
   "outputs": [],
   "source": [
    "fig = px.pie(df, names=\"How often do you cook for yourself?\")\n",
    "fig.update_traces(textinfo=\"percent+label\", hovertemplate=less_cringe_hovertext_template[\"pie\"][\"hovertemplate\"])"
   ]
  },
  {
   "attachments": {},
   "cell_type": "markdown",
   "metadata": {},
   "source": [
    "## Where do you get groceries from?"
   ]
  },
  {
   "cell_type": "code",
   "execution_count": null,
   "metadata": {},
   "outputs": [],
   "source": [
    "df[\"Where do you get groceries from?\"].fillna(\"Did not say\", inplace=True)"
   ]
  },
  {
   "cell_type": "code",
   "execution_count": null,
   "metadata": {},
   "outputs": [],
   "source": [
    "df_groceries = process_multiple_choice_survey(df[\"Where do you get groceries from?\"], column=\"groceries\")"
   ]
  },
  {
   "cell_type": "code",
   "execution_count": null,
   "metadata": {},
   "outputs": [],
   "source": [
    "groceries_matrix = generate_sim_matrix(df_groceries[\"groceries\"])"
   ]
  },
  {
   "cell_type": "code",
   "execution_count": null,
   "metadata": {},
   "outputs": [],
   "source": [
    "# groceries_matrix_cleaned = remove_unique(groceries_matrix)\n",
    "# ap_cluster = fit_data(groceries_matrix_cleaned)\n",
    "# generate_replacement_file(ap_cluster, groceries_matrix_cleaned, output_file=\"./survey_text_replacements/Groceries.json\")"
   ]
  },
  {
   "cell_type": "code",
   "execution_count": null,
   "metadata": {},
   "outputs": [],
   "source": [
    "# execute_replacements(df, column, infile=\"./survey_text_replacements/Groceries.json\")"
   ]
  },
  {
   "cell_type": "code",
   "execution_count": null,
   "metadata": {},
   "outputs": [],
   "source": [
    "data_checker(df[\"Where do you get groceries from?\"], check_unique=True)"
   ]
  },
  {
   "cell_type": "code",
   "execution_count": null,
   "metadata": {},
   "outputs": [],
   "source": [
    "df[\"Where do you get groceries from?\"].fillna(\"No answer\", inplace=True)"
   ]
  },
  {
   "cell_type": "code",
   "execution_count": null,
   "metadata": {},
   "outputs": [],
   "source": [
    "df_grocery_where = process_multiple_choice_survey(df[\"Where do you get groceries from?\"])"
   ]
  },
  {
   "cell_type": "code",
   "execution_count": null,
   "metadata": {},
   "outputs": [],
   "source": [
    "df_grocery_where[\"substance\"].sort_values().unique()"
   ]
  },
  {
   "cell_type": "code",
   "execution_count": null,
   "metadata": {},
   "outputs": [],
   "source": [
    "data_checker(df[\"Eating on campus! Where are your favourite places to eat on campus?\"], check_unique=True)"
   ]
  },
  {
   "cell_type": "code",
   "execution_count": null,
   "metadata": {},
   "outputs": [],
   "source": [
    "data_checker(df[\"Do you budget your money\"], check_unique=True)"
   ]
  },
  {
   "cell_type": "code",
   "execution_count": null,
   "metadata": {},
   "outputs": [],
   "source": [
    "data_checker(df[\"What makes you happy?\"], check_unique=True)"
   ]
  },
  {
   "cell_type": "code",
   "execution_count": null,
   "metadata": {},
   "outputs": [],
   "source": [
    "data_checker(df[\"What are some hobbies that you picked up during the last 5 years?\"], check_unique=True)"
   ]
  },
  {
   "cell_type": "code",
   "execution_count": null,
   "metadata": {},
   "outputs": [],
   "source": [
    "data_checker(df[\"How often do you go out?\"], check_unique=True)"
   ]
  },
  {
   "cell_type": "code",
   "execution_count": null,
   "metadata": {},
   "outputs": [],
   "source": [
    "data_checker(df[\"Are you going to grad ball?\"], check_unique=True)"
   ]
  },
  {
   "cell_type": "code",
   "execution_count": null,
   "metadata": {},
   "outputs": [],
   "source": [
    "data_checker(df[\"How many hackathons have you attended?\"], check_unique=True)"
   ]
  },
  {
   "cell_type": "code",
   "execution_count": null,
   "metadata": {},
   "outputs": [],
   "source": [
    "data_checker(df[\"What clubs, design teams, or committees have you been a member of at UofT?\"], check_unique=True)"
   ]
  },
  {
   "cell_type": "code",
   "execution_count": null,
   "metadata": {},
   "outputs": [],
   "source": [
    "data_checker(df[\"What intramural sports have you played at UofT?\"], check_unique=True)"
   ]
  },
  {
   "cell_type": "code",
   "execution_count": null,
   "metadata": {},
   "outputs": [],
   "source": [
    "data_checker(df[\"How often did you participate in an intramural sport?\"], check_unique=True)"
   ]
  },
  {
   "cell_type": "code",
   "execution_count": null,
   "metadata": {},
   "outputs": [],
   "source": [
    "data_checker(df[\"What activities did you participate in off-campus?\"], check_unique=True)"
   ]
  },
  {
   "cell_type": "code",
   "execution_count": null,
   "metadata": {},
   "outputs": [],
   "source": [
    "data_checker(df[\"How many times did you fall ill or were injured over the past 5 years?\"], check_unique=True)"
   ]
  },
  {
   "attachments": {},
   "cell_type": "markdown",
   "metadata": {},
   "source": [
    "# Substance Control\n",
    "\n",
    "What drugs are ECE2T2s on??????!!!!!!!!!"
   ]
  },
  {
   "cell_type": "code",
   "execution_count": null,
   "metadata": {},
   "outputs": [],
   "source": [
    "df[\"List the recreational controlled substances you have used during university\"].unique()"
   ]
  },
  {
   "cell_type": "code",
   "execution_count": null,
   "metadata": {},
   "outputs": [],
   "source": [
    "df[\"List the recreational controlled substances you have used during university\"].fillna(\"Did not specify\", inplace=True)"
   ]
  },
  {
   "cell_type": "code",
   "execution_count": null,
   "metadata": {},
   "outputs": [],
   "source": [
    "all_substances = process_multiple_choice_survey(df[\"List the recreational controlled substances you have used during university\"])"
   ]
  },
  {
   "cell_type": "code",
   "execution_count": null,
   "metadata": {},
   "outputs": [],
   "source": [
    "all_substances[\"substance\"] = all_substances[\"substance\"].str[0:1].str.upper() + all_substances[\"substance\"].str[1:]"
   ]
  },
  {
   "cell_type": "code",
   "execution_count": null,
   "metadata": {},
   "outputs": [],
   "source": [
    "all_substances[\"substance\"].replace({\"Weed\": \"Cannabis\", \"Marijuana\" : \"Cannabis\"}, inplace=True)"
   ]
  },
  {
   "cell_type": "code",
   "execution_count": null,
   "metadata": {},
   "outputs": [],
   "source": [
    "fig = px.pie(all_substances, names=\"substance\", color=\"substance\")\n",
    "fig.update_traces(textinfo=\"label+percent\",\n",
    "hovertemplate=less_cringe_hovertext_template[\"pie\"][\"hovertemplate\"])\n"
   ]
  },
  {
   "attachments": {},
   "cell_type": "markdown",
   "metadata": {},
   "source": [
    "## Top 5 Questions You Did Not Want to Answer"
   ]
  },
  {
   "cell_type": "code",
   "execution_count": null,
   "metadata": {},
   "outputs": [],
   "source": [
    "num_nulls = df.isna().sum()\n",
    "\n",
    "# df_top_5_values_no_answers = num_nulls.sort_values(ascending=False)\n",
    "df_top_5_values_with_no_answers = pd.DataFrame(num_nulls, columns=[\"Number of Non-Responses\"]).reset_index()\n",
    "df_top_5_values_with_no_answers.rename({\"index\" : \"Question\"}, axis=1, inplace=True)\n",
    "df_top_5_values_with_no_answers[\"Percentage of Non-Responses\"] = \\\n",
    "    (df_top_5_values_with_no_answers[\"Number of Non-Responses\"] / len(df) * 100).round(2).astype(str) + \"%\"\n",
    "\n",
    "df_top_5_values_with_no_answers.sort_values(\"Number of Non-Responses\", ascending=False, inplace=True)\n",
    "df_top_5_values_with_no_answers = df_top_5_values_with_no_answers.head(5)"
   ]
  },
  {
   "cell_type": "code",
   "execution_count": null,
   "metadata": {},
   "outputs": [],
   "source": [
    "# Write out num nulls to a file\n",
    "obj = zip(num_nulls.index.tolist(), num_nulls.tolist())\n",
    "nulls_list = list(obj)\n",
    "\n",
    "with open(\"nulls.txt\", mode=\"w\", encoding=\"utf-8\") as f:\n",
    "    f.write(\"\\n\".join([f\"{tup[0]}: {tup[1]}\" for tup in nulls_list]))"
   ]
  },
  {
   "cell_type": "code",
   "execution_count": null,
   "metadata": {},
   "outputs": [],
   "source": [
    "fig = go.Figure(go.Table(\n",
    "    header=dict(values=[\"Question\", \"No Response\", \"Percentage of Non-Responses\"], align=\"left\"),\n",
    "    cells=dict(values=[df_top_5_values_with_no_answers.Question,\n",
    "                       df_top_5_values_with_no_answers[\"Number of Non-Responses\"],\n",
    "                       df_top_5_values_with_no_answers[\"Percentage of Non-Responses\"]],\n",
    "                       align=\"left\", height=25)\n",
    "    )\n",
    ")\n",
    "fig.update_layout(height=350, margin_t=20, margin=dict(l=0, r=0))\n",
    "fig.show()"
   ]
  },
  {
   "attachments": {},
   "cell_type": "markdown",
   "metadata": {
    "tags": [
     "hide_code"
    ]
   },
   "source": [
    "# Test/Archive"
   ]
  },
  {
   "cell_type": "code",
   "execution_count": null,
   "metadata": {},
   "outputs": [],
   "source": [
    "# Folium Map\n",
    "# school_group = folium.FeatureGroup(name=\"schools\")\n",
    "# for i in range(df_high_school_merged.shape[0]):\n",
    "#     current_data = df_high_school_merged.iloc[i]\n",
    "#     current_name = current_data.name\n",
    "#     number_per_name = current_data[df_high_school_merged.columns[1]]\n",
    "#     html = f'''\n",
    "#     <div style=\"display: flex; justify-content: left; flex-direction: column;\">\n",
    "#         <div style=\"padding:0 10px 10px 0;color:grey\"><b>{current_name}</b></div>\n",
    "#         <div style=\"padding:0 10px 10px 0;font-size:40;font-weight:100;text-align:center\">{number_per_name}</div>\n",
    "#         <div style=\"text-align:center;padding:0 10px 0 0;\">{\"students studied high school here!\"}</div>\n",
    "#     </div>\n",
    "#     '''\n",
    "#     coordinates = current_data[\"Coordinates\"]\n",
    "#     coordinates = (coordinates[0] + np.random.rand() + 0.5,\n",
    "#                    coordinates[1] + np.random.rand() + 0.5)\n",
    "    \n",
    "#     iframe = folium.IFrame(html=html, width=170, height=170)\n",
    "#     icon = folium.Icon(icon=\"school\", color='lightblue', prefix='fa')\n",
    "#     popup = folium.Popup(iframe)\n",
    "#     school_group.add_child(folium.Marker(location=coordinates, popup=popup, icon=icon))\n",
    "#     # print()\n",
    "\n",
    "# _ = school_group.add_to(m)"
   ]
  },
  {
   "cell_type": "code",
   "execution_count": null,
   "metadata": {},
   "outputs": [],
   "source": [
    "# from similarity.normalized_levenshtein import NormalizedLevenshtein\n",
    "\n",
    "# levenshtein = NormalizedLevenshtein()"
   ]
  },
  {
   "cell_type": "code",
   "execution_count": null,
   "metadata": {},
   "outputs": [],
   "source": [
    "# from similarity.cosine import Cosine\n",
    "\n",
    "# cosine = Cosine(1)"
   ]
  },
  {
   "cell_type": "code",
   "execution_count": null,
   "metadata": {},
   "outputs": [],
   "source": [
    "# cosine.get_profile(\"ab\")"
   ]
  },
  {
   "cell_type": "code",
   "execution_count": null,
   "metadata": {},
   "outputs": [],
   "source": [
    "# cosine.similarity_profiles(cosine.get_profile(\"a\"), cosine.get_profile(\"ab\"))"
   ]
  },
  {
   "cell_type": "code",
   "execution_count": null,
   "metadata": {
    "tags": []
   },
   "outputs": [],
   "source": [
    "# a = pd.DataFrame([[True, False, False, False], [False, True, True, False], [True, True, False, False]], columns=[\"\"])\n",
    "# a.head()"
   ]
  },
  {
   "cell_type": "code",
   "execution_count": null,
   "metadata": {},
   "outputs": [],
   "source": [
    "# Correlation Matrix could be fun to unravel some insight\n",
    "# df.corr()"
   ]
  },
  {
   "cell_type": "code",
   "execution_count": null,
   "metadata": {
    "tags": []
   },
   "outputs": [],
   "source": [
    "# DOES NOT WORK! Has to communicate between Python and JavaScript as the interactive plots are being generated:\n",
    "#\n",
    "# def generate_profile(x):\n",
    "#     fig = px.histogram(df, x=x, color=x)\n",
    "#     _ = fig.update_layout(xaxis_title=\"\")\n",
    "#     _ = fig.update_traces(hovertemplate=\"%{x}=%{y}\")\n",
    "#     return fig\n",
    "\n",
    "# interact(generate_profile, x=[\"What is your gender?\", \"Are you a domestic or international student?\"])\n",
    "\n"
   ]
  },
  {
   "cell_type": "code",
   "execution_count": null,
   "metadata": {
    "tags": []
   },
   "outputs": [],
   "source": [
    "# from dash import Dash, dcc, html, Input, Output\n",
    "# app = JupyterDash(__name__)\n",
    "# app.layout = html.Div([\n",
    "#     dcc.Dropdown(\n",
    "#                 [\"What is your gender?\", \"Are you a domestic or international student?\"],\n",
    "#                 \"What is your gender?\",\n",
    "#                 id='yaxis-column'\n",
    "#     ),\n",
    "#     dcc.Graph(id=\"output_graph\")\n",
    "# ])\n",
    "\n",
    "# @app.callback(\n",
    "#     Output(\"output_graph\", 'figure'),\n",
    "#     Input(\"yaxis-column\", 'value')\n",
    "# )\n",
    "# def get_graph(yaxis_column_name):\n",
    "#     fig = px.histogram(df, x=yaxis_column_name, color=yaxis_column_name)\n",
    "#     _ = fig.update_traces(hovertemplate=\"%{x}=%{y}\")\n",
    "#     return fig\n",
    "\n",
    "# app.run_server(mode=\"inline\")"
   ]
  },
  {
   "cell_type": "code",
   "execution_count": null,
   "metadata": {},
   "outputs": [],
   "source": [
    "# import plotly.graph_objects as go\n",
    "\n",
    "# df_new = pd.DataFrame(\n",
    "#     {\n",
    "#         \"Date\": [\"2020-01-27\", \"2020-02-27\", \"2020-03-27\"],\n",
    "#         \"A_item\": [2, 8, 0],\n",
    "#         \"B_item\": [1, 7, 10],\n",
    "#         \"C_item\": [9, 2, 9],\n",
    "#         \"Channel_type\": [\"Channel_1\", \"Channel_1\", \"Channel_2\"],\n",
    "#     }\n",
    "# )\n",
    "\n",
    "# fig = go.Figure(go.Table(header={\"values\": df_new.columns}, cells={\"values\": df_new.T.values}))\n",
    "# fig.update_layout(\n",
    "#     updatemenus=[\n",
    "#         {\n",
    "#             \"buttons\": [\n",
    "#                 {\n",
    "#                     \"label\": c,\n",
    "#                     \"method\": \"update\",\n",
    "#                     \"args\": [\n",
    "#                         {\n",
    "#                             \"cells\": {\n",
    "#                                 \"values\": df_new.T.values\n",
    "#                                 if c == \"All\"\n",
    "#                                 else df_new.loc[df_new[\"Channel_type\"].eq(c)].T.values\n",
    "#                             }\n",
    "#                         }\n",
    "#                     ],\n",
    "#                 }\n",
    "#                 for c in [\"All\"] + df_new[\"Channel_type\"].unique().tolist()\n",
    "#             ]\n",
    "#         }\n",
    "#     ]\n",
    "# )"
   ]
  },
  {
   "cell_type": "code",
   "execution_count": null,
   "metadata": {},
   "outputs": [],
   "source": [
    "# df_new = pd.DataFrame(\n",
    "#     {\n",
    "#         \"Date\": [\"2020-01-27\", \"2020-02-27\", \"2020-03-27\", \"2020-01-27\"],\n",
    "#         \"A_item\": [2, 8, 0, 3],\n",
    "#         \"B_item\": [1, 7, 10, 4],\n",
    "#         \"C_item\": [9, 2, 9, 5],\n",
    "#         \"Channel_type\": [\"Channel_1\", \"Channel_1\", \"Channel_2\", \"Channel_2\"],\n",
    "#     }\n",
    "# )\n",
    "\n",
    "# fig = go.Figure(go.Table(header={\"values\": df_new.columns}, cells={\"values\": df_new.T.values}))\n",
    "# fig.update_layout(\n",
    "#     updatemenus=[\n",
    "#         {\n",
    "#             \"y\": 1 - (i / 5),\n",
    "#             \"buttons\": [\n",
    "#                 {\n",
    "#                     \"label\": c,\n",
    "#                     \"method\": \"restyle\",\n",
    "#                     \"args\": [\n",
    "#                         {\n",
    "#                             \"cells\": {\n",
    "#                                 \"values\": df_new.T.values\n",
    "#                                 if c == \"All\"\n",
    "#                                 else df_new.loc[df_new[menu].eq(c)].T.values\n",
    "#                             }\n",
    "#                         }\n",
    "#                     ],\n",
    "#                 }\n",
    "#                 for c in [\"All\"] + df_new[menu].unique().tolist()\n",
    "#             ],\n",
    "#         }\n",
    "#         for i, menu in enumerate([\"Channel_type\", \"Date\"])\n",
    "#     ]\n",
    "# )"
   ]
  },
  {
   "cell_type": "code",
   "execution_count": null,
   "metadata": {},
   "outputs": [],
   "source": [
    "# fig = px.histogram(df, x=\"What is your gender?\", color=\"What is your gender?\")\n",
    "# fig.update_layout(xaxis_title=\"\")\n",
    "# fig.update_traces(hovertemplate=\"%{x}=%{y}\")\n",
    "# fig.show()"
   ]
  },
  {
   "cell_type": "code",
   "execution_count": null,
   "metadata": {},
   "outputs": [],
   "source": [
    "# fig = px.histogram(df, x=\"Are you a domestic or international student?\", color=\"Are you a domestic or international student?\")\n",
    "# fig.update_layout(xaxis_title=\"\")\n",
    "# fig.update_traces(hovertemplate=\"%{x}=%{y}\")\n",
    "# fig.show()"
   ]
  },
  {
   "cell_type": "code",
   "execution_count": null,
   "metadata": {
    "tags": []
   },
   "outputs": [],
   "source": [
    "# fig = px.pie(df, names=\"What is your sexual orientation?\", facet_col=\"What is your gender?\", \n",
    "#                    facet_col_spacing=0.04,\n",
    "#                    color=\"What is your sexual orientation?\")\n",
    "# fig.for_each_annotation(lambda a: a.update(text=a.text.split(\"=\")[-1]))\n",
    "# fig.update_traces(hovertemplate=\"<i>%{label}</i><br>Count: %{value}\")\n",
    "# fig.update_layout(showlegend=False)\n",
    "# fig.show()"
   ]
  },
  {
   "cell_type": "code",
   "execution_count": null,
   "metadata": {},
   "outputs": [],
   "source": [
    "## Globe Map\n",
    "# df_traffic = pd.read_csv('https://raw.githubusercontent.com/plotly/datasets/master/2011_february_us_airport_traffic.csv')\n",
    "# df_traffic['text'] = df_traffic['airport'] + '' + df_traffic['city'] + ', ' + df_traffic['state'] + '' + 'Arrivals: ' + df_traffic['cnt'].astype(str)\n",
    "\n",
    "# fig = go.Figure(data=go.Scattergeo(\n",
    "#         lon = df_traffic['long'],\n",
    "#         lat = df_traffic['lat'],\n",
    "#         text = df_traffic['text'],\n",
    "#         mode = 'markers',\n",
    "#         marker_color = df_traffic['cnt'],\n",
    "#         ))\n",
    "\n",
    "\n",
    "# fig.update_geos(projection_type=\"orthographic\")\n",
    "# fig.update_layout(height=600,\n",
    "#                   title = 'Most trafficked US airports<br>(Hover for airport names)',\n",
    "#                   )\n",
    "# # fig.update_layout(\n",
    "\n",
    "# # )\n",
    "# fig.show()"
   ]
  }
 ],
 "metadata": {
  "kernelspec": {
   "display_name": "Python 3 (ipykernel)",
   "language": "python",
   "name": "python3"
  },
  "language_info": {
   "codemirror_mode": {
    "name": "ipython",
    "version": 3
   },
   "file_extension": ".py",
   "mimetype": "text/x-python",
   "name": "python",
   "nbconvert_exporter": "python",
   "pygments_lexer": "ipython3",
   "version": "3.10.10"
  }
 },
 "nbformat": 4,
 "nbformat_minor": 2
}
