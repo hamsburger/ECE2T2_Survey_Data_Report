{
 "cells": [
  {
   "cell_type": "code",
   "execution_count": 84,
   "metadata": {
    "tags": []
   },
   "outputs": [
    {
     "name": "stdout",
     "output_type": "stream",
     "text": [
      "The autoreload extension is already loaded. To reload it, use:\n",
      "  %reload_ext autoreload\n"
     ]
    }
   ],
   "source": [
    "%run ./setup_notebook.ipynb"
   ]
  },
  {
   "cell_type": "code",
   "execution_count": 85,
   "metadata": {},
   "outputs": [],
   "source": [
    "import numpy as np # linear algebra\n",
    "import pandas as pd \n",
    "import plotly.express as px\n",
    "import plotly.graph_objects as go\n",
    "# from plotly.subplots import make_subplot\n",
    "from geopy.geocoders import Nominatim\n",
    "from skimage import io\n",
    "# import ipywidgets as widgets\n",
    "import re\n",
    "from ipywidgets import interact, interact_manual\n",
    "import folium\n",
    "import time\n",
    "from collections import defaultdict\n",
    "import json\n",
    "# helpful modules\n",
    "from scipy.spatial.distance import euclidean, pdist, squareform\n",
    "from datetime import datetime"
   ]
  },
  {
   "attachments": {},
   "cell_type": "markdown",
   "metadata": {
    "tags": [
     "intro"
    ]
   },
   "source": [
    "<div style=\"font-family:'Trebuchet MS', 'Impact', sans-serif; \n",
    "            margin-bottom: 20px; letter-spacing: 6px; text-align:center;\n",
    "            font-size: 200%;\"><b>University of Toronto ECE2T2 Class Profile</b></div>\n",
    "\n",
    "<div style=\"font-size: 16px;text-align:center;\"><i>Number of Respondents: 52</i></div>\n",
    "<!-- <div style=\"font-size: 16px;text-align:center;\"><i>All Plots show data</i></div> -->\n",
    "\n",
    "<p style=\"text-align:start;\">Welcome to the University of Toronto ECE2T2 Class Profile -- Inspired by Waterloo Software Engineering 2021 Class Profile. \n",
    "We come here to give you all the deets, all the information on our graduating class: their passions, compassions, and the future they have built in their times at UofT.\n",
    "   \n",
    "Let's find out about who these 52 people of University of Toronto ECE2T2 are, and where they be at!</p>"
   ]
  },
  {
   "cell_type": "code",
   "execution_count": 86,
   "metadata": {},
   "outputs": [],
   "source": [
    "df = pd.read_csv(\"Electrical_and_Computer_Engineering_2023_-_Class_Profile_Survey_Submissions_2023-03-29.csv\")"
   ]
  },
  {
   "cell_type": "code",
   "execution_count": 87,
   "metadata": {
    "tags": [
     "hide_code"
    ]
   },
   "outputs": [
    {
     "name": "stdout",
     "output_type": "stream",
     "text": [
      "52\n"
     ]
    },
    {
     "data": {
      "text/html": [
       "<div>\n",
       "<style scoped>\n",
       "    .dataframe tbody tr th:only-of-type {\n",
       "        vertical-align: middle;\n",
       "    }\n",
       "\n",
       "    .dataframe tbody tr th {\n",
       "        vertical-align: top;\n",
       "    }\n",
       "\n",
       "    .dataframe thead th {\n",
       "        text-align: right;\n",
       "    }\n",
       "</style>\n",
       "<table border=\"1\" class=\"dataframe\">\n",
       "  <thead>\n",
       "    <tr style=\"text-align: right;\">\n",
       "      <th></th>\n",
       "      <th>Submission ID</th>\n",
       "      <th>Respondent ID</th>\n",
       "      <th>Submitted at</th>\n",
       "      <th>What program were you in first year?</th>\n",
       "      <th>What program are you in now?</th>\n",
       "      <th>What 2 areas did you specialize in?</th>\n",
       "      <th>What 2 areas did you specialize in? (Area 1: Photonics &amp; Semiconductor Physics)</th>\n",
       "      <th>What 2 areas did you specialize in? (Area 2: Electromagnetics &amp; Energy Systems)</th>\n",
       "      <th>What 2 areas did you specialize in? (Area 3: Digital &amp; Analog Electronics)</th>\n",
       "      <th>What 2 areas did you specialize in? (Area 4: Systems Control, Communications &amp; Signal Processing)</th>\n",
       "      <th>...</th>\n",
       "      <th>Which of the following have you done during university? (Kissed someone romantically)</th>\n",
       "      <th>Which of the following have you done during university? (Been in a committed relationship)</th>\n",
       "      <th>Which of the following have you done during university? (Been in a long distance relationship)</th>\n",
       "      <th>Which of the following have you done during university? (Had 'friends with benefits')</th>\n",
       "      <th>Which of the following have you done during university? (Used a dating app)</th>\n",
       "      <th>List the recreational controlled substances you have used during university</th>\n",
       "      <th>Untitled long answer field (1)</th>\n",
       "      <th>Untitled long answer field (2)</th>\n",
       "      <th>Untitled long answer field (3)</th>\n",
       "      <th>How many sexual partners have you had</th>\n",
       "    </tr>\n",
       "  </thead>\n",
       "  <tbody>\n",
       "    <tr>\n",
       "      <th>0</th>\n",
       "      <td>qaRxpG</td>\n",
       "      <td>VpyqOy</td>\n",
       "      <td>2023-02-21 01:01:21</td>\n",
       "      <td>Computer</td>\n",
       "      <td>Computer</td>\n",
       "      <td>Area 5: Computer Hardware &amp; Computer Networks,...</td>\n",
       "      <td>False</td>\n",
       "      <td>False</td>\n",
       "      <td>False</td>\n",
       "      <td>False</td>\n",
       "      <td>...</td>\n",
       "      <td>False</td>\n",
       "      <td>False</td>\n",
       "      <td>False</td>\n",
       "      <td>False</td>\n",
       "      <td>True</td>\n",
       "      <td>NaN</td>\n",
       "      <td>Interesting to see myself - as a person who kn...</td>\n",
       "      <td>Maybe not doing enough design teams and not sp...</td>\n",
       "      <td>Hope for the best for everyone 🙂</td>\n",
       "      <td>0.0</td>\n",
       "    </tr>\n",
       "    <tr>\n",
       "      <th>1</th>\n",
       "      <td>07e206</td>\n",
       "      <td>J1YGy4</td>\n",
       "      <td>2023-02-21 01:10:02</td>\n",
       "      <td>Electrical</td>\n",
       "      <td>Electrical</td>\n",
       "      <td>Area 6: Computer Software, Area 4: Systems Con...</td>\n",
       "      <td>False</td>\n",
       "      <td>False</td>\n",
       "      <td>False</td>\n",
       "      <td>True</td>\n",
       "      <td>...</td>\n",
       "      <td>NaN</td>\n",
       "      <td>NaN</td>\n",
       "      <td>NaN</td>\n",
       "      <td>NaN</td>\n",
       "      <td>NaN</td>\n",
       "      <td>Cannabis</td>\n",
       "      <td>The pandemic allowed me to realize I did not h...</td>\n",
       "      <td>I wish I had learned to focus on my own person...</td>\n",
       "      <td>Do not lose the person that you are in spite o...</td>\n",
       "      <td>0.0</td>\n",
       "    </tr>\n",
       "    <tr>\n",
       "      <th>2</th>\n",
       "      <td>E5xj2L</td>\n",
       "      <td>kbxgVM</td>\n",
       "      <td>2023-02-21 01:18:09</td>\n",
       "      <td>TrackOne</td>\n",
       "      <td>Computer</td>\n",
       "      <td>Area 5: Computer Hardware &amp; Computer Networks,...</td>\n",
       "      <td>False</td>\n",
       "      <td>False</td>\n",
       "      <td>False</td>\n",
       "      <td>False</td>\n",
       "      <td>...</td>\n",
       "      <td>NaN</td>\n",
       "      <td>NaN</td>\n",
       "      <td>NaN</td>\n",
       "      <td>NaN</td>\n",
       "      <td>NaN</td>\n",
       "      <td>Cannabis</td>\n",
       "      <td>NaN</td>\n",
       "      <td>NaN</td>\n",
       "      <td>Live long and prosper</td>\n",
       "      <td>0.0</td>\n",
       "    </tr>\n",
       "    <tr>\n",
       "      <th>3</th>\n",
       "      <td>PDOjb0</td>\n",
       "      <td>9N5avV</td>\n",
       "      <td>2023-02-21 01:53:57</td>\n",
       "      <td>TrackOne</td>\n",
       "      <td>Electrical</td>\n",
       "      <td>Area 1: Photonics &amp; Semiconductor Physics, Are...</td>\n",
       "      <td>True</td>\n",
       "      <td>False</td>\n",
       "      <td>False</td>\n",
       "      <td>True</td>\n",
       "      <td>...</td>\n",
       "      <td>NaN</td>\n",
       "      <td>NaN</td>\n",
       "      <td>NaN</td>\n",
       "      <td>NaN</td>\n",
       "      <td>NaN</td>\n",
       "      <td>NaN</td>\n",
       "      <td>Celebrating my birthday with my U of T friends:)</td>\n",
       "      <td>Not playing intramurals and going to more soci...</td>\n",
       "      <td>Find joy in simple things:)</td>\n",
       "      <td>NaN</td>\n",
       "    </tr>\n",
       "    <tr>\n",
       "      <th>4</th>\n",
       "      <td>9XQGoK</td>\n",
       "      <td>6D59QJ</td>\n",
       "      <td>2023-02-21 01:55:39</td>\n",
       "      <td>TrackOne</td>\n",
       "      <td>Computer</td>\n",
       "      <td>Area 6: Computer Software, Area 5: Computer Ha...</td>\n",
       "      <td>False</td>\n",
       "      <td>False</td>\n",
       "      <td>False</td>\n",
       "      <td>False</td>\n",
       "      <td>...</td>\n",
       "      <td>NaN</td>\n",
       "      <td>NaN</td>\n",
       "      <td>NaN</td>\n",
       "      <td>NaN</td>\n",
       "      <td>NaN</td>\n",
       "      <td>NaN</td>\n",
       "      <td>NaN</td>\n",
       "      <td>NaN</td>\n",
       "      <td>NaN</td>\n",
       "      <td>NaN</td>\n",
       "    </tr>\n",
       "  </tbody>\n",
       "</table>\n",
       "<p>5 rows × 254 columns</p>\n",
       "</div>"
      ],
      "text/plain": [
       "  Submission ID Respondent ID         Submitted at  \\\n",
       "0        qaRxpG        VpyqOy  2023-02-21 01:01:21   \n",
       "1        07e206        J1YGy4  2023-02-21 01:10:02   \n",
       "2        E5xj2L        kbxgVM  2023-02-21 01:18:09   \n",
       "3        PDOjb0        9N5avV  2023-02-21 01:53:57   \n",
       "4        9XQGoK        6D59QJ  2023-02-21 01:55:39   \n",
       "\n",
       "  What program were you in first year? What program are you in now?  \\\n",
       "0                             Computer                     Computer   \n",
       "1                          Electrical                    Electrical   \n",
       "2                             TrackOne                     Computer   \n",
       "3                             TrackOne                   Electrical   \n",
       "4                             TrackOne                     Computer   \n",
       "\n",
       "                 What 2 areas did you specialize in?  \\\n",
       "0  Area 5: Computer Hardware & Computer Networks,...   \n",
       "1  Area 6: Computer Software, Area 4: Systems Con...   \n",
       "2  Area 5: Computer Hardware & Computer Networks,...   \n",
       "3  Area 1: Photonics & Semiconductor Physics, Are...   \n",
       "4  Area 6: Computer Software, Area 5: Computer Ha...   \n",
       "\n",
       "   What 2 areas did you specialize in? (Area 1: Photonics & Semiconductor Physics)  \\\n",
       "0                                              False                                 \n",
       "1                                              False                                 \n",
       "2                                              False                                 \n",
       "3                                               True                                 \n",
       "4                                              False                                 \n",
       "\n",
       "   What 2 areas did you specialize in? (Area 2: Electromagnetics & Energy Systems)  \\\n",
       "0                                              False                                 \n",
       "1                                              False                                 \n",
       "2                                              False                                 \n",
       "3                                              False                                 \n",
       "4                                              False                                 \n",
       "\n",
       "   What 2 areas did you specialize in? (Area 3: Digital & Analog Electronics)  \\\n",
       "0                                              False                            \n",
       "1                                              False                            \n",
       "2                                              False                            \n",
       "3                                              False                            \n",
       "4                                              False                            \n",
       "\n",
       "   What 2 areas did you specialize in? (Area 4: Systems Control, Communications & Signal Processing)  \\\n",
       "0                                              False                                                   \n",
       "1                                               True                                                   \n",
       "2                                              False                                                   \n",
       "3                                               True                                                   \n",
       "4                                              False                                                   \n",
       "\n",
       "   ...  \\\n",
       "0  ...   \n",
       "1  ...   \n",
       "2  ...   \n",
       "3  ...   \n",
       "4  ...   \n",
       "\n",
       "   Which of the following have you done during university? (Kissed someone romantically)  \\\n",
       "0                                              False                                       \n",
       "1                                                NaN                                       \n",
       "2                                                NaN                                       \n",
       "3                                                NaN                                       \n",
       "4                                                NaN                                       \n",
       "\n",
       "   Which of the following have you done during university? (Been in a committed relationship)  \\\n",
       "0                                              False                                            \n",
       "1                                                NaN                                            \n",
       "2                                                NaN                                            \n",
       "3                                                NaN                                            \n",
       "4                                                NaN                                            \n",
       "\n",
       "  Which of the following have you done during university? (Been in a long distance relationship)  \\\n",
       "0                                              False                                               \n",
       "1                                                NaN                                               \n",
       "2                                                NaN                                               \n",
       "3                                                NaN                                               \n",
       "4                                                NaN                                               \n",
       "\n",
       "  Which of the following have you done during university? (Had 'friends with benefits')  \\\n",
       "0                                              False                                      \n",
       "1                                                NaN                                      \n",
       "2                                                NaN                                      \n",
       "3                                                NaN                                      \n",
       "4                                                NaN                                      \n",
       "\n",
       "  Which of the following have you done during university? (Used a dating app)  \\\n",
       "0                                               True                            \n",
       "1                                                NaN                            \n",
       "2                                                NaN                            \n",
       "3                                                NaN                            \n",
       "4                                                NaN                            \n",
       "\n",
       "  List the recreational controlled substances you have used during university  \\\n",
       "0                                                NaN                            \n",
       "1                                           Cannabis                            \n",
       "2                                           Cannabis                            \n",
       "3                                                NaN                            \n",
       "4                                                NaN                            \n",
       "\n",
       "                      Untitled long answer field (1)  \\\n",
       "0  Interesting to see myself - as a person who kn...   \n",
       "1  The pandemic allowed me to realize I did not h...   \n",
       "2                                                NaN   \n",
       "3   Celebrating my birthday with my U of T friends:)   \n",
       "4                                                NaN   \n",
       "\n",
       "                      Untitled long answer field (2)  \\\n",
       "0  Maybe not doing enough design teams and not sp...   \n",
       "1  I wish I had learned to focus on my own person...   \n",
       "2                                                NaN   \n",
       "3  Not playing intramurals and going to more soci...   \n",
       "4                                                NaN   \n",
       "\n",
       "                      Untitled long answer field (3)  \\\n",
       "0                   Hope for the best for everyone 🙂   \n",
       "1  Do not lose the person that you are in spite o...   \n",
       "2                              Live long and prosper   \n",
       "3                        Find joy in simple things:)   \n",
       "4                                                NaN   \n",
       "\n",
       "  How many sexual partners have you had  \n",
       "0                                   0.0  \n",
       "1                                   0.0  \n",
       "2                                   0.0  \n",
       "3                                   NaN  \n",
       "4                                   NaN  \n",
       "\n",
       "[5 rows x 254 columns]"
      ]
     },
     "execution_count": 87,
     "metadata": {},
     "output_type": "execute_result"
    }
   ],
   "source": [
    "print(len(df))\n",
    "df.head(5)"
   ]
  },
  {
   "attachments": {},
   "cell_type": "markdown",
   "metadata": {
    "tags": [
     "hide_code"
    ]
   },
   "source": [
    "## Data Cleaning\n",
    "\n"
   ]
  },
  {
   "cell_type": "code",
   "execution_count": 88,
   "metadata": {},
   "outputs": [],
   "source": [
    "## Write out columns to a text file for analysis\n",
    "with open(\"all_columns.txt\", mode=\"w\", encoding=\"utf-8\") as f:\n",
    "    f.write(\"\\n\".join(df.columns))"
   ]
  },
  {
   "cell_type": "code",
   "execution_count": 89,
   "metadata": {},
   "outputs": [],
   "source": [
    "# Modify these column names, if they still exist\n",
    "if {\"Untitled long answer field (1)\", \"Untitled long answer field (2)\", \"Untitled long answer field (3)\"}.issubset(df.columns):\n",
    "  df.rename(columns={\n",
    "                      \"Untitled long answer field (1)\" : \"1. Share a story, happy or sad, from your time in ECE\",\n",
    "                      \"Untitled long answer field (2)\" : \"2. What is something you regret over your time at UofT?\",\n",
    "                      \"Untitled long answer field (3)\" : \"3. Give a piece of advice to your fellow ECE 2T2 - 2023 grads\"\n",
    "                    }, inplace=True)\n",
    "\n",
    "  # Check column data has indeed been changed\n",
    "  index = df.columns.str.contains(\"1. Share a story, happy or sad, from your time in ECE\") | \\\n",
    "  df.columns.str.contains(\"2. What is something you regret over your time at UofT?\") | \\\n",
    "  df.columns.str.contains(\"3. Give a piece of advice to your fellow ECE 2T2 - 2023 grads\")\n",
    "\n",
    "  indices = df.columns[index]\n",
    "  assert len(indices) == 3"
   ]
  },
  {
   "cell_type": "code",
   "execution_count": 90,
   "metadata": {},
   "outputs": [],
   "source": [
    "# Drop unnecessary article. Non-useful data.\n",
    "# Proof that all data under this column are null\n",
    "if \"https://money.usnews.com/money/personal-finance/family-finance/articles/where-do-i-fall-in-the-ameri\" + \\\n",
    "          \"can-economic-class-system\" in df.columns:\n",
    "        assert df[\"https://money.usnews.com/money/personal-finance/family-finance/articles/where-do-i-fall-in-the-ameri\"\n",
    "                \"can-economic-class-system\"].isna().sum() == len(df)\n",
    "\n",
    "        df.drop(\"https://money.usnews.com/money/personal-finance/family-finance/articles/where-do-i-fall-in-the-american-economic-class-system\", \n",
    "                axis=1, inplace=True)"
   ]
  },
  {
   "attachments": {},
   "cell_type": "markdown",
   "metadata": {
    "tags": [
     "hide_code"
    ]
   },
   "source": [
    "## Data Exploration"
   ]
  },
  {
   "attachments": {},
   "cell_type": "markdown",
   "metadata": {
    "tags": [
     "big_heading"
    ]
   },
   "source": [
    "# Class Profile"
   ]
  },
  {
   "attachments": {},
   "cell_type": "markdown",
   "metadata": {},
   "source": [
    "## What Program Were You in First Year?"
   ]
  },
  {
   "cell_type": "code",
   "execution_count": 91,
   "metadata": {},
   "outputs": [
    {
     "data": {
      "image/svg+xml": [
       "<svg class=\"main-svg\" xmlns=\"http://www.w3.org/2000/svg\" xmlns:xlink=\"http://www.w3.org/1999/xlink\" width=\"700\" height=\"500\" style=\"\" viewBox=\"0 0 700 500\"><rect x=\"0\" y=\"0\" width=\"700\" height=\"500\" style=\"fill: rgb(208, 227, 241); fill-opacity: 1;\"/><defs id=\"defs-0604ef\"><g class=\"clips\"/><g class=\"gradients\"/><g class=\"patterns\"/></defs><g class=\"bglayer\"/><g class=\"layer-below\"><g class=\"imagelayer\"/><g class=\"shapelayer\"/></g><g class=\"cartesianlayer\"/><g class=\"polarlayer\"/><g class=\"smithlayer\"/><g class=\"ternarylayer\"/><g class=\"geolayer\"/><g class=\"funnelarealayer\"/><g class=\"pielayer\"><g class=\"trace\" stroke-linejoin=\"round\" style=\"opacity: 1;\"><g class=\"slice\"><path class=\"surface\" d=\"M350,240l0,-180a180,180 0 0 1 102.25165441160804,328.13709586085815Z\" style=\"pointer-events: none; stroke-width: 0; fill: rgb(76, 114, 176); fill-opacity: 1; stroke: rgb(68, 68, 68); stroke-opacity: 1;\"/><g class=\"slicetext\"><text data-notex=\"1\" class=\"slicetext\" transform=\"translate(437.46992845125163,209.29981546947684)\" text-anchor=\"middle\" x=\"0\" y=\"0\" style=\"font-family: 'Open Sans', verdana, arial, sans-serif; font-size: 12px; fill: rgb(255, 255, 255); fill-opacity: 1; white-space: pre;\"><tspan class=\"line\" dy=\"0em\" x=\"0\" y=\"0\">Computer</tspan><tspan class=\"line\" dy=\"1.3em\" x=\"0\" y=\"0\">21</tspan></text></g></g><g class=\"slice\"><path class=\"surface\" d=\"M350,240l-148.13709586085815,102.25165441160803a180,180 0 0 1 148.13709586085815,-282.251654411608Z\" style=\"pointer-events: none; stroke-width: 0; fill: rgb(85, 168, 104); fill-opacity: 1; stroke: rgb(68, 68, 68); stroke-opacity: 1;\"/><g class=\"slicetext\"><text data-notex=\"1\" class=\"slicetext\" transform=\"translate(265.9676203268329,192.32929715424405)\" text-anchor=\"middle\" x=\"0\" y=\"0\" style=\"font-family: 'Open Sans', verdana, arial, sans-serif; font-size: 12px; fill: rgb(68, 68, 68); fill-opacity: 1; white-space: pre;\"><tspan class=\"line\" dy=\"0em\" x=\"0\" y=\"0\">TrackOne</tspan><tspan class=\"line\" dy=\"1.3em\" x=\"0\" y=\"0\">18</tspan></text></g></g><g class=\"slice\"><path class=\"surface\" d=\"M350,240l43.07681957176034,174.7695271366894a180,180 0 0 1 -191.21391543261848,-72.51787272508136Z\" style=\"pointer-events: none; stroke-width: 0; fill: rgb(221, 132, 82); fill-opacity: 1; stroke: rgb(68, 68, 68); stroke-opacity: 1;\"/><g class=\"slicetext\"><text data-notex=\"1\" class=\"slicetext\" transform=\"translate(309.2944871691578,344.02692877045376)\" text-anchor=\"middle\" x=\"0\" y=\"0\" style=\"font-family: 'Open Sans', verdana, arial, sans-serif; font-size: 12px; fill: rgb(68, 68, 68); fill-opacity: 1; white-space: pre;\"><tspan class=\"line\" dy=\"0em\" x=\"0\" y=\"0\">Electrical </tspan><tspan class=\"line\" dy=\"1.3em\" x=\"0\" y=\"0\">10</tspan></text></g></g><g class=\"slice\"><path class=\"surface\" d=\"M350,240l63.82887966765641,168.30292368337467a180,180 0 0 1 -20.75206009589607,6.466603453314718Z\" style=\"pointer-events: none; stroke-width: 0; fill: rgb(196, 78, 82); fill-opacity: 1; stroke: rgb(68, 68, 68); stroke-opacity: 1;\"/><g class=\"slicetext\"><text data-notex=\"1\" class=\"slicetext\" transform=\"translate(421.7028934439365,463.1632567253298)\" text-anchor=\"middle\" x=\"0\" y=\"0\" style=\"font-family: 'Open Sans', verdana, arial, sans-serif; font-size: 12px; fill: rgb(79, 79, 79); fill-opacity: 1; white-space: pre;\"><tspan class=\"line\" dy=\"0em\" x=\"0\" y=\"0\">Min</tspan><tspan class=\"line\" dy=\"1.3em\" x=\"0\" y=\"0\">1</tspan></text></g><path class=\"textline\" stroke-width=\"1.5\" d=\"M403.5505496939365,411.84975597153823V466.4679442253298h7.65234375\" fill=\"none\" style=\"stroke: rgb(79, 79, 79); stroke-opacity: 1;\"/></g><g class=\"slice\"><path class=\"surface\" d=\"M350,240l83.6501709678784,159.38208461757773a180,180 0 0 1 -19.821291300221986,8.92083906579694Z\" style=\"pointer-events: none; stroke-width: 0; fill: rgb(129, 114, 179); fill-opacity: 1; stroke: rgb(68, 68, 68); stroke-opacity: 1;\"/><g class=\"slicetext\"><text data-notex=\"1\" class=\"slicetext\" transform=\"translate(451.72977373149627,432.5538817253298)\" text-anchor=\"middle\" x=\"0\" y=\"0\" style=\"font-family: 'Open Sans', verdana, arial, sans-serif; font-size: 12px; fill: rgb(79, 79, 79); fill-opacity: 1; white-space: pre;\"><tspan class=\"line\" dy=\"0em\" x=\"0\" y=\"0\">EngSci</tspan><tspan class=\"line\" dy=\"1.3em\" x=\"0\" y=\"0\">1</tspan></text></g><path class=\"textline\" stroke-width=\"1.5\" d=\"M423.87430498149627,404.1419722785762V435.8585692253298h7.65234375\" fill=\"none\" style=\"stroke: rgb(79, 79, 79); stroke-opacity: 1;\"/></g><g class=\"slice\"><path class=\"surface\" d=\"M350,240l102.25165441160814,148.1370958608581a180,180 0 0 1 -18.601483443729748,11.244988756719636Z\" style=\"pointer-events: none; stroke-width: 0; fill: rgb(147, 120, 96); fill-opacity: 1; stroke: rgb(68, 68, 68); stroke-opacity: 1;\"/><g class=\"slicetext\"><text data-notex=\"1\" class=\"slicetext\" transform=\"translate(468.1794003019783,401.9445067253298)\" text-anchor=\"middle\" x=\"0\" y=\"0\" style=\"font-family: 'Open Sans', verdana, arial, sans-serif; font-size: 12px; fill: rgb(79, 79, 79); fill-opacity: 1; white-space: pre;\"><tspan class=\"line\" dy=\"0em\" x=\"0\" y=\"0\">Chem</tspan><tspan class=\"line\" dy=\"1.3em\" x=\"0\" y=\"0\">1</tspan></text></g></g></g></g><g class=\"iciclelayer\"/><g class=\"treemaplayer\"/><g class=\"sunburstlayer\"/><g class=\"glimages\"/><defs id=\"topdefs-0604ef\"><g class=\"clips\"/></defs><g class=\"layer-above\"><g class=\"imagelayer\"/><g class=\"shapelayer\"/></g><g class=\"infolayer\"><g class=\"g-gtitle\"/></g></svg>"
      ]
     },
     "metadata": {},
     "output_type": "display_data"
    }
   ],
   "source": [
    "# TO-DO! Make trace subplots with this\n",
    "fig = px.pie(df, names=\"What program were you in first year?\", color=\"What program were you in first year?\")\n",
    "fig.update_traces(textinfo=\"label+value\",\n",
    "                  hovertemplate=less_cringe_hovertext_template[\"pie\"][\"hovertemplate\"])\n",
    "fig.update_layout(showlegend=False)\n",
    "fig.show()"
   ]
  },
  {
   "attachments": {},
   "cell_type": "markdown",
   "metadata": {},
   "source": [
    "## What Program Are You in Now?"
   ]
  },
  {
   "cell_type": "code",
   "execution_count": 92,
   "metadata": {
    "tags": []
   },
   "outputs": [
    {
     "data": {
      "image/svg+xml": [
       "<svg class=\"main-svg\" xmlns=\"http://www.w3.org/2000/svg\" xmlns:xlink=\"http://www.w3.org/1999/xlink\" width=\"700\" height=\"500\" style=\"\" viewBox=\"0 0 700 500\"><rect x=\"0\" y=\"0\" width=\"700\" height=\"500\" style=\"fill: rgb(208, 227, 241); fill-opacity: 1;\"/><defs id=\"defs-8b2f45\"><g class=\"clips\"/><g class=\"gradients\"/><g class=\"patterns\"/></defs><g class=\"bglayer\"/><g class=\"layer-below\"><g class=\"imagelayer\"/><g class=\"shapelayer\"/></g><g class=\"cartesianlayer\"/><g class=\"polarlayer\"/><g class=\"smithlayer\"/><g class=\"ternarylayer\"/><g class=\"geolayer\"/><g class=\"funnelarealayer\"/><g class=\"pielayer\"><g class=\"trace\" stroke-linejoin=\"round\" style=\"opacity: 1;\"><g class=\"slice\"><path class=\"surface\" d=\"M350,240l0,-180a180,180 0 1 1 -134.7319346707983,60.63792151665699Z\" style=\"pointer-events: none; stroke-width: 0; fill: rgb(76, 114, 176); fill-opacity: 1; stroke: rgb(68, 68, 68); stroke-opacity: 1;\"/><g class=\"slicetext\"><text data-notex=\"1\" class=\"slicetext\" transform=\"translate(386.49183999074813,318.7662986392881)\" text-anchor=\"middle\" x=\"0\" y=\"0\" style=\"font-family: 'Open Sans', verdana, arial, sans-serif; font-size: 12px; fill: rgb(255, 255, 255); fill-opacity: 1; white-space: pre;\"><tspan class=\"line\" dy=\"0em\" x=\"0\" y=\"0\">Computer</tspan><tspan class=\"line\" dy=\"1.3em\" x=\"0\" y=\"0\">45</tspan></text></g></g><g class=\"slice\"><path class=\"surface\" d=\"M350,240l-134.73193467079818,-119.36207848334315a180,180 0 0 1 134.73193467079818,-60.637921516656846Z\" style=\"pointer-events: none; stroke-width: 0; fill: rgb(221, 132, 82); fill-opacity: 1; stroke: rgb(68, 68, 68); stroke-opacity: 1;\"/><g class=\"slicetext\"><text data-notex=\"1\" class=\"slicetext\" transform=\"translate(297.6222105358851,120.31663836715634)\" text-anchor=\"middle\" x=\"0\" y=\"0\" style=\"font-family: 'Open Sans', verdana, arial, sans-serif; font-size: 12px; fill: rgb(68, 68, 68); fill-opacity: 1; white-space: pre;\"><tspan class=\"line\" dy=\"0em\" x=\"0\" y=\"0\">Electrical</tspan><tspan class=\"line\" dy=\"1.3em\" x=\"0\" y=\"0\">7</tspan></text></g></g></g></g><g class=\"iciclelayer\"/><g class=\"treemaplayer\"/><g class=\"sunburstlayer\"/><g class=\"glimages\"/><defs id=\"topdefs-8b2f45\"><g class=\"clips\"/></defs><g class=\"layer-above\"><g class=\"imagelayer\"/><g class=\"shapelayer\"/></g><g class=\"infolayer\"><g class=\"g-gtitle\"/></g></svg>"
      ]
     },
     "metadata": {},
     "output_type": "display_data"
    }
   ],
   "source": [
    "fig = px.pie(df, names=\"What program are you in now?\", color=\"What program are you in now?\")\n",
    "fig.update_traces(textinfo=\"label+value\",\n",
    "                  hovertemplate=less_cringe_hovertext_template[\"pie\"][\"hovertemplate\"])\n",
    "fig.update_layout(showlegend=False)\n",
    "fig.show()"
   ]
  },
  {
   "attachments": {},
   "cell_type": "markdown",
   "metadata": {},
   "source": [
    "## What 2 Areas Did You Specialize In?"
   ]
  },
  {
   "cell_type": "code",
   "execution_count": 93,
   "metadata": {},
   "outputs": [],
   "source": [
    "# Sort specialized areas to remove duplicates. (Ex. Area 6 + Area 5 is equivalent to Area 5 + Area 6)\n",
    "df[\"What 2 areas did you specialize in?\"] = remove_redundancy(df[\"What 2 areas did you specialize in?\"]) "
   ]
  },
  {
   "cell_type": "code",
   "execution_count": 94,
   "metadata": {},
   "outputs": [],
   "source": [
    "df_specialization = df.loc[:, [\"What 2 areas did you specialize in?\"]]\n",
    "df_specialization.sort_values(\"What 2 areas did you specialize in?\", ascending=False, inplace=True)\n",
    "\n",
    "# hover text\n",
    "areas_long_form = df_specialization[\"What 2 areas did you specialize in?\"].str.split(\", \").map(lambda x: \"<br>\".join(x)).tolist()\n",
    "\n",
    "# Simplified areas\n",
    "areas_simplified = df_specialization[\"What 2 areas did you specialize in?\"].map(\n",
    "    lambda word: \" + \".join(re.findall('(Area.*?):', word))\n",
    ")\n",
    "\n",
    "df_specialization[\"What 2 areas did you specialize in?\"] = areas_simplified\n",
    "\n",
    "\n"
   ]
  },
  {
   "cell_type": "code",
   "execution_count": 70,
   "metadata": {},
   "outputs": [
    {
     "data": {
      "image/svg+xml": [
       "<svg class=\"main-svg\" xmlns=\"http://www.w3.org/2000/svg\" xmlns:xlink=\"http://www.w3.org/1999/xlink\" width=\"700\" height=\"500\" style=\"\" viewBox=\"0 0 700 500\"><rect x=\"0\" y=\"0\" width=\"700\" height=\"500\" style=\"fill: rgb(208, 227, 241); fill-opacity: 1;\"/><defs id=\"defs-df9545\"><g class=\"clips\"/><g class=\"gradients\"/><g class=\"patterns\"/></defs><g class=\"bglayer\"/><g class=\"layer-below\"><g class=\"imagelayer\"/><g class=\"shapelayer\"/></g><g class=\"cartesianlayer\"/><g class=\"polarlayer\"/><g class=\"smithlayer\"/><g class=\"ternarylayer\"/><g class=\"geolayer\"/><g class=\"funnelarealayer\"/><g class=\"pielayer\"><g class=\"trace\" stroke-linejoin=\"round\" style=\"opacity: 1;\"><g class=\"slice\"><path class=\"surface\" d=\"M298.59218914532426,257.2307278287042a72,72 0 1 0 69.90781085467574,-89.23072782870416l0,-108a180,180 0 1 1 -174.76952713668936,223.07681957176038Z\" style=\"pointer-events: none; stroke-width: 0; fill: rgb(76, 114, 176); fill-opacity: 1; stroke: rgb(68, 68, 68); stroke-opacity: 1;\"/><g class=\"slicetext\"><text data-notex=\"1\" class=\"slicetext\" transform=\"translate(567.501620259629,353.52572759524975)\" text-anchor=\"middle\" x=\"0\" y=\"0\" style=\"font-family: 'Open Sans', verdana, arial, sans-serif; font-size: 12px; fill: rgb(79, 79, 79); fill-opacity: 1; white-space: pre;\"><tspan class=\"line\" dy=\"0em\" x=\"0\" y=\"0\">Area 5 + Area 6</tspan><tspan class=\"line\" dy=\"1.3em\" x=\"0\" y=\"0\">37</tspan></text></g></g><g class=\"slice\"><path class=\"surface\" d=\"M368.5,168a72,72 0 0 0 -67.32116947334985,46.468448132937425l-100.98175421002479,-38.29732780059386a180,180 0 0 1 168.30292368337464,-116.17112033234355Z\" style=\"pointer-events: none; stroke-width: 0; fill: rgb(221, 132, 82); fill-opacity: 1; stroke: rgb(68, 68, 68); stroke-opacity: 1;\"/><g class=\"slicetext\"><text data-notex=\"1\" class=\"slicetext\" transform=\"translate(209.564751838392,78.19231439806245)\" text-anchor=\"middle\" x=\"0\" y=\"0\" style=\"font-family: 'Open Sans', verdana, arial, sans-serif; font-size: 12px; fill: rgb(79, 79, 79); fill-opacity: 1; white-space: pre;\"><tspan class=\"line\" dy=\"0em\" x=\"0\" y=\"0\">Area 4 + Area 6</tspan><tspan class=\"line\" dy=\"1.3em\" x=\"0\" y=\"0\">10</tspan></text></g></g><g class=\"slice\"><path class=\"surface\" d=\"M301.17883052665013,214.46844813293743a72,72 0 0 0 -2.5866413813258875,8.3008240383584l-104.86171628201362,-25.846091743056267a180,180 0 0 1 6.466603453314718,-20.752060095896Z\" style=\"pointer-events: none; stroke-width: 0; fill: rgb(85, 168, 104); fill-opacity: 1; stroke: rgb(68, 68, 68); stroke-opacity: 1;\"/><g class=\"slicetext\"><text data-notex=\"1\" class=\"slicetext\" transform=\"translate(139.9666502784618,164.5526387622622)\" text-anchor=\"middle\" x=\"0\" y=\"0\" style=\"font-family: 'Open Sans', verdana, arial, sans-serif; font-size: 12px; fill: rgb(79, 79, 79); fill-opacity: 1; white-space: pre;\"><tspan class=\"line\" dy=\"0em\" x=\"0\" y=\"0\">Area 4 + Area 5</tspan><tspan class=\"line\" dy=\"1.3em\" x=\"0\" y=\"0\">1</tspan></text></g><path class=\"textline\" stroke-width=\"1.5\" d=\"M196.6502440284618,186.44945030606343V167.8573262622622h-7.65234375\" fill=\"none\" style=\"stroke: rgb(79, 79, 79); stroke-opacity: 1;\"/></g><g class=\"slice\"><path class=\"surface\" d=\"M298.59218914532426,222.76927217129582a72,72 0 0 0 -1.5672280803841432,8.55208685032089l-107.21255840258983,-13.017961467574931a180,180 0 0 1 3.918070200960358,-21.380217125802226Z\" style=\"pointer-events: none; stroke-width: 0; fill: rgb(196, 78, 82); fill-opacity: 1; stroke: rgb(68, 68, 68); stroke-opacity: 1;\"/><g class=\"slicetext\"><text data-notex=\"1\" class=\"slicetext\" transform=\"translate(134.76482299951417,195.1620137622622)\" text-anchor=\"middle\" x=\"0\" y=\"0\" style=\"font-family: 'Open Sans', verdana, arial, sans-serif; font-size: 12px; fill: rgb(79, 79, 79); fill-opacity: 1; white-space: pre;\"><tspan class=\"line\" dy=\"0em\" x=\"0\" y=\"0\">Area 3 + Area 5</tspan><tspan class=\"line\" dy=\"1.3em\" x=\"0\" y=\"0\">1</tspan></text></g><path class=\"textline\" stroke-width=\"1.5\" d=\"M191.44841674951417,207.5540931934969V198.4667012622622h-7.65234375\" fill=\"none\" style=\"stroke: rgb(79, 79, 79); stroke-opacity: 1;\"/></g><g class=\"slice\"><path class=\"surface\" d=\"M297.0249610649401,231.3213590216167a72,72 0 0 0 -0.5249610649401121,8.678640978383251l-108,-5.457472737920247e-14a180,180 0 0 1 1.31240266235028,-21.696602445958128Z\" style=\"pointer-events: none; stroke-width: 0; fill: rgb(129, 114, 179); fill-opacity: 1; stroke: rgb(68, 68, 68); stroke-opacity: 1;\"/><g class=\"slicetext\"><text data-notex=\"1\" class=\"slicetext\" transform=\"translate(132.14480648980285,225.7713887622622)\" text-anchor=\"middle\" x=\"0\" y=\"0\" style=\"font-family: 'Open Sans', verdana, arial, sans-serif; font-size: 12px; fill: rgb(79, 79, 79); fill-opacity: 1; white-space: pre;\"><tspan class=\"line\" dy=\"0em\" x=\"0\" y=\"0\">Area 3 + Area 4</tspan><tspan class=\"line\" dy=\"1.3em\" x=\"0\" y=\"0\">1</tspan></text></g></g><g class=\"slice\"><path class=\"surface\" d=\"M296.5,239.99999999999997a72,72 0 0 0 0.5249610649401006,8.678640978383255l-107.21255840258985,13.017961467574825a180,180 0 0 1 -1.3124026623502516,-21.696602445958135Z\" style=\"pointer-events: none; stroke-width: 0; fill: rgb(147, 120, 96); fill-opacity: 1; stroke: rgb(68, 68, 68); stroke-opacity: 1;\"/><g class=\"slicetext\"><text data-notex=\"1\" class=\"slicetext\" transform=\"translate(132.51980648980285,256.3807637622622)\" text-anchor=\"middle\" x=\"0\" y=\"0\" style=\"font-family: 'Open Sans', verdana, arial, sans-serif; font-size: 12px; fill: rgb(79, 79, 79); fill-opacity: 1; white-space: pre;\"><tspan class=\"line\" dy=\"0em\" x=\"0\" y=\"0\">Area 2 + Area 3</tspan><tspan class=\"line\" dy=\"1.3em\" x=\"0\" y=\"0\">1</tspan></text></g><path class=\"textline\" stroke-width=\"1.5\" d=\"M188.82840023980285,250.8681295360114V259.6854512622622h-7.652343749999993\" fill=\"none\" style=\"stroke: rgb(79, 79, 79); stroke-opacity: 1;\"/></g><g class=\"slice\"><path class=\"surface\" d=\"M297.0249610649401,248.6786409783832a72,72 0 0 0 1.5672280803841432,8.552086850320894l-104.86171628201363,25.846091743056164a180,180 0 0 1 -3.918070200960358,-21.380217125802233Z\" style=\"pointer-events: none; stroke-width: 0; fill: rgb(218, 139, 195); fill-opacity: 1; stroke: rgb(68, 68, 68); stroke-opacity: 1;\"/><g class=\"slicetext\"><text data-notex=\"1\" class=\"slicetext\" transform=\"translate(134.76482299951414,286.9901387622622)\" text-anchor=\"middle\" x=\"0\" y=\"0\" style=\"font-family: 'Open Sans', verdana, arial, sans-serif; font-size: 12px; fill: rgb(79, 79, 79); fill-opacity: 1; white-space: pre;\"><tspan class=\"line\" dy=\"0em\" x=\"0\" y=\"0\">Area 1 + Area 4</tspan><tspan class=\"line\" dy=\"1.3em\" x=\"0\" y=\"0\">1</tspan></text></g><path class=\"textline\" stroke-width=\"1.5\" d=\"M191.44841674951414,272.44590680650293V290.2948262622622h-7.65234375\" fill=\"none\" style=\"stroke: rgb(79, 79, 79); stroke-opacity: 1;\"/></g></g></g><g class=\"iciclelayer\"/><g class=\"treemaplayer\"/><g class=\"sunburstlayer\"/><g class=\"glimages\"/><defs id=\"topdefs-df9545\"><g class=\"clips\"/></defs><g class=\"layer-above\"><g class=\"imagelayer\"/><g class=\"shapelayer\"/></g><g class=\"infolayer\"><g class=\"g-gtitle\"/></g></svg>"
      ],
      "text/html": [
       "<div>                            <div id=\"59425fd2-0066-48e1-9212-80976d407959\" class=\"plotly-graph-div\" style=\"height:525px; width:100%;\"></div>            <script type=\"text/javascript\">                require([\"plotly\"], function(Plotly) {                    window.PLOTLYENV=window.PLOTLYENV || {};                                    if (document.getElementById(\"59425fd2-0066-48e1-9212-80976d407959\")) {                    Plotly.newPlot(                        \"59425fd2-0066-48e1-9212-80976d407959\",                        [{\"customdata\":[[\"Area 5 + Area 6\"],[\"Area 5 + Area 6\"],[\"Area 5 + Area 6\"],[\"Area 5 + Area 6\"],[\"Area 5 + Area 6\"],[\"Area 5 + Area 6\"],[\"Area 5 + Area 6\"],[\"Area 5 + Area 6\"],[\"Area 5 + Area 6\"],[\"Area 5 + Area 6\"],[\"Area 5 + Area 6\"],[\"Area 5 + Area 6\"],[\"Area 5 + Area 6\"],[\"Area 5 + Area 6\"],[\"Area 5 + Area 6\"],[\"Area 5 + Area 6\"],[\"Area 5 + Area 6\"],[\"Area 5 + Area 6\"],[\"Area 5 + Area 6\"],[\"Area 5 + Area 6\"],[\"Area 5 + Area 6\"],[\"Area 5 + Area 6\"],[\"Area 5 + Area 6\"],[\"Area 5 + Area 6\"],[\"Area 5 + Area 6\"],[\"Area 5 + Area 6\"],[\"Area 5 + Area 6\"],[\"Area 5 + Area 6\"],[\"Area 5 + Area 6\"],[\"Area 5 + Area 6\"],[\"Area 5 + Area 6\"],[\"Area 5 + Area 6\"],[\"Area 5 + Area 6\"],[\"Area 5 + Area 6\"],[\"Area 5 + Area 6\"],[\"Area 5 + Area 6\"],[\"Area 5 + Area 6\"],[\"Area 4 + Area 6\"],[\"Area 4 + Area 6\"],[\"Area 4 + Area 6\"],[\"Area 4 + Area 6\"],[\"Area 4 + Area 6\"],[\"Area 4 + Area 6\"],[\"Area 4 + Area 6\"],[\"Area 4 + Area 6\"],[\"Area 4 + Area 6\"],[\"Area 4 + Area 6\"],[\"Area 4 + Area 5\"],[\"Area 3 + Area 5\"],[\"Area 3 + Area 4\"],[\"Area 2 + Area 3\"],[\"Area 1 + Area 4\"]],\"domain\":{\"x\":[0.0,1.0],\"y\":[0.0,1.0]},\"hole\":0.4,\"hovertemplate\":\"%{text}<br><i>Count:</i> %{value}<br> %{percent}\",\"labels\":[\"Area 5 + Area 6\",\"Area 5 + Area 6\",\"Area 5 + Area 6\",\"Area 5 + Area 6\",\"Area 5 + Area 6\",\"Area 5 + Area 6\",\"Area 5 + Area 6\",\"Area 5 + Area 6\",\"Area 5 + Area 6\",\"Area 5 + Area 6\",\"Area 5 + Area 6\",\"Area 5 + Area 6\",\"Area 5 + Area 6\",\"Area 5 + Area 6\",\"Area 5 + Area 6\",\"Area 5 + Area 6\",\"Area 5 + Area 6\",\"Area 5 + Area 6\",\"Area 5 + Area 6\",\"Area 5 + Area 6\",\"Area 5 + Area 6\",\"Area 5 + Area 6\",\"Area 5 + Area 6\",\"Area 5 + Area 6\",\"Area 5 + Area 6\",\"Area 5 + Area 6\",\"Area 5 + Area 6\",\"Area 5 + Area 6\",\"Area 5 + Area 6\",\"Area 5 + Area 6\",\"Area 5 + Area 6\",\"Area 5 + Area 6\",\"Area 5 + Area 6\",\"Area 5 + Area 6\",\"Area 5 + Area 6\",\"Area 5 + Area 6\",\"Area 5 + Area 6\",\"Area 4 + Area 6\",\"Area 4 + Area 6\",\"Area 4 + Area 6\",\"Area 4 + Area 6\",\"Area 4 + Area 6\",\"Area 4 + Area 6\",\"Area 4 + Area 6\",\"Area 4 + Area 6\",\"Area 4 + Area 6\",\"Area 4 + Area 6\",\"Area 4 + Area 5\",\"Area 3 + Area 5\",\"Area 3 + Area 4\",\"Area 2 + Area 3\",\"Area 1 + Area 4\"],\"legendgroup\":\"\",\"marker\":{\"colors\":[\"rgb(76,114,176)\",\"rgb(76,114,176)\",\"rgb(76,114,176)\",\"rgb(76,114,176)\",\"rgb(76,114,176)\",\"rgb(76,114,176)\",\"rgb(76,114,176)\",\"rgb(76,114,176)\",\"rgb(76,114,176)\",\"rgb(76,114,176)\",\"rgb(76,114,176)\",\"rgb(76,114,176)\",\"rgb(76,114,176)\",\"rgb(76,114,176)\",\"rgb(76,114,176)\",\"rgb(76,114,176)\",\"rgb(76,114,176)\",\"rgb(76,114,176)\",\"rgb(76,114,176)\",\"rgb(76,114,176)\",\"rgb(76,114,176)\",\"rgb(76,114,176)\",\"rgb(76,114,176)\",\"rgb(76,114,176)\",\"rgb(76,114,176)\",\"rgb(76,114,176)\",\"rgb(76,114,176)\",\"rgb(76,114,176)\",\"rgb(76,114,176)\",\"rgb(76,114,176)\",\"rgb(76,114,176)\",\"rgb(76,114,176)\",\"rgb(76,114,176)\",\"rgb(76,114,176)\",\"rgb(76,114,176)\",\"rgb(76,114,176)\",\"rgb(76,114,176)\",\"rgb(221,132,82)\",\"rgb(221,132,82)\",\"rgb(221,132,82)\",\"rgb(221,132,82)\",\"rgb(221,132,82)\",\"rgb(221,132,82)\",\"rgb(221,132,82)\",\"rgb(221,132,82)\",\"rgb(221,132,82)\",\"rgb(221,132,82)\",\"rgb(85,168,104)\",\"rgb(196,78,82)\",\"rgb(129,114,179)\",\"rgb(147,120,96)\",\"rgb(218,139,195)\"]},\"name\":\"\",\"showlegend\":true,\"type\":\"pie\",\"hovertext\":[\"Area 5: Computer Hardware & Computer Networks<br>Area 6: Computer Software\",\"Area 5: Computer Hardware & Computer Networks<br>Area 6: Computer Software\",\"Area 5: Computer Hardware & Computer Networks<br>Area 6: Computer Software\",\"Area 5: Computer Hardware & Computer Networks<br>Area 6: Computer Software\",\"Area 5: Computer Hardware & Computer Networks<br>Area 6: Computer Software\",\"Area 5: Computer Hardware & Computer Networks<br>Area 6: Computer Software\",\"Area 5: Computer Hardware & Computer Networks<br>Area 6: Computer Software\",\"Area 5: Computer Hardware & Computer Networks<br>Area 6: Computer Software\",\"Area 5: Computer Hardware & Computer Networks<br>Area 6: Computer Software\",\"Area 5: Computer Hardware & Computer Networks<br>Area 6: Computer Software\",\"Area 5: Computer Hardware & Computer Networks<br>Area 6: Computer Software\",\"Area 5: Computer Hardware & Computer Networks<br>Area 6: Computer Software\",\"Area 5: Computer Hardware & Computer Networks<br>Area 6: Computer Software\",\"Area 5: Computer Hardware & Computer Networks<br>Area 6: Computer Software\",\"Area 5: Computer Hardware & Computer Networks<br>Area 6: Computer Software\",\"Area 5: Computer Hardware & Computer Networks<br>Area 6: Computer Software\",\"Area 5: Computer Hardware & Computer Networks<br>Area 6: Computer Software\",\"Area 5: Computer Hardware & Computer Networks<br>Area 6: Computer Software\",\"Area 5: Computer Hardware & Computer Networks<br>Area 6: Computer Software\",\"Area 5: Computer Hardware & Computer Networks<br>Area 6: Computer Software\",\"Area 5: Computer Hardware & Computer Networks<br>Area 6: Computer Software\",\"Area 5: Computer Hardware & Computer Networks<br>Area 6: Computer Software\",\"Area 5: Computer Hardware & Computer Networks<br>Area 6: Computer Software\",\"Area 5: Computer Hardware & Computer Networks<br>Area 6: Computer Software\",\"Area 5: Computer Hardware & Computer Networks<br>Area 6: Computer Software\",\"Area 5: Computer Hardware & Computer Networks<br>Area 6: Computer Software\",\"Area 5: Computer Hardware & Computer Networks<br>Area 6: Computer Software\",\"Area 5: Computer Hardware & Computer Networks<br>Area 6: Computer Software\",\"Area 5: Computer Hardware & Computer Networks<br>Area 6: Computer Software\",\"Area 5: Computer Hardware & Computer Networks<br>Area 6: Computer Software\",\"Area 5: Computer Hardware & Computer Networks<br>Area 6: Computer Software\",\"Area 5: Computer Hardware & Computer Networks<br>Area 6: Computer Software\",\"Area 5: Computer Hardware & Computer Networks<br>Area 6: Computer Software\",\"Area 5: Computer Hardware & Computer Networks<br>Area 6: Computer Software\",\"Area 5: Computer Hardware & Computer Networks<br>Area 6: Computer Software\",\"Area 5: Computer Hardware & Computer Networks<br>Area 6: Computer Software\",\"Area 5: Computer Hardware & Computer Networks<br>Area 6: Computer Software\",\"Area 4: Systems Control<br>Area 6: Computer Software<br>Communications & Signal Processing\",\"Area 4: Systems Control<br>Area 6: Computer Software<br>Communications & Signal Processing\",\"Area 4: Systems Control<br>Area 6: Computer Software<br>Communications & Signal Processing\",\"Area 4: Systems Control<br>Area 6: Computer Software<br>Communications & Signal Processing\",\"Area 4: Systems Control<br>Area 6: Computer Software<br>Communications & Signal Processing\",\"Area 4: Systems Control<br>Area 6: Computer Software<br>Communications & Signal Processing\",\"Area 4: Systems Control<br>Area 6: Computer Software<br>Communications & Signal Processing\",\"Area 4: Systems Control<br>Area 6: Computer Software<br>Communications & Signal Processing\",\"Area 4: Systems Control<br>Area 6: Computer Software<br>Communications & Signal Processing\",\"Area 4: Systems Control<br>Area 6: Computer Software<br>Communications & Signal Processing\",\"Area 4: Systems Control<br>Area 5: Computer Hardware & Computer Networks<br>Communications & Signal Processing\",\"Area 3: Digital & Analog Electronics<br>Area 5: Computer Hardware & Computer Networks\",\"Area 3: Digital & Analog Electronics<br>Area 4: Systems Control<br>Communications & Signal Processing\",\"Area 2: Electromagnetics & Energy Systems<br>Area 3: Digital & Analog Electronics\",\"Area 1: Photonics & Semiconductor Physics<br>Area 4: Systems Control<br>Communications & Signal Processing\"],\"text\":[\"Area 5 + Area 6\",\"Area 5 + Area 6\",\"Area 5 + Area 6\",\"Area 5 + Area 6\",\"Area 5 + Area 6\",\"Area 5 + Area 6\",\"Area 5 + Area 6\",\"Area 5 + Area 6\",\"Area 5 + Area 6\",\"Area 5 + Area 6\",\"Area 5 + Area 6\",\"Area 5 + Area 6\",\"Area 5 + Area 6\",\"Area 5 + Area 6\",\"Area 5 + Area 6\",\"Area 5 + Area 6\",\"Area 5 + Area 6\",\"Area 5 + Area 6\",\"Area 5 + Area 6\",\"Area 5 + Area 6\",\"Area 5 + Area 6\",\"Area 5 + Area 6\",\"Area 5 + Area 6\",\"Area 5 + Area 6\",\"Area 5 + Area 6\",\"Area 5 + Area 6\",\"Area 5 + Area 6\",\"Area 5 + Area 6\",\"Area 5 + Area 6\",\"Area 5 + Area 6\",\"Area 5 + Area 6\",\"Area 5 + Area 6\",\"Area 5 + Area 6\",\"Area 5 + Area 6\",\"Area 5 + Area 6\",\"Area 5 + Area 6\",\"Area 5 + Area 6\",\"Area 4 + Area 6\",\"Area 4 + Area 6\",\"Area 4 + Area 6\",\"Area 4 + Area 6\",\"Area 4 + Area 6\",\"Area 4 + Area 6\",\"Area 4 + Area 6\",\"Area 4 + Area 6\",\"Area 4 + Area 6\",\"Area 4 + Area 6\",\"Area 4 + Area 5\",\"Area 3 + Area 5\",\"Area 3 + Area 4\",\"Area 2 + Area 3\",\"Area 1 + Area 4\"],\"textinfo\":\"label+value\",\"textposition\":\"outside\"}],                        {\"template\":{\"data\":{\"barpolar\":[{\"marker\":{\"line\":{\"color\":\"rgb(234,234,242)\",\"width\":0.5},\"pattern\":{\"fillmode\":\"overlay\",\"size\":10,\"solidity\":0.2}},\"type\":\"barpolar\"}],\"bar\":[{\"error_x\":{\"color\":\"rgb(36,36,36)\"},\"error_y\":{\"color\":\"rgb(36,36,36)\"},\"marker\":{\"line\":{\"color\":\"rgb(234,234,242)\",\"width\":0.5},\"pattern\":{\"fillmode\":\"overlay\",\"size\":10,\"solidity\":0.2}},\"type\":\"bar\"}],\"carpet\":[{\"aaxis\":{\"endlinecolor\":\"rgb(36,36,36)\",\"gridcolor\":\"white\",\"linecolor\":\"white\",\"minorgridcolor\":\"white\",\"startlinecolor\":\"rgb(36,36,36)\"},\"baxis\":{\"endlinecolor\":\"rgb(36,36,36)\",\"gridcolor\":\"white\",\"linecolor\":\"white\",\"minorgridcolor\":\"white\",\"startlinecolor\":\"rgb(36,36,36)\"},\"type\":\"carpet\"}],\"choropleth\":[{\"colorbar\":{\"outlinewidth\":0,\"tickcolor\":\"rgb(36,36,36)\",\"ticklen\":8,\"ticks\":\"outside\",\"tickwidth\":2},\"type\":\"choropleth\"}],\"contourcarpet\":[{\"colorbar\":{\"outlinewidth\":0,\"tickcolor\":\"rgb(36,36,36)\",\"ticklen\":8,\"ticks\":\"outside\",\"tickwidth\":2},\"type\":\"contourcarpet\"}],\"contour\":[{\"colorbar\":{\"outlinewidth\":0,\"tickcolor\":\"rgb(36,36,36)\",\"ticklen\":8,\"ticks\":\"outside\",\"tickwidth\":2},\"colorscale\":[[0.0,\"rgb(2,4,25)\"],[0.06274509803921569,\"rgb(24,15,41)\"],[0.12549019607843137,\"rgb(47,23,57)\"],[0.18823529411764706,\"rgb(71,28,72)\"],[0.25098039215686274,\"rgb(97,30,82)\"],[0.3137254901960784,\"rgb(123,30,89)\"],[0.3764705882352941,\"rgb(150,27,91)\"],[0.4392156862745098,\"rgb(177,22,88)\"],[0.5019607843137255,\"rgb(203,26,79)\"],[0.5647058823529412,\"rgb(223,47,67)\"],[0.6274509803921569,\"rgb(236,76,61)\"],[0.6901960784313725,\"rgb(242,107,73)\"],[0.7529411764705882,\"rgb(244,135,95)\"],[0.8156862745098039,\"rgb(245,162,122)\"],[0.8784313725490196,\"rgb(246,188,153)\"],[0.9411764705882353,\"rgb(247,212,187)\"],[1.0,\"rgb(250,234,220)\"]],\"type\":\"contour\"}],\"heatmapgl\":[{\"colorbar\":{\"outlinewidth\":0,\"tickcolor\":\"rgb(36,36,36)\",\"ticklen\":8,\"ticks\":\"outside\",\"tickwidth\":2},\"colorscale\":[[0.0,\"rgb(2,4,25)\"],[0.06274509803921569,\"rgb(24,15,41)\"],[0.12549019607843137,\"rgb(47,23,57)\"],[0.18823529411764706,\"rgb(71,28,72)\"],[0.25098039215686274,\"rgb(97,30,82)\"],[0.3137254901960784,\"rgb(123,30,89)\"],[0.3764705882352941,\"rgb(150,27,91)\"],[0.4392156862745098,\"rgb(177,22,88)\"],[0.5019607843137255,\"rgb(203,26,79)\"],[0.5647058823529412,\"rgb(223,47,67)\"],[0.6274509803921569,\"rgb(236,76,61)\"],[0.6901960784313725,\"rgb(242,107,73)\"],[0.7529411764705882,\"rgb(244,135,95)\"],[0.8156862745098039,\"rgb(245,162,122)\"],[0.8784313725490196,\"rgb(246,188,153)\"],[0.9411764705882353,\"rgb(247,212,187)\"],[1.0,\"rgb(250,234,220)\"]],\"type\":\"heatmapgl\"}],\"heatmap\":[{\"colorbar\":{\"outlinewidth\":0,\"tickcolor\":\"rgb(36,36,36)\",\"ticklen\":8,\"ticks\":\"outside\",\"tickwidth\":2},\"colorscale\":[[0.0,\"rgb(2,4,25)\"],[0.06274509803921569,\"rgb(24,15,41)\"],[0.12549019607843137,\"rgb(47,23,57)\"],[0.18823529411764706,\"rgb(71,28,72)\"],[0.25098039215686274,\"rgb(97,30,82)\"],[0.3137254901960784,\"rgb(123,30,89)\"],[0.3764705882352941,\"rgb(150,27,91)\"],[0.4392156862745098,\"rgb(177,22,88)\"],[0.5019607843137255,\"rgb(203,26,79)\"],[0.5647058823529412,\"rgb(223,47,67)\"],[0.6274509803921569,\"rgb(236,76,61)\"],[0.6901960784313725,\"rgb(242,107,73)\"],[0.7529411764705882,\"rgb(244,135,95)\"],[0.8156862745098039,\"rgb(245,162,122)\"],[0.8784313725490196,\"rgb(246,188,153)\"],[0.9411764705882353,\"rgb(247,212,187)\"],[1.0,\"rgb(250,234,220)\"]],\"type\":\"heatmap\"}],\"histogram2dcontour\":[{\"colorbar\":{\"outlinewidth\":0,\"tickcolor\":\"rgb(36,36,36)\",\"ticklen\":8,\"ticks\":\"outside\",\"tickwidth\":2},\"colorscale\":[[0.0,\"rgb(2,4,25)\"],[0.06274509803921569,\"rgb(24,15,41)\"],[0.12549019607843137,\"rgb(47,23,57)\"],[0.18823529411764706,\"rgb(71,28,72)\"],[0.25098039215686274,\"rgb(97,30,82)\"],[0.3137254901960784,\"rgb(123,30,89)\"],[0.3764705882352941,\"rgb(150,27,91)\"],[0.4392156862745098,\"rgb(177,22,88)\"],[0.5019607843137255,\"rgb(203,26,79)\"],[0.5647058823529412,\"rgb(223,47,67)\"],[0.6274509803921569,\"rgb(236,76,61)\"],[0.6901960784313725,\"rgb(242,107,73)\"],[0.7529411764705882,\"rgb(244,135,95)\"],[0.8156862745098039,\"rgb(245,162,122)\"],[0.8784313725490196,\"rgb(246,188,153)\"],[0.9411764705882353,\"rgb(247,212,187)\"],[1.0,\"rgb(250,234,220)\"]],\"type\":\"histogram2dcontour\"}],\"histogram2d\":[{\"colorbar\":{\"outlinewidth\":0,\"tickcolor\":\"rgb(36,36,36)\",\"ticklen\":8,\"ticks\":\"outside\",\"tickwidth\":2},\"colorscale\":[[0.0,\"rgb(2,4,25)\"],[0.06274509803921569,\"rgb(24,15,41)\"],[0.12549019607843137,\"rgb(47,23,57)\"],[0.18823529411764706,\"rgb(71,28,72)\"],[0.25098039215686274,\"rgb(97,30,82)\"],[0.3137254901960784,\"rgb(123,30,89)\"],[0.3764705882352941,\"rgb(150,27,91)\"],[0.4392156862745098,\"rgb(177,22,88)\"],[0.5019607843137255,\"rgb(203,26,79)\"],[0.5647058823529412,\"rgb(223,47,67)\"],[0.6274509803921569,\"rgb(236,76,61)\"],[0.6901960784313725,\"rgb(242,107,73)\"],[0.7529411764705882,\"rgb(244,135,95)\"],[0.8156862745098039,\"rgb(245,162,122)\"],[0.8784313725490196,\"rgb(246,188,153)\"],[0.9411764705882353,\"rgb(247,212,187)\"],[1.0,\"rgb(250,234,220)\"]],\"type\":\"histogram2d\"}],\"histogram\":[{\"marker\":{\"pattern\":{\"fillmode\":\"overlay\",\"size\":10,\"solidity\":0.2}},\"type\":\"histogram\"}],\"mesh3d\":[{\"colorbar\":{\"outlinewidth\":0,\"tickcolor\":\"rgb(36,36,36)\",\"ticklen\":8,\"ticks\":\"outside\",\"tickwidth\":2},\"type\":\"mesh3d\"}],\"parcoords\":[{\"line\":{\"colorbar\":{\"outlinewidth\":0,\"tickcolor\":\"rgb(36,36,36)\",\"ticklen\":8,\"ticks\":\"outside\",\"tickwidth\":2}},\"type\":\"parcoords\"}],\"pie\":[{\"automargin\":true,\"type\":\"pie\"}],\"scatter3d\":[{\"line\":{\"colorbar\":{\"outlinewidth\":0,\"tickcolor\":\"rgb(36,36,36)\",\"ticklen\":8,\"ticks\":\"outside\",\"tickwidth\":2}},\"marker\":{\"colorbar\":{\"outlinewidth\":0,\"tickcolor\":\"rgb(36,36,36)\",\"ticklen\":8,\"ticks\":\"outside\",\"tickwidth\":2}},\"type\":\"scatter3d\"}],\"scattercarpet\":[{\"marker\":{\"colorbar\":{\"outlinewidth\":0,\"tickcolor\":\"rgb(36,36,36)\",\"ticklen\":8,\"ticks\":\"outside\",\"tickwidth\":2}},\"type\":\"scattercarpet\"}],\"scattergeo\":[{\"marker\":{\"colorbar\":{\"outlinewidth\":0,\"tickcolor\":\"rgb(36,36,36)\",\"ticklen\":8,\"ticks\":\"outside\",\"tickwidth\":2}},\"type\":\"scattergeo\"}],\"scattergl\":[{\"marker\":{\"colorbar\":{\"outlinewidth\":0,\"tickcolor\":\"rgb(36,36,36)\",\"ticklen\":8,\"ticks\":\"outside\",\"tickwidth\":2}},\"type\":\"scattergl\"}],\"scattermapbox\":[{\"marker\":{\"colorbar\":{\"outlinewidth\":0,\"tickcolor\":\"rgb(36,36,36)\",\"ticklen\":8,\"ticks\":\"outside\",\"tickwidth\":2}},\"type\":\"scattermapbox\"}],\"scatterpolargl\":[{\"marker\":{\"colorbar\":{\"outlinewidth\":0,\"tickcolor\":\"rgb(36,36,36)\",\"ticklen\":8,\"ticks\":\"outside\",\"tickwidth\":2}},\"type\":\"scatterpolargl\"}],\"scatterpolar\":[{\"marker\":{\"colorbar\":{\"outlinewidth\":0,\"tickcolor\":\"rgb(36,36,36)\",\"ticklen\":8,\"ticks\":\"outside\",\"tickwidth\":2}},\"type\":\"scatterpolar\"}],\"scatter\":[{\"fillpattern\":{\"fillmode\":\"overlay\",\"size\":10,\"solidity\":0.2},\"type\":\"scatter\"}],\"scatterternary\":[{\"marker\":{\"colorbar\":{\"outlinewidth\":0,\"tickcolor\":\"rgb(36,36,36)\",\"ticklen\":8,\"ticks\":\"outside\",\"tickwidth\":2}},\"type\":\"scatterternary\"}],\"surface\":[{\"colorbar\":{\"outlinewidth\":0,\"tickcolor\":\"rgb(36,36,36)\",\"ticklen\":8,\"ticks\":\"outside\",\"tickwidth\":2},\"colorscale\":[[0.0,\"rgb(2,4,25)\"],[0.06274509803921569,\"rgb(24,15,41)\"],[0.12549019607843137,\"rgb(47,23,57)\"],[0.18823529411764706,\"rgb(71,28,72)\"],[0.25098039215686274,\"rgb(97,30,82)\"],[0.3137254901960784,\"rgb(123,30,89)\"],[0.3764705882352941,\"rgb(150,27,91)\"],[0.4392156862745098,\"rgb(177,22,88)\"],[0.5019607843137255,\"rgb(203,26,79)\"],[0.5647058823529412,\"rgb(223,47,67)\"],[0.6274509803921569,\"rgb(236,76,61)\"],[0.6901960784313725,\"rgb(242,107,73)\"],[0.7529411764705882,\"rgb(244,135,95)\"],[0.8156862745098039,\"rgb(245,162,122)\"],[0.8784313725490196,\"rgb(246,188,153)\"],[0.9411764705882353,\"rgb(247,212,187)\"],[1.0,\"rgb(250,234,220)\"]],\"type\":\"surface\"}],\"table\":[{\"cells\":{\"fill\":{\"color\":\"rgb(231,231,240)\"},\"line\":{\"color\":\"white\"}},\"header\":{\"fill\":{\"color\":\"rgb(183,183,191)\"},\"line\":{\"color\":\"white\"}},\"type\":\"table\"}]},\"layout\":{\"annotationdefaults\":{\"arrowcolor\":\"rgb(67,103,167)\"},\"autosize\":true,\"autotypenumbers\":\"strict\",\"coloraxis\":{\"colorbar\":{\"outlinewidth\":0,\"tickcolor\":\"rgb(36,36,36)\",\"ticklen\":8,\"ticks\":\"outside\",\"tickwidth\":2}},\"colorscale\":{\"sequential\":[[0.0,\"rgb(2,4,25)\"],[0.06274509803921569,\"rgb(24,15,41)\"],[0.12549019607843137,\"rgb(47,23,57)\"],[0.18823529411764706,\"rgb(71,28,72)\"],[0.25098039215686274,\"rgb(97,30,82)\"],[0.3137254901960784,\"rgb(123,30,89)\"],[0.3764705882352941,\"rgb(150,27,91)\"],[0.4392156862745098,\"rgb(177,22,88)\"],[0.5019607843137255,\"rgb(203,26,79)\"],[0.5647058823529412,\"rgb(223,47,67)\"],[0.6274509803921569,\"rgb(236,76,61)\"],[0.6901960784313725,\"rgb(242,107,73)\"],[0.7529411764705882,\"rgb(244,135,95)\"],[0.8156862745098039,\"rgb(245,162,122)\"],[0.8784313725490196,\"rgb(246,188,153)\"],[0.9411764705882353,\"rgb(247,212,187)\"],[1.0,\"rgb(250,234,220)\"]],\"sequentialminus\":[[0.0,\"rgb(2,4,25)\"],[0.06274509803921569,\"rgb(24,15,41)\"],[0.12549019607843137,\"rgb(47,23,57)\"],[0.18823529411764706,\"rgb(71,28,72)\"],[0.25098039215686274,\"rgb(97,30,82)\"],[0.3137254901960784,\"rgb(123,30,89)\"],[0.3764705882352941,\"rgb(150,27,91)\"],[0.4392156862745098,\"rgb(177,22,88)\"],[0.5019607843137255,\"rgb(203,26,79)\"],[0.5647058823529412,\"rgb(223,47,67)\"],[0.6274509803921569,\"rgb(236,76,61)\"],[0.6901960784313725,\"rgb(242,107,73)\"],[0.7529411764705882,\"rgb(244,135,95)\"],[0.8156862745098039,\"rgb(245,162,122)\"],[0.8784313725490196,\"rgb(246,188,153)\"],[0.9411764705882353,\"rgb(247,212,187)\"],[1.0,\"rgb(250,234,220)\"]]},\"colorway\":[\"rgb(76,114,176)\",\"rgb(221,132,82)\",\"rgb(85,168,104)\",\"rgb(196,78,82)\",\"rgb(129,114,179)\",\"rgb(147,120,96)\",\"rgb(218,139,195)\",\"rgb(140,140,140)\",\"rgb(204,185,116)\",\"rgb(100,181,205)\"],\"dragmode\":\"pan\",\"font\":{\"color\":\"#4f4f4f\"},\"geo\":{\"bgcolor\":\"white\",\"lakecolor\":\"white\",\"landcolor\":\"rgb(234,234,242)\",\"showlakes\":true,\"showland\":true,\"subunitcolor\":\"white\"},\"hoverlabel\":{\"align\":\"left\"},\"hovermode\":\"closest\",\"legend\":{\"font\":{\"size\":13}},\"margin\":{\"l\":2,\"r\":2},\"paper_bgcolor\":\"#D0E3F1\",\"plot_bgcolor\":\"rgb(234,234,242)\",\"polar\":{\"angularaxis\":{\"gridcolor\":\"white\",\"linecolor\":\"white\",\"showgrid\":true,\"ticks\":\"\"},\"bgcolor\":\"rgb(234,234,242)\",\"radialaxis\":{\"gridcolor\":\"white\",\"linecolor\":\"white\",\"showgrid\":true,\"ticks\":\"\"}},\"scene\":{\"xaxis\":{\"backgroundcolor\":\"rgb(234,234,242)\",\"gridcolor\":\"white\",\"gridwidth\":2,\"linecolor\":\"white\",\"showbackground\":true,\"showgrid\":true,\"ticks\":\"\",\"zerolinecolor\":\"white\"},\"yaxis\":{\"backgroundcolor\":\"rgb(234,234,242)\",\"gridcolor\":\"white\",\"gridwidth\":2,\"linecolor\":\"white\",\"showbackground\":true,\"showgrid\":true,\"ticks\":\"\",\"zerolinecolor\":\"white\"},\"zaxis\":{\"backgroundcolor\":\"rgb(234,234,242)\",\"gridcolor\":\"white\",\"gridwidth\":2,\"linecolor\":\"white\",\"showbackground\":true,\"showgrid\":true,\"ticks\":\"\",\"zerolinecolor\":\"white\"}},\"shapedefaults\":{\"fillcolor\":\"rgb(67,103,167)\",\"line\":{\"width\":0},\"opacity\":0.5},\"showlegend\":false,\"ternary\":{\"aaxis\":{\"gridcolor\":\"white\",\"linecolor\":\"white\",\"showgrid\":true,\"ticks\":\"\"},\"baxis\":{\"gridcolor\":\"white\",\"linecolor\":\"white\",\"showgrid\":true,\"ticks\":\"\"},\"bgcolor\":\"rgb(234,234,242)\",\"caxis\":{\"gridcolor\":\"white\",\"linecolor\":\"white\",\"showgrid\":true,\"ticks\":\"\"}},\"title\":{\"font\":{\"size\":17}},\"xaxis\":{\"automargin\":true,\"gridcolor\":\"white\",\"linecolor\":\"black\",\"linewidth\":2,\"mirror\":true,\"showgrid\":true,\"showline\":true,\"ticks\":\"\",\"title\":{\"standoff\":15,\"text\":\"\"},\"zerolinecolor\":\"white\"},\"yaxis\":{\"automargin\":true,\"gridcolor\":\"white\",\"linecolor\":\"black\",\"linewidth\":2,\"mirror\":true,\"showgrid\":true,\"showline\":true,\"ticks\":\"\",\"title\":{\"standoff\":15,\"text\":\"\"},\"zerolinecolor\":\"white\"}}},\"legend\":{\"tracegroupgap\":0},\"margin\":{\"t\":60}},                        {\"responsive\": true}                    ).then(function(){\n",
       "                            \n",
       "var gd = document.getElementById('59425fd2-0066-48e1-9212-80976d407959');\n",
       "var x = new MutationObserver(function (mutations, observer) {{\n",
       "        var display = window.getComputedStyle(gd).display;\n",
       "        if (!display || display === 'none') {{\n",
       "            console.log([gd, 'removed!']);\n",
       "            Plotly.purge(gd);\n",
       "            observer.disconnect();\n",
       "        }}\n",
       "}});\n",
       "\n",
       "// Listen for the removal of the full notebook cells\n",
       "var notebookContainer = gd.closest('#notebook-container');\n",
       "if (notebookContainer) {{\n",
       "    x.observe(notebookContainer, {childList: true});\n",
       "}}\n",
       "\n",
       "// Listen for the clearing of the current output cell\n",
       "var outputEl = gd.closest('.output');\n",
       "if (outputEl) {{\n",
       "    x.observe(outputEl, {childList: true});\n",
       "}}\n",
       "\n",
       "                        })                };                });            </script>        </div>"
      ]
     },
     "metadata": {},
     "output_type": "display_data"
    }
   ],
   "source": [
    "# df.groupby(\"What 2 areas did you specialize in?\", as_index=False).count()[[\"What 2 areas did you specialize in?\", \"Submission ID\"]]\n",
    "fig = px.pie(df_specialization, names=\"What 2 areas did you specialize in?\", color=\"What 2 areas did you specialize in?\",\n",
    "             hole=0.4)\n",
    "fig.update_traces(textinfo=\"label+value\",\n",
    "                  hovertemplate=\"%{text}<br><i>Count:</i> %{value}<br> %{percent}\",\n",
    "                  hovertext=areas_long_form,\n",
    "                  text=areas_simplified,\n",
    "                  textposition=\"outside\",\n",
    "                )\n",
    "# fig.update_layout(legend=dict(traceorder=\"reversed\",\n",
    "#                               yanchor=\"top\", xanchor=\"center\",\n",
    "#                               orientation=\"h\",\n",
    "#                               x=0.5, y=-0.1),\n",
    "#                               showlegend=True)\n",
    "fig.show()"
   ]
  },
  {
   "attachments": {},
   "cell_type": "markdown",
   "metadata": {},
   "source": [
    "## Exchange Information"
   ]
  },
  {
   "cell_type": "code",
   "execution_count": 71,
   "metadata": {},
   "outputs": [],
   "source": [
    "# data_checker(df[\"Have you participated in an exchange?\"], check_unique=True)"
   ]
  },
  {
   "cell_type": "code",
   "execution_count": 72,
   "metadata": {},
   "outputs": [],
   "source": [
    "df[\"Have you participated in an exchange?\"].fillna(\"Did not say\", inplace=True)"
   ]
  },
  {
   "cell_type": "code",
   "execution_count": 73,
   "metadata": {},
   "outputs": [],
   "source": [
    "# data_checker(df[\"If yes, where did you do your exchange?\"], check_unique=True)"
   ]
  },
  {
   "cell_type": "code",
   "execution_count": 74,
   "metadata": {},
   "outputs": [],
   "source": [
    "assert(\n",
    "    df.loc[(df[\"Have you participated in an exchange?\"] == \"no\") & \\\n",
    "        df[\"If yes, where did you do your exchange?\"].notna(), [\"Have you participated in an exchange?\", \n",
    "                                                                \"If yes, where did you do your exchange?\"]].shape[0] == 0\n",
    ")"
   ]
  },
  {
   "cell_type": "code",
   "execution_count": 75,
   "metadata": {},
   "outputs": [],
   "source": [
    "assert(\n",
    "    df.loc[(df[\"Have you participated in an exchange?\"] == \"yes\") & \\\n",
    "        df[\"If yes, where did you do your exchange?\"].isna(), [\"Have you participated in an exchange?\", \n",
    "                                                                \"If yes, where did you do your exchange?\"]].shape[0] == 0\n",
    ")"
   ]
  },
  {
   "cell_type": "code",
   "execution_count": 76,
   "metadata": {},
   "outputs": [],
   "source": [
    "# data_checker(df[\"If you did not do an exchange, what were your reasons for not?\"], check_unique=True)"
   ]
  },
  {
   "cell_type": "code",
   "execution_count": 77,
   "metadata": {},
   "outputs": [],
   "source": [
    "df[\"If you did not do an exchange, what were your reasons for not?\"].fillna(\"No answer\", inplace=True)"
   ]
  },
  {
   "cell_type": "code",
   "execution_count": 78,
   "metadata": {},
   "outputs": [],
   "source": [
    "assert(\n",
    "    df.loc[(df[\"Have you participated in an exchange?\"] == \"yes\") & \\\n",
    "        (df[\"If you did not do an exchange, what were your reasons for not?\"] != \"No answer\"), :].shape[0] == 0\n",
    ")"
   ]
  },
  {
   "cell_type": "code",
   "execution_count": 79,
   "metadata": {},
   "outputs": [],
   "source": [
    "df_no_exchange_reasons = \\\n",
    "    process_multiple_choice_survey(df[\"If you did not do an exchange, what were your reasons for not?\"], column=\"exchangeReasons\")"
   ]
  },
  {
   "cell_type": "code",
   "execution_count": 80,
   "metadata": {},
   "outputs": [],
   "source": [
    "df[\"No Exchange Reasons\"] = df_no_exchange_reasons[\"exchangeReasons\"]"
   ]
  },
  {
   "cell_type": "code",
   "execution_count": 83,
   "metadata": {},
   "outputs": [
    {
     "data": {
      "image/svg+xml": [
       "<svg class=\"main-svg\" xmlns=\"http://www.w3.org/2000/svg\" xmlns:xlink=\"http://www.w3.org/1999/xlink\" width=\"700\" height=\"500\" style=\"\" viewBox=\"0 0 700 500\"><rect x=\"0\" y=\"0\" width=\"700\" height=\"500\" style=\"fill: rgb(45, 48, 53); fill-opacity: 1;\"/><defs id=\"defs-ea0cfc\"><g class=\"clips\"><clipPath id=\"clipea0cfcxyplot\" class=\"plotclip\"><rect width=\"696\" height=\"316\"/></clipPath><clipPath class=\"axesclip\" id=\"clipea0cfcx\"><rect x=\"2\" y=\"0\" width=\"696\" height=\"500\"/></clipPath><clipPath class=\"axesclip\" id=\"clipea0cfcy\"><rect x=\"0\" y=\"100\" width=\"700\" height=\"316\"/></clipPath><clipPath class=\"axesclip\" id=\"clipea0cfcxy\"><rect x=\"2\" y=\"100\" width=\"696\" height=\"316\"/></clipPath></g><g class=\"gradients\"/><g class=\"patterns\"/></defs><g class=\"bglayer\"/><g class=\"layer-below\"><g class=\"imagelayer\"/><g class=\"shapelayer\"/></g><g class=\"cartesianlayer\"><g class=\"subplot xy\"><g class=\"layer-subplot\"><g class=\"shapelayer\"/><g class=\"imagelayer\"/></g><g class=\"minor-gridlayer\"><g class=\"x\"/><g class=\"y\"/></g><g class=\"gridlayer\"><g class=\"x\"/><g class=\"y\"/></g><g class=\"zerolinelayer\"/><path class=\"xlines-below\"/><path class=\"ylines-below\"/><g class=\"overlines-below\"/><g class=\"xaxislayer-below\"/><g class=\"yaxislayer-below\"/><g class=\"overaxes-below\"/><g class=\"plot\" transform=\"translate(2,100)\" clip-path=\"url(#clipea0cfcxyplot)\"><g class=\"barlayer mlayer\"><g class=\"trace bars\" style=\"opacity: 1;\"><g class=\"points\"><g class=\"point\"><path d=\"M0,94.8V10.53H661.2V94.8Z\" style=\"vector-effect: none; opacity: 1; stroke-width: 0px; fill: rgb(99, 110, 250); fill-opacity: 1;\"/><text class=\"bartext bartext-inside\" text-anchor=\"middle\" data-notex=\"1\" x=\"0\" y=\"0\" style=\"font-family: 'Open Sans', verdana, arial, sans-serif; font-size: 12px; fill: rgb(255, 255, 255); fill-opacity: 1; white-space: pre;\" transform=\"translate(634.215625,57.165)\">90.38%</text></g></g></g><g class=\"trace bars\" style=\"opacity: 1;\"><g class=\"points\"><g class=\"point\"><path d=\"M0,200.13V115.87H42.2V200.13Z\" style=\"vector-effect: none; opacity: 1; stroke-width: 0px; fill: rgb(239, 85, 59); fill-opacity: 1;\"/><text class=\"bartext bartext-inside\" text-anchor=\"middle\" data-notex=\"1\" x=\"0\" y=\"0\" style=\"font-family: 'Open Sans', verdana, arial, sans-serif; font-size: 12px; fill: rgb(68, 68, 68); fill-opacity: 1; white-space: pre;\" transform=\"translate(31.660937500000003,162.5)rotate(90 0.0390625 -4.5)\">5.77%</text></g></g></g><g class=\"trace bars\" style=\"opacity: 1;\"><g class=\"points\"><g class=\"point\"><path d=\"M0,305.47V221.2H28.14V305.47Z\" style=\"vector-effect: none; opacity: 1; stroke-width: 0px; fill: rgb(0, 204, 150); fill-opacity: 1;\"/><text class=\"bartext bartext-inside\" text-anchor=\"middle\" data-notex=\"1\" x=\"0\" y=\"0\" style=\"font-family: 'Open Sans', verdana, arial, sans-serif; font-size: 12px; fill: rgb(68, 68, 68); fill-opacity: 1; white-space: pre;\" transform=\"translate(17.6009375,267.83500000000004)rotate(90 0.0390625 -4.5)\">3.85%</text></g></g></g></g></g><g class=\"overplot\"/><path class=\"xlines-above crisp\" d=\"M0,0\" style=\"fill: none;\"/><path class=\"ylines-above crisp\" d=\"M0,0\" style=\"fill: none;\"/><g class=\"overlines-above\"/><g class=\"xaxislayer-above\"/><g class=\"yaxislayer-above\"/><g class=\"overaxes-above\"/></g></g><g class=\"polarlayer\"/><g class=\"smithlayer\"/><g class=\"ternarylayer\"/><g class=\"geolayer\"/><g class=\"funnelarealayer\"/><g class=\"pielayer\"/><g class=\"iciclelayer\"/><g class=\"treemaplayer\"/><g class=\"sunburstlayer\"/><g class=\"glimages\"/><defs id=\"topdefs-ea0cfc\"><g class=\"clips\"/><clipPath id=\"legendea0cfc\"><rect width=\"115\" height=\"67\" x=\"0\" y=\"0\"/></clipPath></defs><g class=\"layer-above\"><g class=\"imagelayer\"/><g class=\"shapelayer\"/></g><g class=\"infolayer\"><g class=\"legend\" pointer-events=\"all\" transform=\"translate(583,349)\"><rect class=\"bg\" shape-rendering=\"crispEdges\" width=\"115\" height=\"67\" x=\"0\" y=\"0\" style=\"stroke: rgb(68, 68, 68); stroke-opacity: 1; fill: rgb(45, 48, 53); fill-opacity: 1; stroke-width: 0px;\"/><g class=\"scrollbox\" transform=\"\" clip-path=\"url(#legendea0cfc)\"><g class=\"groups\"><g class=\"traces\" transform=\"translate(0,14.5)\" style=\"opacity: 1;\"><text class=\"legendtext\" text-anchor=\"start\" x=\"40\" y=\"4.680000000000001\" style=\"font-family: 'Open Sans', verdana, arial, sans-serif; font-size: 12px; fill: rgb(220, 220, 220); fill-opacity: 1; white-space: pre;\">no</text><g class=\"layers\" style=\"opacity: 1;\"><g class=\"legendfill\"/><g class=\"legendlines\"/><g class=\"legendsymbols\"><g class=\"legendpoints\"><path class=\"legendundefined\" d=\"M6,6H-6V-6H6Z\" transform=\"translate(20,0)\" style=\"stroke-width: 0px; fill: rgb(99, 110, 250); fill-opacity: 1;\"/></g></g></g><rect class=\"legendtoggle\" x=\"0\" y=\"-9.5\" width=\"109.4375\" height=\"19\" style=\"fill: rgb(0, 0, 0); fill-opacity: 0;\"/></g><g class=\"traces\" transform=\"translate(0,33.5)\" style=\"opacity: 1;\"><text class=\"legendtext\" text-anchor=\"start\" x=\"40\" y=\"4.680000000000001\" style=\"font-family: 'Open Sans', verdana, arial, sans-serif; font-size: 12px; fill: rgb(220, 220, 220); fill-opacity: 1; white-space: pre;\">Did not say</text><g class=\"layers\" style=\"opacity: 1;\"><g class=\"legendfill\"/><g class=\"legendlines\"/><g class=\"legendsymbols\"><g class=\"legendpoints\"><path class=\"legendundefined\" d=\"M6,6H-6V-6H6Z\" transform=\"translate(20,0)\" style=\"stroke-width: 0px; fill: rgb(239, 85, 59); fill-opacity: 1;\"/></g></g></g><rect class=\"legendtoggle\" x=\"0\" y=\"-9.5\" width=\"109.4375\" height=\"19\" style=\"fill: rgb(0, 0, 0); fill-opacity: 0;\"/></g><g class=\"traces\" transform=\"translate(0,52.5)\" style=\"opacity: 1;\"><text class=\"legendtext\" text-anchor=\"start\" x=\"40\" y=\"4.680000000000001\" style=\"font-family: 'Open Sans', verdana, arial, sans-serif; font-size: 12px; fill: rgb(220, 220, 220); fill-opacity: 1; white-space: pre;\">yes</text><g class=\"layers\" style=\"opacity: 1;\"><g class=\"legendfill\"/><g class=\"legendlines\"/><g class=\"legendsymbols\"><g class=\"legendpoints\"><path class=\"legendundefined\" d=\"M6,6H-6V-6H6Z\" transform=\"translate(20,0)\" style=\"stroke-width: 0px; fill: rgb(0, 204, 150); fill-opacity: 1;\"/></g></g></g><rect class=\"legendtoggle\" x=\"0\" y=\"-9.5\" width=\"109.4375\" height=\"19\" style=\"fill: rgb(0, 0, 0); fill-opacity: 0;\"/></g></g></g><rect class=\"scrollbar\" rx=\"20\" ry=\"3\" width=\"0\" height=\"0\" x=\"0\" y=\"0\" style=\"fill: rgb(128, 139, 164); fill-opacity: 1;\"/></g><g class=\"g-gtitle\"><text class=\"gtitle\" x=\"35\" y=\"50\" text-anchor=\"start\" dy=\"0em\" style=\"font-family: 'Open Sans', verdana, arial, sans-serif; font-size: 17px; fill: rgb(223, 223, 223); opacity: 1; font-weight: normal; white-space: pre;\"><tspan class=\"line\" dy=\"0em\" x=\"35\" y=\"50\">Have you participated in an</tspan><tspan class=\"line\" dy=\"1.3em\" x=\"35\" y=\"50\">exchange?</tspan></text></g><g class=\"g-xtitle\"/><g class=\"g-ytitle\"/></g><g class=\"menulayer\"><g class=\"updatemenu-container\" style=\"cursor: pointer;\"><g class=\"updatemenu-header-group\" transform=\"translate(237,448)\"><g class=\"updatemenu-header\" transform=\"translate(1,1)\" style=\"pointer-events: all;\"><rect class=\"updatemenu-item-rect\" rx=\"2\" ry=\"2\" shape-rendering=\"crispEdges\" x=\"0\" y=\"0\" width=\"227\" height=\"50\" style=\"stroke: rgb(190, 200, 217); stroke-opacity: 1; fill: rgb(236, 236, 236); fill-opacity: 1; stroke-width: 1px;\"/><text class=\"updatemenu-item-text\" text-anchor=\"start\" data-notex=\"1\" x=\"12\" y=\"20.2\" style=\"font-family: 'Open Sans', verdana, arial, sans-serif; font-size: 12px; fill: rgb(0, 0, 0); fill-opacity: 1; white-space: pre;\"><tspan class=\"line\" dy=\"0em\" x=\"12\" y=\"20.2\">Have you participated in an</tspan><tspan class=\"line\" dy=\"1.3em\" x=\"12\" y=\"20.2\">exchange?</tspan></text></g><text class=\"updatemenu-header-arrow\" text-anchor=\"end\" x=\"223\" y=\"28\" style=\"font-family: 'Open Sans', verdana, arial, sans-serif; font-size: 12px; fill: rgb(0, 0, 0); fill-opacity: 1;\">▲</text></g><g class=\"updatemenu-dropdown-button-group\" updatemenu-active-index=\"-1\" style=\"pointer-events: all;\"><rect class=\"scrollbox-bg\" opacity=\"0\" x=\"0\" y=\"0\" width=\"0\" height=\"0\" style=\"pointer-events: all;\"/></g></g></g></svg>"
      ],
      "text/html": [
       "<div>                            <div id=\"a985b450-8a36-4e79-aaee-ba9db648a367\" class=\"plotly-graph-div\" style=\"height:525px; width:100%;\"></div>            <script type=\"text/javascript\">                require([\"plotly\"], function(Plotly) {                    window.PLOTLYENV=window.PLOTLYENV || {};                                    if (document.getElementById(\"a985b450-8a36-4e79-aaee-ba9db648a367\")) {                    Plotly.newPlot(                        \"a985b450-8a36-4e79-aaee-ba9db648a367\",                        [{\"marker\":{\"autocolorscale\":true},\"name\":\"no\",\"text\":\"90.38%\",\"textposition\":\"auto\",\"visible\":true,\"y\":[\"no\",\"no\",\"no\",\"no\",\"no\",\"no\",\"no\",\"no\",\"no\",\"no\",\"no\",\"no\",\"no\",\"no\",\"no\",\"no\",\"no\",\"no\",\"no\",\"no\",\"no\",\"no\",\"no\",\"no\",\"no\",\"no\",\"no\",\"no\",\"no\",\"no\",\"no\",\"no\",\"no\",\"no\",\"no\",\"no\",\"no\",\"no\",\"no\",\"no\",\"no\",\"no\",\"no\",\"no\",\"no\",\"no\",\"no\"],\"type\":\"histogram\",\"hovertemplate\":\"<b>%{y}</b><br><i>Count:</i> %{x}\"},{\"marker\":{\"autocolorscale\":true},\"name\":\"Did not say\",\"text\":\"5.77%\",\"textposition\":\"auto\",\"visible\":true,\"y\":[\"Did not say\",\"Did not say\",\"Did not say\"],\"type\":\"histogram\",\"hovertemplate\":\"<b>%{y}</b><br><i>Count:</i> %{x}\"},{\"marker\":{\"autocolorscale\":true},\"name\":\"yes\",\"text\":\"3.85%\",\"textposition\":\"auto\",\"visible\":true,\"y\":[\"yes\",\"yes\"],\"type\":\"histogram\",\"hovertemplate\":\"<b>%{y}</b><br><i>Count:</i> %{x}\"},{\"marker\":{\"autocolorscale\":true},\"name\":\"nan\",\"text\":\"0.00%\",\"textposition\":\"auto\",\"visible\":false,\"y\":[],\"type\":\"histogram\",\"hovertemplate\":\"<b>%{y}</b><br><i>Count:</i> %{x}\"},{\"marker\":{\"autocolorscale\":true},\"name\":\"UK\",\"text\":\"50.00%\",\"textposition\":\"auto\",\"visible\":false,\"y\":[\"UK\"],\"type\":\"histogram\",\"hovertemplate\":\"<b>%{y}</b><br><i>Count:</i> %{x}\"},{\"marker\":{\"autocolorscale\":true},\"name\":\"Denmark \",\"text\":\"50.00%\",\"textposition\":\"auto\",\"visible\":false,\"y\":[\"Denmark \"],\"type\":\"histogram\",\"hovertemplate\":\"<b>%{y}</b><br><i>Count:</i> %{x}\"},{\"marker\":{\"autocolorscale\":true},\"name\":\"Not interested in exchange\",\"text\":\"26.92%\",\"textposition\":\"auto\",\"visible\":false,\"y\":[\"Not interested in exchange\",\"Not interested in exchange\",\"Not interested in exchange\",\"Not interested in exchange\",\"Not interested in exchange\",\"Not interested in exchange\",\"Not interested in exchange\",\"Not interested in exchange\",\"Not interested in exchange\",\"Not interested in exchange\",\"Not interested in exchange\",\"Not interested in exchange\",\"Not interested in exchange\",\"Not interested in exchange\"],\"type\":\"histogram\",\"hovertemplate\":\"<b>%{y}</b><br><i>Count:</i> %{x}\"},{\"marker\":{\"autocolorscale\":true},\"name\":\"Did not know that was an option\",\"text\":\"19.23%\",\"textposition\":\"auto\",\"visible\":false,\"y\":[\"Did not know that was an option\",\"Did not know that was an option\",\"Did not know that was an option\",\"Did not know that was an option\",\"Did not know that was an option\",\"Did not know that was an option\",\"Did not know that was an option\",\"Did not know that was an option\",\"Did not know that was an option\",\"Did not know that was an option\"],\"type\":\"histogram\",\"hovertemplate\":\"<b>%{y}</b><br><i>Count:</i> %{x}\"},{\"marker\":{\"autocolorscale\":true},\"name\":\"Application logistics\",\"text\":\"5.77%\",\"textposition\":\"auto\",\"visible\":false,\"y\":[\"Application logistics\",\"Application logistics\",\"Application logistics\"],\"type\":\"histogram\",\"hovertemplate\":\"<b>%{y}</b><br><i>Count:</i> %{x}\"},{\"marker\":{\"autocolorscale\":true},\"name\":\"Money/Costs of exchange\",\"text\":\"17.31%\",\"textposition\":\"auto\",\"visible\":false,\"y\":[\"Money/Costs of exchange\",\"Money/Costs of exchange\",\"Money/Costs of exchange\",\"Money/Costs of exchange\",\"Money/Costs of exchange\",\"Money/Costs of exchange\",\"Money/Costs of exchange\",\"Money/Costs of exchange\",\"Money/Costs of exchange\"],\"type\":\"histogram\",\"hovertemplate\":\"<b>%{y}</b><br><i>Count:</i> %{x}\"},{\"marker\":{\"autocolorscale\":true},\"name\":\"Worried about graduatingon time\",\"text\":\"5.77%\",\"textposition\":\"auto\",\"visible\":false,\"y\":[\"Worried about graduatingon time\",\"Worried about graduatingon time\",\"Worried about graduatingon time\"],\"type\":\"histogram\",\"hovertemplate\":\"<b>%{y}</b><br><i>Count:</i> %{x}\"},{\"marker\":{\"autocolorscale\":true},\"name\":\"Other\",\"text\":\"9.62%\",\"textposition\":\"auto\",\"visible\":false,\"y\":[\"Other\",\"Other\",\"Other\",\"Other\",\"Other\"],\"type\":\"histogram\",\"hovertemplate\":\"<b>%{y}</b><br><i>Count:</i> %{x}\"},{\"marker\":{\"autocolorscale\":true},\"name\":\"No answer\",\"text\":\"7.69%\",\"textposition\":\"auto\",\"visible\":false,\"y\":[\"No answer\",\"No answer\",\"No answer\",\"No answer\"],\"type\":\"histogram\",\"hovertemplate\":\"<b>%{y}</b><br><i>Count:</i> %{x}\"},{\"marker\":{\"autocolorscale\":true},\"name\":\"Location uncertainty/mismatch\",\"text\":\"5.77%\",\"textposition\":\"auto\",\"visible\":false,\"y\":[\"Location uncertainty/mismatch\",\"Location uncertainty/mismatch\",\"Location uncertainty/mismatch\"],\"type\":\"histogram\",\"hovertemplate\":\"<b>%{y}</b><br><i>Count:</i> %{x}\"},{\"marker\":{\"autocolorscale\":true},\"name\":\"Lack of course flexibility\",\"text\":\"1.92%\",\"textposition\":\"auto\",\"visible\":false,\"y\":[\"Lack of course flexibility\"],\"type\":\"histogram\",\"hovertemplate\":\"<b>%{y}</b><br><i>Count:</i> %{x}\"}],                        {\"template\":{\"data\":{\"histogram2dcontour\":[{\"type\":\"histogram2dcontour\",\"colorbar\":{\"outlinewidth\":0,\"ticks\":\"\"},\"colorscale\":[[0.0,\"#0d0887\"],[0.1111111111111111,\"#46039f\"],[0.2222222222222222,\"#7201a8\"],[0.3333333333333333,\"#9c179e\"],[0.4444444444444444,\"#bd3786\"],[0.5555555555555556,\"#d8576b\"],[0.6666666666666666,\"#ed7953\"],[0.7777777777777778,\"#fb9f3a\"],[0.8888888888888888,\"#fdca26\"],[1.0,\"#f0f921\"]]}],\"choropleth\":[{\"type\":\"choropleth\",\"colorbar\":{\"outlinewidth\":0,\"ticks\":\"\"}}],\"histogram2d\":[{\"type\":\"histogram2d\",\"colorbar\":{\"outlinewidth\":0,\"ticks\":\"\"},\"colorscale\":[[0.0,\"#0d0887\"],[0.1111111111111111,\"#46039f\"],[0.2222222222222222,\"#7201a8\"],[0.3333333333333333,\"#9c179e\"],[0.4444444444444444,\"#bd3786\"],[0.5555555555555556,\"#d8576b\"],[0.6666666666666666,\"#ed7953\"],[0.7777777777777778,\"#fb9f3a\"],[0.8888888888888888,\"#fdca26\"],[1.0,\"#f0f921\"]]}],\"heatmap\":[{\"type\":\"heatmap\",\"colorbar\":{\"outlinewidth\":0,\"ticks\":\"\"},\"colorscale\":[[0.0,\"#0d0887\"],[0.1111111111111111,\"#46039f\"],[0.2222222222222222,\"#7201a8\"],[0.3333333333333333,\"#9c179e\"],[0.4444444444444444,\"#bd3786\"],[0.5555555555555556,\"#d8576b\"],[0.6666666666666666,\"#ed7953\"],[0.7777777777777778,\"#fb9f3a\"],[0.8888888888888888,\"#fdca26\"],[1.0,\"#f0f921\"]]}],\"heatmapgl\":[{\"type\":\"heatmapgl\",\"colorbar\":{\"outlinewidth\":0,\"ticks\":\"\"},\"colorscale\":[[0.0,\"#0d0887\"],[0.1111111111111111,\"#46039f\"],[0.2222222222222222,\"#7201a8\"],[0.3333333333333333,\"#9c179e\"],[0.4444444444444444,\"#bd3786\"],[0.5555555555555556,\"#d8576b\"],[0.6666666666666666,\"#ed7953\"],[0.7777777777777778,\"#fb9f3a\"],[0.8888888888888888,\"#fdca26\"],[1.0,\"#f0f921\"]]}],\"contourcarpet\":[{\"type\":\"contourcarpet\",\"colorbar\":{\"outlinewidth\":0,\"ticks\":\"\"}}],\"contour\":[{\"type\":\"contour\",\"colorbar\":{\"outlinewidth\":0,\"ticks\":\"\"},\"colorscale\":[[0.0,\"#0d0887\"],[0.1111111111111111,\"#46039f\"],[0.2222222222222222,\"#7201a8\"],[0.3333333333333333,\"#9c179e\"],[0.4444444444444444,\"#bd3786\"],[0.5555555555555556,\"#d8576b\"],[0.6666666666666666,\"#ed7953\"],[0.7777777777777778,\"#fb9f3a\"],[0.8888888888888888,\"#fdca26\"],[1.0,\"#f0f921\"]]}],\"surface\":[{\"type\":\"surface\",\"colorbar\":{\"outlinewidth\":0,\"ticks\":\"\"},\"colorscale\":[[0.0,\"#0d0887\"],[0.1111111111111111,\"#46039f\"],[0.2222222222222222,\"#7201a8\"],[0.3333333333333333,\"#9c179e\"],[0.4444444444444444,\"#bd3786\"],[0.5555555555555556,\"#d8576b\"],[0.6666666666666666,\"#ed7953\"],[0.7777777777777778,\"#fb9f3a\"],[0.8888888888888888,\"#fdca26\"],[1.0,\"#f0f921\"]]}],\"mesh3d\":[{\"type\":\"mesh3d\",\"colorbar\":{\"outlinewidth\":0,\"ticks\":\"\"}}],\"scatter\":[{\"fillpattern\":{\"fillmode\":\"overlay\",\"size\":10,\"solidity\":0.2},\"type\":\"scatter\"}],\"parcoords\":[{\"type\":\"parcoords\",\"line\":{\"colorbar\":{\"outlinewidth\":0,\"ticks\":\"\"}}}],\"scatterpolargl\":[{\"type\":\"scatterpolargl\",\"marker\":{\"colorbar\":{\"outlinewidth\":0,\"ticks\":\"\"}}}],\"bar\":[{\"error_x\":{\"color\":\"#2a3f5f\"},\"error_y\":{\"color\":\"#2a3f5f\"},\"marker\":{\"line\":{\"color\":\"#E5ECF6\",\"width\":0.5},\"pattern\":{\"fillmode\":\"overlay\",\"size\":10,\"solidity\":0.2}},\"type\":\"bar\"}],\"scattergeo\":[{\"type\":\"scattergeo\",\"marker\":{\"colorbar\":{\"outlinewidth\":0,\"ticks\":\"\"}}}],\"scatterpolar\":[{\"type\":\"scatterpolar\",\"marker\":{\"colorbar\":{\"outlinewidth\":0,\"ticks\":\"\"}}}],\"histogram\":[{\"marker\":{\"pattern\":{\"fillmode\":\"overlay\",\"size\":10,\"solidity\":0.2}},\"type\":\"histogram\"}],\"scattergl\":[{\"type\":\"scattergl\",\"marker\":{\"colorbar\":{\"outlinewidth\":0,\"ticks\":\"\"}}}],\"scatter3d\":[{\"type\":\"scatter3d\",\"line\":{\"colorbar\":{\"outlinewidth\":0,\"ticks\":\"\"}},\"marker\":{\"colorbar\":{\"outlinewidth\":0,\"ticks\":\"\"}}}],\"scattermapbox\":[{\"type\":\"scattermapbox\",\"marker\":{\"colorbar\":{\"outlinewidth\":0,\"ticks\":\"\"}}}],\"scatterternary\":[{\"type\":\"scatterternary\",\"marker\":{\"colorbar\":{\"outlinewidth\":0,\"ticks\":\"\"}}}],\"scattercarpet\":[{\"type\":\"scattercarpet\",\"marker\":{\"colorbar\":{\"outlinewidth\":0,\"ticks\":\"\"}}}],\"carpet\":[{\"aaxis\":{\"endlinecolor\":\"#2a3f5f\",\"gridcolor\":\"white\",\"linecolor\":\"white\",\"minorgridcolor\":\"white\",\"startlinecolor\":\"#2a3f5f\"},\"baxis\":{\"endlinecolor\":\"#2a3f5f\",\"gridcolor\":\"white\",\"linecolor\":\"white\",\"minorgridcolor\":\"white\",\"startlinecolor\":\"#2a3f5f\"},\"type\":\"carpet\"}],\"table\":[{\"cells\":{\"fill\":{\"color\":\"#EBF0F8\"},\"line\":{\"color\":\"white\"}},\"header\":{\"fill\":{\"color\":\"#C8D4E3\"},\"line\":{\"color\":\"white\"}},\"type\":\"table\"}],\"barpolar\":[{\"marker\":{\"line\":{\"color\":\"#E5ECF6\",\"width\":0.5},\"pattern\":{\"fillmode\":\"overlay\",\"size\":10,\"solidity\":0.2}},\"type\":\"barpolar\"}],\"pie\":[{\"automargin\":true,\"type\":\"pie\"}]},\"layout\":{\"autotypenumbers\":\"strict\",\"colorway\":[\"#636efa\",\"#EF553B\",\"#00cc96\",\"#ab63fa\",\"#FFA15A\",\"#19d3f3\",\"#FF6692\",\"#B6E880\",\"#FF97FF\",\"#FECB52\"],\"font\":{\"color\":\"#2a3f5f\"},\"hovermode\":\"closest\",\"hoverlabel\":{\"align\":\"left\"},\"paper_bgcolor\":\"white\",\"plot_bgcolor\":\"#E5ECF6\",\"polar\":{\"bgcolor\":\"#E5ECF6\",\"angularaxis\":{\"gridcolor\":\"white\",\"linecolor\":\"white\",\"ticks\":\"\"},\"radialaxis\":{\"gridcolor\":\"white\",\"linecolor\":\"white\",\"ticks\":\"\"}},\"ternary\":{\"bgcolor\":\"#E5ECF6\",\"aaxis\":{\"gridcolor\":\"white\",\"linecolor\":\"white\",\"ticks\":\"\"},\"baxis\":{\"gridcolor\":\"white\",\"linecolor\":\"white\",\"ticks\":\"\"},\"caxis\":{\"gridcolor\":\"white\",\"linecolor\":\"white\",\"ticks\":\"\"}},\"coloraxis\":{\"colorbar\":{\"outlinewidth\":0,\"ticks\":\"\"}},\"colorscale\":{\"sequential\":[[0.0,\"#0d0887\"],[0.1111111111111111,\"#46039f\"],[0.2222222222222222,\"#7201a8\"],[0.3333333333333333,\"#9c179e\"],[0.4444444444444444,\"#bd3786\"],[0.5555555555555556,\"#d8576b\"],[0.6666666666666666,\"#ed7953\"],[0.7777777777777778,\"#fb9f3a\"],[0.8888888888888888,\"#fdca26\"],[1.0,\"#f0f921\"]],\"sequentialminus\":[[0.0,\"#0d0887\"],[0.1111111111111111,\"#46039f\"],[0.2222222222222222,\"#7201a8\"],[0.3333333333333333,\"#9c179e\"],[0.4444444444444444,\"#bd3786\"],[0.5555555555555556,\"#d8576b\"],[0.6666666666666666,\"#ed7953\"],[0.7777777777777778,\"#fb9f3a\"],[0.8888888888888888,\"#fdca26\"],[1.0,\"#f0f921\"]],\"diverging\":[[0,\"#8e0152\"],[0.1,\"#c51b7d\"],[0.2,\"#de77ae\"],[0.3,\"#f1b6da\"],[0.4,\"#fde0ef\"],[0.5,\"#f7f7f7\"],[0.6,\"#e6f5d0\"],[0.7,\"#b8e186\"],[0.8,\"#7fbc41\"],[0.9,\"#4d9221\"],[1,\"#276419\"]]},\"xaxis\":{\"gridcolor\":\"white\",\"linecolor\":\"white\",\"ticks\":\"\",\"title\":{\"standoff\":15},\"zerolinecolor\":\"white\",\"automargin\":true,\"zerolinewidth\":2},\"yaxis\":{\"gridcolor\":\"white\",\"linecolor\":\"white\",\"ticks\":\"\",\"title\":{\"standoff\":15},\"zerolinecolor\":\"white\",\"automargin\":true,\"zerolinewidth\":2},\"scene\":{\"xaxis\":{\"backgroundcolor\":\"#E5ECF6\",\"gridcolor\":\"white\",\"linecolor\":\"white\",\"showbackground\":true,\"ticks\":\"\",\"zerolinecolor\":\"white\",\"gridwidth\":2},\"yaxis\":{\"backgroundcolor\":\"#E5ECF6\",\"gridcolor\":\"white\",\"linecolor\":\"white\",\"showbackground\":true,\"ticks\":\"\",\"zerolinecolor\":\"white\",\"gridwidth\":2},\"zaxis\":{\"backgroundcolor\":\"#E5ECF6\",\"gridcolor\":\"white\",\"linecolor\":\"white\",\"showbackground\":true,\"ticks\":\"\",\"zerolinecolor\":\"white\",\"gridwidth\":2}},\"shapedefaults\":{\"line\":{\"color\":\"#2a3f5f\"}},\"annotationdefaults\":{\"arrowcolor\":\"#2a3f5f\",\"arrowhead\":0,\"arrowwidth\":1},\"geo\":{\"bgcolor\":\"white\",\"landcolor\":\"#E5ECF6\",\"subunitcolor\":\"white\",\"showland\":true,\"showlakes\":true,\"lakecolor\":\"white\"},\"title\":{\"x\":0.05},\"mapbox\":{\"style\":\"light\"}}},\"updatemenus\":[{\"active\":0,\"bgcolor\":\"#ECECEC\",\"buttons\":[{\"args\":[{\"visible\":[true,true,true,false,false,false,false,false,false,false,false,false,false,false,false]},{\"title\":\"Have you participated in an<br>exchange?\",\"yaxis\":{\"categoryorder\":\"array\",\"categoryarray\":[\"yes\",\"Did not say\",\"no\"],\"showticklabels\":false}}],\"label\":\"Have you participated in an<br>exchange?\",\"method\":\"update\"},{\"args\":[{\"visible\":[false,false,false,true,true,true,false,false,false,false,false,false,false,false,false]},{\"title\":\"If yes, where did you do your<br>exchange? (Sample Size:<br>2)\",\"yaxis\":{\"categoryorder\":\"array\",\"categoryarray\":[\"UK\",\"Denmark \"],\"showticklabels\":false}}],\"label\":\"If yes, where did you do your<br>exchange? (Sample Size:<br>2)\",\"method\":\"update\"},{\"args\":[{\"visible\":[false,false,false,false,false,false,true,true,true,true,true,true,true,true,true]},{\"title\":\"If you did not do an exchange,<br>what were your reasons<br>for not? (Sample Size: 47)\",\"yaxis\":{\"categoryorder\":\"array\",\"categoryarray\":[\"Lack of course flexibility\",\"Application logistics\",\"Worried about graduatingon time\",\"Location uncertainty/mismatch\",\"No answer\",\"Other\",\"Money/Costs of exchange\",\"Did not know that was an option\",\"Not interested in exchange\"],\"showticklabels\":false}}],\"label\":\"If you did not do an exchange,<br>what were your reasons<br>for not? (Sample Size: 47)\",\"method\":\"update\"}],\"direction\":\"up\",\"x\":0.5,\"xanchor\":\"center\",\"y\":-0.1,\"yanchor\":\"top\",\"font\":{\"color\":\"#000000\"}}],\"paper_bgcolor\":\"#2d3035\",\"yaxis\":{\"categoryorder\":\"array\",\"categoryarray\":[\"yes\",\"Did not say\",\"no\"],\"showticklabels\":false},\"title\":{\"text\":\"Have you participated in an<br>exchange?\",\"font\":{\"color\":\"#dfdfdf\"}},\"margin\":{\"l\":2,\"r\":2},\"dragmode\":\"pan\",\"showlegend\":true,\"legend\":{\"yanchor\":\"bottom\",\"xanchor\":\"right\",\"x\":1,\"y\":0,\"orientation\":\"v\"},\"font\":{\"color\":\"#dcdcdc\"},\"plot_bgcolor\":\"#2d3035\",\"xaxis\":{\"showticklabels\":false}},                        {\"responsive\": true}                    ).then(function(){\n",
       "                            \n",
       "var gd = document.getElementById('a985b450-8a36-4e79-aaee-ba9db648a367');\n",
       "var x = new MutationObserver(function (mutations, observer) {{\n",
       "        var display = window.getComputedStyle(gd).display;\n",
       "        if (!display || display === 'none') {{\n",
       "            console.log([gd, 'removed!']);\n",
       "            Plotly.purge(gd);\n",
       "            observer.disconnect();\n",
       "        }}\n",
       "}});\n",
       "\n",
       "// Listen for the removal of the full notebook cells\n",
       "var notebookContainer = gd.closest('#notebook-container');\n",
       "if (notebookContainer) {{\n",
       "    x.observe(notebookContainer, {childList: true});\n",
       "}}\n",
       "\n",
       "// Listen for the clearing of the current output cell\n",
       "var outputEl = gd.closest('.output');\n",
       "if (outputEl) {{\n",
       "    x.observe(outputEl, {childList: true});\n",
       "}}\n",
       "\n",
       "                        })                };                });            </script>        </div>"
      ]
     },
     "metadata": {},
     "output_type": "display_data"
    }
   ],
   "source": [
    "fig = create_figure_with_dropdown(df, \n",
    "                            options=[\"Have you participated in an exchange?\",\n",
    "                                     \"If yes, where did you do your exchange?\",\n",
    "                                     \"No Exchange Reasons\"],\n",
    "                            labels=break_text([\"Have you participated in an exchange?\",\n",
    "                                     \"If yes, where did you do your exchange? (Sample Size: 2)\",\n",
    "                                     \"If you did not do an exchange, what were your reasons for not? (Sample Size: 47)\"], char_limit=27),\n",
    "                            showticklabels=[False, False, False],\n",
    "                            sort_traces=True,\n",
    "                            textposition=\"auto\",\n",
    "                            horizontal=True\n",
    "    )\n",
    "change_to_dark_mode_plotly(fig)\n",
    "fig.update_xaxes(showticklabels=False)\n",
    "fig.show()"
   ]
  },
  {
   "attachments": {},
   "cell_type": "markdown",
   "metadata": {},
   "source": [
    "## Other Profile Information (Gender, Sexual Orientation, Domestic/International, Ethnicities)"
   ]
  },
  {
   "cell_type": "code",
   "execution_count": null,
   "metadata": {},
   "outputs": [],
   "source": [
    "# data_checker(df[\"Are you a domestic or international student?\"], check_unique=True)"
   ]
  },
  {
   "cell_type": "code",
   "execution_count": null,
   "metadata": {},
   "outputs": [],
   "source": [
    "# data_checker(df[\"What are your Ethnicities?\"], check_unique=True)"
   ]
  },
  {
   "cell_type": "code",
   "execution_count": null,
   "metadata": {},
   "outputs": [],
   "source": [
    "df[\"What are your Ethnicities?\"].fillna(\"Did not wish to disclose\", inplace=True)"
   ]
  },
  {
   "cell_type": "code",
   "execution_count": null,
   "metadata": {},
   "outputs": [],
   "source": [
    "df[\"What are your Ethnicities?\"] = df[\"What are your Ethnicities?\"].str.replace(\"\\s*origins\\s*\", \"\", regex=True)"
   ]
  },
  {
   "cell_type": "code",
   "execution_count": null,
   "metadata": {},
   "outputs": [],
   "source": [
    "df[\"Are you a domestic or international student?\"].fillna(\"Did not wish to disclose\", inplace=True)"
   ]
  },
  {
   "cell_type": "code",
   "execution_count": null,
   "metadata": {},
   "outputs": [],
   "source": [
    "# df[\"Are you a domestic or international student?\"].unique()"
   ]
  },
  {
   "cell_type": "code",
   "execution_count": null,
   "metadata": {
    "tags": [
     "no_margin"
    ]
   },
   "outputs": [],
   "source": [
    "fig = create_figure_with_dropdown(df,\n",
    "                                  options=[\"What is your gender?\", \"Are you a domestic or international student?\",\n",
    "                                           \"What is your sexual orientation?\", \"What are your Ethnicities?\"],\n",
    "                                  labels=break_text([\"What is your gender?\", \"Are you a domestic or international student?\",\n",
    "                                           \"What is your sexual orientation?\", \"What are your Ethnicities?\"]),\n",
    "                                  showticklabels=[False, False, False, False],\n",
    "                                  sort_traces=True,\n",
    "                                  textposition=\"auto\")\n",
    "fig.update_layout(margin=dict(l=10, r=10),\n",
    "                  hovermode=\"x unified\",\n",
    "                  legend=dict(y=1, yanchor=\"top\", orientation=\"v\")\n",
    ")\n",
    "fig.update_yaxes(showticklabels=False)\n",
    "fig.update_traces(hovertemplate=less_cringe_hovertext_template[\"histogram\"][\"hovertemplate\"])\n",
    "fig.show()"
   ]
  },
  {
   "cell_type": "code",
   "execution_count": null,
   "metadata": {},
   "outputs": [],
   "source": [
    "df[\"Do you identify as an Indigenous person, that is, First Nations, Metis, or Inuk (Inuit)?\"].fillna(\"Did not wish to disclose\", \n",
    "                                                                                                       inplace=True)"
   ]
  },
  {
   "cell_type": "code",
   "execution_count": null,
   "metadata": {},
   "outputs": [],
   "source": [
    "# data_checker(df[\"Do you identify as an Indigenous person, that is, First Nations, Metis, or Inuk (Inuit)?\"], check_unique=True)"
   ]
  },
  {
   "cell_type": "code",
   "execution_count": null,
   "metadata": {
    "tags": []
   },
   "outputs": [],
   "source": [
    "fig = create_table(df,\n",
    "                  \"Do you identify as an Indigenous person, that is, First Nations, Metis, or Inuk (Inuit)?\",\n",
    "                  label=break_text(\"Do you identify as Indigenous, that is, First Nations, Metis, or Inuk (Inuit)?\", char_limit=27))\n",
    "fig.update_layout(height=400)\n",
    "fig.show()"
   ]
  },
  {
   "attachments": {},
   "cell_type": "markdown",
   "metadata": {},
   "source": [
    "# Location Profile!"
   ]
  },
  {
   "attachments": {},
   "cell_type": "markdown",
   "metadata": {},
   "source": [
    "## Childhood, Sweet Childhood~\n",
    "\n",
    "Where did 4th Year ECEs attend high school?"
   ]
  },
  {
   "cell_type": "code",
   "execution_count": 42,
   "metadata": {},
   "outputs": [
    {
     "name": "stdout",
     "output_type": "stream",
     "text": [
      "Unique values ['Americas' 'Asia' 'GTA' 'Southern Ontario' 'USA' 'West Coast of Canada']\n",
      "Number of NA Values: 0\n"
     ]
    }
   ],
   "source": [
    "# data_checker(df_high_school, check_unique=True)"
   ]
  },
  {
   "cell_type": "code",
   "execution_count": 47,
   "metadata": {},
   "outputs": [],
   "source": [
    "df_high_school = df.loc[df[\"Where did you attend high school?\"].notna(), \"Where did you attend high school?\"]"
   ]
  },
  {
   "cell_type": "code",
   "execution_count": 48,
   "metadata": {},
   "outputs": [],
   "source": [
    "geolocator = Nominatim(user_agent=\"new_agent\")"
   ]
  },
  {
   "cell_type": "code",
   "execution_count": 49,
   "metadata": {},
   "outputs": [],
   "source": [
    "## Hard Code Unique Locations (I think their API blocked me)\n",
    "# high_school_locs = \\\n",
    "#  [dict(country=\"China\"), dict(country=\"Canada\", city=\"Toronto\"),\n",
    "#  dict(country=\"Canada\", state=\"British Columbia\"),\n",
    "#  dict(country=\"Nicaragua\"), # Central America\n",
    "#  \"London, Ontario\", # Southern Ontario\n",
    "#  \"USA\"]\n",
    "\n",
    "# identified_high_school_locs = []\n",
    "# for loc in high_school_locs:\n",
    "#     identified_high_school_locs.append(geolocator.geocode(query=loc))\n",
    "#     time.sleep(1)"
   ]
  },
  {
   "cell_type": "code",
   "execution_count": 52,
   "metadata": {},
   "outputs": [],
   "source": [
    "# identified_high_school_coordinates = [(location.latitude, location.longitude) for location in identified_high_school_locs]"
   ]
  },
  {
   "cell_type": "code",
   "execution_count": 53,
   "metadata": {},
   "outputs": [],
   "source": [
    "# df_high_school.unique()"
   ]
  },
  {
   "cell_type": "code",
   "execution_count": 54,
   "metadata": {},
   "outputs": [],
   "source": [
    "identified_high_school_coordinates = [(35.00007, 104.9999), \n",
    "                                      (43.65348, -79.38393),\n",
    "                                      (55.00125, -125.0024),\n",
    "                                      (12.60902, -85.29369),\n",
    "                                      (42.98324, -81.24337),\n",
    "                                      (39.78373, -100.4459)]"
   ]
  },
  {
   "cell_type": "code",
   "execution_count": 55,
   "metadata": {},
   "outputs": [],
   "source": [
    "df_high_school_merged = map_location_setup(df_high_school, identified_high_school_coordinates)"
   ]
  },
  {
   "cell_type": "code",
   "execution_count": 56,
   "metadata": {},
   "outputs": [],
   "source": [
    "df_high_school_merged.reset_index(inplace=True)"
   ]
  },
  {
   "cell_type": "code",
   "execution_count": 57,
   "metadata": {},
   "outputs": [],
   "source": [
    "# df_high_school_merged"
   ]
  },
  {
   "cell_type": "code",
   "execution_count": 58,
   "metadata": {},
   "outputs": [],
   "source": [
    "df_high_school_merged[\"fake_size\"] = df_high_school_merged[\"Where did you attend high school?\"] * 5 + 5"
   ]
  },
  {
   "cell_type": "code",
   "execution_count": 71,
   "metadata": {},
   "outputs": [
    {
     "data": {
      "text/html": [
       "<div>                            <div id=\"bfbdc40a-1a12-435d-a0ee-f456a765ab40\" class=\"plotly-graph-div\" style=\"height:525px; width:100%;\"></div>            <script type=\"text/javascript\">                require([\"plotly\"], function(Plotly) {                    window.PLOTLYENV=window.PLOTLYENV || {};                                    if (document.getElementById(\"bfbdc40a-1a12-435d-a0ee-f456a765ab40\")) {                    Plotly.newPlot(                        \"bfbdc40a-1a12-435d-a0ee-f456a765ab40\",                        [{\"geo\":\"geo\",\"hovertemplate\":\"<b>%{hovertext}</b><br><br>%{text} attended high school here! <br><b>Lat</b>: %{lat}<br><b>Lon</b>: %{lon}<extra></extra>\",\"hovertext\":[\"Asia\",\"GTA\",\"West Coast of Canada\",\"Americas\",\"Southern Ontario\",\"USA\"],\"lat\":[35.00007,43.65348,55.00125,12.60902,42.98324,39.78373],\"legendgroup\":\"\",\"lon\":[104.9999,-79.38393,-125.0024,-85.29369,-81.24337,-100.4459],\"marker\":{\"color\":\"crimson\",\"size\":[50,125,40,10,45,10],\"sizemode\":\"area\",\"sizeref\":0.3125,\"symbol\":\"circle\"},\"mode\":\"text+markers\",\"name\":\"\",\"showlegend\":false,\"type\":\"scattergeo\",\"text\":[9.0,24.0,7.0,1.0,8.0,1.0],\"textposition\":\"top right\"}],                        {\"template\":{\"data\":{\"barpolar\":[{\"marker\":{\"line\":{\"color\":\"rgb(234,234,242)\",\"width\":0.5},\"pattern\":{\"fillmode\":\"overlay\",\"size\":10,\"solidity\":0.2}},\"type\":\"barpolar\"}],\"bar\":[{\"error_x\":{\"color\":\"rgb(36,36,36)\"},\"error_y\":{\"color\":\"rgb(36,36,36)\"},\"marker\":{\"line\":{\"color\":\"rgb(234,234,242)\",\"width\":0.5},\"pattern\":{\"fillmode\":\"overlay\",\"size\":10,\"solidity\":0.2}},\"type\":\"bar\"}],\"carpet\":[{\"aaxis\":{\"endlinecolor\":\"rgb(36,36,36)\",\"gridcolor\":\"white\",\"linecolor\":\"white\",\"minorgridcolor\":\"white\",\"startlinecolor\":\"rgb(36,36,36)\"},\"baxis\":{\"endlinecolor\":\"rgb(36,36,36)\",\"gridcolor\":\"white\",\"linecolor\":\"white\",\"minorgridcolor\":\"white\",\"startlinecolor\":\"rgb(36,36,36)\"},\"type\":\"carpet\"}],\"choropleth\":[{\"colorbar\":{\"outlinewidth\":0,\"tickcolor\":\"rgb(36,36,36)\",\"ticklen\":8,\"ticks\":\"outside\",\"tickwidth\":2},\"type\":\"choropleth\"}],\"contourcarpet\":[{\"colorbar\":{\"outlinewidth\":0,\"tickcolor\":\"rgb(36,36,36)\",\"ticklen\":8,\"ticks\":\"outside\",\"tickwidth\":2},\"type\":\"contourcarpet\"}],\"contour\":[{\"colorbar\":{\"outlinewidth\":0,\"tickcolor\":\"rgb(36,36,36)\",\"ticklen\":8,\"ticks\":\"outside\",\"tickwidth\":2},\"colorscale\":[[0.0,\"rgb(2,4,25)\"],[0.06274509803921569,\"rgb(24,15,41)\"],[0.12549019607843137,\"rgb(47,23,57)\"],[0.18823529411764706,\"rgb(71,28,72)\"],[0.25098039215686274,\"rgb(97,30,82)\"],[0.3137254901960784,\"rgb(123,30,89)\"],[0.3764705882352941,\"rgb(150,27,91)\"],[0.4392156862745098,\"rgb(177,22,88)\"],[0.5019607843137255,\"rgb(203,26,79)\"],[0.5647058823529412,\"rgb(223,47,67)\"],[0.6274509803921569,\"rgb(236,76,61)\"],[0.6901960784313725,\"rgb(242,107,73)\"],[0.7529411764705882,\"rgb(244,135,95)\"],[0.8156862745098039,\"rgb(245,162,122)\"],[0.8784313725490196,\"rgb(246,188,153)\"],[0.9411764705882353,\"rgb(247,212,187)\"],[1.0,\"rgb(250,234,220)\"]],\"type\":\"contour\"}],\"heatmapgl\":[{\"colorbar\":{\"outlinewidth\":0,\"tickcolor\":\"rgb(36,36,36)\",\"ticklen\":8,\"ticks\":\"outside\",\"tickwidth\":2},\"colorscale\":[[0.0,\"rgb(2,4,25)\"],[0.06274509803921569,\"rgb(24,15,41)\"],[0.12549019607843137,\"rgb(47,23,57)\"],[0.18823529411764706,\"rgb(71,28,72)\"],[0.25098039215686274,\"rgb(97,30,82)\"],[0.3137254901960784,\"rgb(123,30,89)\"],[0.3764705882352941,\"rgb(150,27,91)\"],[0.4392156862745098,\"rgb(177,22,88)\"],[0.5019607843137255,\"rgb(203,26,79)\"],[0.5647058823529412,\"rgb(223,47,67)\"],[0.6274509803921569,\"rgb(236,76,61)\"],[0.6901960784313725,\"rgb(242,107,73)\"],[0.7529411764705882,\"rgb(244,135,95)\"],[0.8156862745098039,\"rgb(245,162,122)\"],[0.8784313725490196,\"rgb(246,188,153)\"],[0.9411764705882353,\"rgb(247,212,187)\"],[1.0,\"rgb(250,234,220)\"]],\"type\":\"heatmapgl\"}],\"heatmap\":[{\"colorbar\":{\"outlinewidth\":0,\"tickcolor\":\"rgb(36,36,36)\",\"ticklen\":8,\"ticks\":\"outside\",\"tickwidth\":2},\"colorscale\":[[0.0,\"rgb(2,4,25)\"],[0.06274509803921569,\"rgb(24,15,41)\"],[0.12549019607843137,\"rgb(47,23,57)\"],[0.18823529411764706,\"rgb(71,28,72)\"],[0.25098039215686274,\"rgb(97,30,82)\"],[0.3137254901960784,\"rgb(123,30,89)\"],[0.3764705882352941,\"rgb(150,27,91)\"],[0.4392156862745098,\"rgb(177,22,88)\"],[0.5019607843137255,\"rgb(203,26,79)\"],[0.5647058823529412,\"rgb(223,47,67)\"],[0.6274509803921569,\"rgb(236,76,61)\"],[0.6901960784313725,\"rgb(242,107,73)\"],[0.7529411764705882,\"rgb(244,135,95)\"],[0.8156862745098039,\"rgb(245,162,122)\"],[0.8784313725490196,\"rgb(246,188,153)\"],[0.9411764705882353,\"rgb(247,212,187)\"],[1.0,\"rgb(250,234,220)\"]],\"type\":\"heatmap\"}],\"histogram2dcontour\":[{\"colorbar\":{\"outlinewidth\":0,\"tickcolor\":\"rgb(36,36,36)\",\"ticklen\":8,\"ticks\":\"outside\",\"tickwidth\":2},\"colorscale\":[[0.0,\"rgb(2,4,25)\"],[0.06274509803921569,\"rgb(24,15,41)\"],[0.12549019607843137,\"rgb(47,23,57)\"],[0.18823529411764706,\"rgb(71,28,72)\"],[0.25098039215686274,\"rgb(97,30,82)\"],[0.3137254901960784,\"rgb(123,30,89)\"],[0.3764705882352941,\"rgb(150,27,91)\"],[0.4392156862745098,\"rgb(177,22,88)\"],[0.5019607843137255,\"rgb(203,26,79)\"],[0.5647058823529412,\"rgb(223,47,67)\"],[0.6274509803921569,\"rgb(236,76,61)\"],[0.6901960784313725,\"rgb(242,107,73)\"],[0.7529411764705882,\"rgb(244,135,95)\"],[0.8156862745098039,\"rgb(245,162,122)\"],[0.8784313725490196,\"rgb(246,188,153)\"],[0.9411764705882353,\"rgb(247,212,187)\"],[1.0,\"rgb(250,234,220)\"]],\"type\":\"histogram2dcontour\"}],\"histogram2d\":[{\"colorbar\":{\"outlinewidth\":0,\"tickcolor\":\"rgb(36,36,36)\",\"ticklen\":8,\"ticks\":\"outside\",\"tickwidth\":2},\"colorscale\":[[0.0,\"rgb(2,4,25)\"],[0.06274509803921569,\"rgb(24,15,41)\"],[0.12549019607843137,\"rgb(47,23,57)\"],[0.18823529411764706,\"rgb(71,28,72)\"],[0.25098039215686274,\"rgb(97,30,82)\"],[0.3137254901960784,\"rgb(123,30,89)\"],[0.3764705882352941,\"rgb(150,27,91)\"],[0.4392156862745098,\"rgb(177,22,88)\"],[0.5019607843137255,\"rgb(203,26,79)\"],[0.5647058823529412,\"rgb(223,47,67)\"],[0.6274509803921569,\"rgb(236,76,61)\"],[0.6901960784313725,\"rgb(242,107,73)\"],[0.7529411764705882,\"rgb(244,135,95)\"],[0.8156862745098039,\"rgb(245,162,122)\"],[0.8784313725490196,\"rgb(246,188,153)\"],[0.9411764705882353,\"rgb(247,212,187)\"],[1.0,\"rgb(250,234,220)\"]],\"type\":\"histogram2d\"}],\"histogram\":[{\"marker\":{\"pattern\":{\"fillmode\":\"overlay\",\"size\":10,\"solidity\":0.2}},\"type\":\"histogram\"}],\"mesh3d\":[{\"colorbar\":{\"outlinewidth\":0,\"tickcolor\":\"rgb(36,36,36)\",\"ticklen\":8,\"ticks\":\"outside\",\"tickwidth\":2},\"type\":\"mesh3d\"}],\"parcoords\":[{\"line\":{\"colorbar\":{\"outlinewidth\":0,\"tickcolor\":\"rgb(36,36,36)\",\"ticklen\":8,\"ticks\":\"outside\",\"tickwidth\":2}},\"type\":\"parcoords\"}],\"pie\":[{\"automargin\":true,\"type\":\"pie\"}],\"scatter3d\":[{\"line\":{\"colorbar\":{\"outlinewidth\":0,\"tickcolor\":\"rgb(36,36,36)\",\"ticklen\":8,\"ticks\":\"outside\",\"tickwidth\":2}},\"marker\":{\"colorbar\":{\"outlinewidth\":0,\"tickcolor\":\"rgb(36,36,36)\",\"ticklen\":8,\"ticks\":\"outside\",\"tickwidth\":2}},\"type\":\"scatter3d\"}],\"scattercarpet\":[{\"marker\":{\"colorbar\":{\"outlinewidth\":0,\"tickcolor\":\"rgb(36,36,36)\",\"ticklen\":8,\"ticks\":\"outside\",\"tickwidth\":2}},\"type\":\"scattercarpet\"}],\"scattergeo\":[{\"marker\":{\"colorbar\":{\"outlinewidth\":0,\"tickcolor\":\"rgb(36,36,36)\",\"ticklen\":8,\"ticks\":\"outside\",\"tickwidth\":2}},\"type\":\"scattergeo\"}],\"scattergl\":[{\"marker\":{\"colorbar\":{\"outlinewidth\":0,\"tickcolor\":\"rgb(36,36,36)\",\"ticklen\":8,\"ticks\":\"outside\",\"tickwidth\":2}},\"type\":\"scattergl\"}],\"scattermapbox\":[{\"marker\":{\"colorbar\":{\"outlinewidth\":0,\"tickcolor\":\"rgb(36,36,36)\",\"ticklen\":8,\"ticks\":\"outside\",\"tickwidth\":2}},\"type\":\"scattermapbox\"}],\"scatterpolargl\":[{\"marker\":{\"colorbar\":{\"outlinewidth\":0,\"tickcolor\":\"rgb(36,36,36)\",\"ticklen\":8,\"ticks\":\"outside\",\"tickwidth\":2}},\"type\":\"scatterpolargl\"}],\"scatterpolar\":[{\"marker\":{\"colorbar\":{\"outlinewidth\":0,\"tickcolor\":\"rgb(36,36,36)\",\"ticklen\":8,\"ticks\":\"outside\",\"tickwidth\":2}},\"type\":\"scatterpolar\"}],\"scatter\":[{\"fillpattern\":{\"fillmode\":\"overlay\",\"size\":10,\"solidity\":0.2},\"type\":\"scatter\"}],\"scatterternary\":[{\"marker\":{\"colorbar\":{\"outlinewidth\":0,\"tickcolor\":\"rgb(36,36,36)\",\"ticklen\":8,\"ticks\":\"outside\",\"tickwidth\":2}},\"type\":\"scatterternary\"}],\"surface\":[{\"colorbar\":{\"outlinewidth\":0,\"tickcolor\":\"rgb(36,36,36)\",\"ticklen\":8,\"ticks\":\"outside\",\"tickwidth\":2},\"colorscale\":[[0.0,\"rgb(2,4,25)\"],[0.06274509803921569,\"rgb(24,15,41)\"],[0.12549019607843137,\"rgb(47,23,57)\"],[0.18823529411764706,\"rgb(71,28,72)\"],[0.25098039215686274,\"rgb(97,30,82)\"],[0.3137254901960784,\"rgb(123,30,89)\"],[0.3764705882352941,\"rgb(150,27,91)\"],[0.4392156862745098,\"rgb(177,22,88)\"],[0.5019607843137255,\"rgb(203,26,79)\"],[0.5647058823529412,\"rgb(223,47,67)\"],[0.6274509803921569,\"rgb(236,76,61)\"],[0.6901960784313725,\"rgb(242,107,73)\"],[0.7529411764705882,\"rgb(244,135,95)\"],[0.8156862745098039,\"rgb(245,162,122)\"],[0.8784313725490196,\"rgb(246,188,153)\"],[0.9411764705882353,\"rgb(247,212,187)\"],[1.0,\"rgb(250,234,220)\"]],\"type\":\"surface\"}],\"table\":[{\"cells\":{\"fill\":{\"color\":\"rgb(231,231,240)\"},\"line\":{\"color\":\"white\"}},\"header\":{\"fill\":{\"color\":\"rgb(183,183,191)\"},\"line\":{\"color\":\"white\"}},\"type\":\"table\"}]},\"layout\":{\"annotationdefaults\":{\"arrowcolor\":\"rgb(67,103,167)\"},\"autotypenumbers\":\"strict\",\"coloraxis\":{\"colorbar\":{\"outlinewidth\":0,\"tickcolor\":\"rgb(36,36,36)\",\"ticklen\":8,\"ticks\":\"outside\",\"tickwidth\":2}},\"colorscale\":{\"sequential\":[[0.0,\"rgb(2,4,25)\"],[0.06274509803921569,\"rgb(24,15,41)\"],[0.12549019607843137,\"rgb(47,23,57)\"],[0.18823529411764706,\"rgb(71,28,72)\"],[0.25098039215686274,\"rgb(97,30,82)\"],[0.3137254901960784,\"rgb(123,30,89)\"],[0.3764705882352941,\"rgb(150,27,91)\"],[0.4392156862745098,\"rgb(177,22,88)\"],[0.5019607843137255,\"rgb(203,26,79)\"],[0.5647058823529412,\"rgb(223,47,67)\"],[0.6274509803921569,\"rgb(236,76,61)\"],[0.6901960784313725,\"rgb(242,107,73)\"],[0.7529411764705882,\"rgb(244,135,95)\"],[0.8156862745098039,\"rgb(245,162,122)\"],[0.8784313725490196,\"rgb(246,188,153)\"],[0.9411764705882353,\"rgb(247,212,187)\"],[1.0,\"rgb(250,234,220)\"]],\"sequentialminus\":[[0.0,\"rgb(2,4,25)\"],[0.06274509803921569,\"rgb(24,15,41)\"],[0.12549019607843137,\"rgb(47,23,57)\"],[0.18823529411764706,\"rgb(71,28,72)\"],[0.25098039215686274,\"rgb(97,30,82)\"],[0.3137254901960784,\"rgb(123,30,89)\"],[0.3764705882352941,\"rgb(150,27,91)\"],[0.4392156862745098,\"rgb(177,22,88)\"],[0.5019607843137255,\"rgb(203,26,79)\"],[0.5647058823529412,\"rgb(223,47,67)\"],[0.6274509803921569,\"rgb(236,76,61)\"],[0.6901960784313725,\"rgb(242,107,73)\"],[0.7529411764705882,\"rgb(244,135,95)\"],[0.8156862745098039,\"rgb(245,162,122)\"],[0.8784313725490196,\"rgb(246,188,153)\"],[0.9411764705882353,\"rgb(247,212,187)\"],[1.0,\"rgb(250,234,220)\"]]},\"colorway\":[\"rgb(76,114,176)\",\"rgb(221,132,82)\",\"rgb(85,168,104)\",\"rgb(196,78,82)\",\"rgb(129,114,179)\",\"rgb(147,120,96)\",\"rgb(218,139,195)\",\"rgb(140,140,140)\",\"rgb(204,185,116)\",\"rgb(100,181,205)\"],\"dragmode\":\"pan\",\"font\":{\"color\":\"#4f4f4f\"},\"geo\":{\"bgcolor\":\"white\",\"lakecolor\":\"white\",\"landcolor\":\"rgb(234,234,242)\",\"showlakes\":true,\"showland\":true,\"subunitcolor\":\"white\"},\"hoverlabel\":{\"align\":\"left\"},\"hovermode\":\"closest\",\"legend\":{\"font\":{\"size\":13}},\"margin\":{\"l\":2,\"r\":2},\"paper_bgcolor\":\"#D0E3F1\",\"plot_bgcolor\":\"rgb(234,234,242)\",\"polar\":{\"angularaxis\":{\"gridcolor\":\"white\",\"linecolor\":\"white\",\"showgrid\":true,\"ticks\":\"\"},\"bgcolor\":\"rgb(234,234,242)\",\"radialaxis\":{\"gridcolor\":\"white\",\"linecolor\":\"white\",\"showgrid\":true,\"ticks\":\"\"}},\"scene\":{\"xaxis\":{\"backgroundcolor\":\"rgb(234,234,242)\",\"gridcolor\":\"white\",\"gridwidth\":2,\"linecolor\":\"white\",\"showbackground\":true,\"showgrid\":true,\"ticks\":\"\",\"zerolinecolor\":\"white\"},\"yaxis\":{\"backgroundcolor\":\"rgb(234,234,242)\",\"gridcolor\":\"white\",\"gridwidth\":2,\"linecolor\":\"white\",\"showbackground\":true,\"showgrid\":true,\"ticks\":\"\",\"zerolinecolor\":\"white\"},\"zaxis\":{\"backgroundcolor\":\"rgb(234,234,242)\",\"gridcolor\":\"white\",\"gridwidth\":2,\"linecolor\":\"white\",\"showbackground\":true,\"showgrid\":true,\"ticks\":\"\",\"zerolinecolor\":\"white\"}},\"shapedefaults\":{\"fillcolor\":\"rgb(67,103,167)\",\"line\":{\"width\":0},\"opacity\":0.5},\"showlegend\":false,\"ternary\":{\"aaxis\":{\"gridcolor\":\"white\",\"linecolor\":\"white\",\"showgrid\":true,\"ticks\":\"\"},\"baxis\":{\"gridcolor\":\"white\",\"linecolor\":\"white\",\"showgrid\":true,\"ticks\":\"\"},\"bgcolor\":\"rgb(234,234,242)\",\"caxis\":{\"gridcolor\":\"white\",\"linecolor\":\"white\",\"showgrid\":true,\"ticks\":\"\"}},\"title\":{\"font\":{\"size\":17}},\"xaxis\":{\"automargin\":true,\"gridcolor\":\"white\",\"linecolor\":\"black\",\"linewidth\":2,\"mirror\":true,\"showgrid\":true,\"showline\":true,\"ticks\":\"\",\"title\":{\"standoff\":15,\"text\":\"\"},\"zerolinecolor\":\"white\"},\"yaxis\":{\"automargin\":true,\"gridcolor\":\"white\",\"linecolor\":\"black\",\"linewidth\":2,\"mirror\":true,\"showgrid\":true,\"showline\":true,\"ticks\":\"\",\"title\":{\"standoff\":15,\"text\":\"\"},\"zerolinecolor\":\"white\"}}},\"geo\":{\"domain\":{\"x\":[0.0,1.0],\"y\":[0.0,1.0]},\"center\":{},\"projection\":{\"type\":\"natural earth\"},\"showocean\":true,\"oceancolor\":\"LightBlue\",\"showcountries\":true,\"countrycolor\":\"#4e4e4e\",\"bgcolor\":\"#D0E3F1\"},\"legend\":{\"tracegroupgap\":0,\"itemsizing\":\"constant\"},\"margin\":{\"t\":0,\"r\":0,\"l\":0,\"b\":0}},                        {\"responsive\": true}                    ).then(function(){\n",
       "                            \n",
       "var gd = document.getElementById('bfbdc40a-1a12-435d-a0ee-f456a765ab40');\n",
       "var x = new MutationObserver(function (mutations, observer) {{\n",
       "        var display = window.getComputedStyle(gd).display;\n",
       "        if (!display || display === 'none') {{\n",
       "            console.log([gd, 'removed!']);\n",
       "            Plotly.purge(gd);\n",
       "            observer.disconnect();\n",
       "        }}\n",
       "}});\n",
       "\n",
       "// Listen for the removal of the full notebook cells\n",
       "var notebookContainer = gd.closest('#notebook-container');\n",
       "if (notebookContainer) {{\n",
       "    x.observe(notebookContainer, {childList: true});\n",
       "}}\n",
       "\n",
       "// Listen for the clearing of the current output cell\n",
       "var outputEl = gd.closest('.output');\n",
       "if (outputEl) {{\n",
       "    x.observe(outputEl, {childList: true});\n",
       "}}\n",
       "\n",
       "                        })                };                });            </script>        </div>"
      ]
     },
     "metadata": {},
     "output_type": "display_data"
    }
   ],
   "source": [
    "fig = px.scatter_geo(df_high_school_merged,\n",
    "                     lat=df_high_school_merged.Coordinates.str[0],\n",
    "                     lon=df_high_school_merged.Coordinates.str[1],\n",
    "                     size=\"fake_size\",\n",
    "                     hover_name=\"index\")\n",
    "fig.update_geos(projection_type=\"natural earth\",\n",
    "                showocean=True, oceancolor=\"LightBlue\",\n",
    "                showcountries=True, countrycolor=\"#4e4e4e\",\n",
    "                bgcolor=\"#D0E3F1\")\n",
    "fig.update_traces(hovertemplate=\"<b>%{hovertext}</b><br><br>%{text} attended high school here! <br>\" + \\\n",
    "                  \"<b>Lat</b>: %{lat}<br><b>Lon</b>: %{lon}<extra></extra>\", text=df_high_school_merged[\"Where did you attend high school?\"],\n",
    "                  marker=dict(color=\"crimson\"),\n",
    "                  mode=\"text+markers\",\n",
    "                  textposition=\"top right\")\n",
    "fig.update_layout(margin={\"r\":0,\"t\":0,\"l\":0,\"b\":0})\n",
    "fig.show()"
   ]
  },
  {
   "attachments": {},
   "cell_type": "markdown",
   "metadata": {},
   "source": [
    "<span style=\"font-size:1.5em\">Where are their homes?</span>"
   ]
  },
  {
   "cell_type": "code",
   "execution_count": 72,
   "metadata": {},
   "outputs": [],
   "source": [
    "# data_checker(df['Where is home? '], check_unique=True)"
   ]
  },
  {
   "cell_type": "code",
   "execution_count": 73,
   "metadata": {},
   "outputs": [],
   "source": [
    "df_home = df['Where is home? '].dropna()"
   ]
  },
  {
   "cell_type": "code",
   "execution_count": 74,
   "metadata": {},
   "outputs": [],
   "source": [
    "# data_checker(df_home, check_unique=True)"
   ]
  },
  {
   "cell_type": "code",
   "execution_count": 75,
   "metadata": {},
   "outputs": [],
   "source": [
    "geolocator = Nominatim(user_agent=\"app\")"
   ]
  },
  {
   "cell_type": "code",
   "execution_count": 76,
   "metadata": {},
   "outputs": [
    {
     "ename": "GeocoderServiceError",
     "evalue": "Non-successful status code 502",
     "output_type": "error",
     "traceback": [
      "\u001b[1;31m---------------------------------------------------------------------------\u001b[0m",
      "\u001b[1;31mAdapterHTTPError\u001b[0m                          Traceback (most recent call last)",
      "File \u001b[1;32mc:\\Users\\harri\\miniconda3\\envs\\py310_notebook_env\\lib\\site-packages\\geopy\\geocoders\\base.py:368\u001b[0m, in \u001b[0;36mGeocoder._call_geocoder\u001b[1;34m(self, url, callback, timeout, is_json, headers)\u001b[0m\n\u001b[0;32m    367\u001b[0m \u001b[39mif\u001b[39;00m is_json:\n\u001b[1;32m--> 368\u001b[0m     result \u001b[39m=\u001b[39m \u001b[39mself\u001b[39;49m\u001b[39m.\u001b[39;49madapter\u001b[39m.\u001b[39;49mget_json(url, timeout\u001b[39m=\u001b[39;49mtimeout, headers\u001b[39m=\u001b[39;49mreq_headers)\n\u001b[0;32m    369\u001b[0m \u001b[39melse\u001b[39;00m:\n",
      "File \u001b[1;32mc:\\Users\\harri\\miniconda3\\envs\\py310_notebook_env\\lib\\site-packages\\geopy\\adapters.py:447\u001b[0m, in \u001b[0;36mRequestsAdapter.get_json\u001b[1;34m(self, url, timeout, headers)\u001b[0m\n\u001b[0;32m    446\u001b[0m \u001b[39mdef\u001b[39;00m \u001b[39mget_json\u001b[39m(\u001b[39mself\u001b[39m, url, \u001b[39m*\u001b[39m, timeout, headers):\n\u001b[1;32m--> 447\u001b[0m     resp \u001b[39m=\u001b[39m \u001b[39mself\u001b[39;49m\u001b[39m.\u001b[39;49m_request(url, timeout\u001b[39m=\u001b[39;49mtimeout, headers\u001b[39m=\u001b[39;49mheaders)\n\u001b[0;32m    448\u001b[0m     \u001b[39mtry\u001b[39;00m:\n",
      "File \u001b[1;32mc:\\Users\\harri\\miniconda3\\envs\\py310_notebook_env\\lib\\site-packages\\geopy\\adapters.py:475\u001b[0m, in \u001b[0;36mRequestsAdapter._request\u001b[1;34m(self, url, timeout, headers)\u001b[0m\n\u001b[0;32m    474\u001b[0m     \u001b[39mif\u001b[39;00m resp\u001b[39m.\u001b[39mstatus_code \u001b[39m>\u001b[39m\u001b[39m=\u001b[39m \u001b[39m400\u001b[39m:\n\u001b[1;32m--> 475\u001b[0m         \u001b[39mraise\u001b[39;00m AdapterHTTPError(\n\u001b[0;32m    476\u001b[0m             \u001b[39m\"\u001b[39m\u001b[39mNon-successful status code \u001b[39m\u001b[39m%s\u001b[39;00m\u001b[39m\"\u001b[39m \u001b[39m%\u001b[39m resp\u001b[39m.\u001b[39mstatus_code,\n\u001b[0;32m    477\u001b[0m             status_code\u001b[39m=\u001b[39mresp\u001b[39m.\u001b[39mstatus_code,\n\u001b[0;32m    478\u001b[0m             headers\u001b[39m=\u001b[39mresp\u001b[39m.\u001b[39mheaders,\n\u001b[0;32m    479\u001b[0m             text\u001b[39m=\u001b[39mresp\u001b[39m.\u001b[39mtext,\n\u001b[0;32m    480\u001b[0m         )\n\u001b[0;32m    482\u001b[0m \u001b[39mreturn\u001b[39;00m resp\n",
      "\u001b[1;31mAdapterHTTPError\u001b[0m: Non-successful status code 502",
      "\nThe above exception was the direct cause of the following exception:\n",
      "\u001b[1;31mGeocoderServiceError\u001b[0m                      Traceback (most recent call last)",
      "Cell \u001b[1;32mIn[76], line 3\u001b[0m\n\u001b[0;32m      1\u001b[0m \u001b[39m## Hard Code Unique Locations\u001b[39;00m\n\u001b[0;32m      2\u001b[0m identified_home_locs \u001b[39m=\u001b[39m \\\n\u001b[1;32m----> 3\u001b[0m  [geolocator\u001b[39m.\u001b[39;49mgeocode(query\u001b[39m=\u001b[39;49m\u001b[39mdict\u001b[39;49m(country\u001b[39m=\u001b[39;49m\u001b[39m\"\u001b[39;49m\u001b[39mSouth Korea\u001b[39;49m\u001b[39m\"\u001b[39;49m)), geolocator\u001b[39m.\u001b[39mgeocode(query\u001b[39m=\u001b[39m\u001b[39mdict\u001b[39m(country\u001b[39m=\u001b[39m\u001b[39m\"\u001b[39m\u001b[39mCanada\u001b[39m\u001b[39m\"\u001b[39m, state\u001b[39m=\u001b[39m\u001b[39m\"\u001b[39m\u001b[39mSaskatchewan\u001b[39m\u001b[39m\"\u001b[39m)),\n\u001b[0;32m      4\u001b[0m  geolocator\u001b[39m.\u001b[39mgeocode(query\u001b[39m=\u001b[39m\u001b[39mdict\u001b[39m(country\u001b[39m=\u001b[39m\u001b[39m\"\u001b[39m\u001b[39mChina\u001b[39m\u001b[39m\"\u001b[39m, city\u001b[39m=\u001b[39m\u001b[39m\"\u001b[39m\u001b[39mHong Kong\u001b[39m\u001b[39m\"\u001b[39m)),\n\u001b[0;32m      5\u001b[0m  geolocator\u001b[39m.\u001b[39mgeocode(query\u001b[39m=\u001b[39m\u001b[39mdict\u001b[39m(country\u001b[39m=\u001b[39m\u001b[39m\"\u001b[39m\u001b[39mEgypt\u001b[39m\u001b[39m\"\u001b[39m)),\n\u001b[0;32m      6\u001b[0m  geolocator\u001b[39m.\u001b[39mgeocode(query\u001b[39m=\u001b[39m\u001b[39mdict\u001b[39m(country\u001b[39m=\u001b[39m\u001b[39m\"\u001b[39m\u001b[39mCanada\u001b[39m\u001b[39m\"\u001b[39m, state\u001b[39m=\u001b[39m\u001b[39m\"\u001b[39m\u001b[39mBritish Columbia\u001b[39m\u001b[39m\"\u001b[39m)),\n\u001b[0;32m      7\u001b[0m  geolocator\u001b[39m.\u001b[39mgeocode(query\u001b[39m=\u001b[39m\u001b[39mdict\u001b[39m(country\u001b[39m=\u001b[39m\u001b[39m\"\u001b[39m\u001b[39mCanada\u001b[39m\u001b[39m\"\u001b[39m, city\u001b[39m=\u001b[39m\u001b[39m\"\u001b[39m\u001b[39mToronto\u001b[39m\u001b[39m\"\u001b[39m)),\n\u001b[0;32m      8\u001b[0m  geolocator\u001b[39m.\u001b[39mgeocode(query\u001b[39m=\u001b[39m\u001b[39mdict\u001b[39m(country\u001b[39m=\u001b[39m\u001b[39m\"\u001b[39m\u001b[39mCanada\u001b[39m\u001b[39m\"\u001b[39m, state\u001b[39m=\u001b[39m\u001b[39m\"\u001b[39m\u001b[39mSaskatchewan\u001b[39m\u001b[39m\"\u001b[39m)),\n\u001b[0;32m      9\u001b[0m  geolocator\u001b[39m.\u001b[39mgeocode(query\u001b[39m=\u001b[39m\u001b[39mdict\u001b[39m(country\u001b[39m=\u001b[39m\u001b[39m\"\u001b[39m\u001b[39mIndia\u001b[39m\u001b[39m\"\u001b[39m)),\n\u001b[0;32m     10\u001b[0m  geolocator\u001b[39m.\u001b[39mgeocode(query\u001b[39m=\u001b[39m\u001b[39mdict\u001b[39m(country\u001b[39m=\u001b[39m\u001b[39m\"\u001b[39m\u001b[39mUnited Arab Emirates\u001b[39m\u001b[39m\"\u001b[39m)),\n\u001b[0;32m     11\u001b[0m  geolocator\u001b[39m.\u001b[39mgeocode(query\u001b[39m=\u001b[39m\u001b[39mdict\u001b[39m(country\u001b[39m=\u001b[39m\u001b[39m\"\u001b[39m\u001b[39mBrazil\u001b[39m\u001b[39m\"\u001b[39m)),\n\u001b[0;32m     12\u001b[0m  geolocator\u001b[39m.\u001b[39mgeocode(query\u001b[39m=\u001b[39m\u001b[39mdict\u001b[39m(country\u001b[39m=\u001b[39m\u001b[39m\"\u001b[39m\u001b[39mBangladesh\u001b[39m\u001b[39m\"\u001b[39m)),\n\u001b[0;32m     13\u001b[0m  geolocator\u001b[39m.\u001b[39mgeocode(query\u001b[39m=\u001b[39m\u001b[39mdict\u001b[39m(country\u001b[39m=\u001b[39m\u001b[39m\"\u001b[39m\u001b[39mUSA\u001b[39m\u001b[39m\"\u001b[39m)),\n\u001b[0;32m     14\u001b[0m  geolocator\u001b[39m.\u001b[39mgeocode(query\u001b[39m=\u001b[39m\u001b[39mdict\u001b[39m(country\u001b[39m=\u001b[39m\u001b[39m\"\u001b[39m\u001b[39mPakistan\u001b[39m\u001b[39m\"\u001b[39m))\n\u001b[0;32m     15\u001b[0m  ]\n",
      "File \u001b[1;32mc:\\Users\\harri\\miniconda3\\envs\\py310_notebook_env\\lib\\site-packages\\geopy\\geocoders\\nominatim.py:297\u001b[0m, in \u001b[0;36mNominatim.geocode\u001b[1;34m(self, query, exactly_one, timeout, limit, addressdetails, language, geometry, extratags, country_codes, viewbox, bounded, featuretype, namedetails)\u001b[0m\n\u001b[0;32m    295\u001b[0m logger\u001b[39m.\u001b[39mdebug(\u001b[39m\"\u001b[39m\u001b[39m%s\u001b[39;00m\u001b[39m.geocode: \u001b[39m\u001b[39m%s\u001b[39;00m\u001b[39m\"\u001b[39m, \u001b[39mself\u001b[39m\u001b[39m.\u001b[39m\u001b[39m__class__\u001b[39m\u001b[39m.\u001b[39m\u001b[39m__name__\u001b[39m, url)\n\u001b[0;32m    296\u001b[0m callback \u001b[39m=\u001b[39m partial(\u001b[39mself\u001b[39m\u001b[39m.\u001b[39m_parse_json, exactly_one\u001b[39m=\u001b[39mexactly_one)\n\u001b[1;32m--> 297\u001b[0m \u001b[39mreturn\u001b[39;00m \u001b[39mself\u001b[39;49m\u001b[39m.\u001b[39;49m_call_geocoder(url, callback, timeout\u001b[39m=\u001b[39;49mtimeout)\n",
      "File \u001b[1;32mc:\\Users\\harri\\miniconda3\\envs\\py310_notebook_env\\lib\\site-packages\\geopy\\geocoders\\base.py:388\u001b[0m, in \u001b[0;36mGeocoder._call_geocoder\u001b[1;34m(self, url, callback, timeout, is_json, headers)\u001b[0m\n\u001b[0;32m    386\u001b[0m         \u001b[39mreturn\u001b[39;00m callback(result)\n\u001b[0;32m    387\u001b[0m \u001b[39mexcept\u001b[39;00m \u001b[39mException\u001b[39;00m \u001b[39mas\u001b[39;00m error:\n\u001b[1;32m--> 388\u001b[0m     res \u001b[39m=\u001b[39m \u001b[39mself\u001b[39;49m\u001b[39m.\u001b[39;49m_adapter_error_handler(error)\n\u001b[0;32m    389\u001b[0m     \u001b[39mif\u001b[39;00m res \u001b[39mis\u001b[39;00m NONE_RESULT:\n\u001b[0;32m    390\u001b[0m         \u001b[39mreturn\u001b[39;00m \u001b[39mNone\u001b[39;00m\n",
      "File \u001b[1;32mc:\\Users\\harri\\miniconda3\\envs\\py310_notebook_env\\lib\\site-packages\\geopy\\geocoders\\base.py:411\u001b[0m, in \u001b[0;36mGeocoder._adapter_error_handler\u001b[1;34m(self, error)\u001b[0m\n\u001b[0;32m    407\u001b[0m         \u001b[39mraise\u001b[39;00m exc_cls(\n\u001b[0;32m    408\u001b[0m             \u001b[39mstr\u001b[39m(error), retry_after\u001b[39m=\u001b[39mget_retry_after(error\u001b[39m.\u001b[39mheaders)\n\u001b[0;32m    409\u001b[0m         ) \u001b[39mfrom\u001b[39;00m \u001b[39merror\u001b[39;00m\n\u001b[0;32m    410\u001b[0m     \u001b[39melse\u001b[39;00m:\n\u001b[1;32m--> 411\u001b[0m         \u001b[39mraise\u001b[39;00m exc_cls(\u001b[39mstr\u001b[39m(error)) \u001b[39mfrom\u001b[39;00m \u001b[39merror\u001b[39;00m\n\u001b[0;32m    412\u001b[0m \u001b[39melse\u001b[39;00m:\n\u001b[0;32m    413\u001b[0m     res \u001b[39m=\u001b[39m \u001b[39mself\u001b[39m\u001b[39m.\u001b[39m_geocoder_exception_handler(error)\n",
      "\u001b[1;31mGeocoderServiceError\u001b[0m: Non-successful status code 502"
     ]
    }
   ],
   "source": [
    "## Hard Code Unique Locations\n",
    "# identified_home_locs = \\\n",
    "#  [geolocator.geocode(query=dict(country=\"South Korea\")), geolocator.geocode(query=dict(country=\"Canada\", state=\"Saskatchewan\")),\n",
    "#  geolocator.geocode(query=dict(country=\"China\", city=\"Hong Kong\")),\n",
    "#  geolocator.geocode(query=dict(country=\"Egypt\")),\n",
    "#  geolocator.geocode(query=dict(country=\"Canada\", state=\"British Columbia\")),\n",
    "#  geolocator.geocode(query=dict(country=\"Canada\", city=\"Toronto\")),\n",
    "#  geolocator.geocode(query=dict(country=\"Canada\", state=\"Saskatchewan\")),\n",
    "#  geolocator.geocode(query=dict(country=\"India\")),\n",
    "#  geolocator.geocode(query=dict(country=\"United Arab Emirates\")),\n",
    "#  geolocator.geocode(query=dict(country=\"Brazil\")),\n",
    "#  geolocator.geocode(query=dict(country=\"Bangladesh\")),\n",
    "#  geolocator.geocode(query=dict(country=\"USA\")),\n",
    "#  geolocator.geocode(query=dict(country=\"Pakistan\"))\n",
    "#  ]\n"
   ]
  },
  {
   "cell_type": "code",
   "execution_count": 77,
   "metadata": {},
   "outputs": [
    {
     "data": {
      "text/plain": [
       "array(['Korea South', 'Central Canada.', 'Hong Kong', 'Egypt',\n",
       "       'The West Coast.', 'GTA', 'The Prairie Provinces.', 'India',\n",
       "       'United Arab Emirates', 'Brazil', 'Bangladesh', 'United States',\n",
       "       'Pakistan'], dtype=object)"
      ]
     },
     "execution_count": 77,
     "metadata": {},
     "output_type": "execute_result"
    }
   ],
   "source": [
    "df_home.unique()"
   ]
  },
  {
   "cell_type": "code",
   "execution_count": 79,
   "metadata": {},
   "outputs": [],
   "source": [
    "# identified_home_coordinates = [(location.latitude, location.longitude) for location in identified_home_locs]\n",
    "identified_home_coordinates = [\n",
    "    (36.63839, 127.6961),\n",
    "    (55.53213, -106.1412),\n",
    "    (22.27933, 114.1628),\n",
    "    (26.25405, 29.26755),\n",
    "    (55.00125, -125.0024),\n",
    "    (43.65348, -79.38393),\n",
    "    (55.53213, -106.1412),\n",
    "    (22.35111, 78.66774),\n",
    "    (24.00025, 53.99948),\n",
    "    (-10.3333, -53.2),\n",
    "    (24.47693, 90.29344),\n",
    "    (39.78373, -100.4459),\n",
    "    (30.33084, 71.2475)\n",
    "]"
   ]
  },
  {
   "cell_type": "code",
   "execution_count": 80,
   "metadata": {},
   "outputs": [],
   "source": [
    "df_home_merged = map_location_setup(df_home, identified_home_coordinates)"
   ]
  },
  {
   "cell_type": "code",
   "execution_count": 81,
   "metadata": {},
   "outputs": [],
   "source": [
    "df_home_merged.reset_index(inplace=True)"
   ]
  },
  {
   "cell_type": "code",
   "execution_count": 82,
   "metadata": {},
   "outputs": [],
   "source": [
    "df_home_merged[\"fake_size\"] = df_home_merged[\"Where is home? \"] * 5 + 5"
   ]
  },
  {
   "cell_type": "code",
   "execution_count": 83,
   "metadata": {},
   "outputs": [
    {
     "data": {
      "text/html": [
       "<div>                            <div id=\"abc2d31b-c9c0-491a-8c06-59d8f3b0db07\" class=\"plotly-graph-div\" style=\"height:525px; width:100%;\"></div>            <script type=\"text/javascript\">                require([\"plotly\"], function(Plotly) {                    window.PLOTLYENV=window.PLOTLYENV || {};                                    if (document.getElementById(\"abc2d31b-c9c0-491a-8c06-59d8f3b0db07\")) {                    Plotly.newPlot(                        \"abc2d31b-c9c0-491a-8c06-59d8f3b0db07\",                        [{\"geo\":\"geo\",\"hovertemplate\":\"<b>%{hovertext}</b><br><br>%{text} students live here! <br><b>Lat</b>: %{lat}<br><b>Lon</b>: %{lon}<extra></extra>\",\"hovertext\":[\"Korea South\",\"Central Canada.\",\"Hong Kong\",\"Egypt\",\"The West Coast.\",\"GTA\",\"The Prairie Provinces.\",\"India\",\"United Arab Emirates\",\"Brazil\",\"Bangladesh\",\"United States\",\"Pakistan\"],\"lat\":[36.63839,55.53213,22.27933,26.25405,55.00125,43.65348,55.53213,22.35111,24.00025,-10.3333,24.47693,39.78373,30.33084],\"legendgroup\":\"\",\"lon\":[127.6961,-106.1412,114.1628,29.26755,-125.0024,-79.38393,-106.1412,78.66774,53.99948,-53.2,90.29344,-100.4459,71.2475],\"marker\":{\"color\":\"rgb(76,114,176)\",\"size\":[10,95,10,10,35,65,15,20,10,10,10,10,10],\"sizemode\":\"area\",\"sizeref\":0.2375,\"symbol\":\"circle\"},\"mode\":\"text+markers\",\"name\":\"\",\"showlegend\":false,\"type\":\"scattergeo\",\"text\":[1.0,18.0,1.0,1.0,6.0,12.0,2.0,3.0,1.0,1.0,1.0,1.0,1.0],\"textposition\":\"top right\"}],                        {\"template\":{\"data\":{\"barpolar\":[{\"marker\":{\"line\":{\"color\":\"rgb(234,234,242)\",\"width\":0.5},\"pattern\":{\"fillmode\":\"overlay\",\"size\":10,\"solidity\":0.2}},\"type\":\"barpolar\"}],\"bar\":[{\"error_x\":{\"color\":\"rgb(36,36,36)\"},\"error_y\":{\"color\":\"rgb(36,36,36)\"},\"marker\":{\"line\":{\"color\":\"rgb(234,234,242)\",\"width\":0.5},\"pattern\":{\"fillmode\":\"overlay\",\"size\":10,\"solidity\":0.2}},\"type\":\"bar\"}],\"carpet\":[{\"aaxis\":{\"endlinecolor\":\"rgb(36,36,36)\",\"gridcolor\":\"white\",\"linecolor\":\"white\",\"minorgridcolor\":\"white\",\"startlinecolor\":\"rgb(36,36,36)\"},\"baxis\":{\"endlinecolor\":\"rgb(36,36,36)\",\"gridcolor\":\"white\",\"linecolor\":\"white\",\"minorgridcolor\":\"white\",\"startlinecolor\":\"rgb(36,36,36)\"},\"type\":\"carpet\"}],\"choropleth\":[{\"colorbar\":{\"outlinewidth\":0,\"tickcolor\":\"rgb(36,36,36)\",\"ticklen\":8,\"ticks\":\"outside\",\"tickwidth\":2},\"type\":\"choropleth\"}],\"contourcarpet\":[{\"colorbar\":{\"outlinewidth\":0,\"tickcolor\":\"rgb(36,36,36)\",\"ticklen\":8,\"ticks\":\"outside\",\"tickwidth\":2},\"type\":\"contourcarpet\"}],\"contour\":[{\"colorbar\":{\"outlinewidth\":0,\"tickcolor\":\"rgb(36,36,36)\",\"ticklen\":8,\"ticks\":\"outside\",\"tickwidth\":2},\"colorscale\":[[0.0,\"rgb(2,4,25)\"],[0.06274509803921569,\"rgb(24,15,41)\"],[0.12549019607843137,\"rgb(47,23,57)\"],[0.18823529411764706,\"rgb(71,28,72)\"],[0.25098039215686274,\"rgb(97,30,82)\"],[0.3137254901960784,\"rgb(123,30,89)\"],[0.3764705882352941,\"rgb(150,27,91)\"],[0.4392156862745098,\"rgb(177,22,88)\"],[0.5019607843137255,\"rgb(203,26,79)\"],[0.5647058823529412,\"rgb(223,47,67)\"],[0.6274509803921569,\"rgb(236,76,61)\"],[0.6901960784313725,\"rgb(242,107,73)\"],[0.7529411764705882,\"rgb(244,135,95)\"],[0.8156862745098039,\"rgb(245,162,122)\"],[0.8784313725490196,\"rgb(246,188,153)\"],[0.9411764705882353,\"rgb(247,212,187)\"],[1.0,\"rgb(250,234,220)\"]],\"type\":\"contour\"}],\"heatmapgl\":[{\"colorbar\":{\"outlinewidth\":0,\"tickcolor\":\"rgb(36,36,36)\",\"ticklen\":8,\"ticks\":\"outside\",\"tickwidth\":2},\"colorscale\":[[0.0,\"rgb(2,4,25)\"],[0.06274509803921569,\"rgb(24,15,41)\"],[0.12549019607843137,\"rgb(47,23,57)\"],[0.18823529411764706,\"rgb(71,28,72)\"],[0.25098039215686274,\"rgb(97,30,82)\"],[0.3137254901960784,\"rgb(123,30,89)\"],[0.3764705882352941,\"rgb(150,27,91)\"],[0.4392156862745098,\"rgb(177,22,88)\"],[0.5019607843137255,\"rgb(203,26,79)\"],[0.5647058823529412,\"rgb(223,47,67)\"],[0.6274509803921569,\"rgb(236,76,61)\"],[0.6901960784313725,\"rgb(242,107,73)\"],[0.7529411764705882,\"rgb(244,135,95)\"],[0.8156862745098039,\"rgb(245,162,122)\"],[0.8784313725490196,\"rgb(246,188,153)\"],[0.9411764705882353,\"rgb(247,212,187)\"],[1.0,\"rgb(250,234,220)\"]],\"type\":\"heatmapgl\"}],\"heatmap\":[{\"colorbar\":{\"outlinewidth\":0,\"tickcolor\":\"rgb(36,36,36)\",\"ticklen\":8,\"ticks\":\"outside\",\"tickwidth\":2},\"colorscale\":[[0.0,\"rgb(2,4,25)\"],[0.06274509803921569,\"rgb(24,15,41)\"],[0.12549019607843137,\"rgb(47,23,57)\"],[0.18823529411764706,\"rgb(71,28,72)\"],[0.25098039215686274,\"rgb(97,30,82)\"],[0.3137254901960784,\"rgb(123,30,89)\"],[0.3764705882352941,\"rgb(150,27,91)\"],[0.4392156862745098,\"rgb(177,22,88)\"],[0.5019607843137255,\"rgb(203,26,79)\"],[0.5647058823529412,\"rgb(223,47,67)\"],[0.6274509803921569,\"rgb(236,76,61)\"],[0.6901960784313725,\"rgb(242,107,73)\"],[0.7529411764705882,\"rgb(244,135,95)\"],[0.8156862745098039,\"rgb(245,162,122)\"],[0.8784313725490196,\"rgb(246,188,153)\"],[0.9411764705882353,\"rgb(247,212,187)\"],[1.0,\"rgb(250,234,220)\"]],\"type\":\"heatmap\"}],\"histogram2dcontour\":[{\"colorbar\":{\"outlinewidth\":0,\"tickcolor\":\"rgb(36,36,36)\",\"ticklen\":8,\"ticks\":\"outside\",\"tickwidth\":2},\"colorscale\":[[0.0,\"rgb(2,4,25)\"],[0.06274509803921569,\"rgb(24,15,41)\"],[0.12549019607843137,\"rgb(47,23,57)\"],[0.18823529411764706,\"rgb(71,28,72)\"],[0.25098039215686274,\"rgb(97,30,82)\"],[0.3137254901960784,\"rgb(123,30,89)\"],[0.3764705882352941,\"rgb(150,27,91)\"],[0.4392156862745098,\"rgb(177,22,88)\"],[0.5019607843137255,\"rgb(203,26,79)\"],[0.5647058823529412,\"rgb(223,47,67)\"],[0.6274509803921569,\"rgb(236,76,61)\"],[0.6901960784313725,\"rgb(242,107,73)\"],[0.7529411764705882,\"rgb(244,135,95)\"],[0.8156862745098039,\"rgb(245,162,122)\"],[0.8784313725490196,\"rgb(246,188,153)\"],[0.9411764705882353,\"rgb(247,212,187)\"],[1.0,\"rgb(250,234,220)\"]],\"type\":\"histogram2dcontour\"}],\"histogram2d\":[{\"colorbar\":{\"outlinewidth\":0,\"tickcolor\":\"rgb(36,36,36)\",\"ticklen\":8,\"ticks\":\"outside\",\"tickwidth\":2},\"colorscale\":[[0.0,\"rgb(2,4,25)\"],[0.06274509803921569,\"rgb(24,15,41)\"],[0.12549019607843137,\"rgb(47,23,57)\"],[0.18823529411764706,\"rgb(71,28,72)\"],[0.25098039215686274,\"rgb(97,30,82)\"],[0.3137254901960784,\"rgb(123,30,89)\"],[0.3764705882352941,\"rgb(150,27,91)\"],[0.4392156862745098,\"rgb(177,22,88)\"],[0.5019607843137255,\"rgb(203,26,79)\"],[0.5647058823529412,\"rgb(223,47,67)\"],[0.6274509803921569,\"rgb(236,76,61)\"],[0.6901960784313725,\"rgb(242,107,73)\"],[0.7529411764705882,\"rgb(244,135,95)\"],[0.8156862745098039,\"rgb(245,162,122)\"],[0.8784313725490196,\"rgb(246,188,153)\"],[0.9411764705882353,\"rgb(247,212,187)\"],[1.0,\"rgb(250,234,220)\"]],\"type\":\"histogram2d\"}],\"histogram\":[{\"marker\":{\"pattern\":{\"fillmode\":\"overlay\",\"size\":10,\"solidity\":0.2}},\"type\":\"histogram\"}],\"mesh3d\":[{\"colorbar\":{\"outlinewidth\":0,\"tickcolor\":\"rgb(36,36,36)\",\"ticklen\":8,\"ticks\":\"outside\",\"tickwidth\":2},\"type\":\"mesh3d\"}],\"parcoords\":[{\"line\":{\"colorbar\":{\"outlinewidth\":0,\"tickcolor\":\"rgb(36,36,36)\",\"ticklen\":8,\"ticks\":\"outside\",\"tickwidth\":2}},\"type\":\"parcoords\"}],\"pie\":[{\"automargin\":true,\"type\":\"pie\"}],\"scatter3d\":[{\"line\":{\"colorbar\":{\"outlinewidth\":0,\"tickcolor\":\"rgb(36,36,36)\",\"ticklen\":8,\"ticks\":\"outside\",\"tickwidth\":2}},\"marker\":{\"colorbar\":{\"outlinewidth\":0,\"tickcolor\":\"rgb(36,36,36)\",\"ticklen\":8,\"ticks\":\"outside\",\"tickwidth\":2}},\"type\":\"scatter3d\"}],\"scattercarpet\":[{\"marker\":{\"colorbar\":{\"outlinewidth\":0,\"tickcolor\":\"rgb(36,36,36)\",\"ticklen\":8,\"ticks\":\"outside\",\"tickwidth\":2}},\"type\":\"scattercarpet\"}],\"scattergeo\":[{\"marker\":{\"colorbar\":{\"outlinewidth\":0,\"tickcolor\":\"rgb(36,36,36)\",\"ticklen\":8,\"ticks\":\"outside\",\"tickwidth\":2}},\"type\":\"scattergeo\"}],\"scattergl\":[{\"marker\":{\"colorbar\":{\"outlinewidth\":0,\"tickcolor\":\"rgb(36,36,36)\",\"ticklen\":8,\"ticks\":\"outside\",\"tickwidth\":2}},\"type\":\"scattergl\"}],\"scattermapbox\":[{\"marker\":{\"colorbar\":{\"outlinewidth\":0,\"tickcolor\":\"rgb(36,36,36)\",\"ticklen\":8,\"ticks\":\"outside\",\"tickwidth\":2}},\"type\":\"scattermapbox\"}],\"scatterpolargl\":[{\"marker\":{\"colorbar\":{\"outlinewidth\":0,\"tickcolor\":\"rgb(36,36,36)\",\"ticklen\":8,\"ticks\":\"outside\",\"tickwidth\":2}},\"type\":\"scatterpolargl\"}],\"scatterpolar\":[{\"marker\":{\"colorbar\":{\"outlinewidth\":0,\"tickcolor\":\"rgb(36,36,36)\",\"ticklen\":8,\"ticks\":\"outside\",\"tickwidth\":2}},\"type\":\"scatterpolar\"}],\"scatter\":[{\"fillpattern\":{\"fillmode\":\"overlay\",\"size\":10,\"solidity\":0.2},\"type\":\"scatter\"}],\"scatterternary\":[{\"marker\":{\"colorbar\":{\"outlinewidth\":0,\"tickcolor\":\"rgb(36,36,36)\",\"ticklen\":8,\"ticks\":\"outside\",\"tickwidth\":2}},\"type\":\"scatterternary\"}],\"surface\":[{\"colorbar\":{\"outlinewidth\":0,\"tickcolor\":\"rgb(36,36,36)\",\"ticklen\":8,\"ticks\":\"outside\",\"tickwidth\":2},\"colorscale\":[[0.0,\"rgb(2,4,25)\"],[0.06274509803921569,\"rgb(24,15,41)\"],[0.12549019607843137,\"rgb(47,23,57)\"],[0.18823529411764706,\"rgb(71,28,72)\"],[0.25098039215686274,\"rgb(97,30,82)\"],[0.3137254901960784,\"rgb(123,30,89)\"],[0.3764705882352941,\"rgb(150,27,91)\"],[0.4392156862745098,\"rgb(177,22,88)\"],[0.5019607843137255,\"rgb(203,26,79)\"],[0.5647058823529412,\"rgb(223,47,67)\"],[0.6274509803921569,\"rgb(236,76,61)\"],[0.6901960784313725,\"rgb(242,107,73)\"],[0.7529411764705882,\"rgb(244,135,95)\"],[0.8156862745098039,\"rgb(245,162,122)\"],[0.8784313725490196,\"rgb(246,188,153)\"],[0.9411764705882353,\"rgb(247,212,187)\"],[1.0,\"rgb(250,234,220)\"]],\"type\":\"surface\"}],\"table\":[{\"cells\":{\"fill\":{\"color\":\"rgb(231,231,240)\"},\"line\":{\"color\":\"white\"}},\"header\":{\"fill\":{\"color\":\"rgb(183,183,191)\"},\"line\":{\"color\":\"white\"}},\"type\":\"table\"}]},\"layout\":{\"annotationdefaults\":{\"arrowcolor\":\"rgb(67,103,167)\"},\"autotypenumbers\":\"strict\",\"coloraxis\":{\"colorbar\":{\"outlinewidth\":0,\"tickcolor\":\"rgb(36,36,36)\",\"ticklen\":8,\"ticks\":\"outside\",\"tickwidth\":2}},\"colorscale\":{\"sequential\":[[0.0,\"rgb(2,4,25)\"],[0.06274509803921569,\"rgb(24,15,41)\"],[0.12549019607843137,\"rgb(47,23,57)\"],[0.18823529411764706,\"rgb(71,28,72)\"],[0.25098039215686274,\"rgb(97,30,82)\"],[0.3137254901960784,\"rgb(123,30,89)\"],[0.3764705882352941,\"rgb(150,27,91)\"],[0.4392156862745098,\"rgb(177,22,88)\"],[0.5019607843137255,\"rgb(203,26,79)\"],[0.5647058823529412,\"rgb(223,47,67)\"],[0.6274509803921569,\"rgb(236,76,61)\"],[0.6901960784313725,\"rgb(242,107,73)\"],[0.7529411764705882,\"rgb(244,135,95)\"],[0.8156862745098039,\"rgb(245,162,122)\"],[0.8784313725490196,\"rgb(246,188,153)\"],[0.9411764705882353,\"rgb(247,212,187)\"],[1.0,\"rgb(250,234,220)\"]],\"sequentialminus\":[[0.0,\"rgb(2,4,25)\"],[0.06274509803921569,\"rgb(24,15,41)\"],[0.12549019607843137,\"rgb(47,23,57)\"],[0.18823529411764706,\"rgb(71,28,72)\"],[0.25098039215686274,\"rgb(97,30,82)\"],[0.3137254901960784,\"rgb(123,30,89)\"],[0.3764705882352941,\"rgb(150,27,91)\"],[0.4392156862745098,\"rgb(177,22,88)\"],[0.5019607843137255,\"rgb(203,26,79)\"],[0.5647058823529412,\"rgb(223,47,67)\"],[0.6274509803921569,\"rgb(236,76,61)\"],[0.6901960784313725,\"rgb(242,107,73)\"],[0.7529411764705882,\"rgb(244,135,95)\"],[0.8156862745098039,\"rgb(245,162,122)\"],[0.8784313725490196,\"rgb(246,188,153)\"],[0.9411764705882353,\"rgb(247,212,187)\"],[1.0,\"rgb(250,234,220)\"]]},\"colorway\":[\"rgb(76,114,176)\",\"rgb(221,132,82)\",\"rgb(85,168,104)\",\"rgb(196,78,82)\",\"rgb(129,114,179)\",\"rgb(147,120,96)\",\"rgb(218,139,195)\",\"rgb(140,140,140)\",\"rgb(204,185,116)\",\"rgb(100,181,205)\"],\"dragmode\":\"pan\",\"font\":{\"color\":\"#4f4f4f\"},\"geo\":{\"bgcolor\":\"white\",\"lakecolor\":\"white\",\"landcolor\":\"rgb(234,234,242)\",\"showlakes\":true,\"showland\":true,\"subunitcolor\":\"white\"},\"hoverlabel\":{\"align\":\"left\"},\"hovermode\":\"closest\",\"legend\":{\"font\":{\"size\":13}},\"margin\":{\"l\":2,\"r\":2},\"paper_bgcolor\":\"#D0E3F1\",\"plot_bgcolor\":\"rgb(234,234,242)\",\"polar\":{\"angularaxis\":{\"gridcolor\":\"white\",\"linecolor\":\"white\",\"showgrid\":true,\"ticks\":\"\"},\"bgcolor\":\"rgb(234,234,242)\",\"radialaxis\":{\"gridcolor\":\"white\",\"linecolor\":\"white\",\"showgrid\":true,\"ticks\":\"\"}},\"scene\":{\"xaxis\":{\"backgroundcolor\":\"rgb(234,234,242)\",\"gridcolor\":\"white\",\"gridwidth\":2,\"linecolor\":\"white\",\"showbackground\":true,\"showgrid\":true,\"ticks\":\"\",\"zerolinecolor\":\"white\"},\"yaxis\":{\"backgroundcolor\":\"rgb(234,234,242)\",\"gridcolor\":\"white\",\"gridwidth\":2,\"linecolor\":\"white\",\"showbackground\":true,\"showgrid\":true,\"ticks\":\"\",\"zerolinecolor\":\"white\"},\"zaxis\":{\"backgroundcolor\":\"rgb(234,234,242)\",\"gridcolor\":\"white\",\"gridwidth\":2,\"linecolor\":\"white\",\"showbackground\":true,\"showgrid\":true,\"ticks\":\"\",\"zerolinecolor\":\"white\"}},\"shapedefaults\":{\"fillcolor\":\"rgb(67,103,167)\",\"line\":{\"width\":0},\"opacity\":0.5},\"showlegend\":false,\"ternary\":{\"aaxis\":{\"gridcolor\":\"white\",\"linecolor\":\"white\",\"showgrid\":true,\"ticks\":\"\"},\"baxis\":{\"gridcolor\":\"white\",\"linecolor\":\"white\",\"showgrid\":true,\"ticks\":\"\"},\"bgcolor\":\"rgb(234,234,242)\",\"caxis\":{\"gridcolor\":\"white\",\"linecolor\":\"white\",\"showgrid\":true,\"ticks\":\"\"}},\"title\":{\"font\":{\"size\":17}},\"xaxis\":{\"automargin\":true,\"gridcolor\":\"white\",\"linecolor\":\"black\",\"linewidth\":2,\"mirror\":true,\"showgrid\":true,\"showline\":true,\"ticks\":\"\",\"title\":{\"standoff\":15,\"text\":\"\"},\"zerolinecolor\":\"white\"},\"yaxis\":{\"automargin\":true,\"gridcolor\":\"white\",\"linecolor\":\"black\",\"linewidth\":2,\"mirror\":true,\"showgrid\":true,\"showline\":true,\"ticks\":\"\",\"title\":{\"standoff\":15,\"text\":\"\"},\"zerolinecolor\":\"white\"}}},\"geo\":{\"domain\":{\"x\":[0.0,1.0],\"y\":[0.0,1.0]},\"center\":{},\"projection\":{\"type\":\"natural earth\"},\"showocean\":true,\"oceancolor\":\"LightBlue\",\"showcountries\":true,\"countrycolor\":\"#4e4e4e\",\"bgcolor\":\"#D0E3F1\"},\"legend\":{\"tracegroupgap\":0,\"itemsizing\":\"constant\"},\"margin\":{\"t\":0,\"r\":0,\"l\":0,\"b\":0}},                        {\"responsive\": true}                    ).then(function(){\n",
       "                            \n",
       "var gd = document.getElementById('abc2d31b-c9c0-491a-8c06-59d8f3b0db07');\n",
       "var x = new MutationObserver(function (mutations, observer) {{\n",
       "        var display = window.getComputedStyle(gd).display;\n",
       "        if (!display || display === 'none') {{\n",
       "            console.log([gd, 'removed!']);\n",
       "            Plotly.purge(gd);\n",
       "            observer.disconnect();\n",
       "        }}\n",
       "}});\n",
       "\n",
       "// Listen for the removal of the full notebook cells\n",
       "var notebookContainer = gd.closest('#notebook-container');\n",
       "if (notebookContainer) {{\n",
       "    x.observe(notebookContainer, {childList: true});\n",
       "}}\n",
       "\n",
       "// Listen for the clearing of the current output cell\n",
       "var outputEl = gd.closest('.output');\n",
       "if (outputEl) {{\n",
       "    x.observe(outputEl, {childList: true});\n",
       "}}\n",
       "\n",
       "                        })                };                });            </script>        </div>"
      ]
     },
     "metadata": {},
     "output_type": "display_data"
    }
   ],
   "source": [
    "fig = px.scatter_geo(df_home_merged,\n",
    "                     lat=df_home_merged.Coordinates.str[0],\n",
    "                     lon=df_home_merged.Coordinates.str[1],\n",
    "                     size=\"fake_size\",\n",
    "                     hover_name=\"index\")\n",
    "fig.update_geos(projection_type=\"natural earth\",\n",
    "                showocean=True, oceancolor=\"LightBlue\",\n",
    "                showcountries=True, countrycolor=\"#4e4e4e\",\n",
    "                bgcolor=\"#D0E3F1\")\n",
    "fig.update_traces(hovertemplate=\"<b>%{hovertext}</b><br><br>%{text} students live here! <br>\" + \\\n",
    "                  \"<b>Lat</b>: %{lat}<br><b>Lon</b>: %{lon}<extra></extra>\", text=df_home_merged[\"Where is home? \"],\n",
    "                  mode=\"text+markers\",\n",
    "                  textposition=\"top right\")\n",
    "fig.update_layout(margin={\"r\":0,\"t\":0,\"l\":0,\"b\":0})\n",
    "fig.show()"
   ]
  },
  {
   "attachments": {},
   "cell_type": "markdown",
   "metadata": {},
   "source": [
    "# Family Info!\n",
    "\n",
    "Who are the proud parents?"
   ]
  },
  {
   "cell_type": "code",
   "execution_count": null,
   "metadata": {},
   "outputs": [],
   "source": [
    "# data_checker(df[\"Did you or your parents immigrate to Canada?\"], check_unique=True)\n",
    "df[\"Did you or your parents immigrate to Canada?\"].fillna(\"Did not say\", inplace=True)\n"
   ]
  },
  {
   "cell_type": "code",
   "execution_count": null,
   "metadata": {},
   "outputs": [],
   "source": [
    "# data_checker(df[\"Was one of your parents born as a Canada Citizen?\"], check_unique=True)\n",
    "df[\"Was one of your parents born as a Canada Citizen?\"].fillna(\"Did not say\", inplace=True)"
   ]
  },
  {
   "cell_type": "code",
   "execution_count": null,
   "metadata": {},
   "outputs": [],
   "source": [
    "fig = create_table_with_dropdown(df, [\"Did you or your parents immigrate to Canada?\",\n",
    "                                \"Was one of your parents born as a Canada Citizen?\"], \n",
    "                                labels=break_text(\n",
    "                                    [\"Did you or your parents immigrate to Canada?\",\n",
    "                                \"Was one of your parents born as a Canada Citizen?\"],\n",
    "                                char_limit=25), reindex=[False, True],\n",
    "                                reindex_orders=[None, [\"Yes\", \"No\", \"Did not say\"]])\n",
    "fig.show()"
   ]
  },
  {
   "cell_type": "code",
   "execution_count": null,
   "metadata": {},
   "outputs": [],
   "source": [
    "# data_checker(df[\"Education Level of Parents\"], check_unique=True)\n",
    "df[\"Education Level of Parents\"].fillna(\"Did not say\", inplace=True)"
   ]
  },
  {
   "cell_type": "code",
   "execution_count": null,
   "metadata": {},
   "outputs": [],
   "source": [
    "# data_checker(df[\"Family Income Before UofT\"], check_unique=True)\n",
    "df[\"Family Income Before UofT\"].fillna(\"Did not wish to disclose\", inplace=True)"
   ]
  },
  {
   "attachments": {},
   "cell_type": "markdown",
   "metadata": {},
   "source": [
    "## Education Level of Parents"
   ]
  },
  {
   "cell_type": "code",
   "execution_count": null,
   "metadata": {},
   "outputs": [],
   "source": [
    "fig = px.histogram(df, y=\"Education Level of Parents\", color=\"Education Level of Parents\")\n",
    "fig.update_layout(showlegend=False, font=dict(size=12, color=\"#2e2e2e\"),\n",
    "                  hovermode=\"y unified\")\n",
    "fig.update_yaxes(title_text=\"\", categoryorder=\"total ascending\")\n",
    "fig.update_xaxes(visible=False)\n",
    "fig.update_traces(hovertemplate=less_cringe_hovertext_template[\"histogram_h\"][\"hovertemplate\"])\n",
    "add_percent_labels_for_hist(df[\"Education Level of Parents\"], fig, horizontal=True)\n",
    "fig.show()"
   ]
  },
  {
   "attachments": {},
   "cell_type": "markdown",
   "metadata": {},
   "source": [
    "## Family Income Before UofT"
   ]
  },
  {
   "cell_type": "code",
   "execution_count": null,
   "metadata": {},
   "outputs": [],
   "source": [
    "# data_checker(df[\"Family Income Before UofT\"], check_unique=True)\n",
    "fig = px.histogram(df, y=\"Family Income Before UofT\", color=\"Family Income Before UofT\")\n",
    "fig.update_yaxes(categoryorder='array', categoryarray= ['Did not wish to disclose', '$373,894 and up', \n",
    "                                                        '$106,827 - $373,894', '$53,413 - $106,827',\n",
    "                                                        '$32,048 - $53,413', '32,048 or less' \n",
    "                                                         ])\n",
    "fig.update_layout(showlegend=False,\n",
    "                  hovermode=\"y unified\", font=dict(size=12, color=\"#2e2e2e\"))\n",
    "fig.update_yaxes(title_text=\"\")\n",
    "fig.update_xaxes(visible=False)\n",
    "fig.update_traces(hovertemplate=less_cringe_hovertext_template[\"histogram_h\"][\"hovertemplate\"])\n",
    "add_percent_labels_for_hist(df[\"Family Income Before UofT\"], fig, horizontal=True)\n",
    "fig.show()"
   ]
  },
  {
   "attachments": {},
   "cell_type": "markdown",
   "metadata": {},
   "source": [
    "## Language Spoken at Home?\n",
    "\n",
    "We are a diverse group, UofT ECEs!"
   ]
  },
  {
   "cell_type": "code",
   "execution_count": null,
   "metadata": {},
   "outputs": [],
   "source": [
    "df = df.rename({\"What languages do you speak at home? (If more than 1, please section by a comma. ie English, Italian, French)\":\n",
    "            \"What languages do you speak at home?\"}, axis=1)"
   ]
  },
  {
   "cell_type": "code",
   "execution_count": null,
   "metadata": {},
   "outputs": [],
   "source": [
    "# data_checker(df[\"What languages do you speak at home?\"], check_unique=True)"
   ]
  },
  {
   "cell_type": "code",
   "execution_count": null,
   "metadata": {},
   "outputs": [],
   "source": [
    "df[\"What languages do you speak at home?\"].fillna(\"Did not specify\", inplace=True)"
   ]
  },
  {
   "cell_type": "code",
   "execution_count": null,
   "metadata": {},
   "outputs": [],
   "source": [
    "language_at_home = df[\"What languages do you speak at home?\"].dropna()\n",
    "language_at_home=language_at_home.str.lower()\n",
    "language_at_home=language_at_home.str.replace(r'[-./?!,\":;()\\']', '', regex=True).str.strip()"
   ]
  },
  {
   "cell_type": "code",
   "execution_count": null,
   "metadata": {},
   "outputs": [],
   "source": [
    "generate_word_map(language_at_home, file_path=\"embed_images/Language_WordCloud.png\", width=1000, height=600)"
   ]
  },
  {
   "cell_type": "code",
   "execution_count": null,
   "metadata": {},
   "outputs": [],
   "source": [
    "word_default_dict = defaultdict(int)\n",
    "for _, values in language_at_home.items():\n",
    "    for word in values.split():\n",
    "        word_default_dict[word] += 1"
   ]
  },
  {
   "cell_type": "code",
   "execution_count": null,
   "metadata": {},
   "outputs": [],
   "source": [
    "df_languages = pd.DataFrame(sorted(word_default_dict.items(), key=lambda x: x[1], reverse=True), \n",
    "            columns=[\"language\", \"num_people_speaking\"])"
   ]
  },
  {
   "cell_type": "code",
   "execution_count": null,
   "metadata": {
    "tags": [
     "no_margin"
    ]
   },
   "outputs": [],
   "source": [
    "img = io.imread('./embed_images/Language_WordCloud.png')\n",
    "fig = px.imshow(img, binary_compression_level=0)\n",
    "fig.update_layout(xaxis={'showgrid': False, 'showticklabels': False, 'zeroline': False},\n",
    "                        yaxis={'showgrid': False, 'showticklabels': False, 'zeroline': False},\n",
    "                        margin=dict(autoexpand=False, b=0, l=0, r=0, t=0), \n",
    "                        hovermode=False)\n",
    "fig.show()"
   ]
  },
  {
   "cell_type": "code",
   "execution_count": null,
   "metadata": {
    "tags": []
   },
   "outputs": [],
   "source": [
    "create_table(df, column=\"What languages do you speak at home?\", label=\"Top 10 Language Combos\", limit=10)"
   ]
  },
  {
   "attachments": {},
   "cell_type": "markdown",
   "metadata": {},
   "source": [
    "## How Many Percentage of ECE2T2 Students Share the Same Religion as Their Parents? "
   ]
  },
  {
   "cell_type": "code",
   "execution_count": null,
   "metadata": {},
   "outputs": [],
   "source": [
    "# data_checker(df[\"What is your religious affiliation?\"], check_unique=True)\n",
    "df[\"What is your religious affiliation?\"].fillna(\"Did not disclose\", inplace=True)"
   ]
  },
  {
   "cell_type": "code",
   "execution_count": null,
   "metadata": {},
   "outputs": [],
   "source": [
    "# data_checker(df[\"What is the religious affiliation of your parent(s)?\"], check_unique=True)\n",
    "df[\"What is the religious affiliation of your parent(s)?\"].fillna(\"Did not say\", inplace=True)"
   ]
  },
  {
   "cell_type": "code",
   "execution_count": null,
   "metadata": {},
   "outputs": [],
   "source": [
    "series_is_same_religion = df[\"What is your religious affiliation?\"] == df[\"What is the religious affiliation of your parent(s)?\"]"
   ]
  },
  {
   "cell_type": "code",
   "execution_count": null,
   "metadata": {},
   "outputs": [],
   "source": [
    "series_is_same_religion.replace({False: \"no\", True: \"yes\"}, inplace=True)"
   ]
  },
  {
   "cell_type": "code",
   "execution_count": null,
   "metadata": {},
   "outputs": [],
   "source": [
    "fig = px.pie(names=series_is_same_religion, color=series_is_same_religion)\n",
    "fig.update_traces(textinfo=\"label+percent\",\n",
    "                  hovertemplate=less_cringe_hovertext_template[\"pie\"][\"hovertemplate\"])\n",
    "fig.show()"
   ]
  },
  {
   "attachments": {},
   "cell_type": "markdown",
   "metadata": {},
   "source": [
    "## What are the Religious Pairings if Child and Parent Share Different Religions? Same Religions?\n",
    "\n",
    "Religious Pairing is written in the format of *student_religion*, *parent_reigion*"
   ]
  },
  {
   "cell_type": "code",
   "execution_count": null,
   "metadata": {},
   "outputs": [],
   "source": [
    "df_combined_religion = df.loc[:, [\"What is your religious affiliation?\", \"What is the religious affiliation of your parent(s)?\"]]"
   ]
  },
  {
   "cell_type": "code",
   "execution_count": null,
   "metadata": {},
   "outputs": [],
   "source": [
    "df_combined_religion[\"Student+Parent_Combined_Religion\"] = df[\"What is your religious affiliation?\"] + \", \" + df[\"What is the religious affiliation of your parent(s)?\"]"
   ]
  },
  {
   "cell_type": "code",
   "execution_count": null,
   "metadata": {},
   "outputs": [],
   "source": [
    "df_combined_religion.loc[df_combined_religion[\"What is your religious affiliation?\"] == \\\n",
    "                                df[\"What is the religious affiliation of your parent(s)?\"], \n",
    "                                \"Student+Parent_Combined_Religion\"] = \\\n",
    "                                df_combined_religion.loc[df_combined_religion[\"What is your religious affiliation?\"] == \\\n",
    "                                df[\"What is the religious affiliation of your parent(s)?\"], \n",
    "                                \"Student+Parent_Combined_Religion\"].str.split(\", \").str[0].str.strip()\n",
    "                                    "
   ]
  },
  {
   "cell_type": "code",
   "execution_count": null,
   "metadata": {},
   "outputs": [],
   "source": [
    "fig = create_figure_with_dropdown(df_combined_religion,\n",
    "                            options=[\"Student+Parent_Combined_Religion\", \"Student+Parent_Combined_Religion\"],\n",
    "                            filters=[\n",
    "                                df_combined_religion[\"What is your religious affiliation?\"] == \\\n",
    "                                df[\"What is the religious affiliation of your parent(s)?\"],\n",
    "                                df[\"What is your religious affiliation?\"] != \\\n",
    "                                df[\"What is the religious affiliation of your parent(s)?\"]],\n",
    "                            labels=[\"Same Religion\", \"Different Religion\"],\n",
    "                            sort_traces=True,\n",
    "                            showticklabels=[False, False],\n",
    "                            textposition=\"inside\",\n",
    "                            add_legend=True\n",
    ")   \n",
    "fig.update_traces(hovertemplate=less_cringe_hovertext_template[\"histogram\"][\"hovertemplate\"])\n",
    "fig.update_layout(legend=dict(xanchor=\"center\", yanchor=\"top\", orientation=\"h\", x=0.5, y=-0.1))\n",
    "fig.layout.updatemenus[0].y = -0.6\n",
    "fig.show()\n"
   ]
  },
  {
   "attachments": {},
   "cell_type": "markdown",
   "metadata": {},
   "source": [
    "## How Many Siblings Do You Have?"
   ]
  },
  {
   "cell_type": "code",
   "execution_count": null,
   "metadata": {},
   "outputs": [],
   "source": [
    "# data_checker(df[\"How many siblings do you have?\"], check_unique=True)\n",
    "df[\"How many siblings do you have?\"].fillna(\"Did not wish to disclose\", inplace=True)"
   ]
  },
  {
   "cell_type": "code",
   "execution_count": null,
   "metadata": {},
   "outputs": [],
   "source": [
    "# df[\"How many siblings do you have?\"].unique()"
   ]
  },
  {
   "cell_type": "code",
   "execution_count": null,
   "metadata": {},
   "outputs": [],
   "source": [
    "fig = px.histogram(df, y=\"How many siblings do you have?\", color=\"How many siblings do you have?\")\n",
    "fig.update_yaxes(categoryorder=\"array\",\n",
    "                 categoryarray=['0', '1', '2', '3', '4', '5 or more', 'Did not wish to disclose'],\n",
    "                 title=\"\")\n",
    "fig.update_xaxes(visible=False)\n",
    "fig.update_layout(showlegend=False, font=dict(size=12))\n",
    "fig.update_traces(hovertemplate=\"How many siblings do you have?<br>\" + less_cringe_hovertext_template[\"histogram_h\"][\"hovertemplate\"])\n",
    "add_percent_labels_for_hist(df[\"How many siblings do you have?\"], fig, horizontal=True)\n",
    "fig.show()"
   ]
  },
  {
   "attachments": {},
   "cell_type": "markdown",
   "metadata": {},
   "source": [
    "# Professional Profile\n",
    "\n",
    "The careers we ECE2T2s lived as we chased after our boundless dreams"
   ]
  },
  {
   "attachments": {},
   "cell_type": "markdown",
   "metadata": {},
   "source": [
    "## Did You Participate in An Enriched Program in High School?"
   ]
  },
  {
   "cell_type": "code",
   "execution_count": null,
   "metadata": {},
   "outputs": [],
   "source": [
    "# data_checker(df[\"Did you participate in an enriched program?\"], check_unique=True)"
   ]
  },
  {
   "cell_type": "code",
   "execution_count": null,
   "metadata": {},
   "outputs": [],
   "source": [
    "fig = px.pie(df, names=\"Did you participate in an enriched program?\", color=\"Did you participate in an enriched program?\",\n",
    "             hole=0.5)\n",
    "fig.update_xaxes(categoryorder=\"array\",\n",
    "                 categoryarray=['IB', 'AP', 'TOPS', 'No'])\n",
    "fig.update_traces(textinfo=\"percent+label\",\n",
    "                  hovertemplate=\"Did You Participate in An Enriched Program in High School?<br>\" + less_cringe_hovertext_template[\"pie\"][\"hovertemplate\"])"
   ]
  },
  {
   "attachments": {},
   "cell_type": "markdown",
   "metadata": {},
   "source": [
    "## In What Year did ECE2T2s Start Their University Studies?"
   ]
  },
  {
   "cell_type": "code",
   "execution_count": null,
   "metadata": {},
   "outputs": [],
   "source": [
    "# data_checker(df[\"In what year did you start your university studies?\"], check_unique=True)"
   ]
  },
  {
   "cell_type": "code",
   "execution_count": null,
   "metadata": {},
   "outputs": [],
   "source": [
    "df_year_of_start_univ = df[\"In what year did you start your university studies?\"].dropna().astype(int)\n",
    "df_year_of_start_univ_cleaned = pd.DataFrame(df_year_of_start_univ.value_counts()).reset_index()"
   ]
  },
  {
   "cell_type": "code",
   "execution_count": null,
   "metadata": {},
   "outputs": [],
   "source": [
    "# print(df_year_of_start_univ_cleaned)\n",
    "df_year_of_start_univ_cleaned.rename({\"index\" : \"year\",\n",
    "                                     \"In what year did you start your university studies?\":\n",
    "                                     \"Number of Students\"}, axis=1, inplace=True)\n",
    "df_year_of_start_univ_cleaned.sort_values(\"year\", ascending=True, inplace=True)\n",
    "fig = px.scatter(df_year_of_start_univ_cleaned, x=\"year\", y=[0,0,0], text=df_year_of_start_univ_cleaned[\"Number of Students\"])\n",
    "\n",
    "fig.update_traces(marker_size=[30, 100, 30],\n",
    "                  hovertemplate=\"<b>Year:</b> %{x}<br><b>Number of Students:</b> %{text}\",\n",
    "                  textposition=\"top center\")\n",
    "fig.update_yaxes(\n",
    "    visible=False,\n",
    "    range=[0,0]\n",
    ")\n",
    "\n",
    "fig.update_xaxes(\n",
    "    dtick=\"Y1\",\n",
    "    linecolor=\"white\",\n",
    "    title=\"\",\n",
    "    tickfont=dict(size=16, family=\"Open Sans, Verdana, sans serif\")\n",
    ")\n",
    "\n",
    "fig.update_layout(\n",
    "    font=dict(size=13),\n",
    "    paper_bgcolor=\"white\",\n",
    "    plot_bgcolor=\"white\",\n",
    "    height=300\n",
    ")\n",
    "\n",
    "fig.add_annotation(xanchor=\"right\", x=0.97, text=\"1 person did not answer\")\n",
    "\n",
    "fig.show()"
   ]
  },
  {
   "attachments": {},
   "cell_type": "markdown",
   "metadata": {},
   "source": [
    "## What was your dream career as a kid?"
   ]
  },
  {
   "cell_type": "code",
   "execution_count": null,
   "metadata": {},
   "outputs": [],
   "source": [
    "df[\"What was your dream career as kid?\"].fillna(\"No answer\", inplace=True)"
   ]
  },
  {
   "cell_type": "code",
   "execution_count": null,
   "metadata": {},
   "outputs": [],
   "source": [
    "fig = create_table(df, \"What was your dream career as kid?\")\n",
    "fig.update_layout(height=(25 + 6) * (len(df[\"What was your dream career as kid?\"].unique()) + 1), \n",
    "                  margin=dict(l=2, r=15))\n",
    "fig.show()"
   ]
  },
  {
   "attachments": {},
   "cell_type": "markdown",
   "metadata": {},
   "source": [
    "# The Progression of Your Grades Over 8 Semesters (in %)\n",
    "\n",
    "I took the average percentage scores (%) of ECE2T2s every semester, and plotted their distributions in boxplots."
   ]
  },
  {
   "cell_type": "code",
   "execution_count": null,
   "metadata": {},
   "outputs": [],
   "source": [
    "# df[[\"What was your high school admissions average? (% percentage score)\",\n",
    "# \"What was your first-year 1st semester average (percentage)? \",\n",
    "# \"What was your first-year 2nd semester average (percentage)? \",\n",
    "# \"What was your second-year first semester average (%)?\",\n",
    "# \"What was your second-year second semester average (%)?\",\n",
    "# \"What was your third-year first semester average (%)?\",\n",
    "# \"What was your third-year second semester average (%)?\",\n",
    "# \"What was your fourth-year first semester average (%)?\"\n",
    "# ]].describe()"
   ]
  },
  {
   "cell_type": "code",
   "execution_count": null,
   "metadata": {},
   "outputs": [],
   "source": [
    "columns_before = [\"What was your high school admissions average? (% percentage score)\",\n",
    "\"What was your first-year 1st semester average (percentage)? \",\n",
    "\"What was your first-year 2nd semester average (percentage)? \",\n",
    "\"What was your second-year first semester average (%)?\",\n",
    "\"What was your second-year second semester average (%)?\",\n",
    "\"What was your third-year first semester average (%)?\",\n",
    "\"What was your third-year second semester average (%)?\",\n",
    "\"What was your fourth-year first semester average (%)?\"\n",
    "]\n",
    "columns_now = [\"High school admissions average?\", \"First-year 1st semester average\", \"First-year 2nd semester average\",\n",
    "    \"Second-year first semester average\", \"Second-year second semester average\", \"Third-year first semester average\", \n",
    "    \"Third-year second semester average\", \"Fourth-year first semester average\"]\n",
    "\n",
    "repl_dict = {columns_before[i]:columns_now[i] for i in range(8)}"
   ]
  },
  {
   "cell_type": "code",
   "execution_count": null,
   "metadata": {},
   "outputs": [],
   "source": [
    "df.rename(repl_dict, axis=1, inplace=True)"
   ]
  },
  {
   "cell_type": "code",
   "execution_count": null,
   "metadata": {},
   "outputs": [],
   "source": [
    "df_grades = df.rename(repl_dict, axis=1)\n"
   ]
  },
  {
   "cell_type": "code",
   "execution_count": null,
   "metadata": {},
   "outputs": [],
   "source": [
    "df_semester_scores = df_grades[[\"Respondent ID\", \"High school admissions average?\", \"First-year 1st semester average\", \"First-year 2nd semester average\",\n",
    "    \"Second-year first semester average\", \"Second-year second semester average\", \"Third-year first semester average\", \n",
    "    \"Third-year second semester average\", \"Fourth-year first semester average\"]]\n",
    "# Remove troll answers\n",
    "df_semester_scores = df_semester_scores[df_semester_scores != 0]"
   ]
  },
  {
   "cell_type": "code",
   "execution_count": null,
   "metadata": {},
   "outputs": [],
   "source": [
    "df_scores_melted = pd.melt(df_semester_scores, id_vars=[\"Respondent ID\"], \n",
    "                           value_vars=[\"High school admissions average?\", \"First-year 1st semester average\", \"First-year 2nd semester average\",\n",
    "    \"Second-year first semester average\", \"Second-year second semester average\", \"Third-year first semester average\", \n",
    "    \"Third-year second semester average\", \"Fourth-year first semester average\"], var_name=\"percentage_type\", value_name=\"percentage\")"
   ]
  },
  {
   "cell_type": "code",
   "execution_count": null,
   "metadata": {},
   "outputs": [],
   "source": [
    "fig = px.box(df_scores_melted, y=\"percentage\", x=\"percentage_type\", color=\"percentage_type\", points=\"all\", range_y=[45, 105])\n",
    "fig.update_traces(jitter=0.03, hovertemplate='<b>%{x}</b><br>%{y}%'\n",
    "                  )\n",
    "fig.update_xaxes(showticklabels=False, title=\"\")\n",
    "fig.update_layout(margin=dict(r=20, l=40, pad=0), font=dict(size=13), showlegend=True, boxgroupgap=0.4,\n",
    "                legend=dict(\n",
    "                      xanchor=\"center\", yanchor=\"top\", x=0.5, y=-0.1, orientation=\"h\",\n",
    "                    title=\"\"\n",
    "                ))\n",
    "\n",
    "# for i, slider in enumerate(fig.layout.sliders):\n",
    "#     slider[\"tickcolor\"] = \"white\"\n",
    "#     slider[\"currentvalue\"].font.color = \"black\"\n",
    "#     slider[\"currentvalue\"].prefix = \"<b>Percentage Type:</b> \"\n",
    "#     slider.font.color = \"#D0E3F1\"\n",
    "#     pass\n",
    "    \n",
    "\n",
    "fig.show()"
   ]
  },
  {
   "attachments": {},
   "cell_type": "markdown",
   "metadata": {},
   "source": [
    "## What was your CGPA, Cumulative Grade Point Average (% score)?"
   ]
  },
  {
   "cell_type": "code",
   "execution_count": null,
   "metadata": {},
   "outputs": [],
   "source": [
    "# data_checker(df[\"What was your CGPA, Cumulative Grade Point Average (% score)? \"], check_unique=True)"
   ]
  },
  {
   "attachments": {},
   "cell_type": "markdown",
   "metadata": {},
   "source": [
    "# Thoughts and Details on Coursework \n",
    "\n",
    "What were ECE2T2s' favourite courses? What courses did they take? Did they overload courses?"
   ]
  },
  {
   "attachments": {},
   "cell_type": "markdown",
   "metadata": {},
   "source": [
    "## Which term would you consider was the most difficult?"
   ]
  },
  {
   "cell_type": "code",
   "execution_count": null,
   "metadata": {},
   "outputs": [],
   "source": [
    "# data_checker(df[\"Which term would you consider was the most difficult?\"], check_unique=True)"
   ]
  },
  {
   "cell_type": "code",
   "execution_count": null,
   "metadata": {},
   "outputs": [],
   "source": [
    "df[\"Which term would you consider was the most difficult?\"].fillna(\"Did not answer\", inplace=True)"
   ]
  },
  {
   "cell_type": "code",
   "execution_count": null,
   "metadata": {},
   "outputs": [],
   "source": [
    "fig = px.pie(df, names=\"Which term would you consider was the most difficult?\", \n",
    "                   color=\"Which term would you consider was the most difficult?\")\n",
    "fig.update_layout(showlegend=True)\n",
    "fig.update_layout(legend=dict(yanchor=\"top\", xanchor=\"center\",\n",
    "                                x=0.5, y=-0.1)\n",
    "                                )\n",
    "fig.update_traces(hovertemplate=less_cringe_hovertext_template[\"pie\"][\"hovertemplate\"])"
   ]
  },
  {
   "cell_type": "code",
   "execution_count": null,
   "metadata": {},
   "outputs": [],
   "source": [
    "df_scores_melted = df_scores_melted[~df_scores_melted[\"percentage\"].isna()]"
   ]
  },
  {
   "cell_type": "code",
   "execution_count": null,
   "metadata": {},
   "outputs": [],
   "source": [
    "# df_scores_melted[\"percentage_type\"].unique()"
   ]
  },
  {
   "cell_type": "code",
   "execution_count": null,
   "metadata": {},
   "outputs": [],
   "source": [
    "percentage_semester_index = {\n",
    "    \"High school admissions average?\" : 0,\n",
    "    'First-year 1st semester average' : 1,\n",
    "    'First-year 2nd semester average' : 2,\n",
    "    'Second-year first semester average' : 3,\n",
    "    'Second-year second semester average' : 4,\n",
    "    'Third-year first semester average' : 5,\n",
    "    'Third-year second semester average' : 6,\n",
    "    'Fourth-year first semester average' : 7,\n",
    "}\n",
    "\n",
    "difficulty_semester_index = {\n",
    "    'first-year first semester' : 1,\n",
    "    'first-year second-semester' : 2,\n",
    "    'second-year first semester' : 3,\n",
    "    'second-year second semester' : 4,\n",
    "    'third-year first semester' : 5,\n",
    "    'third-year second semester' : 6,\n",
    "    'fourth-year first semester' : 7,\n",
    "}"
   ]
  },
  {
   "cell_type": "code",
   "execution_count": null,
   "metadata": {},
   "outputs": [],
   "source": [
    "df[\"difficulty_semester_index\"] = df[\"Which term would you consider was the most difficult?\"].replace(difficulty_semester_index)\n",
    "df_scores_melted[\"percentage_semester_index\"] = df_scores_melted[\"percentage_type\"].replace(percentage_semester_index)\n",
    "df_scores_melted[\"percentage_average\"] = df_scores_melted.groupby(\"percentage_type\")[\"percentage\"].transform(np.mean)\n",
    "df_scores_melted[\"own_average\"] = df_scores_melted[df_scores_melted[\"percentage_type\"] != \"High school admissions average?\"] \\\n",
    "                                .groupby(\"Respondent ID\")[\"percentage\"].transform(np.mean)\n",
    "df_scores_melted[\"grade_rank\"] = df_scores_melted[df_scores_melted[\"percentage_type\"] != \"High school admissions average?\"] \\\n",
    "                                .groupby(\"Respondent ID\")[\"percentage\"].rank(method=\"dense\", ascending=True)"
   ]
  },
  {
   "cell_type": "code",
   "execution_count": null,
   "metadata": {},
   "outputs": [],
   "source": [
    "df_difficulty = df[[\"Respondent ID\", \"Which term would you consider was the most difficult?\", \"difficulty_semester_index\"]]"
   ]
  },
  {
   "cell_type": "code",
   "execution_count": null,
   "metadata": {},
   "outputs": [],
   "source": [
    "df_difficulty_percentage = pd.merge(df_difficulty, df_scores_melted, left_on=[\"Respondent ID\", \"difficulty_semester_index\"], \n",
    "                                                   right_on=[\"Respondent ID\", \"percentage_semester_index\"],\n",
    "                                                   how='inner')"
   ]
  },
  {
   "attachments": {},
   "cell_type": "markdown",
   "metadata": {},
   "source": [
    "## For each semester that ECE2T2s perceived as the hardest semester, how many of them actually scored an average grade lower than their average grade across all University semesters? \n",
    "\n",
    "\n",
    "\n",
    "21 ECE2T2s believed the second year second semester was the hardest semester, yet in second year second semester, 13 of them scored higher than their average grade mark across all University semesters (isLower=False). We can see that in second year first semester, ECE2T2's perceived difficulty of the semester matched with their grades in that semester, as all 12 respondents who answered second year first semester was the hardest semester scored lower that semester than their average grade.  \n",
    "\n",
    "Maybe the reason why a large number of people thought second year second semester was the 'hardest' semester,\n",
    "was because they had to put in extra effort to rebound their GPA from second year first semester, thus ending up with better grades than average? Maybe they found the increased load of project work to be meddlesome, but not complex and still able to score high grades? Just <b>speculation</b> :))\n"
   ]
  },
  {
   "cell_type": "code",
   "execution_count": null,
   "metadata": {},
   "outputs": [],
   "source": [
    "df_difficulty_percentage[\"isLower\"] = df_difficulty_percentage[\"percentage\"] < df_difficulty_percentage[\"own_average\"]"
   ]
  },
  {
   "cell_type": "code",
   "execution_count": null,
   "metadata": {},
   "outputs": [],
   "source": [
    "# df_difficulty_percentage[(df_difficulty_percentage[\"Which term would you consider was the most difficult?\"] == \"second-year second semester\")\n",
    "#                          & (df_difficulty_percentage[\"isLower\"] == True)]"
   ]
  },
  {
   "cell_type": "code",
   "execution_count": null,
   "metadata": {
    "tags": []
   },
   "outputs": [],
   "source": [
    "fig = px.histogram(df_difficulty_percentage, x=\"isLower\", color=\"isLower\", \n",
    "             facet_col=\"Which term would you consider was the most difficult?\", facet_col_wrap=2,\n",
    "             category_orders={\"Which term would you consider was the most difficult?\": \n",
    "                              ['first-year first semester', 'first-year second-semester', \n",
    "                                'second-year first semester', 'second-year second semester',\n",
    "                                'third-year first semester', 'third-year second semester',\n",
    "                                'fourth-year first semester']})\n",
    "fig.for_each_annotation(lambda a: a.update(text=a.text.split(\"=\")[-1]))\n",
    "fig.update_traces(hovertemplate=less_cringe_hovertext_template[\"bar\"][\"hovertemplate\"])\n",
    "fig.update_layout(height=1000, minreducedheight=350, minreducedwidth=350, font=dict(size=13))"
   ]
  },
  {
   "attachments": {},
   "cell_type": "markdown",
   "metadata": {},
   "source": [
    "## Which term would you consider was the most easy?"
   ]
  },
  {
   "cell_type": "code",
   "execution_count": null,
   "metadata": {},
   "outputs": [],
   "source": [
    "# data_checker(df[\"Which term would you consider was the most easy?\"], check_unique=True)"
   ]
  },
  {
   "cell_type": "code",
   "execution_count": null,
   "metadata": {},
   "outputs": [],
   "source": [
    "df[\"Which term would you consider was the most easy?\"].fillna(\"Did not answer\", inplace=True)"
   ]
  },
  {
   "cell_type": "code",
   "execution_count": null,
   "metadata": {
    "tags": [
     "no_margin"
    ]
   },
   "outputs": [],
   "source": [
    "fig = px.pie(df, names=\"Which term would you consider was the most easy?\", \n",
    "                   color=\"Which term would you consider was the most easy?\")\n",
    "fig.update_layout(showlegend=True)\n",
    "fig.update_traces(hovertemplate=less_cringe_hovertext_template[\"pie\"][\"hovertemplate\"])\n",
    "fig.update_layout(legend=dict(yanchor=\"top\", xanchor=\"center\",\n",
    "                                x=0.5, y=-0.1, orientation=\"v\")\n",
    "                                )"
   ]
  },
  {
   "attachments": {},
   "cell_type": "markdown",
   "metadata": {
    "tags": []
   },
   "source": [
    "We chillin' in 4th Year ;)"
   ]
  },
  {
   "cell_type": "code",
   "execution_count": null,
   "metadata": {},
   "outputs": [],
   "source": [
    "percentage_semester_index = {\n",
    "    \"High school admissions average?\" : 0,\n",
    "    'First-year 1st semester average' : 1,\n",
    "    'First-year 2nd semester average' : 2,\n",
    "    'Second-year first semester average' : 3,\n",
    "    'Second-year second semester average' : 4,\n",
    "    'Third-year first semester average' : 5,\n",
    "    'Third-year second semester average' : 6,\n",
    "    'Fourth-year first semester average' : 7,\n",
    "}\n",
    "\n",
    "easiness_semester_index = {\n",
    "    'first-year first semester' : 1,\n",
    "    'first-year second-semester' : 2,\n",
    "    'second-year first semester' : 3,\n",
    "    'second-year second semester' : 4,\n",
    "    'third-year first semester' : 5,\n",
    "    'third-year second semester' : 6,\n",
    "    'fourth-year first semester' : 7,\n",
    "}"
   ]
  },
  {
   "cell_type": "code",
   "execution_count": null,
   "metadata": {},
   "outputs": [],
   "source": [
    "df[\"easiness_semester_index\"] = df[\"Which term would you consider was the most easy?\"].replace(easiness_semester_index)"
   ]
  },
  {
   "cell_type": "code",
   "execution_count": null,
   "metadata": {},
   "outputs": [],
   "source": [
    "df_easiness = df[[\"Respondent ID\", \"Which term would you consider was the most easy?\", \"easiness_semester_index\"]]"
   ]
  },
  {
   "cell_type": "code",
   "execution_count": null,
   "metadata": {},
   "outputs": [],
   "source": [
    "df_easiness_percentage = pd.merge(df_easiness, df_scores_melted, left_on=[\"Respondent ID\", \"easiness_semester_index\"], \n",
    "                                                   right_on=[\"Respondent ID\", \"percentage_semester_index\"],\n",
    "                                                   how='inner')"
   ]
  },
  {
   "attachments": {},
   "cell_type": "markdown",
   "metadata": {},
   "source": [
    "## For each semester that ECE2T2s perceived as the easiest semester, how many of them actually scored an average grade higher than their average grade across all University semesters? \n"
   ]
  },
  {
   "cell_type": "code",
   "execution_count": null,
   "metadata": {},
   "outputs": [],
   "source": [
    "df_easiness_percentage[\"isHigher\"] = df_easiness_percentage[\"percentage\"] > df_easiness_percentage[\"own_average\"]"
   ]
  },
  {
   "cell_type": "code",
   "execution_count": null,
   "metadata": {},
   "outputs": [],
   "source": [
    "# df_difficulty_percentage[(df_difficulty_percentage[\"Which term would you consider was the most difficult?\"] == \"second-year second semester\")\n",
    "#                          & (df_difficulty_percentage[\"isLower\"] == True)]"
   ]
  },
  {
   "attachments": {},
   "cell_type": "markdown",
   "metadata": {
    "tags": [
     "yes_margin"
    ]
   },
   "source": [
    "Man some of y'all capping about a semester being easy since your average grades for that semester are lower than your University averages (one of them being me for sure LOL). Kinda interesting that the 4 people who scored a lower grade than their average grade perceived fourth-year first semester and first-year first semester were the easiest. Maybe some of us tend to perceive things as easy in our first and final semesters because we don't give a shit about grades anymore... So even if we get lower than average grades we still think the semesters are easy because... When nothing matters, why would anything be hard? :)))"
   ]
  },
  {
   "cell_type": "code",
   "execution_count": null,
   "metadata": {
    "tags": []
   },
   "outputs": [],
   "source": [
    "fig = px.histogram(df_easiness_percentage, x=\"isHigher\", color=\"isHigher\", \n",
    "             facet_col=\"Which term would you consider was the most easy?\", facet_col_wrap=2,\n",
    "             category_orders={\"Which term would you consider was the most easy?\": \n",
    "                              ['first-year first semester', 'first-year second-semester', \n",
    "                                'second-year first semester', 'second-year second semester',\n",
    "                                'third-year first semester', 'third-year second semester',\n",
    "                                'fourth-year first semester']})\n",
    "fig.for_each_annotation(lambda a: a.update(text=a.text.split(\"=\")[-1]))\n",
    "fig.update_traces(hovertemplate=less_cringe_hovertext_template[\"bar\"][\"hovertemplate\"])\n",
    "fig.update_layout(height=1000, minreducedheight=150, minreducedwidth=150, font=dict(size=13))"
   ]
  },
  {
   "attachments": {},
   "cell_type": "markdown",
   "metadata": {},
   "source": [
    "## Favourite Profs"
   ]
  },
  {
   "cell_type": "code",
   "execution_count": null,
   "metadata": {},
   "outputs": [],
   "source": [
    "# data_checker(df[\"If you did not do an exchange, what were your reasons for not?\"], check_unique=True)"
   ]
  },
  {
   "cell_type": "code",
   "execution_count": null,
   "metadata": {},
   "outputs": [],
   "source": [
    "df.rename({\"Favourite Professors (if multiple, separate with comma)?\": \"Favorite Professors\"}, axis=1, inplace=True)"
   ]
  },
  {
   "cell_type": "code",
   "execution_count": null,
   "metadata": {},
   "outputs": [],
   "source": [
    "# data_checker(df[\"Favorite Professors\"])"
   ]
  },
  {
   "cell_type": "code",
   "execution_count": null,
   "metadata": {},
   "outputs": [],
   "source": [
    "df[\"Favorite Professors\"].fillna(\"Did not specify\", inplace=True)"
   ]
  },
  {
   "cell_type": "code",
   "execution_count": null,
   "metadata": {},
   "outputs": [],
   "source": [
    "df_profs = process_multiple_choice_survey(df[\"Favorite Professors\"], column=\"FavProfs\")"
   ]
  },
  {
   "attachments": {},
   "cell_type": "markdown",
   "metadata": {
    "tags": [
     "hide_code"
    ]
   },
   "source": [
    "## Compute Similarity Matrix using Longest Common Subsequence as Distance\n",
    "\n",
    "Students enter their professor names in many different ways, so we need to cluster similar inputs under one ground truth value and replace all inputs under that cluster with the ground truth value. (ex. group entries of Belinda Wang and Belinda Yang under one cluster and replace all of those entries with Belinda Wang)\n",
    " \n",
    "To solve this problem,\n",
    "1. We first compute the similarity matrix between all unique inputs in the survey.\n",
    "2. Let the clustering algorithm to create several clusters.\n",
    "3. Finally, decide manually (using your own brain) the ideal ground truth value for those clusters.\n",
    "\n",
    "**IMPORTANT!! Only rerun this piece of code when survey inputs change and new clusters are required**"
   ]
  },
  {
   "cell_type": "code",
   "execution_count": null,
   "metadata": {},
   "outputs": [],
   "source": [
    "# from similarity.longest_common_subsequence import LongestCommonSubsequence\n",
    "# LCS = LongestCommonSubsequence()"
   ]
  },
  {
   "cell_type": "code",
   "execution_count": null,
   "metadata": {},
   "outputs": [],
   "source": [
    "# # from scipy.spatial.distance import pdist, squareform\n",
    "# def compare_lcs(u, v):\n",
    "#     min_length = min(len(u[0]), len(v[0]))\n",
    "#     return min(-0.001, -(1 - (abs((LCS.distance(u[0], v[0]) - len(u[0]) - len(v[0])) / 2) / min_length)))\n",
    "#     # return -((1 - cosine.similarity_profiles(cosine.get_profile(u[0]), cosine.get_profile(v[0]))) + levenshtein.distance(u[0], v[0]))\n",
    "\n",
    "# precomputed_similarity_matrix = squareform(pdist(np.expand_dims(df_profs[\"FavProfs\"].unique(), axis=1), compare_lcs)) \n",
    "# df_precompute_sim_matrix = pd.DataFrame(\n",
    "#     precomputed_similarity_matrix,\n",
    "#     index=df_profs[\"FavProfs\"].unique(),\n",
    "#     columns=df_profs[\"FavProfs\"].unique(),\n",
    "# )\n",
    "\n",
    "# # Generate similarity matrix between every possible professor input\n",
    "# df_precompute_sim_matrix"
   ]
  },
  {
   "cell_type": "code",
   "execution_count": null,
   "metadata": {},
   "outputs": [],
   "source": [
    "# Distribution of Similarity Matrix\n",
    "# px.histogram(df_precompute_sim_matrix[df_precompute_sim_matrix != 0].max(axis=1), title=\"Distribution of Largest Common Subsequence Metric\")"
   ]
  },
  {
   "attachments": {},
   "cell_type": "markdown",
   "metadata": {
    "tags": [
     "hide_code"
    ]
   },
   "source": [
    "### Removing Unique Professor Names\n",
    "We apply this filter to try out best to not cluster professor names that were only entered in one way. \n",
    "For example, if we all entered Hamid's name as Hamid, then there is no need to rewrite Hamid is any other way.\n",
    "\n",
    "I only included inputs that have an LCS distance > -0.3, because I thought most inputs that have an LCS distance < -0.3 appeared to be unique professor names. I deducted this through trial and error. For each input, I found their most closely associated inputs with the LCS distance closest to 0 and put this information in a dataframe"
   ]
  },
  {
   "cell_type": "code",
   "execution_count": null,
   "metadata": {},
   "outputs": [],
   "source": [
    "# Enter that similarity scores you'd like to see here. Ex find all similarity scores less than -0.5\n",
    "# MAT = df_precompute_sim_matrix[(df_precompute_sim_matrix[df_precompute_sim_matrix != 0].max() > -0.3)]"
   ]
  },
  {
   "cell_type": "code",
   "execution_count": null,
   "metadata": {},
   "outputs": [],
   "source": [
    "# MAT"
   ]
  },
  {
   "cell_type": "code",
   "execution_count": null,
   "metadata": {},
   "outputs": [],
   "source": [
    "# def gather_closest_distances_for_each_word(row):\n",
    "#     closest_distances = row[row == row[row != 0].max()]\n",
    "#     best_matches_for_each_word = closest_distances.index.tolist()\n",
    "#     return [best_matches_for_each_word, row[row != 0].max()]\n",
    "\n",
    "\n",
    "# df_MAT = MAT.apply(gather_closest_distances_for_each_word, axis=1, result_type=\"expand\")"
   ]
  },
  {
   "cell_type": "code",
   "execution_count": null,
   "metadata": {},
   "outputs": [],
   "source": [
    "# df_MAT"
   ]
  },
  {
   "cell_type": "code",
   "execution_count": null,
   "metadata": {},
   "outputs": [],
   "source": [
    "# Per analysis above, We only include words iff they have at least one LCS distance < -0.3 with another word.\n",
    "# df_precompute_sim_matrix = df_precompute_sim_matrix.loc[df_precompute_sim_matrix[(df_precompute_sim_matrix > -0.3) & (df_precompute_sim_matrix != 0)].any()]"
   ]
  },
  {
   "cell_type": "code",
   "execution_count": null,
   "metadata": {},
   "outputs": [],
   "source": [
    "# df_precompute_sim_matrix = df_precompute_sim_matrix[df_precompute_sim_matrix.index]"
   ]
  },
  {
   "cell_type": "code",
   "execution_count": null,
   "metadata": {},
   "outputs": [],
   "source": [
    "# Fit data to AP Cluster model\n",
    "# from sklearn.cluster import AffinityPropagation\n",
    "# ap_cluster = AffinityPropagation(random_state=5, affinity=\"precomputed\").fit(df_precompute_sim_matrix.to_numpy())"
   ]
  },
  {
   "attachments": {},
   "cell_type": "markdown",
   "metadata": {
    "tags": [
     "hide_code"
    ]
   },
   "source": [
    "### Automated Text Cleaning Using AP Clustering \n",
    "\n",
    "ONLY RUN ONCE"
   ]
  },
  {
   "cell_type": "code",
   "execution_count": null,
   "metadata": {
    "tags": [
     "hide_code"
    ]
   },
   "outputs": [],
   "source": [
    "# # ONLY RUN ONCE. This codeblock is used to memoize user prompt input.\n",
    "\n",
    "# replacement_tracker = [] # Keep track of user prompt input\n",
    "# for label in sorted(np.unique(ap_cluster.labels_)):\n",
    "#     prompt_tuple = []\n",
    "#     indices = df_precompute_sim_matrix.index[np.where(ap_cluster.labels_ == label)]\n",
    "#     text = input(f\"Cluster: {indices}. Would you like to replace this cluster? (Y/N)\")\n",
    "#     replacement_text = None\n",
    "#     if text == \"Y\" or text == \"y\":\n",
    "#         replacement_text = input(f\"Cluster: {indices}. Enter the text your would like to replace this cluster with:\")\n",
    "#     else:\n",
    "#         pass\n",
    "\n",
    "#     prompt_tuple.append(text)\n",
    "#     prompt_tuple.append(indices.tolist())\n",
    "#     prompt_tuple.append(replacement_text)\n",
    "#     replacement_tracker.append(prompt_tuple)\n",
    "\n",
    "    "
   ]
  },
  {
   "cell_type": "code",
   "execution_count": null,
   "metadata": {
    "tags": [
     "hide_code"
    ]
   },
   "outputs": [],
   "source": [
    "'''\n",
    "    Write out replacement file. In the form of [Should_I_Replace_Cluster_With_Text, Replacement_Text]\n",
    "    [[\"Y\", \"Ashvin\"], [\"Y\", \"Bruno\"], [\"N\", None]]\n",
    "'''\n",
    "\n",
    "# json_obj = json.dumps(replacement_tracker)\n",
    "# with open(\"./survey_text_replacements/35_Favorite_Professors.json\", \"w\") as f:\n",
    "#     f.write(json_obj)"
   ]
  },
  {
   "cell_type": "code",
   "execution_count": null,
   "metadata": {},
   "outputs": [],
   "source": [
    "f = open(f\"./survey_text_replacements/35_Favorite_Professors.json\") \n",
    "list_of_profs = json.load(f)\n",
    "f.close()"
   ]
  },
  {
   "cell_type": "code",
   "execution_count": null,
   "metadata": {},
   "outputs": [],
   "source": [
    "for text, indices, replacement_text in list_of_profs:\n",
    "    if text == \"Y\" or text == \"y\":\n",
    "        df_profs[\"FavProfs\"].replace({index: replacement_text for index in indices}, inplace=True)\n",
    "    else:\n",
    "        continue\n",
    "    "
   ]
  },
  {
   "attachments": {},
   "cell_type": "markdown",
   "metadata": {
    "tags": [
     "hide_code"
    ]
   },
   "source": [
    "### Manual Text Cleaning"
   ]
  },
  {
   "cell_type": "code",
   "execution_count": null,
   "metadata": {},
   "outputs": [],
   "source": [
    "# df_multiple_choice_answers[\"FavProfs\"].sort_values().unique()"
   ]
  },
  {
   "cell_type": "code",
   "execution_count": null,
   "metadata": {},
   "outputs": [],
   "source": [
    "replacement_dict = {\"Adve\" : \"Ravi Adve\", \"Ashvin Gole\" : \"Ashvin Goel\", \"Kschischang\" : 'Frank Kschischang',\n",
    "                    \"Papernot\" : \"Michael Papernot\", \"Rose\" : \"Jonathan Rose\", \"Tarek\" : \"Tarek Abdelrahman\"}"
   ]
  },
  {
   "cell_type": "code",
   "execution_count": null,
   "metadata": {},
   "outputs": [],
   "source": [
    "df_profs[\"FavProfs\"].replace(replacement_dict, inplace=True)"
   ]
  },
  {
   "cell_type": "code",
   "execution_count": null,
   "metadata": {},
   "outputs": [],
   "source": [
    "# df_profs[\"FavProfs\"].sort_values().unique()"
   ]
  },
  {
   "cell_type": "code",
   "execution_count": null,
   "metadata": {},
   "outputs": [],
   "source": [
    "df_top_10_profs = df_profs[df_profs[\"FavProfs\"] != \"Did not specify\"].value_counts()"
   ]
  },
  {
   "cell_type": "code",
   "execution_count": null,
   "metadata": {},
   "outputs": [],
   "source": [
    "df_top_10_profs = df_top_10_profs.head(10).reset_index()"
   ]
  },
  {
   "cell_type": "code",
   "execution_count": null,
   "metadata": {},
   "outputs": [],
   "source": [
    "df_top_10_profs.columns = [\"FavProfs\", \"num_students\"]"
   ]
  },
  {
   "cell_type": "code",
   "execution_count": null,
   "metadata": {},
   "outputs": [],
   "source": [
    "df_top_10_profs[\"percent_students\"] = (df_top_10_profs[\"num_students\"] / len(df) * 100).round(2)"
   ]
  },
  {
   "cell_type": "code",
   "execution_count": null,
   "metadata": {},
   "outputs": [],
   "source": [
    "fig = px.bar(df_top_10_profs, x=\"FavProfs\", y=\"num_students\", color=\"FavProfs\", text=df_top_10_profs[\"percent_students\"].astype(str) + \"%\")\n",
    "fig.update_traces(hovertemplate=less_cringe_hovertext_template[\"bar\"][\"hovertemplate\"],\n",
    "                  )\n",
    "fig.show()"
   ]
  },
  {
   "attachments": {},
   "cell_type": "markdown",
   "metadata": {},
   "source": [
    "## Favourite/Least Favourite Course in ECE"
   ]
  },
  {
   "cell_type": "code",
   "execution_count": null,
   "metadata": {},
   "outputs": [],
   "source": [
    "# data_checker(df[\"What is your favourite required course in ECE?\"], check_unique=True)"
   ]
  },
  {
   "cell_type": "code",
   "execution_count": null,
   "metadata": {},
   "outputs": [],
   "source": [
    "df[\"What is your favourite required course in ECE?\"].fillna(\"Did not specify\", inplace=True)"
   ]
  },
  {
   "cell_type": "code",
   "execution_count": null,
   "metadata": {},
   "outputs": [],
   "source": [
    "# data_checker(df[\"What is your LEAST favourite required course in ECE?\"], check_unique=True)"
   ]
  },
  {
   "cell_type": "code",
   "execution_count": null,
   "metadata": {},
   "outputs": [],
   "source": [
    "df[\"What is your LEAST favourite required course in ECE?\"].fillna(\"Did not specify\", inplace=True)"
   ]
  },
  {
   "cell_type": "code",
   "execution_count": null,
   "metadata": {},
   "outputs": [],
   "source": [
    "fig = create_table_with_dropdown(df, columns=[\"What is your favourite required course in ECE?\", \n",
    "                                 \"What is your LEAST favourite required course in ECE?\"],\n",
    "                                 labels=break_text([\"What is your favourite required course in ECE?\", \n",
    "                                 \"What is your LEAST favourite required course in ECE?\"])\n",
    "                                )\n",
    "\n",
    "fig.update_layout(showlegend=False)"
   ]
  },
  {
   "attachments": {},
   "cell_type": "markdown",
   "metadata": {},
   "source": [
    "## Which technical electives did you take?  (course codes only)"
   ]
  },
  {
   "cell_type": "code",
   "execution_count": null,
   "metadata": {},
   "outputs": [],
   "source": [
    "# data_checker(df[\"Which technical electives did you take?  (course codes only)\"], check_unique=True)"
   ]
  },
  {
   "cell_type": "code",
   "execution_count": null,
   "metadata": {},
   "outputs": [],
   "source": [
    "df[\"Which technical electives did you take?  (course codes only)\"].fillna(\"NoAnswer\", inplace=True)"
   ]
  },
  {
   "cell_type": "code",
   "execution_count": null,
   "metadata": {},
   "outputs": [],
   "source": [
    "df[\"Which technical electives did you take?  (course codes only)\"] = df[\"Which technical electives did you take?  (course codes only)\"].str.upper()"
   ]
  },
  {
   "cell_type": "code",
   "execution_count": null,
   "metadata": {},
   "outputs": [],
   "source": [
    "df.replace(\"NOANSWER\", \"NoAnswer\", inplace=True)"
   ]
  },
  {
   "cell_type": "code",
   "execution_count": null,
   "metadata": {
    "tags": [
     "no_margin"
    ]
   },
   "outputs": [],
   "source": [
    "generate_word_map(df[\"Which technical electives did you take?  (course codes only)\"], \n",
    "                  file_path=\"./embed_images/TechElectives_WordCloud.png\")\n",
    "fig = plot_word_map(\"./embed_images/TechElectives_WordCloud.png\")\n",
    "fig.show()"
   ]
  },
  {
   "cell_type": "code",
   "execution_count": null,
   "metadata": {},
   "outputs": [],
   "source": [
    "create_table(df, column=\"Which technical electives did you take?  (course codes only)\", label=\"TOP 10 technical electives\", limit=10)"
   ]
  },
  {
   "attachments": {},
   "cell_type": "markdown",
   "metadata": {},
   "source": [
    "## What Complimentary Studies (CSS)/Humanities & Social Science (HSS) electives & Science/Math courses did you take?"
   ]
  },
  {
   "cell_type": "code",
   "execution_count": null,
   "metadata": {},
   "outputs": [],
   "source": [
    "df.rename({\"What Complimentary Studies (CSS)/Humanities &amp; Social Science (HSS) electives did you take? (course codes only)\" : \n",
    "           \"electives\"}, axis=1, inplace=True)"
   ]
  },
  {
   "cell_type": "code",
   "execution_count": null,
   "metadata": {},
   "outputs": [],
   "source": [
    "# data_checker(df[\"electives\"], check_unique=True)"
   ]
  },
  {
   "cell_type": "code",
   "execution_count": null,
   "metadata": {},
   "outputs": [],
   "source": [
    "df[\"electives\"].fillna(\"No Answer\", inplace=True)"
   ]
  },
  {
   "cell_type": "code",
   "execution_count": null,
   "metadata": {},
   "outputs": [],
   "source": [
    "df[\"electives\"] = df[\"electives\"].str.upper()"
   ]
  },
  {
   "cell_type": "code",
   "execution_count": null,
   "metadata": {},
   "outputs": [],
   "source": [
    "df.replace(\"NO ANSWER\", \"No Answer\", inplace=True)"
   ]
  },
  {
   "cell_type": "code",
   "execution_count": null,
   "metadata": {},
   "outputs": [],
   "source": [
    "# data_checker(df[\"What Science/Math did you take? (course code only)\"], check_unique=True)"
   ]
  },
  {
   "cell_type": "code",
   "execution_count": null,
   "metadata": {},
   "outputs": [],
   "source": [
    "df[\"What Science/Math did you take? (course code only)\"].fillna(\"No Answer\", inplace=True)"
   ]
  },
  {
   "cell_type": "code",
   "execution_count": null,
   "metadata": {},
   "outputs": [],
   "source": [
    "df[\"What Science/Math did you take? (course code only)\"] = df[\"What Science/Math did you take? (course code only)\"].str.upper()"
   ]
  },
  {
   "cell_type": "code",
   "execution_count": null,
   "metadata": {},
   "outputs": [],
   "source": [
    "df.replace(\"NO ANSWER\", \"No Answer\", inplace=True)"
   ]
  },
  {
   "cell_type": "code",
   "execution_count": null,
   "metadata": {},
   "outputs": [],
   "source": [
    "fig = create_table_with_dropdown(df, columns=[\"electives\", \n",
    "                                 \"What Science/Math did you take? (course code only)\"],\n",
    "                                 labels=break_text([\n",
    "                                    \"Top 10 Complimentary Studies (CSS)/Humanities & Social Science (HSS) electives\",\n",
    "                                    \"Top 10 Science/Math Courses (course code only)\"\n",
    "                                 ], char_limit=20),\n",
    "                                 limit=10,\n",
    "                                 base_height=230\n",
    "                                )\n",
    "fig.show()"
   ]
  },
  {
   "attachments": {},
   "cell_type": "markdown",
   "metadata": {},
   "source": [
    "## Have you ever take summer courses?"
   ]
  },
  {
   "cell_type": "code",
   "execution_count": null,
   "metadata": {},
   "outputs": [],
   "source": [
    "# data_checker(df[\"Have you ever take summer courses?\"], check_unique=True)"
   ]
  },
  {
   "cell_type": "code",
   "execution_count": null,
   "metadata": {},
   "outputs": [],
   "source": [
    "df[\"Have you ever take summer courses?\"].fillna(\"Did not answer\", inplace=True)"
   ]
  },
  {
   "cell_type": "code",
   "execution_count": null,
   "metadata": {},
   "outputs": [],
   "source": [
    "fig = px.histogram(df, x=\"Have you ever take summer courses?\", color=\"Have you ever take summer courses?\")\n",
    "fig.update_traces(hovertemplate=less_cringe_hovertext_template[\"histogram\"][\"hovertemplate\"])\n",
    "add_percent_labels_for_hist(df[\"Have you ever take summer courses?\"], fig, horizontal=False)\n",
    "fig"
   ]
  },
  {
   "attachments": {},
   "cell_type": "markdown",
   "metadata": {},
   "source": [
    "## Have you overloaded (taken 6 or more courses in a semester)?"
   ]
  },
  {
   "cell_type": "code",
   "execution_count": null,
   "metadata": {},
   "outputs": [],
   "source": [
    "# data_checker(df[\"Have you ever overloaded (taken 6 or more courses in a semester)? \"], check_unique=True)"
   ]
  },
  {
   "cell_type": "code",
   "execution_count": null,
   "metadata": {},
   "outputs": [],
   "source": [
    "df[\"Have you ever overloaded (taken 6 or more courses in a semester)? \"].fillna(\"Did not answer\", inplace=True)"
   ]
  },
  {
   "cell_type": "code",
   "execution_count": null,
   "metadata": {},
   "outputs": [],
   "source": [
    "# fig = px.histogram(df, x=\"Have you ever overloaded (taken 6 or more courses in a semester)? \", \n",
    "#                    color=\"Have you ever overloaded (taken 6 or more courses in a semester)? \")\n",
    "# fig.update_traces(hovertemplate=less_cringe_hovertext_template[\"histogram\"][\"hovertemplate\"])"
   ]
  },
  {
   "attachments": {},
   "cell_type": "markdown",
   "metadata": {},
   "source": [
    "## Which terms did you overload?"
   ]
  },
  {
   "cell_type": "code",
   "execution_count": null,
   "metadata": {},
   "outputs": [],
   "source": [
    "# data_checker(df[\"What terms did you overload?\"], check_unique=True)"
   ]
  },
  {
   "cell_type": "code",
   "execution_count": null,
   "metadata": {},
   "outputs": [],
   "source": [
    "# DQ check for no overloaded semesters but overloaded terms exist.\n",
    "\n",
    "# term_filter = (\n",
    "#  (df[\"What terms did you overload?\"].notna()) & \n",
    "#  ((df[\"Have you ever overloaded (taken 6 or more courses in a semester)? \"] == \"no\") |\n",
    "#  (df[\"Have you ever overloaded (taken 6 or more courses in a semester)? \"] == \"Did not answer\"))\n",
    "# )\n",
    "\n",
    "# df.loc[term_filter, [\"Have you ever overloaded (taken 6 or more courses in a semester)? \", \"What terms did you overload?\"]]"
   ]
  },
  {
   "cell_type": "code",
   "execution_count": null,
   "metadata": {},
   "outputs": [],
   "source": [
    "df[\"What terms did you overload?\"].dropna(inplace=True)"
   ]
  },
  {
   "attachments": {},
   "cell_type": "markdown",
   "metadata": {},
   "source": [
    "## Course Overload Info"
   ]
  },
  {
   "cell_type": "code",
   "execution_count": null,
   "metadata": {},
   "outputs": [],
   "source": [
    "fig = create_figure_with_dropdown(df, options=[\"Have you ever overloaded (taken 6 or more courses in a semester)? \", \n",
    "                                               \"What terms did you overload?\"],\n",
    "                                        labels=[ \"Have you ever overloaded (taken 6 or more courses in a semester)? \", \n",
    "                                                \"Which terms did you overload? (For those who did overload)\"],\n",
    "                                        showticklabels=[False,\n",
    "                                                         False],\n",
    "                                        sort_traces=True)\n",
    "fig.update_traces(hovertemplate=less_cringe_hovertext_template[\"histogram\"][\"hovertemplate\"])\n",
    "fig.update_layout(legend=dict(yanchor=\"top\", y=1))\n",
    "# fig.layout.updatemenus[0].y = -0.4\n",
    "fig"
   ]
  },
  {
   "attachments": {},
   "cell_type": "markdown",
   "metadata": {},
   "source": [
    "# Failures\n",
    "\n",
    "<i>why you still no doctor la</i>"
   ]
  },
  {
   "cell_type": "code",
   "execution_count": null,
   "metadata": {},
   "outputs": [],
   "source": [
    "df[\"Have you ever failed a course?\"].fillna(\"Too embarassed to say\", inplace=True)\n",
    "df[\"Have you ever failed a midterm/exam?\"].fillna(\"Too embarassed to say\", inplace=True)"
   ]
  },
  {
   "cell_type": "code",
   "execution_count": null,
   "metadata": {},
   "outputs": [],
   "source": [
    "# data_checker(df[\"Have you ever failed a course?\"], check_unique=True)\n",
    "# data_checker(df[\"Have you ever failed a midterm/exam?\"], check_unique=True)"
   ]
  },
  {
   "cell_type": "code",
   "execution_count": null,
   "metadata": {},
   "outputs": [],
   "source": [
    "fig = create_figure_with_dropdown(df, [\"Have you ever failed a course?\", \"Have you ever failed a midterm/exam?\"],\n",
    "                            is_order_manually=True, manual_category_orders=[[\"yes\", \"no\", \"Too embarassed to say\"], None])\n",
    "fig.update_traces(hovertemplate=less_cringe_hovertext_template[\"histogram\"][\"hovertemplate\"])\n",
    "fig.update_layout(legend=dict(yanchor=\"top\", y=1))\n",
    "fig.layout.updatemenus[0].y = -0.2\n",
    "fig.show()\n",
    "\n"
   ]
  },
  {
   "attachments": {},
   "cell_type": "markdown",
   "metadata": {},
   "source": [
    "# Contentness with UofT Life"
   ]
  },
  {
   "attachments": {},
   "cell_type": "markdown",
   "metadata": {},
   "source": [
    "## How satisfied are you with your academic experience at UofT? (Out of 10)"
   ]
  },
  {
   "cell_type": "code",
   "execution_count": null,
   "metadata": {},
   "outputs": [],
   "source": [
    "# data_checker(df[\"How satisfied are you with your academic experience at UofT?\"], check_unique=True)"
   ]
  },
  {
   "cell_type": "code",
   "execution_count": null,
   "metadata": {},
   "outputs": [],
   "source": [
    "df_uoft_satisfaction = df[\"How satisfied are you with your academic experience at UofT?\"].dropna()"
   ]
  },
  {
   "cell_type": "code",
   "execution_count": null,
   "metadata": {},
   "outputs": [],
   "source": [
    "fig_avg, fig = create_rating_distributions(\"out of 10\", \"Contentedness with UofT Academic Experience<br><i>(Rating out of 10)</i>\",\n",
    "                            df_uoft_satisfaction)"
   ]
  },
  {
   "cell_type": "code",
   "execution_count": null,
   "metadata": {
    "tags": [
     "no_margin"
    ]
   },
   "outputs": [],
   "source": [
    "fig_avg.show()"
   ]
  },
  {
   "cell_type": "code",
   "execution_count": null,
   "metadata": {},
   "outputs": [],
   "source": [
    "fig.show()"
   ]
  },
  {
   "attachments": {},
   "cell_type": "markdown",
   "metadata": {},
   "source": [
    "## How satisfied are you with your student life at UofT?"
   ]
  },
  {
   "cell_type": "code",
   "execution_count": null,
   "metadata": {},
   "outputs": [],
   "source": [
    "# data_checker(df[\"How satisfied are you with your student life at UofT?\"], check_unique=True)"
   ]
  },
  {
   "cell_type": "code",
   "execution_count": null,
   "metadata": {},
   "outputs": [],
   "source": [
    "df_student_life = df[\"How satisfied are you with your student life at UofT?\"].dropna()"
   ]
  },
  {
   "cell_type": "code",
   "execution_count": null,
   "metadata": {},
   "outputs": [],
   "source": [
    "fig_avg, fig = create_rating_distributions(\"out of 10\", \"Contentedness with UofT Student Life Experience<br><i>(Rating out of 10)</i>\",\n",
    "                            df_student_life)"
   ]
  },
  {
   "cell_type": "code",
   "execution_count": null,
   "metadata": {
    "tags": [
     "no_margin"
    ]
   },
   "outputs": [],
   "source": [
    "fig_avg.show()"
   ]
  },
  {
   "cell_type": "code",
   "execution_count": null,
   "metadata": {},
   "outputs": [],
   "source": [
    "fig.show()"
   ]
  },
  {
   "cell_type": "code",
   "execution_count": null,
   "metadata": {},
   "outputs": [],
   "source": [
    "# data_checker(df[\"Would you choose your same program again?\"], check_unique=True)"
   ]
  },
  {
   "attachments": {},
   "cell_type": "markdown",
   "metadata": {},
   "source": [
    "## Would you choose your same program again?"
   ]
  },
  {
   "cell_type": "code",
   "execution_count": null,
   "metadata": {},
   "outputs": [],
   "source": [
    "df[\"Would you choose your same program again?\"].fillna(\"Did not specify\", inplace=True)"
   ]
  },
  {
   "cell_type": "code",
   "execution_count": null,
   "metadata": {},
   "outputs": [],
   "source": [
    "create_table(df, column=\"Would you choose your same program again?\", label=break_text(\"Would you choose your same program again?\"))"
   ]
  },
  {
   "attachments": {},
   "cell_type": "markdown",
   "metadata": {},
   "source": [
    "## If you responded no, which program would you have chosen instead?"
   ]
  },
  {
   "cell_type": "code",
   "execution_count": null,
   "metadata": {},
   "outputs": [],
   "source": [
    "# data_checker(df[\"If you responded no, which program would you have chosen instead?\"], check_unique=True)"
   ]
  },
  {
   "cell_type": "code",
   "execution_count": null,
   "metadata": {},
   "outputs": [],
   "source": [
    "df_which_progam_instead = df[\"If you responded no, which program would you have chosen instead?\"].dropna().reset_index()"
   ]
  },
  {
   "cell_type": "code",
   "execution_count": null,
   "metadata": {},
   "outputs": [],
   "source": [
    "fig = px.pie(df_which_progam_instead, names=\"If you responded no, which program would you have chosen instead?\")\n",
    "fig.update_traces(textinfo=\"label+percent\",\n",
    "                  hovertemplate=less_cringe_hovertext_template[\"pie\"][\"hovertemplate\"])\n",
    "fig.update_layout(showlegend=False)\n",
    "fig.add_annotation(\n",
    "    dict(xanchor=\"right\", x=0.98, y=-0.1, text=f\"{len(df_which_progam_instead)} respondents<br>total\", font=dict(size=16), ax=0, ay=0)\n",
    ")"
   ]
  },
  {
   "attachments": {},
   "cell_type": "markdown",
   "metadata": {},
   "source": [
    "## How likely is it you would recommend this department to other prospective students?"
   ]
  },
  {
   "cell_type": "code",
   "execution_count": null,
   "metadata": {},
   "outputs": [],
   "source": [
    "# data_checker(df[\"How likely is it you would recommend this department to other prospective students?\"], check_unique=True)"
   ]
  },
  {
   "cell_type": "code",
   "execution_count": null,
   "metadata": {},
   "outputs": [],
   "source": [
    "df_likely_to_recommend_program = \\\n",
    "    df[\"How likely is it you would recommend this department to other prospective students?\"].dropna()"
   ]
  },
  {
   "cell_type": "code",
   "execution_count": null,
   "metadata": {},
   "outputs": [],
   "source": [
    "fig_avg, fig = \\\n",
    "    create_rating_distributions(\"out of 10\", \n",
    "                                \"Likely to Recommend ECE Program<br><i>(Rating out of 10)</i>\",\n",
    "                                df_likely_to_recommend_program)"
   ]
  },
  {
   "cell_type": "code",
   "execution_count": null,
   "metadata": {
    "tags": [
     "no_margin"
    ]
   },
   "outputs": [],
   "source": [
    "fig_avg.show()"
   ]
  },
  {
   "cell_type": "code",
   "execution_count": null,
   "metadata": {},
   "outputs": [],
   "source": [
    "fig.show()"
   ]
  },
  {
   "attachments": {},
   "cell_type": "markdown",
   "metadata": {},
   "source": [
    "## I developed close friendships within my ECE class"
   ]
  },
  {
   "cell_type": "code",
   "execution_count": null,
   "metadata": {},
   "outputs": [],
   "source": [
    "# data_checker(df[\"I developed close friendships within my ECE class\"], check_unique=True)"
   ]
  },
  {
   "cell_type": "code",
   "execution_count": null,
   "metadata": {},
   "outputs": [],
   "source": [
    "df_closeness_of_friendships = df[\"I developed close friendships within my ECE class\"].dropna()"
   ]
  },
  {
   "cell_type": "code",
   "execution_count": null,
   "metadata": {},
   "outputs": [],
   "source": [
    "fig_avg, fig = \\\n",
    "    create_rating_distributions(\"out of 5\", \n",
    "                                \"Closeness of Friendships Developed<br><i>(Rating out of 5)</i>\",\n",
    "                                df_closeness_of_friendships)"
   ]
  },
  {
   "cell_type": "code",
   "execution_count": null,
   "metadata": {
    "tags": [
     "no_margin"
    ]
   },
   "outputs": [],
   "source": [
    "fig_avg.show()"
   ]
  },
  {
   "cell_type": "code",
   "execution_count": null,
   "metadata": {},
   "outputs": [],
   "source": [
    "fig.show()"
   ]
  },
  {
   "attachments": {},
   "cell_type": "markdown",
   "metadata": {},
   "source": [
    "## Overall, my class is tight-knit and friendly with each other"
   ]
  },
  {
   "cell_type": "code",
   "execution_count": null,
   "metadata": {
    "tags": []
   },
   "outputs": [],
   "source": [
    "# data_checker(df[\"Overall, my class is tight-knit and friendly with each other\"], check_unique=True)"
   ]
  },
  {
   "cell_type": "code",
   "execution_count": null,
   "metadata": {},
   "outputs": [],
   "source": [
    "df_tightness = df[\"Overall, my class is tight-knit and friendly with each other\"].dropna()"
   ]
  },
  {
   "cell_type": "code",
   "execution_count": null,
   "metadata": {},
   "outputs": [],
   "source": [
    "fig_avg, fig = \\\n",
    "    create_rating_distributions(\"out of 5\", \n",
    "                                \"Tightness and Friendliness of Class<br><i>(Rating out of 5)</i>\",\n",
    "                                df_tightness)"
   ]
  },
  {
   "cell_type": "code",
   "execution_count": null,
   "metadata": {
    "tags": [
     "no_margin"
    ]
   },
   "outputs": [],
   "source": [
    "fig_avg.show()"
   ]
  },
  {
   "cell_type": "code",
   "execution_count": null,
   "metadata": {},
   "outputs": [],
   "source": [
    "fig.show()"
   ]
  },
  {
   "attachments": {},
   "cell_type": "markdown",
   "metadata": {},
   "source": [
    "## How many close friends would you say you have in the ECE 2T2 cohort? "
   ]
  },
  {
   "cell_type": "code",
   "execution_count": null,
   "metadata": {},
   "outputs": [],
   "source": [
    "# data_checker(df[\"How many close friends would you say you have in the ECE 2T2 cohort?  \"], check_unique=True)"
   ]
  },
  {
   "cell_type": "code",
   "execution_count": null,
   "metadata": {},
   "outputs": [],
   "source": [
    "df_close_friends_str = df[\"How many close friends would you say you have in the ECE 2T2 cohort?  \"] \\\n",
    "                       .dropna().astype(str) \\\n",
    "                       .str.split(\".\").str[0]"
   ]
  },
  {
   "cell_type": "code",
   "execution_count": null,
   "metadata": {},
   "outputs": [],
   "source": [
    "df_close_friends_sorted = df[\"How many close friends would you say you have in the ECE 2T2 cohort?  \"].dropna() \\\n",
    "                         .sort_values().astype(int).astype(str)"
   ]
  },
  {
   "cell_type": "code",
   "execution_count": null,
   "metadata": {},
   "outputs": [],
   "source": [
    "fig = px.histogram(df_close_friends_str, color=\"value\")\n",
    "fig.update_traces(hovertemplate=less_cringe_hovertext_template[\"histogram\"][\"hovertemplate\"])\n",
    "fig.update_xaxes(categoryorder=\"array\", categoryarray=df_close_friends_sorted.unique(), title_text=\"Number of Close Friends\")\n",
    "add_percent_labels_for_hist(df_close_friends_str, fig, horizontal=False)\n",
    "fig.add_annotation(\n",
    "    dict(xanchor=\"right\", yanchor=\"middle\", x=0.6, y=11, ax=0, ay=0,\n",
    "    text=f\"Sample Size: {len(df_close_friends_str)}\", font=dict(size=12))\n",
    ")"
   ]
  },
  {
   "attachments": {},
   "cell_type": "markdown",
   "metadata": {},
   "source": [
    "## How many friends would you say you have in the ECE 2T2 cohort? "
   ]
  },
  {
   "cell_type": "code",
   "execution_count": null,
   "metadata": {},
   "outputs": [],
   "source": [
    "# data_checker(df[\"How many friends would you say you have in the ECE 2T2 cohort?  \"], check_unique=True)"
   ]
  },
  {
   "cell_type": "code",
   "execution_count": null,
   "metadata": {},
   "outputs": [],
   "source": [
    "df_friends_str = df[\"How many friends would you say you have in the ECE 2T2 cohort?  \"] \\\n",
    "                       .dropna().astype(str) \\\n",
    "                       .str.split(\".\").str[0]"
   ]
  },
  {
   "cell_type": "code",
   "execution_count": null,
   "metadata": {},
   "outputs": [],
   "source": [
    "df_friends_sorted = df[\"How many friends would you say you have in the ECE 2T2 cohort?  \"].dropna() \\\n",
    "                         .sort_values().astype(int).astype(str)"
   ]
  },
  {
   "cell_type": "code",
   "execution_count": null,
   "metadata": {},
   "outputs": [],
   "source": [
    "fig = px.histogram(df_friends_str, color=\"value\")\n",
    "fig.update_traces(hovertemplate=less_cringe_hovertext_template[\"histogram\"][\"hovertemplate\"])\n",
    "fig.update_xaxes(categoryorder=\"array\", categoryarray=df_friends_sorted.unique(), title_text=\"Number of Friends\")\n",
    "add_percent_labels_for_hist(df_friends_str, fig, horizontal=False)\n",
    "fig.add_annotation(\n",
    "    dict(xanchor=\"right\", yanchor=\"middle\", x=0.75, y=14, ax=0, ay=0,\n",
    "    text=f\"Sample Size: {len(df_friends_str)}\", font=dict(size=12))\n",
    ")"
   ]
  },
  {
   "cell_type": "code",
   "execution_count": null,
   "metadata": {},
   "outputs": [],
   "source": [
    "# data_checker(df[\"Overall, my feelings about the ECE department are\"], check_unique=True)"
   ]
  },
  {
   "cell_type": "code",
   "execution_count": null,
   "metadata": {},
   "outputs": [],
   "source": [
    "df[\"Overall, my feelings about the ECE department are\"].fillna(\"Did not specify\", inplace=True)"
   ]
  },
  {
   "cell_type": "code",
   "execution_count": null,
   "metadata": {},
   "outputs": [],
   "source": [
    "fig = px.pie(df, names=\"Overall, my feelings about the ECE department are\", color=\"Overall, my feelings about the ECE department are\")\n",
    "fig.update_traces(textinfo=\"percent+label\", hovertemplate=less_cringe_hovertext_template[\"pie\"][\"hovertemplate\"])"
   ]
  },
  {
   "attachments": {},
   "cell_type": "markdown",
   "metadata": {},
   "source": [
    "# ECE Mental Health"
   ]
  },
  {
   "attachments": {},
   "cell_type": "markdown",
   "metadata": {},
   "source": [
    "## During your time at UofT, have you experienced any of the following?"
   ]
  },
  {
   "cell_type": "code",
   "execution_count": null,
   "metadata": {},
   "outputs": [],
   "source": [
    "# data_checker(df[\"During your time at UofT, have you experienced any of the following?\"],\n",
    "#             check_unique=True)"
   ]
  },
  {
   "cell_type": "code",
   "execution_count": null,
   "metadata": {},
   "outputs": [],
   "source": [
    "df[\"During your time at UofT, have you experienced any of the following?\"].fillna(\"No answer\", inplace=True)"
   ]
  },
  {
   "cell_type": "code",
   "execution_count": null,
   "metadata": {},
   "outputs": [],
   "source": [
    "df_mental_experience = process_multiple_choice_survey(df[\"During your time at UofT, have you experienced any of the following?\"],\n",
    "                                                      column=\"mental\")"
   ]
  },
  {
   "cell_type": "code",
   "execution_count": null,
   "metadata": {},
   "outputs": [],
   "source": [
    "df_mental_experience_meta = get_percentages_for_multiple_choice_survey(df_mental_experience[\"mental\"])"
   ]
  },
  {
   "cell_type": "code",
   "execution_count": null,
   "metadata": {},
   "outputs": [],
   "source": [
    "fig = px.bar(df_mental_experience_meta, x=\"index\", y=\"count\", text=\"percentage\", color=\"index\", labels={\n",
    "      \"index\" :  \"Mental Disorder\"\n",
    "})\n",
    "fig.update_traces(hovertemplate=less_cringe_hovertext_template[\"bar\"][\"hovertemplate\"])\n",
    "fig.update_xaxes(title=\"\", showticklabels=False)\n",
    "fig.update_layout(showlegend=True, legend=dict(yanchor=\"top\", xanchor=\"right\", x=1, y=1))"
   ]
  },
  {
   "attachments": {},
   "cell_type": "markdown",
   "metadata": {},
   "source": [
    "## Which aspects, if any, contributed to your mental health negatively?\""
   ]
  },
  {
   "cell_type": "code",
   "execution_count": null,
   "metadata": {},
   "outputs": [],
   "source": [
    "# data_checker(df[\"Which aspects, if any, contributed to your mental health negatively?\"], check_unique=True)"
   ]
  },
  {
   "cell_type": "code",
   "execution_count": null,
   "metadata": {},
   "outputs": [],
   "source": [
    "df[\"Which aspects, if any, contributed to your mental health negatively?\"].fillna(\"No answer\", inplace=True)"
   ]
  },
  {
   "cell_type": "code",
   "execution_count": null,
   "metadata": {},
   "outputs": [],
   "source": [
    "df_mental_negative = process_multiple_choice_survey(df[\"Which aspects, if any, contributed to your mental health negatively?\"],\n",
    "                                                      column=\"mental_negative_impact\")"
   ]
  },
  {
   "cell_type": "code",
   "execution_count": null,
   "metadata": {},
   "outputs": [],
   "source": [
    "df_mental_negative_meta = get_percentages_for_multiple_choice_survey(df_mental_negative[\"mental_negative_impact\"])"
   ]
  },
  {
   "cell_type": "code",
   "execution_count": null,
   "metadata": {},
   "outputs": [],
   "source": [
    "fig = px.bar(df_mental_negative_meta, x=\"index\", y=\"count\", text=\"percentage\", color=\"index\", labels={\n",
    "      \"index\" :  \"Contributions to Negative Mental Health\"\n",
    "})\n",
    "fig.update_traces(hovertemplate=less_cringe_hovertext_template[\"bar\"][\"hovertemplate\"])\n",
    "fig.update_xaxes(title=\"\", showticklabels=False)\n",
    "fig.update_layout(showlegend=True, legend=dict(yanchor=\"top\", xanchor=\"right\", x=1, y=1))"
   ]
  },
  {
   "attachments": {},
   "cell_type": "markdown",
   "metadata": {},
   "source": [
    "## Have you sought out mental health support at the university?"
   ]
  },
  {
   "cell_type": "code",
   "execution_count": null,
   "metadata": {},
   "outputs": [],
   "source": [
    "# data_checker(df[\"Have you sought out mental health support at the university?\"], check_unique=True)"
   ]
  },
  {
   "cell_type": "code",
   "execution_count": null,
   "metadata": {},
   "outputs": [],
   "source": [
    "df[\"Have you sought out mental health support at the university?\"].fillna(\"No answer\", inplace=True)"
   ]
  },
  {
   "cell_type": "code",
   "execution_count": null,
   "metadata": {},
   "outputs": [],
   "source": [
    "fig = px.pie(df, names=\"Have you sought out mental health support at the university?\",\n",
    "       color=\"Have you sought out mental health support at the university?\")\n",
    "\n",
    "fig.update_traces(textinfo=\"label+percent\", hovertemplate=less_cringe_hovertext_template[\"pie\"][\"hovertemplate\"])"
   ]
  },
  {
   "attachments": {},
   "cell_type": "markdown",
   "metadata": {},
   "source": [
    "## Which mental health supports did you seek out?"
   ]
  },
  {
   "cell_type": "code",
   "execution_count": null,
   "metadata": {},
   "outputs": [],
   "source": [
    "# data_checker(df[\"Which mental health supports did you seek out?\"], check_unique=True)"
   ]
  },
  {
   "cell_type": "code",
   "execution_count": null,
   "metadata": {},
   "outputs": [],
   "source": [
    "df[\"Which mental health supports did you seek out?\"].fillna(\"No answer\", inplace=True)"
   ]
  },
  {
   "cell_type": "code",
   "execution_count": null,
   "metadata": {},
   "outputs": [],
   "source": [
    "df_mental_supports = process_multiple_choice_survey(df[\"Which mental health supports did you seek out?\"],\n",
    "                                                      column=\"supports\")"
   ]
  },
  {
   "cell_type": "code",
   "execution_count": null,
   "metadata": {},
   "outputs": [],
   "source": [
    "df_mental_supports = get_percentages_for_multiple_choice_survey(df_mental_supports[\"supports\"])"
   ]
  },
  {
   "cell_type": "code",
   "execution_count": null,
   "metadata": {},
   "outputs": [],
   "source": [
    "fig = px.bar(df_mental_supports, x=\"index\", y=\"count\", text=\"percentage\", color=\"index\", labels={\n",
    "      \"index\" :  \"Mental Health Resources\"\n",
    "})\n",
    "fig.update_traces(hovertemplate=less_cringe_hovertext_template[\"bar\"][\"hovertemplate\"])\n",
    "fig.update_xaxes(title=\"\", showticklabels=False)\n",
    "fig.update_layout(showlegend=True, legend=dict(yanchor=\"top\", xanchor=\"right\", x=1, y=1))"
   ]
  },
  {
   "attachments": {},
   "cell_type": "markdown",
   "metadata": {},
   "source": [
    "## Would you attribute changes in your mental health, if any, to your university experiences?"
   ]
  },
  {
   "cell_type": "code",
   "execution_count": null,
   "metadata": {},
   "outputs": [],
   "source": [
    "# data_checker(df[\"Would you attribute changes in your mental health, if any, to your university experiences?\"], check_unique=True)"
   ]
  },
  {
   "cell_type": "code",
   "execution_count": null,
   "metadata": {},
   "outputs": [],
   "source": [
    "df_mental_changes = df[\"Would you attribute changes in your mental health, if any, to your university experiences?\"].dropna()"
   ]
  },
  {
   "cell_type": "code",
   "execution_count": null,
   "metadata": {},
   "outputs": [],
   "source": [
    "fig_avg, fig = \\\n",
    "    create_rating_distributions(\"out of 5\", \n",
    "                                \"Mental Changes due to University Experiences<br><i>(Rating out of 5)</i>\",\n",
    "                                df_mental_changes)"
   ]
  },
  {
   "cell_type": "code",
   "execution_count": null,
   "metadata": {
    "tags": [
     "no_margin"
    ]
   },
   "outputs": [],
   "source": [
    "fig_avg.show()"
   ]
  },
  {
   "cell_type": "code",
   "execution_count": null,
   "metadata": {},
   "outputs": [],
   "source": [
    "fig.show()"
   ]
  },
  {
   "cell_type": "code",
   "execution_count": null,
   "metadata": {},
   "outputs": [],
   "source": [
    "data_checker(df[\"Do you think UofT has adequate mental health resources for students?\"], check_unique=True)"
   ]
  },
  {
   "cell_type": "code",
   "execution_count": null,
   "metadata": {},
   "outputs": [],
   "source": [
    "create_table(df, column=\"Do you think UofT has adequate mental health resources for students?\",\n",
    "            label=break_text(\"Do you think UofT has adequate mental health resources for students?\", char_limit=25))"
   ]
  },
  {
   "attachments": {},
   "cell_type": "markdown",
   "metadata": {},
   "source": [
    "# PEY Profile\n",
    "\n",
    "ECE2T2's PEY Experience"
   ]
  },
  {
   "attachments": {},
   "cell_type": "markdown",
   "metadata": {},
   "source": [
    "## Did you take a course over PEY?"
   ]
  },
  {
   "cell_type": "code",
   "execution_count": null,
   "metadata": {},
   "outputs": [],
   "source": [
    "# data_checker(df[\"Did you take a course over PEY?\"], check_unique=True)"
   ]
  },
  {
   "cell_type": "code",
   "execution_count": null,
   "metadata": {},
   "outputs": [],
   "source": [
    "df[\"Did you take a course over PEY?\"].fillna(\"Did not answer\", inplace=True)"
   ]
  },
  {
   "cell_type": "code",
   "execution_count": null,
   "metadata": {},
   "outputs": [],
   "source": [
    "fig = px.pie(df, names=\"Did you take a course over PEY?\", color=\"Did you take a course over PEY?\")\n",
    "fig.update_traces(hovertemplate=less_cringe_hovertext_template[\"pie\"][\"hovertemplate\"],\n",
    "                  textinfo=\"percent+label\")"
   ]
  },
  {
   "attachments": {},
   "cell_type": "markdown",
   "metadata": {},
   "source": [
    "## What area(s) did you do your PEY Co-op?"
   ]
  },
  {
   "cell_type": "code",
   "execution_count": null,
   "metadata": {},
   "outputs": [],
   "source": [
    "# data_checker(df[\"What area(s) did you do your PEY Co-op?\"], check_unique=True)"
   ]
  },
  {
   "cell_type": "code",
   "execution_count": null,
   "metadata": {},
   "outputs": [],
   "source": [
    "df[\"What area(s) did you do your PEY Co-op?\"].fillna(\"Did not specify\", inplace=True)"
   ]
  },
  {
   "cell_type": "code",
   "execution_count": null,
   "metadata": {},
   "outputs": [],
   "source": [
    "df_area = process_multiple_choice_survey(df[\"What area(s) did you do your PEY Co-op?\"], column=\"Area\")"
   ]
  },
  {
   "cell_type": "code",
   "execution_count": null,
   "metadata": {},
   "outputs": [],
   "source": [
    "generate_word_map(df_area[\"Area\"], file_path=\"./embed_images/PEY_Area_WordCloud.png\")"
   ]
  },
  {
   "cell_type": "code",
   "execution_count": null,
   "metadata": {
    "tags": [
     "no_margin"
    ]
   },
   "outputs": [],
   "source": [
    "fig = plot_word_map(\"./embed_images/PEY_Area_WordCloud.png\")\n",
    "fig.show()"
   ]
  },
  {
   "cell_type": "code",
   "execution_count": null,
   "metadata": {
    "tags": []
   },
   "outputs": [],
   "source": [
    "create_table(df_area, column=\"Area\", label=\"Top 10 Co-op Areas\", limit=10)"
   ]
  },
  {
   "attachments": {},
   "cell_type": "markdown",
   "metadata": {},
   "source": [
    "## Where did you do your PEY-Co-op?"
   ]
  },
  {
   "cell_type": "code",
   "execution_count": null,
   "metadata": {},
   "outputs": [],
   "source": [
    "# data_checker(df[\"Where did you do your PEY Co-op?\"], check_unique=True)"
   ]
  },
  {
   "cell_type": "code",
   "execution_count": null,
   "metadata": {},
   "outputs": [],
   "source": [
    "df[\"Where did you do your PEY Co-op?\"].fillna(\"Did not answer\", inplace=True)"
   ]
  },
  {
   "cell_type": "code",
   "execution_count": null,
   "metadata": {},
   "outputs": [],
   "source": [
    "fig = px.pie(df, names=\"Where did you do your PEY Co-op?\", color=\"Where did you do your PEY Co-op?\", hole=0.75)\n",
    "fig.update_traces(textinfo=\"label+percent\", hovertemplate=less_cringe_hovertext_template[\"pie\"][\"hovertemplate\"])"
   ]
  },
  {
   "attachments": {},
   "cell_type": "markdown",
   "metadata": {},
   "source": [
    "## What was your hourly pay for PEY?\n",
    "\n",
    "<i>Some higher pay values were truncated for box plot aesthetism</i>"
   ]
  },
  {
   "cell_type": "code",
   "execution_count": null,
   "metadata": {},
   "outputs": [],
   "source": [
    "# data_checker(df[\"What was your hourly pay for PEY?\"], check_unique=True)"
   ]
  },
  {
   "cell_type": "code",
   "execution_count": null,
   "metadata": {},
   "outputs": [],
   "source": [
    "\n",
    "fig = px.box(df, y=\"What was your hourly pay for PEY?\", notched=True, points=\"all\")\n",
    "fig.update_layout(yaxis_range=[20,40])\n",
    "fig.show()"
   ]
  },
  {
   "attachments": {},
   "cell_type": "markdown",
   "metadata": {},
   "source": [
    "## Who was your employer?\n",
    "\n",
    "I dropped people who did not answer"
   ]
  },
  {
   "cell_type": "code",
   "execution_count": null,
   "metadata": {},
   "outputs": [],
   "source": [
    "# data_checker(df[\"Who was your employer?\"], check_unique=True)"
   ]
  },
  {
   "cell_type": "code",
   "execution_count": null,
   "metadata": {},
   "outputs": [],
   "source": [
    "employer_series = df[\"Who was your employer?\"]"
   ]
  },
  {
   "cell_type": "code",
   "execution_count": null,
   "metadata": {},
   "outputs": [],
   "source": [
    "employer_series.dropna(inplace=True)"
   ]
  },
  {
   "cell_type": "code",
   "execution_count": null,
   "metadata": {},
   "outputs": [],
   "source": [
    "df_employer = process_multiple_choice_survey(employer_series, column=\"employer\")"
   ]
  },
  {
   "cell_type": "code",
   "execution_count": null,
   "metadata": {},
   "outputs": [],
   "source": [
    "generate_word_map(df_employer[\"employer\"], file_path=\"./embed_images/PEY_Employer_WordCloud.png\")"
   ]
  },
  {
   "cell_type": "code",
   "execution_count": null,
   "metadata": {
    "tags": [
     "no_margin"
    ]
   },
   "outputs": [],
   "source": [
    "fig = plot_word_map(file_path=\"./embed_images/PEY_Employer_WordCloud.png\")\n",
    "fig.show()"
   ]
  },
  {
   "cell_type": "code",
   "execution_count": null,
   "metadata": {
    "tags": []
   },
   "outputs": [],
   "source": [
    "create_table(df_employer, column=\"employer\", label=\"TOP 10 Employers\", limit=10)"
   ]
  },
  {
   "attachments": {},
   "cell_type": "markdown",
   "metadata": {},
   "source": [
    "## ECE2T2's Ratings of Their Work Experience"
   ]
  },
  {
   "cell_type": "code",
   "execution_count": null,
   "metadata": {},
   "outputs": [],
   "source": [
    "# data_checker(df[\"Please rate your work term experience. \"], check_unique=True)"
   ]
  },
  {
   "cell_type": "code",
   "execution_count": null,
   "metadata": {},
   "outputs": [],
   "source": [
    "fig = px.histogram(df, x=\"Please rate your work term experience. \", color=\"Please rate your work term experience. \")\n",
    "fig.update_xaxes(title=\"Rating out of 10\")\n",
    "fig.update_traces(hovertemplate=less_cringe_hovertext_template[\"histogram\"][\"hovertemplate\"])"
   ]
  },
  {
   "attachments": {},
   "cell_type": "markdown",
   "metadata": {},
   "source": [
    "## Out of 10, Did ECE2T2's Think That the Pandemic Affeted Their Job Search for PEY Co-op Negatively?"
   ]
  },
  {
   "cell_type": "code",
   "execution_count": null,
   "metadata": {},
   "outputs": [],
   "source": [
    "data_checker(df[\"Do you think that the pandemic affected your search for a PEY Co-op negatively?\"], check_unique=True)"
   ]
  },
  {
   "cell_type": "code",
   "execution_count": null,
   "metadata": {},
   "outputs": [],
   "source": [
    "fig = px.histogram(df, x=\"Do you think that the pandemic affected your search for a PEY Co-op negatively?\", \n",
    "                   color=\"Do you think that the pandemic affected your search for a PEY Co-op negatively?\")\n",
    "fig.update_xaxes(title=\"Rating out of 10\")\n",
    "fig.update_traces(hovertemplate=less_cringe_hovertext_template[\"histogram\"][\"hovertemplate\"])"
   ]
  },
  {
   "cell_type": "code",
   "execution_count": null,
   "metadata": {},
   "outputs": [],
   "source": [
    "# data_checker(df[\"Will you be returning to your past PEY employer?\"], check_unique=True)"
   ]
  },
  {
   "attachments": {},
   "cell_type": "markdown",
   "metadata": {},
   "source": [
    "## Will ECE2T2's Be Returning to Their Past PEY Employer?"
   ]
  },
  {
   "cell_type": "code",
   "execution_count": null,
   "metadata": {},
   "outputs": [],
   "source": [
    "df[\"Will you be returning to your past PEY employer?\"].fillna(\"Did not answer\", inplace=True)"
   ]
  },
  {
   "cell_type": "code",
   "execution_count": null,
   "metadata": {},
   "outputs": [],
   "source": [
    "create_table(df, column=\"Will you be returning to your past PEY employer?\", label=\"\")"
   ]
  },
  {
   "attachments": {},
   "cell_type": "markdown",
   "metadata": {},
   "source": [
    "# After-Grad Life"
   ]
  },
  {
   "cell_type": "code",
   "execution_count": null,
   "metadata": {},
   "outputs": [],
   "source": [
    "# data_checker(df[\"After graduation, my next step is..\"], check_unique=True)"
   ]
  },
  {
   "cell_type": "code",
   "execution_count": null,
   "metadata": {},
   "outputs": [],
   "source": [
    "df[\"After graduation, my next step is..\"].fillna(\"Did not answer\", inplace=True)"
   ]
  },
  {
   "cell_type": "code",
   "execution_count": null,
   "metadata": {},
   "outputs": [],
   "source": [
    "fig = px.pie(df, names=\"After graduation, my next step is..\", color=\"After graduation, my next step is..\",\n",
    "             hole=0.4)\n",
    "fig.update_traces(textinfo=\"label+percent\",\n",
    "                  textposition=\"outside\",\n",
    "                  hovertemplate=less_cringe_hovertext_template[\"pie\"][\"hovertemplate\"],\n",
    "                  )"
   ]
  },
  {
   "attachments": {},
   "cell_type": "markdown",
   "metadata": {},
   "source": [
    "## Will you obtain your Professional Engineering (P.Eng) designation?"
   ]
  },
  {
   "cell_type": "code",
   "execution_count": null,
   "metadata": {},
   "outputs": [],
   "source": [
    "# data_checker(df[\"Will you obtain your Professional Engineering (P.Eng) designation?\"], check_unique=True)"
   ]
  },
  {
   "cell_type": "code",
   "execution_count": null,
   "metadata": {},
   "outputs": [],
   "source": [
    "df[\"Will you obtain your Professional Engineering (P.Eng) designation?\"].fillna(\"Did not answer\", inplace=True)"
   ]
  },
  {
   "cell_type": "code",
   "execution_count": null,
   "metadata": {},
   "outputs": [],
   "source": [
    "create_table(df, column=\"Will you obtain your Professional Engineering (P.Eng) designation?\", label=\"\")"
   ]
  },
  {
   "attachments": {},
   "cell_type": "markdown",
   "metadata": {},
   "source": [
    "# After-Grad Life: Employment"
   ]
  },
  {
   "attachments": {},
   "cell_type": "markdown",
   "metadata": {},
   "source": [
    "## Regardless of your current circumstance, where do you prefer for your Full-Time job to be?"
   ]
  },
  {
   "cell_type": "code",
   "execution_count": null,
   "metadata": {},
   "outputs": [],
   "source": [
    "# data_checker(df[\"Regardless of your current circumstance, where do you prefer for your Full-Time job to be?\"],\n",
    "#              check_unique=True)"
   ]
  },
  {
   "cell_type": "code",
   "execution_count": null,
   "metadata": {},
   "outputs": [],
   "source": [
    "# data_checker(df[\"If you are working, what is your Full-Time Base Salary for your role?\"],\n",
    "#              check_unique=True)"
   ]
  },
  {
   "cell_type": "code",
   "execution_count": null,
   "metadata": {},
   "outputs": [],
   "source": [
    "# df[\"Currency: USD, CAD, EUR (1)\"]"
   ]
  },
  {
   "cell_type": "code",
   "execution_count": null,
   "metadata": {
    "tags": [
     "no_margin"
    ]
   },
   "outputs": [],
   "source": [
    "# px.box(df, x=\"If you are working, what is your Full-Time Base Salary for your role?\", points=\"all\")"
   ]
  },
  {
   "attachments": {},
   "cell_type": "markdown",
   "metadata": {},
   "source": [
    "No, I'm not the one who answered that I'm making $0 for my role, even though I am technically making $0 too working on this survey, so <i>$0 guy</i>, I appreciate you for standing up to evil corporate power HAHAHAHAHAHAH cuz I, am a victim of it too. I was once too afraid to stand up, but now you have given me voice and reason. I commend you comrade. "
   ]
  },
  {
   "attachments": {},
   "cell_type": "markdown",
   "metadata": {},
   "source": [
    "## What company are you going to for Full-Time Work?"
   ]
  },
  {
   "cell_type": "code",
   "execution_count": null,
   "metadata": {},
   "outputs": [],
   "source": [
    "# data_checker(df[\"Which company are you going to for Full-Time work?\"], check_unique=True)"
   ]
  },
  {
   "cell_type": "code",
   "execution_count": null,
   "metadata": {},
   "outputs": [],
   "source": [
    "df[\"Which company are you going to for Full-Time work?\"] = \\\n",
    "    df[\"Which company are you going to for Full-Time work?\"].str.strip()"
   ]
  },
  {
   "cell_type": "code",
   "execution_count": null,
   "metadata": {},
   "outputs": [],
   "source": [
    "df_full_time_employer = df[\"Which company are you going to for Full-Time work?\"].dropna()"
   ]
  },
  {
   "cell_type": "code",
   "execution_count": null,
   "metadata": {},
   "outputs": [],
   "source": [
    "generate_word_map(df_full_time_employer, \n",
    "                  file_path=\"./embed_images/Full_Time_Employer_WordCloud.png\")"
   ]
  },
  {
   "cell_type": "code",
   "execution_count": null,
   "metadata": {
    "tags": [
     "no_margin"
    ]
   },
   "outputs": [],
   "source": [
    "plot_word_map(\"./embed_images/Full_Time_Employer_WordCloud.png\")"
   ]
  },
  {
   "cell_type": "code",
   "execution_count": null,
   "metadata": {},
   "outputs": [],
   "source": [
    "create_table(pd.DataFrame({\"Full Time Employer\": df_full_time_employer.tolist()}), column=\"Full Time Employer\", label=\"TOP 10 Full-Time Employers\",\n",
    "limit=10)"
   ]
  },
  {
   "attachments": {},
   "cell_type": "markdown",
   "metadata": {},
   "source": [
    "## When did you start and finish your Full-Time Job Search?\n",
    "\n",
    "For everyone who indicated a start time, but didn't indicate an end time, I imputed an end time with the date of the survey's publification (June 1st).\n",
    "\n",
    "The earliest result for this survey was collected on *Insert Data Here*"
   ]
  },
  {
   "cell_type": "code",
   "execution_count": null,
   "metadata": {},
   "outputs": [],
   "source": [
    "# data_checker(df[\"When did you start your Full-Time Job Search?\"], check_unique=True)"
   ]
  },
  {
   "cell_type": "code",
   "execution_count": null,
   "metadata": {},
   "outputs": [],
   "source": [
    "# data_checker(df[\"When did you stop your your Full-Time Job Search?\"], check_unique=True)"
   ]
  },
  {
   "cell_type": "code",
   "execution_count": null,
   "metadata": {},
   "outputs": [],
   "source": [
    "df_start_end_job_search = df[[\"Respondent ID\", \"When did you start your Full-Time Job Search?\",\n",
    "                              \"When did you stop your your Full-Time Job Search?\"]]\n",
    "\n",
    "df_start_end_job_search.columns = [\"Task\", \"Start\", \"Finish\"]"
   ]
  },
  {
   "cell_type": "code",
   "execution_count": null,
   "metadata": {},
   "outputs": [],
   "source": [
    "df_start_end_job_search[\"Finish\"].fillna(str(datetime.now()).split()[0], inplace=True)"
   ]
  },
  {
   "cell_type": "code",
   "execution_count": null,
   "metadata": {
    "tags": [
     "no_margin"
    ]
   },
   "outputs": [],
   "source": [
    "fig = px.timeline(df_start_end_job_search, x_start=\"Start\", x_end=\"Finish\", y=\"Task\", color=\"Task\")\n",
    "fig.update_yaxes(showticklabels=False, showgrid=False, title=\"ECE2T2 Student\")\n",
    "fig.update_traces(hovertemplate=\"<b>Start</b>: %{base}<br><b>Finish:</b> %{x}<extra></extra>\")\n",
    "fig.update_layout(title_text=\"\", height=1000)\n",
    "fig.show()"
   ]
  },
  {
   "attachments": {},
   "cell_type": "markdown",
   "metadata": {},
   "source": [
    "Props to all of y'all who wrapped up your job search.\n",
    "Also giving flowers to those who are working hard to find a job in the present.\n",
    "\n",
    "To the person who claims to have ended their job search in Sep 2023, either you are one cocky engineer, or you were offered a job but still want to look for other options until the said date."
   ]
  },
  {
   "attachments": {},
   "cell_type": "markdown",
   "metadata": {},
   "source": [
    "## Are you returning to companies you have previously worked at?"
   ]
  },
  {
   "cell_type": "code",
   "execution_count": null,
   "metadata": {},
   "outputs": [],
   "source": [
    "# data_checker(df[\"Are you returning to the company where you did your PEY? \"], check_unique=True)"
   ]
  },
  {
   "cell_type": "code",
   "execution_count": null,
   "metadata": {},
   "outputs": [],
   "source": [
    "# data_checker(df[\"Are you returning to the company where you did a summer internship? \"], check_unique=True)"
   ]
  },
  {
   "cell_type": "code",
   "execution_count": null,
   "metadata": {},
   "outputs": [],
   "source": [
    "create_table_with_dropdown(df, columns=[\"Are you returning to the company where you did your PEY? \", \n",
    "                          \"Are you returning to the company where you did a summer internship? \"])"
   ]
  },
  {
   "attachments": {},
   "cell_type": "markdown",
   "metadata": {},
   "source": [
    "## What are the reasons you chose your Full-Time Job?"
   ]
  },
  {
   "cell_type": "code",
   "execution_count": null,
   "metadata": {},
   "outputs": [],
   "source": [
    "# data_checker(df[\"What are the reasons you chose your Full-Time Job?\"])"
   ]
  },
  {
   "cell_type": "code",
   "execution_count": null,
   "metadata": {},
   "outputs": [],
   "source": [
    "df[\"What are the reasons you chose your Full-Time Job?\"].fillna(\"Did not specify\", inplace=True)"
   ]
  },
  {
   "cell_type": "code",
   "execution_count": null,
   "metadata": {},
   "outputs": [],
   "source": [
    "df_reason_full_time = process_multiple_choice_survey(df[\"What are the reasons you chose your Full-Time Job?\"], column=\"Reason_Full_Time\")"
   ]
  },
  {
   "cell_type": "code",
   "execution_count": null,
   "metadata": {},
   "outputs": [],
   "source": [
    "fig = px.histogram(df_reason_full_time, y=\"Reason_Full_Time\",\n",
    "       color=\"Reason_Full_Time\")\n",
    "fig.update_yaxes(categoryorder=\"total ascending\", title=\"\")\n",
    "fig.update_traces(hovertemplate=less_cringe_hovertext_template[\"histogram_h\"][\"hovertemplate\"])\n",
    "fig.update_layout(font=dict(size=13))"
   ]
  },
  {
   "attachments": {},
   "cell_type": "markdown",
   "metadata": {},
   "source": [
    "# After-Grad Life: Financial Situation\n",
    "\n",
    "How much debt are you graduating with?\n",
    "How much of your tuition did you pay on your own (%) ?\n",
    "Did you receive OSAP at least once?\n",
    "Did you receive UTAPS at least once?\n",
    "Would you consider donating to UofT in the future?"
   ]
  },
  {
   "attachments": {},
   "cell_type": "markdown",
   "metadata": {},
   "source": [
    "## How much debt are you graduating with?"
   ]
  },
  {
   "cell_type": "code",
   "execution_count": null,
   "metadata": {},
   "outputs": [],
   "source": [
    "# data_checker(df[\"How much debt are you graduating with?\"], check_unique=True)"
   ]
  },
  {
   "cell_type": "code",
   "execution_count": null,
   "metadata": {},
   "outputs": [],
   "source": [
    "fig = px.histogram(df, y=\"How much debt are you graduating with?\")\n",
    "fig.update_traces(hovertemplate=less_cringe_hovertext_template[\"histogram_h\"][\"hovertemplate\"])\n",
    "fig.show()"
   ]
  },
  {
   "attachments": {},
   "cell_type": "markdown",
   "metadata": {},
   "source": [
    "## How much of your tuition did you pay on your own (%) ?"
   ]
  },
  {
   "cell_type": "code",
   "execution_count": null,
   "metadata": {},
   "outputs": [],
   "source": [
    "data_checker(df[\"How much of your tuition did you pay on your own (%) ?\"], check_unique=True)"
   ]
  },
  {
   "cell_type": "code",
   "execution_count": null,
   "metadata": {},
   "outputs": [],
   "source": [
    "px.histogram(df, x=\"How much of your tuition did you pay on your own (%) ?\", nbins=10)"
   ]
  },
  {
   "attachments": {},
   "cell_type": "markdown",
   "metadata": {},
   "source": [
    "## Other Financial Profiles"
   ]
  },
  {
   "cell_type": "code",
   "execution_count": null,
   "metadata": {},
   "outputs": [],
   "source": [
    "# data_checker(df[\"Did you receive OSAP at least once?\"], check_unique=True)"
   ]
  },
  {
   "cell_type": "code",
   "execution_count": null,
   "metadata": {},
   "outputs": [],
   "source": [
    "df[\"Did you receive OSAP at least once?\"].fillna(\"Did not specify\", inplace=True)"
   ]
  },
  {
   "cell_type": "code",
   "execution_count": null,
   "metadata": {},
   "outputs": [],
   "source": [
    "# data_checker(df[\"Did you receive UTAPS at least once?\"], check_unique=True)"
   ]
  },
  {
   "cell_type": "code",
   "execution_count": null,
   "metadata": {},
   "outputs": [],
   "source": [
    "df[\"Did you receive UTAPS at least once?\"].fillna(\"Did not specify\", inplace=True)"
   ]
  },
  {
   "cell_type": "code",
   "execution_count": null,
   "metadata": {},
   "outputs": [],
   "source": [
    "# data_checker(df[\"Would you consider donating to UofT in the future?\"], check_unique=True)"
   ]
  },
  {
   "cell_type": "code",
   "execution_count": null,
   "metadata": {},
   "outputs": [],
   "source": [
    "df[\"Would you consider donating to UofT in the future?\"].fillna(\"Did not specify\", inplace=True)"
   ]
  },
  {
   "cell_type": "code",
   "execution_count": null,
   "metadata": {},
   "outputs": [],
   "source": [
    "create_table_with_dropdown(df, columns=[\"Did you receive OSAP at least once?\", \"Did you receive UTAPS at least once?\",\n",
    "                          \"Would you consider donating to UofT in the future?\"], reindex=[False, True, True],\n",
    "                          reindex_orders=[None, [\"yes\", \"no\", \"Did not specify\"], [\"yes\", \"no\", \"Did not specify\"]])"
   ]
  },
  {
   "attachments": {},
   "cell_type": "markdown",
   "metadata": {},
   "source": [
    "# After-Grad Life: Miscellnaneous"
   ]
  },
  {
   "attachments": {},
   "cell_type": "markdown",
   "metadata": {},
   "source": [
    "## What will you do after an ECE-related career, apart from retirement?"
   ]
  },
  {
   "cell_type": "code",
   "execution_count": null,
   "metadata": {},
   "outputs": [],
   "source": [
    "# data_checker(df[\"What will you do after an ECE-related career, apart from retirement? \"], check_unique=True)"
   ]
  },
  {
   "cell_type": "code",
   "execution_count": null,
   "metadata": {},
   "outputs": [],
   "source": [
    "df[\"What will you do after an ECE-related career, apart from retirement? \"] = \\\n",
    "    df[\"What will you do after an ECE-related career, apart from retirement? \"].str.strip()"
   ]
  },
  {
   "cell_type": "code",
   "execution_count": null,
   "metadata": {},
   "outputs": [],
   "source": [
    "df[\"What will you do after an ECE-related career, apart from retirement? \"].dropna(inplace=True)"
   ]
  },
  {
   "cell_type": "code",
   "execution_count": null,
   "metadata": {},
   "outputs": [],
   "source": [
    "create_table(df, column=\"What will you do after an ECE-related career, apart from retirement? \", label=\"\")"
   ]
  },
  {
   "attachments": {},
   "cell_type": "markdown",
   "metadata": {},
   "source": [
    "## Are you planning to do Grad Trip?"
   ]
  },
  {
   "cell_type": "code",
   "execution_count": null,
   "metadata": {},
   "outputs": [],
   "source": [
    "data_checker(df[\"Are you planning to do Grad Trip?\"], check_unique=True)"
   ]
  },
  {
   "cell_type": "code",
   "execution_count": null,
   "metadata": {},
   "outputs": [],
   "source": [
    "df[\"Are you planning to do Grad Trip?\"].fillna(\"Did not specify\", inplace=True)"
   ]
  },
  {
   "cell_type": "code",
   "execution_count": null,
   "metadata": {},
   "outputs": [],
   "source": [
    "create_table(df, column=\"Are you planning to do Grad Trip?\", label=\"\")"
   ]
  },
  {
   "attachments": {},
   "cell_type": "markdown",
   "metadata": {},
   "source": [
    "## Post-Grad Contentness, Out of 5"
   ]
  },
  {
   "cell_type": "code",
   "execution_count": null,
   "metadata": {},
   "outputs": [],
   "source": [
    "data_checker(df[\"Please score your post-grad contentedness\"], check_unique=True)"
   ]
  },
  {
   "cell_type": "code",
   "execution_count": null,
   "metadata": {},
   "outputs": [],
   "source": [
    "df_post_grad_contentedness = df[\"Please score your post-grad contentedness\"].dropna()"
   ]
  },
  {
   "cell_type": "code",
   "execution_count": null,
   "metadata": {},
   "outputs": [],
   "source": [
    "df_post_grad_contentedness = df_post_grad_contentedness.astype(str)"
   ]
  },
  {
   "cell_type": "code",
   "execution_count": null,
   "metadata": {},
   "outputs": [],
   "source": [
    "fig = px.histogram(df_post_grad_contentedness)\n",
    "fig.update_xaxes(categoryorder=\"array\", categoryarray=df_post_grad_contentedness.sort_values().unique(),\n",
    "                 title=\"\")\n",
    "fig.update_traces(hovertemplate=less_cringe_hovertext_template[\"histogram\"][\"hovertemplate\"])"
   ]
  },
  {
   "attachments": {},
   "cell_type": "markdown",
   "metadata": {},
   "source": [
    "# Habits and Preferences"
   ]
  },
  {
   "attachments": {},
   "cell_type": "markdown",
   "metadata": {},
   "source": [
    "## How many hours a week do you spend with your parents (online/digitally)?"
   ]
  },
  {
   "cell_type": "code",
   "execution_count": null,
   "metadata": {},
   "outputs": [],
   "source": [
    "# data_checker(df[\"How many hours a week do you spend with your parents (online/digitally)?\"], check_unique=True)"
   ]
  },
  {
   "cell_type": "code",
   "execution_count": null,
   "metadata": {},
   "outputs": [],
   "source": [
    "df_hours_with_parents = df[\"How many hours a week do you spend with your parents (online/digitally)?\"].dropna()"
   ]
  },
  {
   "cell_type": "code",
   "execution_count": null,
   "metadata": {},
   "outputs": [],
   "source": [
    "df_hours_with_parents_str = df_hours_with_parents.astype(str)"
   ]
  },
  {
   "cell_type": "code",
   "execution_count": null,
   "metadata": {},
   "outputs": [],
   "source": [
    "fig = px.histogram(df_hours_with_parents_str, color=\"value\")\n",
    "fig.update_traces(hovertemplate=less_cringe_hovertext_template[\"histogram\"][\"hovertemplate\"])\n",
    "fig.update_xaxes(title=\"hours\", categoryorder=\"array\", categoryarray=df_hours_with_parents.sort_values().astype(str))\n",
    "fig.add_vline(x=2.5, line_width=3, line_dash=\"dash\", line_color=\"green\")\n",
    "fig.add_annotation(x=2.5, y=12, text=f\"Average: {format(df_hours_with_parents.mean(), '.2f')} hours<br>a week\", ax=10, xanchor=\"left\")\n",
    "fig.add_annotation(xref=\"paper\", yref=\"paper\", xanchor=\"right\", x=1, y=-0.15, ax=0, ay=0, \n",
    "                   text=f\"Sample Size: {len(df_hours_with_parents)}\")"
   ]
  },
  {
   "attachments": {},
   "cell_type": "markdown",
   "metadata": {},
   "source": [
    "## How many hours a week do you spend with your parents (in-person)?"
   ]
  },
  {
   "cell_type": "code",
   "execution_count": null,
   "metadata": {},
   "outputs": [],
   "source": [
    "# data_checker(df[\"How many hours a week do you spend with your parents (in-person)?\"], check_unique=True)"
   ]
  },
  {
   "cell_type": "code",
   "execution_count": null,
   "metadata": {},
   "outputs": [],
   "source": [
    "df_hours_with_parents_in_person = df[\"How many hours a week do you spend with your parents (in-person)?\"].dropna()"
   ]
  },
  {
   "cell_type": "code",
   "execution_count": null,
   "metadata": {},
   "outputs": [],
   "source": [
    "df_hours_with_parents_in_person_str = df_hours_with_parents_in_person.astype(str)"
   ]
  },
  {
   "cell_type": "code",
   "execution_count": null,
   "metadata": {},
   "outputs": [],
   "source": [
    "fig = px.histogram(df_hours_with_parents_in_person_str, color=\"value\")\n",
    "fig.update_traces(hovertemplate=less_cringe_hovertext_template[\"histogram\"][\"hovertemplate\"])\n",
    "fig.update_xaxes(title=\"hours\", categoryorder=\"array\", categoryarray=df_hours_with_parents_in_person.sort_values().astype(str))\n",
    "fig.add_vline(x=5.55, line_width=3, line_dash=\"dash\", line_color=\"green\")\n",
    "fig.add_annotation(x=5.55, y=12, text=f\"Average: {format(df_hours_with_parents_in_person.mean(), '.2f')} hours<br>a week\", ax=10, xanchor=\"left\")\n",
    "fig.add_annotation(xref=\"paper\", yref=\"paper\", xanchor=\"right\", x=1, y=-0.15, ax=0, ay=0, \n",
    "                   text=f\"Sample Size: {len(df_hours_with_parents_in_person)}\")"
   ]
  },
  {
   "attachments": {},
   "cell_type": "markdown",
   "metadata": {},
   "source": [
    "## How often do you exercise?"
   ]
  },
  {
   "cell_type": "code",
   "execution_count": null,
   "metadata": {},
   "outputs": [],
   "source": [
    "# data_checker(df[\"How often do you exercise?\"], check_unique=True)"
   ]
  },
  {
   "cell_type": "code",
   "execution_count": null,
   "metadata": {},
   "outputs": [],
   "source": [
    "df[\"How often do you exercise?\"].fillna(\"Did not say\", inplace=True)"
   ]
  },
  {
   "cell_type": "code",
   "execution_count": null,
   "metadata": {},
   "outputs": [],
   "source": [
    "fig = px.pie(df, names=\"How often do you exercise?\", color=\"How often do you exercise?\")\n",
    "fig.update_traces(textinfo=\"label+percent\", hovertemplate=less_cringe_hovertext_template[\"pie\"][\"hovertemplate\"])\n",
    "fig.show()"
   ]
  },
  {
   "attachments": {},
   "cell_type": "markdown",
   "metadata": {},
   "source": [
    "## What types of physical activity do you do?"
   ]
  },
  {
   "cell_type": "code",
   "execution_count": null,
   "metadata": {},
   "outputs": [],
   "source": [
    "# data_checker(df[\"What types of physical activity do you do?\"], check_unique=True)"
   ]
  },
  {
   "cell_type": "code",
   "execution_count": null,
   "metadata": {},
   "outputs": [],
   "source": [
    "df_activity = df[\"What types of physical activity do you do?\"].dropna()"
   ]
  },
  {
   "cell_type": "code",
   "execution_count": null,
   "metadata": {},
   "outputs": [],
   "source": [
    "df_activity_processed = process_multiple_choice_survey(df_activity, column=\"activity\", delimeter=\",\")"
   ]
  },
  {
   "cell_type": "code",
   "execution_count": null,
   "metadata": {},
   "outputs": [],
   "source": [
    "df_activity_cleaned = df_activity_processed[\"activity\"].str.lower().str.strip().sort_values()"
   ]
  },
  {
   "cell_type": "code",
   "execution_count": null,
   "metadata": {},
   "outputs": [],
   "source": [
    "# df_activity_cleaned.sort_values().unique()"
   ]
  },
  {
   "cell_type": "code",
   "execution_count": null,
   "metadata": {},
   "outputs": [],
   "source": [
    "df_activity_manual_cluster = df_activity_cleaned.replace([\"go to the gym\", \"gym\", \"gyming\", \"gymming\"], \"gym\") \\\n",
    "                   .replace([\"walk\", \"walking\"], \"walking\") \\\n",
    "                   .replace([\"weight lifting\", \"weight-lifting\", \"weightlifting\"], \"weightlifting\") \\\n",
    "                   .replace([\"working out\", \"workout\"], \"workout\")"
   ]
  },
  {
   "cell_type": "code",
   "execution_count": null,
   "metadata": {},
   "outputs": [],
   "source": [
    "fig = create_table(df_activity_manual_cluster.reset_index(), column=\"activity\", \n",
    "                   label=f\"Physical<br>Activities<br><i>(Sample Size:{len(df_activity)})</i>\")\n",
    "fig"
   ]
  },
  {
   "attachments": {},
   "cell_type": "markdown",
   "metadata": {},
   "source": [
    "## How often do you cook for yourself?"
   ]
  },
  {
   "cell_type": "code",
   "execution_count": null,
   "metadata": {},
   "outputs": [],
   "source": [
    "data_checker(df[\"How often do you cook for yourself?\"], check_unique=True)"
   ]
  },
  {
   "cell_type": "code",
   "execution_count": null,
   "metadata": {},
   "outputs": [],
   "source": [
    "df[\"How often do you cook for yourself?\"].fillna(\"Not sure\", inplace=True)"
   ]
  },
  {
   "cell_type": "code",
   "execution_count": null,
   "metadata": {},
   "outputs": [],
   "source": [
    "fig = px.pie(df, names=\"How often do you cook for yourself?\")\n",
    "fig.update_traces(textinfo=\"percent+label\", hovertemplate=less_cringe_hovertext_template[\"pie\"][\"hovertemplate\"])"
   ]
  },
  {
   "attachments": {},
   "cell_type": "markdown",
   "metadata": {},
   "source": [
    "## Where do you get groceries from?"
   ]
  },
  {
   "cell_type": "code",
   "execution_count": null,
   "metadata": {},
   "outputs": [],
   "source": [
    "df[\"Where do you get groceries from?\"].fillna(\"Did not say\", inplace=True)"
   ]
  },
  {
   "cell_type": "code",
   "execution_count": null,
   "metadata": {},
   "outputs": [],
   "source": [
    "df_groceries = process_multiple_choice_survey(df[\"Where do you get groceries from?\"], column=\"groceries\")"
   ]
  },
  {
   "cell_type": "code",
   "execution_count": null,
   "metadata": {},
   "outputs": [],
   "source": [
    "groceries_matrix = generate_sim_matrix(df_groceries[\"groceries\"])"
   ]
  },
  {
   "cell_type": "code",
   "execution_count": null,
   "metadata": {},
   "outputs": [],
   "source": [
    "# groceries_matrix_cleaned = remove_unique(groceries_matrix)\n",
    "# ap_cluster = fit_data(groceries_matrix_cleaned)\n",
    "# generate_replacement_file(ap_cluster, groceries_matrix_cleaned, output_file=\"./survey_text_replacements/Groceries.json\")"
   ]
  },
  {
   "cell_type": "code",
   "execution_count": null,
   "metadata": {},
   "outputs": [],
   "source": [
    "# execute_replacements(df, column, infile=\"./survey_text_replacements/Groceries.json\")"
   ]
  },
  {
   "cell_type": "code",
   "execution_count": null,
   "metadata": {},
   "outputs": [],
   "source": [
    "data_checker(df[\"Where do you get groceries from?\"], check_unique=True)"
   ]
  },
  {
   "cell_type": "code",
   "execution_count": null,
   "metadata": {},
   "outputs": [],
   "source": [
    "df[\"Where do you get groceries from?\"].fillna(\"No answer\", inplace=True)"
   ]
  },
  {
   "cell_type": "code",
   "execution_count": null,
   "metadata": {},
   "outputs": [],
   "source": [
    "df_grocery_where = process_multiple_choice_survey(df[\"Where do you get groceries from?\"])"
   ]
  },
  {
   "cell_type": "code",
   "execution_count": null,
   "metadata": {},
   "outputs": [],
   "source": [
    "df_grocery_where[\"substance\"].sort_values().unique()"
   ]
  },
  {
   "cell_type": "code",
   "execution_count": null,
   "metadata": {},
   "outputs": [],
   "source": [
    "data_checker(df[\"Eating on campus! Where are your favourite places to eat on campus?\"], check_unique=True)"
   ]
  },
  {
   "cell_type": "code",
   "execution_count": null,
   "metadata": {},
   "outputs": [],
   "source": [
    "data_checker(df[\"Do you budget your money\"], check_unique=True)"
   ]
  },
  {
   "cell_type": "code",
   "execution_count": null,
   "metadata": {},
   "outputs": [],
   "source": [
    "data_checker(df[\"What makes you happy?\"], check_unique=True)"
   ]
  },
  {
   "cell_type": "code",
   "execution_count": null,
   "metadata": {},
   "outputs": [],
   "source": [
    "data_checker(df[\"What are some hobbies that you picked up during the last 5 years?\"], check_unique=True)"
   ]
  },
  {
   "cell_type": "code",
   "execution_count": null,
   "metadata": {},
   "outputs": [],
   "source": [
    "data_checker(df[\"How often do you go out?\"], check_unique=True)"
   ]
  },
  {
   "cell_type": "code",
   "execution_count": null,
   "metadata": {},
   "outputs": [],
   "source": [
    "data_checker(df[\"Are you going to grad ball?\"], check_unique=True)"
   ]
  },
  {
   "cell_type": "code",
   "execution_count": null,
   "metadata": {},
   "outputs": [],
   "source": [
    "data_checker(df[\"How many hackathons have you attended?\"], check_unique=True)"
   ]
  },
  {
   "cell_type": "code",
   "execution_count": null,
   "metadata": {},
   "outputs": [],
   "source": [
    "data_checker(df[\"What clubs, design teams, or committees have you been a member of at UofT?\"], check_unique=True)"
   ]
  },
  {
   "cell_type": "code",
   "execution_count": null,
   "metadata": {},
   "outputs": [],
   "source": [
    "data_checker(df[\"What intramural sports have you played at UofT?\"], check_unique=True)"
   ]
  },
  {
   "cell_type": "code",
   "execution_count": null,
   "metadata": {},
   "outputs": [],
   "source": [
    "data_checker(df[\"How often did you participate in an intramural sport?\"], check_unique=True)"
   ]
  },
  {
   "cell_type": "code",
   "execution_count": null,
   "metadata": {},
   "outputs": [],
   "source": [
    "data_checker(df[\"What activities did you participate in off-campus?\"], check_unique=True)"
   ]
  },
  {
   "cell_type": "code",
   "execution_count": null,
   "metadata": {},
   "outputs": [],
   "source": [
    "data_checker(df[\"How many times did you fall ill or were injured over the past 5 years?\"], check_unique=True)"
   ]
  },
  {
   "attachments": {},
   "cell_type": "markdown",
   "metadata": {},
   "source": [
    "# Substance Control\n",
    "\n",
    "What drugs are ECE2T2s on??????!!!!!!!!!"
   ]
  },
  {
   "cell_type": "code",
   "execution_count": null,
   "metadata": {},
   "outputs": [],
   "source": [
    "df[\"List the recreational controlled substances you have used during university\"].unique()"
   ]
  },
  {
   "cell_type": "code",
   "execution_count": null,
   "metadata": {},
   "outputs": [],
   "source": [
    "df[\"List the recreational controlled substances you have used during university\"].fillna(\"Did not specify\", inplace=True)"
   ]
  },
  {
   "cell_type": "code",
   "execution_count": null,
   "metadata": {},
   "outputs": [],
   "source": [
    "all_substances = process_multiple_choice_survey(df[\"List the recreational controlled substances you have used during university\"])"
   ]
  },
  {
   "cell_type": "code",
   "execution_count": null,
   "metadata": {},
   "outputs": [],
   "source": [
    "all_substances[\"substance\"] = all_substances[\"substance\"].str[0:1].str.upper() + all_substances[\"substance\"].str[1:]"
   ]
  },
  {
   "cell_type": "code",
   "execution_count": null,
   "metadata": {},
   "outputs": [],
   "source": [
    "all_substances[\"substance\"].replace({\"Weed\": \"Cannabis\", \"Marijuana\" : \"Cannabis\"}, inplace=True)"
   ]
  },
  {
   "cell_type": "code",
   "execution_count": null,
   "metadata": {},
   "outputs": [],
   "source": [
    "fig = px.pie(all_substances, names=\"substance\", color=\"substance\")\n",
    "fig.update_traces(textinfo=\"label+percent\",\n",
    "hovertemplate=less_cringe_hovertext_template[\"pie\"][\"hovertemplate\"])\n"
   ]
  },
  {
   "attachments": {},
   "cell_type": "markdown",
   "metadata": {},
   "source": [
    "## Top 5 Questions You Did Not Want to Answer"
   ]
  },
  {
   "cell_type": "code",
   "execution_count": null,
   "metadata": {},
   "outputs": [],
   "source": [
    "num_nulls = df.isna().sum()\n",
    "\n",
    "# df_top_5_values_no_answers = num_nulls.sort_values(ascending=False)\n",
    "df_top_5_values_with_no_answers = pd.DataFrame(num_nulls, columns=[\"Number of Non-Responses\"]).reset_index()\n",
    "df_top_5_values_with_no_answers.rename({\"index\" : \"Question\"}, axis=1, inplace=True)\n",
    "df_top_5_values_with_no_answers[\"Percentage of Non-Responses\"] = \\\n",
    "    (df_top_5_values_with_no_answers[\"Number of Non-Responses\"] / len(df) * 100).round(2).astype(str) + \"%\"\n",
    "\n",
    "df_top_5_values_with_no_answers.sort_values(\"Number of Non-Responses\", ascending=False, inplace=True)\n",
    "df_top_5_values_with_no_answers = df_top_5_values_with_no_answers.head(5)"
   ]
  },
  {
   "cell_type": "code",
   "execution_count": null,
   "metadata": {},
   "outputs": [],
   "source": [
    "# Write out num nulls to a file\n",
    "obj = zip(num_nulls.index.tolist(), num_nulls.tolist())\n",
    "nulls_list = list(obj)\n",
    "\n",
    "with open(\"nulls.txt\", mode=\"w\", encoding=\"utf-8\") as f:\n",
    "    f.write(\"\\n\".join([f\"{tup[0]}: {tup[1]}\" for tup in nulls_list]))"
   ]
  },
  {
   "cell_type": "code",
   "execution_count": null,
   "metadata": {},
   "outputs": [],
   "source": [
    "fig = go.Figure(go.Table(\n",
    "    header=dict(values=[\"Question\", \"No Response\", \"Percentage of Non-Responses\"], align=\"left\"),\n",
    "    cells=dict(values=[df_top_5_values_with_no_answers.Question,\n",
    "                       df_top_5_values_with_no_answers[\"Number of Non-Responses\"],\n",
    "                       df_top_5_values_with_no_answers[\"Percentage of Non-Responses\"]],\n",
    "                       align=\"left\", height=25)\n",
    "    )\n",
    ")\n",
    "fig.update_layout(height=350, margin_t=20, margin=dict(l=0, r=0))\n",
    "fig.show()"
   ]
  },
  {
   "attachments": {},
   "cell_type": "markdown",
   "metadata": {
    "tags": [
     "hide_code"
    ]
   },
   "source": [
    "# Test/Archive"
   ]
  },
  {
   "cell_type": "code",
   "execution_count": null,
   "metadata": {},
   "outputs": [],
   "source": [
    "# Folium Map\n",
    "# school_group = folium.FeatureGroup(name=\"schools\")\n",
    "# for i in range(df_high_school_merged.shape[0]):\n",
    "#     current_data = df_high_school_merged.iloc[i]\n",
    "#     current_name = current_data.name\n",
    "#     number_per_name = current_data[df_high_school_merged.columns[1]]\n",
    "#     html = f'''\n",
    "#     <div style=\"display: flex; justify-content: left; flex-direction: column;\">\n",
    "#         <div style=\"padding:0 10px 10px 0;color:grey\"><b>{current_name}</b></div>\n",
    "#         <div style=\"padding:0 10px 10px 0;font-size:40;font-weight:100;text-align:center\">{number_per_name}</div>\n",
    "#         <div style=\"text-align:center;padding:0 10px 0 0;\">{\"students studied high school here!\"}</div>\n",
    "#     </div>\n",
    "#     '''\n",
    "#     coordinates = current_data[\"Coordinates\"]\n",
    "#     coordinates = (coordinates[0] + np.random.rand() + 0.5,\n",
    "#                    coordinates[1] + np.random.rand() + 0.5)\n",
    "    \n",
    "#     iframe = folium.IFrame(html=html, width=170, height=170)\n",
    "#     icon = folium.Icon(icon=\"school\", color='lightblue', prefix='fa')\n",
    "#     popup = folium.Popup(iframe)\n",
    "#     school_group.add_child(folium.Marker(location=coordinates, popup=popup, icon=icon))\n",
    "#     # print()\n",
    "\n",
    "# _ = school_group.add_to(m)"
   ]
  },
  {
   "cell_type": "code",
   "execution_count": null,
   "metadata": {},
   "outputs": [],
   "source": [
    "# from similarity.normalized_levenshtein import NormalizedLevenshtein\n",
    "\n",
    "# levenshtein = NormalizedLevenshtein()"
   ]
  },
  {
   "cell_type": "code",
   "execution_count": null,
   "metadata": {},
   "outputs": [],
   "source": [
    "# from similarity.cosine import Cosine\n",
    "\n",
    "# cosine = Cosine(1)"
   ]
  },
  {
   "cell_type": "code",
   "execution_count": null,
   "metadata": {},
   "outputs": [],
   "source": [
    "# cosine.get_profile(\"ab\")"
   ]
  },
  {
   "cell_type": "code",
   "execution_count": null,
   "metadata": {},
   "outputs": [],
   "source": [
    "# cosine.similarity_profiles(cosine.get_profile(\"a\"), cosine.get_profile(\"ab\"))"
   ]
  },
  {
   "cell_type": "code",
   "execution_count": null,
   "metadata": {
    "tags": []
   },
   "outputs": [],
   "source": [
    "# a = pd.DataFrame([[True, False, False, False], [False, True, True, False], [True, True, False, False]], columns=[\"\"])\n",
    "# a.head()"
   ]
  },
  {
   "cell_type": "code",
   "execution_count": null,
   "metadata": {},
   "outputs": [],
   "source": [
    "# Correlation Matrix could be fun to unravel some insight\n",
    "# df.corr()"
   ]
  },
  {
   "cell_type": "code",
   "execution_count": null,
   "metadata": {
    "tags": []
   },
   "outputs": [],
   "source": [
    "# DOES NOT WORK! Has to communicate between Python and JavaScript as the interactive plots are being generated:\n",
    "#\n",
    "# def generate_profile(x):\n",
    "#     fig = px.histogram(df, x=x, color=x)\n",
    "#     _ = fig.update_layout(xaxis_title=\"\")\n",
    "#     _ = fig.update_traces(hovertemplate=\"%{x}=%{y}\")\n",
    "#     return fig\n",
    "\n",
    "# interact(generate_profile, x=[\"What is your gender?\", \"Are you a domestic or international student?\"])\n",
    "\n"
   ]
  },
  {
   "cell_type": "code",
   "execution_count": null,
   "metadata": {
    "tags": []
   },
   "outputs": [],
   "source": [
    "# from dash import Dash, dcc, html, Input, Output\n",
    "# app = JupyterDash(__name__)\n",
    "# app.layout = html.Div([\n",
    "#     dcc.Dropdown(\n",
    "#                 [\"What is your gender?\", \"Are you a domestic or international student?\"],\n",
    "#                 \"What is your gender?\",\n",
    "#                 id='yaxis-column'\n",
    "#     ),\n",
    "#     dcc.Graph(id=\"output_graph\")\n",
    "# ])\n",
    "\n",
    "# @app.callback(\n",
    "#     Output(\"output_graph\", 'figure'),\n",
    "#     Input(\"yaxis-column\", 'value')\n",
    "# )\n",
    "# def get_graph(yaxis_column_name):\n",
    "#     fig = px.histogram(df, x=yaxis_column_name, color=yaxis_column_name)\n",
    "#     _ = fig.update_traces(hovertemplate=\"%{x}=%{y}\")\n",
    "#     return fig\n",
    "\n",
    "# app.run_server(mode=\"inline\")"
   ]
  },
  {
   "cell_type": "code",
   "execution_count": null,
   "metadata": {},
   "outputs": [],
   "source": [
    "# import plotly.graph_objects as go\n",
    "\n",
    "# df_new = pd.DataFrame(\n",
    "#     {\n",
    "#         \"Date\": [\"2020-01-27\", \"2020-02-27\", \"2020-03-27\"],\n",
    "#         \"A_item\": [2, 8, 0],\n",
    "#         \"B_item\": [1, 7, 10],\n",
    "#         \"C_item\": [9, 2, 9],\n",
    "#         \"Channel_type\": [\"Channel_1\", \"Channel_1\", \"Channel_2\"],\n",
    "#     }\n",
    "# )\n",
    "\n",
    "# fig = go.Figure(go.Table(header={\"values\": df_new.columns}, cells={\"values\": df_new.T.values}))\n",
    "# fig.update_layout(\n",
    "#     updatemenus=[\n",
    "#         {\n",
    "#             \"buttons\": [\n",
    "#                 {\n",
    "#                     \"label\": c,\n",
    "#                     \"method\": \"update\",\n",
    "#                     \"args\": [\n",
    "#                         {\n",
    "#                             \"cells\": {\n",
    "#                                 \"values\": df_new.T.values\n",
    "#                                 if c == \"All\"\n",
    "#                                 else df_new.loc[df_new[\"Channel_type\"].eq(c)].T.values\n",
    "#                             }\n",
    "#                         }\n",
    "#                     ],\n",
    "#                 }\n",
    "#                 for c in [\"All\"] + df_new[\"Channel_type\"].unique().tolist()\n",
    "#             ]\n",
    "#         }\n",
    "#     ]\n",
    "# )"
   ]
  },
  {
   "cell_type": "code",
   "execution_count": null,
   "metadata": {},
   "outputs": [],
   "source": [
    "# df_new = pd.DataFrame(\n",
    "#     {\n",
    "#         \"Date\": [\"2020-01-27\", \"2020-02-27\", \"2020-03-27\", \"2020-01-27\"],\n",
    "#         \"A_item\": [2, 8, 0, 3],\n",
    "#         \"B_item\": [1, 7, 10, 4],\n",
    "#         \"C_item\": [9, 2, 9, 5],\n",
    "#         \"Channel_type\": [\"Channel_1\", \"Channel_1\", \"Channel_2\", \"Channel_2\"],\n",
    "#     }\n",
    "# )\n",
    "\n",
    "# fig = go.Figure(go.Table(header={\"values\": df_new.columns}, cells={\"values\": df_new.T.values}))\n",
    "# fig.update_layout(\n",
    "#     updatemenus=[\n",
    "#         {\n",
    "#             \"y\": 1 - (i / 5),\n",
    "#             \"buttons\": [\n",
    "#                 {\n",
    "#                     \"label\": c,\n",
    "#                     \"method\": \"restyle\",\n",
    "#                     \"args\": [\n",
    "#                         {\n",
    "#                             \"cells\": {\n",
    "#                                 \"values\": df_new.T.values\n",
    "#                                 if c == \"All\"\n",
    "#                                 else df_new.loc[df_new[menu].eq(c)].T.values\n",
    "#                             }\n",
    "#                         }\n",
    "#                     ],\n",
    "#                 }\n",
    "#                 for c in [\"All\"] + df_new[menu].unique().tolist()\n",
    "#             ],\n",
    "#         }\n",
    "#         for i, menu in enumerate([\"Channel_type\", \"Date\"])\n",
    "#     ]\n",
    "# )"
   ]
  },
  {
   "cell_type": "code",
   "execution_count": null,
   "metadata": {},
   "outputs": [],
   "source": [
    "# fig = px.histogram(df, x=\"What is your gender?\", color=\"What is your gender?\")\n",
    "# fig.update_layout(xaxis_title=\"\")\n",
    "# fig.update_traces(hovertemplate=\"%{x}=%{y}\")\n",
    "# fig.show()"
   ]
  },
  {
   "cell_type": "code",
   "execution_count": null,
   "metadata": {},
   "outputs": [],
   "source": [
    "# fig = px.histogram(df, x=\"Are you a domestic or international student?\", color=\"Are you a domestic or international student?\")\n",
    "# fig.update_layout(xaxis_title=\"\")\n",
    "# fig.update_traces(hovertemplate=\"%{x}=%{y}\")\n",
    "# fig.show()"
   ]
  },
  {
   "cell_type": "code",
   "execution_count": null,
   "metadata": {
    "tags": []
   },
   "outputs": [],
   "source": [
    "# fig = px.pie(df, names=\"What is your sexual orientation?\", facet_col=\"What is your gender?\", \n",
    "#                    facet_col_spacing=0.04,\n",
    "#                    color=\"What is your sexual orientation?\")\n",
    "# fig.for_each_annotation(lambda a: a.update(text=a.text.split(\"=\")[-1]))\n",
    "# fig.update_traces(hovertemplate=\"<i>%{label}</i><br>Count: %{value}\")\n",
    "# fig.update_layout(showlegend=False)\n",
    "# fig.show()"
   ]
  },
  {
   "cell_type": "code",
   "execution_count": null,
   "metadata": {},
   "outputs": [],
   "source": [
    "## Globe Map\n",
    "# df_traffic = pd.read_csv('https://raw.githubusercontent.com/plotly/datasets/master/2011_february_us_airport_traffic.csv')\n",
    "# df_traffic['text'] = df_traffic['airport'] + '' + df_traffic['city'] + ', ' + df_traffic['state'] + '' + 'Arrivals: ' + df_traffic['cnt'].astype(str)\n",
    "\n",
    "# fig = go.Figure(data=go.Scattergeo(\n",
    "#         lon = df_traffic['long'],\n",
    "#         lat = df_traffic['lat'],\n",
    "#         text = df_traffic['text'],\n",
    "#         mode = 'markers',\n",
    "#         marker_color = df_traffic['cnt'],\n",
    "#         ))\n",
    "\n",
    "\n",
    "# fig.update_geos(projection_type=\"orthographic\")\n",
    "# fig.update_layout(height=600,\n",
    "#                   title = 'Most trafficked US airports<br>(Hover for airport names)',\n",
    "#                   )\n",
    "# # fig.update_layout(\n",
    "\n",
    "# # )\n",
    "# fig.show()"
   ]
  }
 ],
 "metadata": {
  "kernelspec": {
   "display_name": "Python 3 (ipykernel)",
   "language": "python",
   "name": "python3"
  },
  "language_info": {
   "codemirror_mode": {
    "name": "ipython",
    "version": 3
   },
   "file_extension": ".py",
   "mimetype": "text/x-python",
   "name": "python",
   "nbconvert_exporter": "python",
   "pygments_lexer": "ipython3",
   "version": "3.10.10"
  }
 },
 "nbformat": 4,
 "nbformat_minor": 2
}
