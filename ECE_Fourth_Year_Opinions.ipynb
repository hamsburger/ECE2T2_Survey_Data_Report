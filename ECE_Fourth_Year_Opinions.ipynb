{
 "cells": [
  {
   "cell_type": "code",
   "execution_count": 2,
   "metadata": {},
   "outputs": [],
   "source": [
    "import numpy as np # linear algebra\n",
    "import pandas as pd \n",
    "import plotly.express as px\n",
    "import plotly.graph_objects as go\n",
    "import plotly.io as pio\n",
    "import folium\n",
    "import re\n",
    "\n",
    "# This ensures Plotly output works in multiple places:\n",
    "# notebook: \"Jupyter: Export to HTML\" command in VS Code\n",
    "# See https://plotly.com/python/renderers/#multiple-renderers\n",
    "pio.renderers.default = \"notebook_connected\"\n"
   ]
  },
  {
   "cell_type": "code",
   "execution_count": 3,
   "metadata": {},
   "outputs": [],
   "source": [
    "# Plotly: default template render\n",
    "bnw = go.layout.Template(\n",
    "    layout=go.Layout(\n",
    "        xaxis=go.layout.XAxis(\n",
    "            showline=True,\n",
    "            linecolor=\"black\",\n",
    "            linewidth=2,\n",
    "            mirror=True,\n",
    "            title=\"\"\n",
    "        ),\n",
    "        margin=go.layout.Margin(\n",
    "            l=70,\n",
    "            r=30\n",
    "        ),\n",
    "        yaxis=go.layout.YAxis(\n",
    "            showline=True,\n",
    "            linecolor=\"black\",\n",
    "            linewidth=2,\n",
    "            mirror=True,\n",
    "            title=\"\"\n",
    "        ),\n",
    "        font=go.layout.Font(\n",
    "            # family=\"Old Standard TT\",\n",
    "            size=12\n",
    "        ),\n",
    "        title=go.layout.Title(\n",
    "            font=go.layout.title.Font(\n",
    "                # family=\"Old Standard TT\",\n",
    "                size=18\n",
    "            )\n",
    "        ),\n",
    "        # paper_bgcolor=\"#eaeaf2\"\n",
    "#         font=dict(color=\"white\"),\n",
    "#         plot_bgcolor=\"black\"\n",
    "#         paper_bgcolor=\"black\",\n",
    "#         font=dict(color=\"white\")\n",
    "    ),\n",
    ")\n",
    "\n",
    "pio.templates[\"bnw\"] = bnw\n",
    "\n",
    "px.defaults.template = \"bnw\""
   ]
  },
  {
   "attachments": {},
   "cell_type": "markdown",
   "metadata": {},
   "source": [
    "# All About Us -- ECE Fourth Year\n",
    "\n",
    "Respondents: 52"
   ]
  },
  {
   "cell_type": "code",
   "execution_count": 3,
   "metadata": {},
   "outputs": [],
   "source": [
    "df = pd.read_csv(\"Electrical_and_Computer_Engineering_2023_-_Class_Profile_Survey_Submissions_2023-03-29.csv\")"
   ]
  },
  {
   "cell_type": "code",
   "execution_count": 4,
   "metadata": {},
   "outputs": [],
   "source": [
    "# print(len(df))\n",
    "# df.head(5)"
   ]
  },
  {
   "attachments": {},
   "cell_type": "markdown",
   "metadata": {
    "tags": [
     "hide_code"
    ]
   },
   "source": [
    "## Data Cleaning"
   ]
  },
  {
   "cell_type": "code",
   "execution_count": 5,
   "metadata": {},
   "outputs": [],
   "source": [
    "## Write out columns to a text file for analysis\n",
    "with open(\"all_columns.txt\", mode=\"w\", encoding=\"utf-8\") as f:\n",
    "    f.write(\"\\n\".join(df.columns))"
   ]
  },
  {
   "cell_type": "code",
   "execution_count": 6,
   "metadata": {},
   "outputs": [],
   "source": [
    "# Modify column data\n",
    "df.rename(columns={\n",
    "                    \"Untitled long answer field (1)\" : \"1. Share a story, happy or sad, from your time in ECE\",\n",
    "                    \"Untitled long answer field (2)\" : \"2. What is something you regret over your time at UofT?\",\n",
    "                    \"Untitled long answer field (3)\" : \"3. Give a piece of advice to your fellow ECE 2T2 - 2023 grads\"\n",
    "                  }, inplace=True)\n",
    "\n",
    "# Check column data has indeed been changed\n",
    "index = df.columns.str.contains(\"1. Share a story, happy or sad, from your time in ECE\") | \\\n",
    "df.columns.str.contains(\"2. What is something you regret over your time at UofT?\") | \\\n",
    "df.columns.str.contains(\"3. Give a piece of advice to your fellow ECE 2T2 - 2023 grads\")\n",
    "\n",
    "indices = df.columns[index]\n",
    "assert len(indices) == 3"
   ]
  },
  {
   "cell_type": "code",
   "execution_count": 7,
   "metadata": {},
   "outputs": [],
   "source": [
    "# Drop unnecessary article. Non-useful data.\n",
    "\n",
    "# Proof that all data under this column are null\n",
    "assert df[\"https://money.usnews.com/money/personal-finance/family-finance/articles/where-do-i-fall-in-the-ameri\"\n",
    "          \"can-economic-class-system\"].isna().sum() == len(df)\n",
    "\n",
    "df.drop(\"https://money.usnews.com/money/personal-finance/family-finance/articles/where-do-i-fall-in-the-american-economic-class-system\", \n",
    "        axis=1, inplace=True)"
   ]
  },
  {
   "attachments": {},
   "cell_type": "markdown",
   "metadata": {
    "tags": [
     "hide_code"
    ]
   },
   "source": [
    "## Data Exploration"
   ]
  },
  {
   "attachments": {},
   "cell_type": "markdown",
   "metadata": {},
   "source": [
    "## Top 5 Questions You Did Not Want to Answer"
   ]
  },
  {
   "cell_type": "code",
   "execution_count": 8,
   "metadata": {},
   "outputs": [],
   "source": [
    "num_nulls = df.isna().sum()\n",
    "\n",
    "# df_top_5_values_no_answers = num_nulls.sort_values(ascending=False)\n",
    "df_top_5_values_with_no_answers = pd.DataFrame(num_nulls, columns=[\"Number of Non-Responses\"]).reset_index()\n",
    "df_top_5_values_with_no_answers.rename({\"index\" : \"Question\"}, axis=1, inplace=True)\n",
    "df_top_5_values_with_no_answers[\"Percentage of Non-Responses\"] = \\\n",
    "    (df_top_5_values_with_no_answers[\"Number of Non-Responses\"] / len(df) * 100).round(2).astype(str) + \"%\"\n",
    "\n",
    "df_top_5_values_with_no_answers.sort_values(\"Number of Non-Responses\", ascending=False, inplace=True)\n",
    "df_top_5_values_with_no_answers = df_top_5_values_with_no_answers.head(5)"
   ]
  },
  {
   "cell_type": "code",
   "execution_count": 36,
   "metadata": {},
   "outputs": [],
   "source": [
    "# Write out num nulls to a file\n",
    "obj = zip(num_nulls.index.tolist(), num_nulls.tolist())\n",
    "nulls_list = list(obj)\n",
    "\n",
    "with open(\"nulls.txt\", mode=\"w\", encoding=\"utf-8\") as f:\n",
    "    f.write(\"\\n\".join([f\"{tup[0]}: {tup[1]}\" for tup in nulls_list]))"
   ]
  },
  {
   "cell_type": "code",
   "execution_count": 9,
   "metadata": {},
   "outputs": [
    {
     "data": {
      "text/html": [
       "        <script type=\"text/javascript\">\n",
       "        window.PlotlyConfig = {MathJaxConfig: 'local'};\n",
       "        if (window.MathJax && window.MathJax.Hub && window.MathJax.Hub.Config) {window.MathJax.Hub.Config({SVG: {font: \"STIX-Web\"}});}\n",
       "        if (typeof require !== 'undefined') {\n",
       "        require.undef(\"plotly\");\n",
       "        requirejs.config({\n",
       "            paths: {\n",
       "                'plotly': ['https://cdn.plot.ly/plotly-2.18.2.min']\n",
       "            }\n",
       "        });\n",
       "        require(['plotly'], function(Plotly) {\n",
       "            window._Plotly = Plotly;\n",
       "        });\n",
       "        }\n",
       "        </script>\n",
       "        "
      ]
     },
     "metadata": {},
     "output_type": "display_data"
    },
    {
     "data": {
      "text/html": [
       "<div>                            <div id=\"8d65fa46-600c-45d1-9696-f15647a40faa\" class=\"plotly-graph-div\" style=\"height:320px; width:100%;\"></div>            <script type=\"text/javascript\">                require([\"plotly\"], function(Plotly) {                    window.PLOTLYENV=window.PLOTLYENV || {};                                    if (document.getElementById(\"8d65fa46-600c-45d1-9696-f15647a40faa\")) {                    Plotly.newPlot(                        \"8d65fa46-600c-45d1-9696-f15647a40faa\",                        [{\"cells\":{\"align\":\"left\",\"values\":[[\"If you are doing grad school, where will you study?\",\"If yes, where did you do your exchange?\",\"How many sexual partners have you had\",\"If you responded no, which program would you have chosen instead?\",\"1. Share a story, happy or sad, from your time in ECE\"],[51,50,49,40,38],[\"98.08%\",\"96.15%\",\"94.23%\",\"76.92%\",\"73.08%\"]]},\"header\":{\"align\":\"left\",\"values\":[\"Question\",\"No Response\",\"Percentage of Non-Responses\"]},\"type\":\"table\"}],                        {\"template\":{\"data\":{\"histogram2dcontour\":[{\"type\":\"histogram2dcontour\",\"colorbar\":{\"outlinewidth\":0,\"ticks\":\"\"},\"colorscale\":[[0.0,\"#0d0887\"],[0.1111111111111111,\"#46039f\"],[0.2222222222222222,\"#7201a8\"],[0.3333333333333333,\"#9c179e\"],[0.4444444444444444,\"#bd3786\"],[0.5555555555555556,\"#d8576b\"],[0.6666666666666666,\"#ed7953\"],[0.7777777777777778,\"#fb9f3a\"],[0.8888888888888888,\"#fdca26\"],[1.0,\"#f0f921\"]]}],\"choropleth\":[{\"type\":\"choropleth\",\"colorbar\":{\"outlinewidth\":0,\"ticks\":\"\"}}],\"histogram2d\":[{\"type\":\"histogram2d\",\"colorbar\":{\"outlinewidth\":0,\"ticks\":\"\"},\"colorscale\":[[0.0,\"#0d0887\"],[0.1111111111111111,\"#46039f\"],[0.2222222222222222,\"#7201a8\"],[0.3333333333333333,\"#9c179e\"],[0.4444444444444444,\"#bd3786\"],[0.5555555555555556,\"#d8576b\"],[0.6666666666666666,\"#ed7953\"],[0.7777777777777778,\"#fb9f3a\"],[0.8888888888888888,\"#fdca26\"],[1.0,\"#f0f921\"]]}],\"heatmap\":[{\"type\":\"heatmap\",\"colorbar\":{\"outlinewidth\":0,\"ticks\":\"\"},\"colorscale\":[[0.0,\"#0d0887\"],[0.1111111111111111,\"#46039f\"],[0.2222222222222222,\"#7201a8\"],[0.3333333333333333,\"#9c179e\"],[0.4444444444444444,\"#bd3786\"],[0.5555555555555556,\"#d8576b\"],[0.6666666666666666,\"#ed7953\"],[0.7777777777777778,\"#fb9f3a\"],[0.8888888888888888,\"#fdca26\"],[1.0,\"#f0f921\"]]}],\"heatmapgl\":[{\"type\":\"heatmapgl\",\"colorbar\":{\"outlinewidth\":0,\"ticks\":\"\"},\"colorscale\":[[0.0,\"#0d0887\"],[0.1111111111111111,\"#46039f\"],[0.2222222222222222,\"#7201a8\"],[0.3333333333333333,\"#9c179e\"],[0.4444444444444444,\"#bd3786\"],[0.5555555555555556,\"#d8576b\"],[0.6666666666666666,\"#ed7953\"],[0.7777777777777778,\"#fb9f3a\"],[0.8888888888888888,\"#fdca26\"],[1.0,\"#f0f921\"]]}],\"contourcarpet\":[{\"type\":\"contourcarpet\",\"colorbar\":{\"outlinewidth\":0,\"ticks\":\"\"}}],\"contour\":[{\"type\":\"contour\",\"colorbar\":{\"outlinewidth\":0,\"ticks\":\"\"},\"colorscale\":[[0.0,\"#0d0887\"],[0.1111111111111111,\"#46039f\"],[0.2222222222222222,\"#7201a8\"],[0.3333333333333333,\"#9c179e\"],[0.4444444444444444,\"#bd3786\"],[0.5555555555555556,\"#d8576b\"],[0.6666666666666666,\"#ed7953\"],[0.7777777777777778,\"#fb9f3a\"],[0.8888888888888888,\"#fdca26\"],[1.0,\"#f0f921\"]]}],\"surface\":[{\"type\":\"surface\",\"colorbar\":{\"outlinewidth\":0,\"ticks\":\"\"},\"colorscale\":[[0.0,\"#0d0887\"],[0.1111111111111111,\"#46039f\"],[0.2222222222222222,\"#7201a8\"],[0.3333333333333333,\"#9c179e\"],[0.4444444444444444,\"#bd3786\"],[0.5555555555555556,\"#d8576b\"],[0.6666666666666666,\"#ed7953\"],[0.7777777777777778,\"#fb9f3a\"],[0.8888888888888888,\"#fdca26\"],[1.0,\"#f0f921\"]]}],\"mesh3d\":[{\"type\":\"mesh3d\",\"colorbar\":{\"outlinewidth\":0,\"ticks\":\"\"}}],\"scatter\":[{\"fillpattern\":{\"fillmode\":\"overlay\",\"size\":10,\"solidity\":0.2},\"type\":\"scatter\"}],\"parcoords\":[{\"type\":\"parcoords\",\"line\":{\"colorbar\":{\"outlinewidth\":0,\"ticks\":\"\"}}}],\"scatterpolargl\":[{\"type\":\"scatterpolargl\",\"marker\":{\"colorbar\":{\"outlinewidth\":0,\"ticks\":\"\"}}}],\"bar\":[{\"error_x\":{\"color\":\"#2a3f5f\"},\"error_y\":{\"color\":\"#2a3f5f\"},\"marker\":{\"line\":{\"color\":\"#E5ECF6\",\"width\":0.5},\"pattern\":{\"fillmode\":\"overlay\",\"size\":10,\"solidity\":0.2}},\"type\":\"bar\"}],\"scattergeo\":[{\"type\":\"scattergeo\",\"marker\":{\"colorbar\":{\"outlinewidth\":0,\"ticks\":\"\"}}}],\"scatterpolar\":[{\"type\":\"scatterpolar\",\"marker\":{\"colorbar\":{\"outlinewidth\":0,\"ticks\":\"\"}}}],\"histogram\":[{\"marker\":{\"pattern\":{\"fillmode\":\"overlay\",\"size\":10,\"solidity\":0.2}},\"type\":\"histogram\"}],\"scattergl\":[{\"type\":\"scattergl\",\"marker\":{\"colorbar\":{\"outlinewidth\":0,\"ticks\":\"\"}}}],\"scatter3d\":[{\"type\":\"scatter3d\",\"line\":{\"colorbar\":{\"outlinewidth\":0,\"ticks\":\"\"}},\"marker\":{\"colorbar\":{\"outlinewidth\":0,\"ticks\":\"\"}}}],\"scattermapbox\":[{\"type\":\"scattermapbox\",\"marker\":{\"colorbar\":{\"outlinewidth\":0,\"ticks\":\"\"}}}],\"scatterternary\":[{\"type\":\"scatterternary\",\"marker\":{\"colorbar\":{\"outlinewidth\":0,\"ticks\":\"\"}}}],\"scattercarpet\":[{\"type\":\"scattercarpet\",\"marker\":{\"colorbar\":{\"outlinewidth\":0,\"ticks\":\"\"}}}],\"carpet\":[{\"aaxis\":{\"endlinecolor\":\"#2a3f5f\",\"gridcolor\":\"white\",\"linecolor\":\"white\",\"minorgridcolor\":\"white\",\"startlinecolor\":\"#2a3f5f\"},\"baxis\":{\"endlinecolor\":\"#2a3f5f\",\"gridcolor\":\"white\",\"linecolor\":\"white\",\"minorgridcolor\":\"white\",\"startlinecolor\":\"#2a3f5f\"},\"type\":\"carpet\"}],\"table\":[{\"cells\":{\"fill\":{\"color\":\"#EBF0F8\"},\"line\":{\"color\":\"white\"}},\"header\":{\"fill\":{\"color\":\"#C8D4E3\"},\"line\":{\"color\":\"white\"}},\"type\":\"table\"}],\"barpolar\":[{\"marker\":{\"line\":{\"color\":\"#E5ECF6\",\"width\":0.5},\"pattern\":{\"fillmode\":\"overlay\",\"size\":10,\"solidity\":0.2}},\"type\":\"barpolar\"}],\"pie\":[{\"automargin\":true,\"type\":\"pie\"}]},\"layout\":{\"autotypenumbers\":\"strict\",\"colorway\":[\"#636efa\",\"#EF553B\",\"#00cc96\",\"#ab63fa\",\"#FFA15A\",\"#19d3f3\",\"#FF6692\",\"#B6E880\",\"#FF97FF\",\"#FECB52\"],\"font\":{\"color\":\"#2a3f5f\"},\"hovermode\":\"closest\",\"hoverlabel\":{\"align\":\"left\"},\"paper_bgcolor\":\"white\",\"plot_bgcolor\":\"#E5ECF6\",\"polar\":{\"bgcolor\":\"#E5ECF6\",\"angularaxis\":{\"gridcolor\":\"white\",\"linecolor\":\"white\",\"ticks\":\"\"},\"radialaxis\":{\"gridcolor\":\"white\",\"linecolor\":\"white\",\"ticks\":\"\"}},\"ternary\":{\"bgcolor\":\"#E5ECF6\",\"aaxis\":{\"gridcolor\":\"white\",\"linecolor\":\"white\",\"ticks\":\"\"},\"baxis\":{\"gridcolor\":\"white\",\"linecolor\":\"white\",\"ticks\":\"\"},\"caxis\":{\"gridcolor\":\"white\",\"linecolor\":\"white\",\"ticks\":\"\"}},\"coloraxis\":{\"colorbar\":{\"outlinewidth\":0,\"ticks\":\"\"}},\"colorscale\":{\"sequential\":[[0.0,\"#0d0887\"],[0.1111111111111111,\"#46039f\"],[0.2222222222222222,\"#7201a8\"],[0.3333333333333333,\"#9c179e\"],[0.4444444444444444,\"#bd3786\"],[0.5555555555555556,\"#d8576b\"],[0.6666666666666666,\"#ed7953\"],[0.7777777777777778,\"#fb9f3a\"],[0.8888888888888888,\"#fdca26\"],[1.0,\"#f0f921\"]],\"sequentialminus\":[[0.0,\"#0d0887\"],[0.1111111111111111,\"#46039f\"],[0.2222222222222222,\"#7201a8\"],[0.3333333333333333,\"#9c179e\"],[0.4444444444444444,\"#bd3786\"],[0.5555555555555556,\"#d8576b\"],[0.6666666666666666,\"#ed7953\"],[0.7777777777777778,\"#fb9f3a\"],[0.8888888888888888,\"#fdca26\"],[1.0,\"#f0f921\"]],\"diverging\":[[0,\"#8e0152\"],[0.1,\"#c51b7d\"],[0.2,\"#de77ae\"],[0.3,\"#f1b6da\"],[0.4,\"#fde0ef\"],[0.5,\"#f7f7f7\"],[0.6,\"#e6f5d0\"],[0.7,\"#b8e186\"],[0.8,\"#7fbc41\"],[0.9,\"#4d9221\"],[1,\"#276419\"]]},\"xaxis\":{\"gridcolor\":\"white\",\"linecolor\":\"white\",\"ticks\":\"\",\"title\":{\"standoff\":15},\"zerolinecolor\":\"white\",\"automargin\":true,\"zerolinewidth\":2},\"yaxis\":{\"gridcolor\":\"white\",\"linecolor\":\"white\",\"ticks\":\"\",\"title\":{\"standoff\":15},\"zerolinecolor\":\"white\",\"automargin\":true,\"zerolinewidth\":2},\"scene\":{\"xaxis\":{\"backgroundcolor\":\"#E5ECF6\",\"gridcolor\":\"white\",\"linecolor\":\"white\",\"showbackground\":true,\"ticks\":\"\",\"zerolinecolor\":\"white\",\"gridwidth\":2},\"yaxis\":{\"backgroundcolor\":\"#E5ECF6\",\"gridcolor\":\"white\",\"linecolor\":\"white\",\"showbackground\":true,\"ticks\":\"\",\"zerolinecolor\":\"white\",\"gridwidth\":2},\"zaxis\":{\"backgroundcolor\":\"#E5ECF6\",\"gridcolor\":\"white\",\"linecolor\":\"white\",\"showbackground\":true,\"ticks\":\"\",\"zerolinecolor\":\"white\",\"gridwidth\":2}},\"shapedefaults\":{\"line\":{\"color\":\"#2a3f5f\"}},\"annotationdefaults\":{\"arrowcolor\":\"#2a3f5f\",\"arrowhead\":0,\"arrowwidth\":1},\"geo\":{\"bgcolor\":\"white\",\"landcolor\":\"#E5ECF6\",\"subunitcolor\":\"white\",\"showland\":true,\"showlakes\":true,\"lakecolor\":\"white\"},\"title\":{\"x\":0.05},\"mapbox\":{\"style\":\"light\"}}},\"margin\":{\"t\":20},\"height\":320},                        {\"responsive\": true}                    ).then(function(){\n",
       "                            \n",
       "var gd = document.getElementById('8d65fa46-600c-45d1-9696-f15647a40faa');\n",
       "var x = new MutationObserver(function (mutations, observer) {{\n",
       "        var display = window.getComputedStyle(gd).display;\n",
       "        if (!display || display === 'none') {{\n",
       "            console.log([gd, 'removed!']);\n",
       "            Plotly.purge(gd);\n",
       "            observer.disconnect();\n",
       "        }}\n",
       "}});\n",
       "\n",
       "// Listen for the removal of the full notebook cells\n",
       "var notebookContainer = gd.closest('#notebook-container');\n",
       "if (notebookContainer) {{\n",
       "    x.observe(notebookContainer, {childList: true});\n",
       "}}\n",
       "\n",
       "// Listen for the clearing of the current output cell\n",
       "var outputEl = gd.closest('.output');\n",
       "if (outputEl) {{\n",
       "    x.observe(outputEl, {childList: true});\n",
       "}}\n",
       "\n",
       "                        })                };                });            </script>        </div>"
      ]
     },
     "metadata": {},
     "output_type": "display_data"
    }
   ],
   "source": [
    "fig = go.Figure(\n",
    "    data=[go.Table(\n",
    "        header=dict(values=[\"Question\", \"No Response\", \"Percentage of Non-Responses\"],\n",
    "                    align=\"left\"),\n",
    "        cells=dict(values=[df_top_5_values_with_no_answers.Question,\n",
    "                       df_top_5_values_with_no_answers[\"Number of Non-Responses\"],\n",
    "                       df_top_5_values_with_no_answers[\"Percentage of Non-Responses\"]],\n",
    "                       align='left'))],\n",
    ")\n",
    "fig.update_layout(height=320, margin_t=20)\n",
    "fig.show()"
   ]
  },
  {
   "attachments": {},
   "cell_type": "markdown",
   "metadata": {},
   "source": [
    "## What Program Were You in First Year?"
   ]
  },
  {
   "cell_type": "code",
   "execution_count": 10,
   "metadata": {},
   "outputs": [
    {
     "data": {
      "text/html": [
       "<div>                            <div id=\"b5738919-306f-4fbf-93ea-23c1e788920b\" class=\"plotly-graph-div\" style=\"height:525px; width:100%;\"></div>            <script type=\"text/javascript\">                require([\"plotly\"], function(Plotly) {                    window.PLOTLYENV=window.PLOTLYENV || {};                                    if (document.getElementById(\"b5738919-306f-4fbf-93ea-23c1e788920b\")) {                    Plotly.newPlot(                        \"b5738919-306f-4fbf-93ea-23c1e788920b\",                        [{\"customdata\":[[\"Computer\"],[\"Electrical \"],[\"TrackOne\"],[\"TrackOne\"],[\"TrackOne\"],[\"Computer\"],[\"Computer\"],[\"TrackOne\"],[\"Computer\"],[\"TrackOne\"],[\"Computer\"],[\"TrackOne\"],[\"TrackOne\"],[\"Electrical \"],[\"Computer\"],[\"Electrical \"],[\"Computer\"],[\"Computer\"],[\"Computer\"],[\"TrackOne\"],[\"Computer\"],[\"Computer\"],[\"Computer\"],[\"TrackOne\"],[\"Computer\"],[\"Electrical \"],[\"Electrical \"],[\"Electrical \"],[\"TrackOne\"],[\"TrackOne\"],[\"Electrical \"],[\"Computer\"],[\"TrackOne\"],[\"Electrical \"],[\"Computer\"],[\"Computer\"],[\"Min\"],[\"EngSci\"],[\"TrackOne\"],[\"TrackOne\"],[\"Computer\"],[\"Computer\"],[\"Chem\"],[\"Computer\"],[\"TrackOne\"],[\"Electrical \"],[\"TrackOne\"],[\"Computer\"],[\"TrackOne\"],[\"TrackOne\"],[\"Computer\"],[\"Electrical \"]],\"domain\":{\"x\":[0.0,1.0],\"y\":[0.0,1.0]},\"hovertemplate\":\"<b>%{label}</b><br><i>Count</i>: %{value}\",\"labels\":[\"Computer\",\"Electrical \",\"TrackOne\",\"TrackOne\",\"TrackOne\",\"Computer\",\"Computer\",\"TrackOne\",\"Computer\",\"TrackOne\",\"Computer\",\"TrackOne\",\"TrackOne\",\"Electrical \",\"Computer\",\"Electrical \",\"Computer\",\"Computer\",\"Computer\",\"TrackOne\",\"Computer\",\"Computer\",\"Computer\",\"TrackOne\",\"Computer\",\"Electrical \",\"Electrical \",\"Electrical \",\"TrackOne\",\"TrackOne\",\"Electrical \",\"Computer\",\"TrackOne\",\"Electrical \",\"Computer\",\"Computer\",\"Min\",\"EngSci\",\"TrackOne\",\"TrackOne\",\"Computer\",\"Computer\",\"Chem\",\"Computer\",\"TrackOne\",\"Electrical \",\"TrackOne\",\"Computer\",\"TrackOne\",\"TrackOne\",\"Computer\",\"Electrical \"],\"legendgroup\":\"\",\"marker\":{\"colors\":[\"#1F77B4\",\"#FF7F0E\",\"#2CA02C\",\"#2CA02C\",\"#2CA02C\",\"#1F77B4\",\"#1F77B4\",\"#2CA02C\",\"#1F77B4\",\"#2CA02C\",\"#1F77B4\",\"#2CA02C\",\"#2CA02C\",\"#FF7F0E\",\"#1F77B4\",\"#FF7F0E\",\"#1F77B4\",\"#1F77B4\",\"#1F77B4\",\"#2CA02C\",\"#1F77B4\",\"#1F77B4\",\"#1F77B4\",\"#2CA02C\",\"#1F77B4\",\"#FF7F0E\",\"#FF7F0E\",\"#FF7F0E\",\"#2CA02C\",\"#2CA02C\",\"#FF7F0E\",\"#1F77B4\",\"#2CA02C\",\"#FF7F0E\",\"#1F77B4\",\"#1F77B4\",\"#D62728\",\"#9467BD\",\"#2CA02C\",\"#2CA02C\",\"#1F77B4\",\"#1F77B4\",\"#8C564B\",\"#1F77B4\",\"#2CA02C\",\"#FF7F0E\",\"#2CA02C\",\"#1F77B4\",\"#2CA02C\",\"#2CA02C\",\"#1F77B4\",\"#FF7F0E\"]},\"name\":\"\",\"showlegend\":true,\"type\":\"pie\",\"textinfo\":\"label+percent\"}],                        {\"template\":{\"layout\":{\"font\":{\"size\":12},\"margin\":{\"l\":70,\"r\":30},\"title\":{\"font\":{\"size\":18}},\"xaxis\":{\"linecolor\":\"black\",\"linewidth\":2,\"mirror\":true,\"showline\":true,\"title\":{\"text\":\"\"}},\"yaxis\":{\"linecolor\":\"black\",\"linewidth\":2,\"mirror\":true,\"showline\":true,\"title\":{\"text\":\"\"}}}},\"legend\":{\"tracegroupgap\":0},\"margin\":{\"t\":60}},                        {\"responsive\": true}                    ).then(function(){\n",
       "                            \n",
       "var gd = document.getElementById('b5738919-306f-4fbf-93ea-23c1e788920b');\n",
       "var x = new MutationObserver(function (mutations, observer) {{\n",
       "        var display = window.getComputedStyle(gd).display;\n",
       "        if (!display || display === 'none') {{\n",
       "            console.log([gd, 'removed!']);\n",
       "            Plotly.purge(gd);\n",
       "            observer.disconnect();\n",
       "        }}\n",
       "}});\n",
       "\n",
       "// Listen for the removal of the full notebook cells\n",
       "var notebookContainer = gd.closest('#notebook-container');\n",
       "if (notebookContainer) {{\n",
       "    x.observe(notebookContainer, {childList: true});\n",
       "}}\n",
       "\n",
       "// Listen for the clearing of the current output cell\n",
       "var outputEl = gd.closest('.output');\n",
       "if (outputEl) {{\n",
       "    x.observe(outputEl, {childList: true});\n",
       "}}\n",
       "\n",
       "                        })                };                });            </script>        </div>"
      ]
     },
     "metadata": {},
     "output_type": "display_data"
    }
   ],
   "source": [
    "# TO-DO! Make trace subplots with this\n",
    "fig = px.pie(df, names=\"What program were you in first year?\", color=\"What program were you in first year?\")\n",
    "fig.update_traces(textinfo=\"label+percent\",\n",
    "                  hovertemplate=\"<b>%{label}</b><br><i>Count</i>: %{value}\")\n",
    "fig.show()"
   ]
  },
  {
   "attachments": {},
   "cell_type": "markdown",
   "metadata": {},
   "source": [
    "## What Program Are You in Now?"
   ]
  },
  {
   "cell_type": "code",
   "execution_count": 11,
   "metadata": {
    "tags": []
   },
   "outputs": [
    {
     "data": {
      "text/html": [
       "<div>                            <div id=\"89e3bd85-6f92-47c9-aee6-116d28c5e9db\" class=\"plotly-graph-div\" style=\"height:525px; width:100%;\"></div>            <script type=\"text/javascript\">                require([\"plotly\"], function(Plotly) {                    window.PLOTLYENV=window.PLOTLYENV || {};                                    if (document.getElementById(\"89e3bd85-6f92-47c9-aee6-116d28c5e9db\")) {                    Plotly.newPlot(                        \"89e3bd85-6f92-47c9-aee6-116d28c5e9db\",                        [{\"customdata\":[[\"Computer\"],[\"Electrical\"],[\"Computer\"],[\"Electrical\"],[\"Computer\"],[\"Computer\"],[\"Computer\"],[\"Electrical\"],[\"Computer\"],[\"Computer\"],[\"Computer\"],[\"Computer\"],[\"Computer\"],[\"Computer\"],[\"Computer\"],[\"Electrical\"],[\"Computer\"],[\"Computer\"],[\"Computer\"],[\"Computer\"],[\"Computer\"],[\"Computer\"],[\"Computer\"],[\"Computer\"],[\"Computer\"],[\"Computer\"],[\"Computer\"],[\"Computer\"],[\"Computer\"],[\"Computer\"],[\"Computer\"],[\"Computer\"],[\"Computer\"],[\"Electrical\"],[\"Computer\"],[\"Computer\"],[\"Computer\"],[\"Computer\"],[\"Computer\"],[\"Electrical\"],[\"Computer\"],[\"Computer\"],[\"Computer\"],[\"Computer\"],[\"Computer\"],[\"Electrical\"],[\"Computer\"],[\"Computer\"],[\"Computer\"],[\"Computer\"],[\"Computer\"],[\"Computer\"]],\"domain\":{\"x\":[0.0,1.0],\"y\":[0.0,1.0]},\"hovertemplate\":\"<b>%{label}</b><br><i>Count</i>: %{value}\",\"labels\":[\"Computer\",\"Electrical\",\"Computer\",\"Electrical\",\"Computer\",\"Computer\",\"Computer\",\"Electrical\",\"Computer\",\"Computer\",\"Computer\",\"Computer\",\"Computer\",\"Computer\",\"Computer\",\"Electrical\",\"Computer\",\"Computer\",\"Computer\",\"Computer\",\"Computer\",\"Computer\",\"Computer\",\"Computer\",\"Computer\",\"Computer\",\"Computer\",\"Computer\",\"Computer\",\"Computer\",\"Computer\",\"Computer\",\"Computer\",\"Electrical\",\"Computer\",\"Computer\",\"Computer\",\"Computer\",\"Computer\",\"Electrical\",\"Computer\",\"Computer\",\"Computer\",\"Computer\",\"Computer\",\"Electrical\",\"Computer\",\"Computer\",\"Computer\",\"Computer\",\"Computer\",\"Computer\"],\"legendgroup\":\"\",\"marker\":{\"colors\":[\"#1F77B4\",\"#FF7F0E\",\"#1F77B4\",\"#FF7F0E\",\"#1F77B4\",\"#1F77B4\",\"#1F77B4\",\"#FF7F0E\",\"#1F77B4\",\"#1F77B4\",\"#1F77B4\",\"#1F77B4\",\"#1F77B4\",\"#1F77B4\",\"#1F77B4\",\"#FF7F0E\",\"#1F77B4\",\"#1F77B4\",\"#1F77B4\",\"#1F77B4\",\"#1F77B4\",\"#1F77B4\",\"#1F77B4\",\"#1F77B4\",\"#1F77B4\",\"#1F77B4\",\"#1F77B4\",\"#1F77B4\",\"#1F77B4\",\"#1F77B4\",\"#1F77B4\",\"#1F77B4\",\"#1F77B4\",\"#FF7F0E\",\"#1F77B4\",\"#1F77B4\",\"#1F77B4\",\"#1F77B4\",\"#1F77B4\",\"#FF7F0E\",\"#1F77B4\",\"#1F77B4\",\"#1F77B4\",\"#1F77B4\",\"#1F77B4\",\"#FF7F0E\",\"#1F77B4\",\"#1F77B4\",\"#1F77B4\",\"#1F77B4\",\"#1F77B4\",\"#1F77B4\"]},\"name\":\"\",\"showlegend\":true,\"type\":\"pie\",\"textinfo\":\"label+percent\"}],                        {\"template\":{\"layout\":{\"font\":{\"size\":12},\"margin\":{\"l\":70,\"r\":30},\"title\":{\"font\":{\"size\":18}},\"xaxis\":{\"linecolor\":\"black\",\"linewidth\":2,\"mirror\":true,\"showline\":true,\"title\":{\"text\":\"\"}},\"yaxis\":{\"linecolor\":\"black\",\"linewidth\":2,\"mirror\":true,\"showline\":true,\"title\":{\"text\":\"\"}}}},\"legend\":{\"tracegroupgap\":0},\"margin\":{\"t\":60}},                        {\"responsive\": true}                    ).then(function(){\n",
       "                            \n",
       "var gd = document.getElementById('89e3bd85-6f92-47c9-aee6-116d28c5e9db');\n",
       "var x = new MutationObserver(function (mutations, observer) {{\n",
       "        var display = window.getComputedStyle(gd).display;\n",
       "        if (!display || display === 'none') {{\n",
       "            console.log([gd, 'removed!']);\n",
       "            Plotly.purge(gd);\n",
       "            observer.disconnect();\n",
       "        }}\n",
       "}});\n",
       "\n",
       "// Listen for the removal of the full notebook cells\n",
       "var notebookContainer = gd.closest('#notebook-container');\n",
       "if (notebookContainer) {{\n",
       "    x.observe(notebookContainer, {childList: true});\n",
       "}}\n",
       "\n",
       "// Listen for the clearing of the current output cell\n",
       "var outputEl = gd.closest('.output');\n",
       "if (outputEl) {{\n",
       "    x.observe(outputEl, {childList: true});\n",
       "}}\n",
       "\n",
       "                        })                };                });            </script>        </div>"
      ]
     },
     "metadata": {},
     "output_type": "display_data"
    }
   ],
   "source": [
    "fig = px.pie(df, names=\"What program are you in now?\", color=\"What program are you in now?\")\n",
    "fig.update_traces(textinfo=\"label+percent\",\n",
    "                  hovertemplate=\"<b>%{label}</b><br><i>Count</i>: %{value}\")\n",
    "fig.show()"
   ]
  },
  {
   "attachments": {},
   "cell_type": "markdown",
   "metadata": {},
   "source": [
    "## What 2 Areas Did You Specialize In?"
   ]
  },
  {
   "cell_type": "code",
   "execution_count": 12,
   "metadata": {},
   "outputs": [],
   "source": [
    "# df[\"What 2 areas did you specialize in?\"].unique()"
   ]
  },
  {
   "cell_type": "code",
   "execution_count": 13,
   "metadata": {},
   "outputs": [],
   "source": [
    "# Sort specialized areas to remove duplicates. (Ex. Area 6 + Area 5 is equivalent to Area 5 + Area 6)\n",
    "df[\"What 2 areas did you specialize in?\"] = df[\"What 2 areas did you specialize in?\"].str.split(', ').map(lambda x: \", \".join(sorted(x)))"
   ]
  },
  {
   "cell_type": "code",
   "execution_count": 14,
   "metadata": {},
   "outputs": [],
   "source": [
    "df_specialization = df.loc[:, [\"What 2 areas did you specialize in?\"]]\n",
    "df_specialization.sort_values(\"What 2 areas did you specialize in?\", ascending=False, inplace=True)\n",
    "\n",
    "# hover text\n",
    "areas_long_form = df_specialization[\"What 2 areas did you specialize in?\"].str.split(\", \").map(lambda x: \" + \".join(x)).tolist()\n",
    "\n",
    "# Simplified areas\n",
    "areas_simplified = df_specialization[\"What 2 areas did you specialize in?\"].map(\n",
    "    lambda word: \" + \".join(re.findall('(Area.*?):', word))\n",
    ")\n",
    "\n",
    "df_specialization[\"What 2 areas did you specialize in?\"] = areas_simplified\n",
    "\n",
    "\n"
   ]
  },
  {
   "cell_type": "code",
   "execution_count": 15,
   "metadata": {},
   "outputs": [
    {
     "data": {
      "text/html": [
       "<div>                            <div id=\"8381bbba-3335-4152-b749-82239187da32\" class=\"plotly-graph-div\" style=\"height:525px; width:100%;\"></div>            <script type=\"text/javascript\">                require([\"plotly\"], function(Plotly) {                    window.PLOTLYENV=window.PLOTLYENV || {};                                    if (document.getElementById(\"8381bbba-3335-4152-b749-82239187da32\")) {                    Plotly.newPlot(                        \"8381bbba-3335-4152-b749-82239187da32\",                        [{\"customdata\":[[\"Area 5 + Area 6\"],[\"Area 5 + Area 6\"],[\"Area 5 + Area 6\"],[\"Area 5 + Area 6\"],[\"Area 5 + Area 6\"],[\"Area 5 + Area 6\"],[\"Area 5 + Area 6\"],[\"Area 5 + Area 6\"],[\"Area 5 + Area 6\"],[\"Area 5 + Area 6\"],[\"Area 5 + Area 6\"],[\"Area 5 + Area 6\"],[\"Area 5 + Area 6\"],[\"Area 5 + Area 6\"],[\"Area 5 + Area 6\"],[\"Area 5 + Area 6\"],[\"Area 5 + Area 6\"],[\"Area 5 + Area 6\"],[\"Area 5 + Area 6\"],[\"Area 5 + Area 6\"],[\"Area 5 + Area 6\"],[\"Area 5 + Area 6\"],[\"Area 5 + Area 6\"],[\"Area 5 + Area 6\"],[\"Area 5 + Area 6\"],[\"Area 5 + Area 6\"],[\"Area 5 + Area 6\"],[\"Area 5 + Area 6\"],[\"Area 5 + Area 6\"],[\"Area 5 + Area 6\"],[\"Area 5 + Area 6\"],[\"Area 5 + Area 6\"],[\"Area 5 + Area 6\"],[\"Area 5 + Area 6\"],[\"Area 5 + Area 6\"],[\"Area 5 + Area 6\"],[\"Area 5 + Area 6\"],[\"Area 4 + Area 6\"],[\"Area 4 + Area 6\"],[\"Area 4 + Area 6\"],[\"Area 4 + Area 6\"],[\"Area 4 + Area 6\"],[\"Area 4 + Area 6\"],[\"Area 4 + Area 6\"],[\"Area 4 + Area 6\"],[\"Area 4 + Area 6\"],[\"Area 4 + Area 6\"],[\"Area 4 + Area 5\"],[\"Area 3 + Area 5\"],[\"Area 3 + Area 4\"],[\"Area 2 + Area 3\"],[\"Area 1 + Area 4\"]],\"domain\":{\"x\":[0.0,1.0],\"y\":[0.0,1.0]},\"hovertemplate\":\"%{text}<br><i>Count:</i> %{value}<br> %{percent}\",\"labels\":[\"Area 5 + Area 6\",\"Area 5 + Area 6\",\"Area 5 + Area 6\",\"Area 5 + Area 6\",\"Area 5 + Area 6\",\"Area 5 + Area 6\",\"Area 5 + Area 6\",\"Area 5 + Area 6\",\"Area 5 + Area 6\",\"Area 5 + Area 6\",\"Area 5 + Area 6\",\"Area 5 + Area 6\",\"Area 5 + Area 6\",\"Area 5 + Area 6\",\"Area 5 + Area 6\",\"Area 5 + Area 6\",\"Area 5 + Area 6\",\"Area 5 + Area 6\",\"Area 5 + Area 6\",\"Area 5 + Area 6\",\"Area 5 + Area 6\",\"Area 5 + Area 6\",\"Area 5 + Area 6\",\"Area 5 + Area 6\",\"Area 5 + Area 6\",\"Area 5 + Area 6\",\"Area 5 + Area 6\",\"Area 5 + Area 6\",\"Area 5 + Area 6\",\"Area 5 + Area 6\",\"Area 5 + Area 6\",\"Area 5 + Area 6\",\"Area 5 + Area 6\",\"Area 5 + Area 6\",\"Area 5 + Area 6\",\"Area 5 + Area 6\",\"Area 5 + Area 6\",\"Area 4 + Area 6\",\"Area 4 + Area 6\",\"Area 4 + Area 6\",\"Area 4 + Area 6\",\"Area 4 + Area 6\",\"Area 4 + Area 6\",\"Area 4 + Area 6\",\"Area 4 + Area 6\",\"Area 4 + Area 6\",\"Area 4 + Area 6\",\"Area 4 + Area 5\",\"Area 3 + Area 5\",\"Area 3 + Area 4\",\"Area 2 + Area 3\",\"Area 1 + Area 4\"],\"legendgroup\":\"\",\"marker\":{\"colors\":[\"#1F77B4\",\"#1F77B4\",\"#1F77B4\",\"#1F77B4\",\"#1F77B4\",\"#1F77B4\",\"#1F77B4\",\"#1F77B4\",\"#1F77B4\",\"#1F77B4\",\"#1F77B4\",\"#1F77B4\",\"#1F77B4\",\"#1F77B4\",\"#1F77B4\",\"#1F77B4\",\"#1F77B4\",\"#1F77B4\",\"#1F77B4\",\"#1F77B4\",\"#1F77B4\",\"#1F77B4\",\"#1F77B4\",\"#1F77B4\",\"#1F77B4\",\"#1F77B4\",\"#1F77B4\",\"#1F77B4\",\"#1F77B4\",\"#1F77B4\",\"#1F77B4\",\"#1F77B4\",\"#1F77B4\",\"#1F77B4\",\"#1F77B4\",\"#1F77B4\",\"#1F77B4\",\"#FF7F0E\",\"#FF7F0E\",\"#FF7F0E\",\"#FF7F0E\",\"#FF7F0E\",\"#FF7F0E\",\"#FF7F0E\",\"#FF7F0E\",\"#FF7F0E\",\"#FF7F0E\",\"#2CA02C\",\"#D62728\",\"#9467BD\",\"#8C564B\",\"#E377C2\"]},\"name\":\"\",\"showlegend\":true,\"type\":\"pie\",\"hovertext\":[\"Area 5: Computer Hardware & Computer Networks + Area 6: Computer Software\",\"Area 5: Computer Hardware & Computer Networks + Area 6: Computer Software\",\"Area 5: Computer Hardware & Computer Networks + Area 6: Computer Software\",\"Area 5: Computer Hardware & Computer Networks + Area 6: Computer Software\",\"Area 5: Computer Hardware & Computer Networks + Area 6: Computer Software\",\"Area 5: Computer Hardware & Computer Networks + Area 6: Computer Software\",\"Area 5: Computer Hardware & Computer Networks + Area 6: Computer Software\",\"Area 5: Computer Hardware & Computer Networks + Area 6: Computer Software\",\"Area 5: Computer Hardware & Computer Networks + Area 6: Computer Software\",\"Area 5: Computer Hardware & Computer Networks + Area 6: Computer Software\",\"Area 5: Computer Hardware & Computer Networks + Area 6: Computer Software\",\"Area 5: Computer Hardware & Computer Networks + Area 6: Computer Software\",\"Area 5: Computer Hardware & Computer Networks + Area 6: Computer Software\",\"Area 5: Computer Hardware & Computer Networks + Area 6: Computer Software\",\"Area 5: Computer Hardware & Computer Networks + Area 6: Computer Software\",\"Area 5: Computer Hardware & Computer Networks + Area 6: Computer Software\",\"Area 5: Computer Hardware & Computer Networks + Area 6: Computer Software\",\"Area 5: Computer Hardware & Computer Networks + Area 6: Computer Software\",\"Area 5: Computer Hardware & Computer Networks + Area 6: Computer Software\",\"Area 5: Computer Hardware & Computer Networks + Area 6: Computer Software\",\"Area 5: Computer Hardware & Computer Networks + Area 6: Computer Software\",\"Area 5: Computer Hardware & Computer Networks + Area 6: Computer Software\",\"Area 5: Computer Hardware & Computer Networks + Area 6: Computer Software\",\"Area 5: Computer Hardware & Computer Networks + Area 6: Computer Software\",\"Area 5: Computer Hardware & Computer Networks + Area 6: Computer Software\",\"Area 5: Computer Hardware & Computer Networks + Area 6: Computer Software\",\"Area 5: Computer Hardware & Computer Networks + Area 6: Computer Software\",\"Area 5: Computer Hardware & Computer Networks + Area 6: Computer Software\",\"Area 5: Computer Hardware & Computer Networks + Area 6: Computer Software\",\"Area 5: Computer Hardware & Computer Networks + Area 6: Computer Software\",\"Area 5: Computer Hardware & Computer Networks + Area 6: Computer Software\",\"Area 5: Computer Hardware & Computer Networks + Area 6: Computer Software\",\"Area 5: Computer Hardware & Computer Networks + Area 6: Computer Software\",\"Area 5: Computer Hardware & Computer Networks + Area 6: Computer Software\",\"Area 5: Computer Hardware & Computer Networks + Area 6: Computer Software\",\"Area 5: Computer Hardware & Computer Networks + Area 6: Computer Software\",\"Area 5: Computer Hardware & Computer Networks + Area 6: Computer Software\",\"Area 4: Systems Control + Area 6: Computer Software + Communications & Signal Processing\",\"Area 4: Systems Control + Area 6: Computer Software + Communications & Signal Processing\",\"Area 4: Systems Control + Area 6: Computer Software + Communications & Signal Processing\",\"Area 4: Systems Control + Area 6: Computer Software + Communications & Signal Processing\",\"Area 4: Systems Control + Area 6: Computer Software + Communications & Signal Processing\",\"Area 4: Systems Control + Area 6: Computer Software + Communications & Signal Processing\",\"Area 4: Systems Control + Area 6: Computer Software + Communications & Signal Processing\",\"Area 4: Systems Control + Area 6: Computer Software + Communications & Signal Processing\",\"Area 4: Systems Control + Area 6: Computer Software + Communications & Signal Processing\",\"Area 4: Systems Control + Area 6: Computer Software + Communications & Signal Processing\",\"Area 4: Systems Control + Area 5: Computer Hardware & Computer Networks + Communications & Signal Processing\",\"Area 3: Digital & Analog Electronics + Area 5: Computer Hardware & Computer Networks\",\"Area 3: Digital & Analog Electronics + Area 4: Systems Control + Communications & Signal Processing\",\"Area 2: Electromagnetics & Energy Systems + Area 3: Digital & Analog Electronics\",\"Area 1: Photonics & Semiconductor Physics + Area 4: Systems Control + Communications & Signal Processing\"],\"text\":[\"Area 5 + Area 6\",\"Area 5 + Area 6\",\"Area 5 + Area 6\",\"Area 5 + Area 6\",\"Area 5 + Area 6\",\"Area 5 + Area 6\",\"Area 5 + Area 6\",\"Area 5 + Area 6\",\"Area 5 + Area 6\",\"Area 5 + Area 6\",\"Area 5 + Area 6\",\"Area 5 + Area 6\",\"Area 5 + Area 6\",\"Area 5 + Area 6\",\"Area 5 + Area 6\",\"Area 5 + Area 6\",\"Area 5 + Area 6\",\"Area 5 + Area 6\",\"Area 5 + Area 6\",\"Area 5 + Area 6\",\"Area 5 + Area 6\",\"Area 5 + Area 6\",\"Area 5 + Area 6\",\"Area 5 + Area 6\",\"Area 5 + Area 6\",\"Area 5 + Area 6\",\"Area 5 + Area 6\",\"Area 5 + Area 6\",\"Area 5 + Area 6\",\"Area 5 + Area 6\",\"Area 5 + Area 6\",\"Area 5 + Area 6\",\"Area 5 + Area 6\",\"Area 5 + Area 6\",\"Area 5 + Area 6\",\"Area 5 + Area 6\",\"Area 5 + Area 6\",\"Area 4 + Area 6\",\"Area 4 + Area 6\",\"Area 4 + Area 6\",\"Area 4 + Area 6\",\"Area 4 + Area 6\",\"Area 4 + Area 6\",\"Area 4 + Area 6\",\"Area 4 + Area 6\",\"Area 4 + Area 6\",\"Area 4 + Area 6\",\"Area 4 + Area 5\",\"Area 3 + Area 5\",\"Area 3 + Area 4\",\"Area 2 + Area 3\",\"Area 1 + Area 4\"],\"textinfo\":\"label+percent\"}],                        {\"template\":{\"layout\":{\"font\":{\"size\":12},\"margin\":{\"l\":70,\"r\":30},\"title\":{\"font\":{\"size\":18}},\"xaxis\":{\"linecolor\":\"black\",\"linewidth\":2,\"mirror\":true,\"showline\":true,\"title\":{\"text\":\"\"}},\"yaxis\":{\"linecolor\":\"black\",\"linewidth\":2,\"mirror\":true,\"showline\":true,\"title\":{\"text\":\"\"}}}},\"legend\":{\"tracegroupgap\":0,\"traceorder\":\"reversed\"},\"margin\":{\"t\":60}},                        {\"responsive\": true}                    ).then(function(){\n",
       "                            \n",
       "var gd = document.getElementById('8381bbba-3335-4152-b749-82239187da32');\n",
       "var x = new MutationObserver(function (mutations, observer) {{\n",
       "        var display = window.getComputedStyle(gd).display;\n",
       "        if (!display || display === 'none') {{\n",
       "            console.log([gd, 'removed!']);\n",
       "            Plotly.purge(gd);\n",
       "            observer.disconnect();\n",
       "        }}\n",
       "}});\n",
       "\n",
       "// Listen for the removal of the full notebook cells\n",
       "var notebookContainer = gd.closest('#notebook-container');\n",
       "if (notebookContainer) {{\n",
       "    x.observe(notebookContainer, {childList: true});\n",
       "}}\n",
       "\n",
       "// Listen for the clearing of the current output cell\n",
       "var outputEl = gd.closest('.output');\n",
       "if (outputEl) {{\n",
       "    x.observe(outputEl, {childList: true});\n",
       "}}\n",
       "\n",
       "                        })                };                });            </script>        </div>"
      ]
     },
     "metadata": {},
     "output_type": "display_data"
    }
   ],
   "source": [
    "# df.groupby(\"What 2 areas did you specialize in?\", as_index=False).count()[[\"What 2 areas did you specialize in?\", \"Submission ID\"]]\n",
    "fig = px.pie(df_specialization, names=\"What 2 areas did you specialize in?\", color=\"What 2 areas did you specialize in?\")\n",
    "fig.update_traces(textinfo=\"label+percent\",\n",
    "                  hovertemplate=\"%{text}<br><i>Count:</i> %{value}<br> %{percent}\",\n",
    "                  hovertext=areas_long_form,\n",
    "                  text=areas_simplified)\n",
    "fig.update_layout(legend_traceorder=\"reversed\")\n",
    "fig.show()"
   ]
  },
  {
   "attachments": {},
   "cell_type": "markdown",
   "metadata": {},
   "source": [
    "## What is Your Gender?"
   ]
  },
  {
   "cell_type": "code",
   "execution_count": 16,
   "metadata": {},
   "outputs": [],
   "source": [
    "# gen_percent = ((df[\"What is your gender?\"].value_counts() / df[\"What is your gender?\"].count() * 100).round(2).astype(str) + \"%\").tolist()"
   ]
  },
  {
   "cell_type": "code",
   "execution_count": 22,
   "metadata": {},
   "outputs": [
    {
     "data": {
      "text/html": [
       "<div>                            <div id=\"074dadce-042f-4ab1-9b2e-ddcb96134128\" class=\"plotly-graph-div\" style=\"height:525px; width:100%;\"></div>            <script type=\"text/javascript\">                require([\"plotly\"], function(Plotly) {                    window.PLOTLYENV=window.PLOTLYENV || {};                                    if (document.getElementById(\"074dadce-042f-4ab1-9b2e-ddcb96134128\")) {                    Plotly.newPlot(                        \"074dadce-042f-4ab1-9b2e-ddcb96134128\",                        [{\"alignmentgroup\":\"True\",\"bingroup\":\"x\",\"hovertemplate\":\"%{x}=%{y}\",\"legendgroup\":\"Male\",\"marker\":{\"color\":\"#1F77B4\",\"pattern\":{\"shape\":\"\"}},\"name\":\"Male\",\"offsetgroup\":\"Male\",\"orientation\":\"v\",\"showlegend\":true,\"x\":[\"Male\",\"Male\",\"Male\",\"Male\",\"Male\",\"Male\",\"Male\",\"Male\",\"Male\",\"Male\",\"Male\",\"Male\",\"Male\",\"Male\",\"Male\",\"Male\",\"Male\",\"Male\",\"Male\",\"Male\",\"Male\",\"Male\",\"Male\",\"Male\",\"Male\",\"Male\",\"Male\",\"Male\",\"Male\",\"Male\",\"Male\",\"Male\",\"Male\",\"Male\",\"Male\",\"Male\",\"Male\",\"Male\"],\"xaxis\":\"x\",\"yaxis\":\"y\",\"type\":\"histogram\"},{\"alignmentgroup\":\"True\",\"bingroup\":\"x\",\"hovertemplate\":\"%{x}=%{y}\",\"legendgroup\":\"Female\",\"marker\":{\"color\":\"#FF7F0E\",\"pattern\":{\"shape\":\"\"}},\"name\":\"Female\",\"offsetgroup\":\"Female\",\"orientation\":\"v\",\"showlegend\":true,\"x\":[\"Female\",\"Female\",\"Female\",\"Female\",\"Female\",\"Female\",\"Female\",\"Female\",\"Female\",\"Female\",\"Female\",\"Female\",\"Female\",\"Female\"],\"xaxis\":\"x\",\"yaxis\":\"y\",\"type\":\"histogram\"}],                        {\"template\":{\"layout\":{\"font\":{\"size\":12},\"margin\":{\"l\":70,\"r\":30},\"title\":{\"font\":{\"size\":18}},\"xaxis\":{\"linecolor\":\"black\",\"linewidth\":2,\"mirror\":true,\"showline\":true,\"title\":{\"text\":\"\"}},\"yaxis\":{\"linecolor\":\"black\",\"linewidth\":2,\"mirror\":true,\"showline\":true,\"title\":{\"text\":\"\"}}}},\"xaxis\":{\"anchor\":\"y\",\"domain\":[0.0,1.0],\"title\":{\"text\":\"\"},\"categoryorder\":\"array\",\"categoryarray\":[\"Male\",\"Female\"]},\"yaxis\":{\"anchor\":\"x\",\"domain\":[0.0,1.0],\"title\":{\"text\":\"count\"}},\"legend\":{\"title\":{\"text\":\"What is your gender?\"},\"tracegroupgap\":0},\"margin\":{\"t\":60},\"barmode\":\"relative\"},                        {\"responsive\": true}                    ).then(function(){\n",
       "                            \n",
       "var gd = document.getElementById('074dadce-042f-4ab1-9b2e-ddcb96134128');\n",
       "var x = new MutationObserver(function (mutations, observer) {{\n",
       "        var display = window.getComputedStyle(gd).display;\n",
       "        if (!display || display === 'none') {{\n",
       "            console.log([gd, 'removed!']);\n",
       "            Plotly.purge(gd);\n",
       "            observer.disconnect();\n",
       "        }}\n",
       "}});\n",
       "\n",
       "// Listen for the removal of the full notebook cells\n",
       "var notebookContainer = gd.closest('#notebook-container');\n",
       "if (notebookContainer) {{\n",
       "    x.observe(notebookContainer, {childList: true});\n",
       "}}\n",
       "\n",
       "// Listen for the clearing of the current output cell\n",
       "var outputEl = gd.closest('.output');\n",
       "if (outputEl) {{\n",
       "    x.observe(outputEl, {childList: true});\n",
       "}}\n",
       "\n",
       "                        })                };                });            </script>        </div>"
      ]
     },
     "metadata": {},
     "output_type": "display_data"
    }
   ],
   "source": [
    "fig = px.histogram(df, x=\"What is your gender?\", color=\"What is your gender?\")\n",
    "fig.update_layout(xaxis_title=\"\")\n",
    "fig.update_traces(hovertemplate=\"%{x}=%{y}\")\n",
    "fig.show()"
   ]
  },
  {
   "attachments": {},
   "cell_type": "markdown",
   "metadata": {},
   "source": [
    "## Sexual Orientation Based on Gender"
   ]
  },
  {
   "cell_type": "code",
   "execution_count": 51,
   "metadata": {},
   "outputs": [
    {
     "data": {
      "text/html": [
       "<div>                            <div id=\"30ab12d3-6fd2-4f39-9aa1-a4594044c2ef\" class=\"plotly-graph-div\" style=\"height:525px; width:100%;\"></div>            <script type=\"text/javascript\">                require([\"plotly\"], function(Plotly) {                    window.PLOTLYENV=window.PLOTLYENV || {};                                    if (document.getElementById(\"30ab12d3-6fd2-4f39-9aa1-a4594044c2ef\")) {                    Plotly.newPlot(                        \"30ab12d3-6fd2-4f39-9aa1-a4594044c2ef\",                        [{\"customdata\":[[\"Heterosexual\"],[\"Heterosexual\"],[\"Heterosexual\"],[\"Heterosexual\"],[\"Homosexual\"],[\"Bisexual\"],[\"Heterosexual\"],[\"Heterosexual\"],[\"Heterosexual\"],[\"Heterosexual\"],[\"Heterosexual\"],[\"Heterosexual\"],[\"Heterosexual\"],[\"Heterosexual\"],[\"Heterosexual\"],[\"Heterosexual\"],[\"Heterosexual\"],[\"Heterosexual\"],[\"Homosexual\"],[\"Heterosexual\"],[\"Heterosexual\"],[\"Heterosexual\"],[\"Homosexual\"],[\"Heterosexual\"],[\"Heterosexual\"],[\"Heterosexual\"],[\"Heterosexual\"],[\"Heterosexual\"],[\"Heterosexual\"],[\"Heterosexual\"],[\"Heterosexual\"],[\"Bisexual\"],[\"Heterosexual\"],[\"Homosexual\"],[\"Heterosexual\"],[\"Heterosexual\"],[\"Heterosexual\"],[\"Heterosexual\"]],\"domain\":{\"x\":[0.0,0.48],\"y\":[0.0,1.0]},\"hovertemplate\":\"<i>%{label}</i><br>Count: %{value}\",\"labels\":[\"Heterosexual\",\"Heterosexual\",\"Heterosexual\",\"Heterosexual\",\"Homosexual\",\"Bisexual\",\"Heterosexual\",\"Heterosexual\",\"Heterosexual\",\"Heterosexual\",\"Heterosexual\",\"Heterosexual\",\"Heterosexual\",\"Heterosexual\",\"Heterosexual\",\"Heterosexual\",\"Heterosexual\",\"Heterosexual\",\"Homosexual\",\"Heterosexual\",\"Heterosexual\",\"Heterosexual\",\"Homosexual\",\"Heterosexual\",\"Heterosexual\",\"Heterosexual\",\"Heterosexual\",\"Heterosexual\",\"Heterosexual\",\"Heterosexual\",\"Heterosexual\",\"Bisexual\",\"Heterosexual\",\"Homosexual\",\"Heterosexual\",\"Heterosexual\",\"Heterosexual\",\"Heterosexual\"],\"legendgroup\":\"\",\"marker\":{\"colors\":[\"#1F77B4\",\"#1F77B4\",\"#1F77B4\",\"#1F77B4\",\"#FF7F0E\",\"#2CA02C\",\"#1F77B4\",\"#1F77B4\",\"#1F77B4\",\"#1F77B4\",\"#1F77B4\",\"#1F77B4\",\"#1F77B4\",\"#1F77B4\",\"#1F77B4\",\"#1F77B4\",\"#1F77B4\",\"#1F77B4\",\"#FF7F0E\",\"#1F77B4\",\"#1F77B4\",\"#1F77B4\",\"#FF7F0E\",\"#1F77B4\",\"#1F77B4\",\"#1F77B4\",\"#1F77B4\",\"#1F77B4\",\"#1F77B4\",\"#1F77B4\",\"#1F77B4\",\"#2CA02C\",\"#1F77B4\",\"#FF7F0E\",\"#1F77B4\",\"#1F77B4\",\"#1F77B4\",\"#1F77B4\"]},\"name\":\"\",\"showlegend\":true,\"type\":\"pie\"},{\"customdata\":[[\"Heterosexual\"],[\"Heterosexual\"],[\"Prefer not to say\"],[\"Heterosexual\"],[\"Prefer not to say\"],[\"Heterosexual\"],[\"Heterosexual\"],[\"Heterosexual\"],[\"Bisexual\"],[\"Bisexual\"],[\"Heterosexual\"],[\"Heterosexual\"],[\"Heterosexual\"],[null]],\"domain\":{\"x\":[0.52,1.0],\"y\":[0.0,1.0]},\"hovertemplate\":\"<i>%{label}</i><br>Count: %{value}\",\"labels\":[\"Heterosexual\",\"Heterosexual\",\"Prefer not to say\",\"Heterosexual\",\"Prefer not to say\",\"Heterosexual\",\"Heterosexual\",\"Heterosexual\",\"Bisexual\",\"Bisexual\",\"Heterosexual\",\"Heterosexual\",\"Heterosexual\",null],\"legendgroup\":\"\",\"marker\":{\"colors\":[\"#1F77B4\",\"#1F77B4\",\"#FF7F0E\",\"#1F77B4\",\"#FF7F0E\",\"#1F77B4\",\"#1F77B4\",\"#1F77B4\",\"#2CA02C\",\"#2CA02C\",\"#1F77B4\",\"#1F77B4\",\"#1F77B4\",\"#D62728\"]},\"name\":\"\",\"showlegend\":true,\"type\":\"pie\"}],                        {\"template\":{\"layout\":{\"font\":{\"size\":12},\"margin\":{\"l\":70,\"r\":30},\"title\":{\"font\":{\"size\":18}},\"xaxis\":{\"linecolor\":\"black\",\"linewidth\":2,\"mirror\":true,\"showline\":true,\"title\":{\"text\":\"\"}},\"yaxis\":{\"linecolor\":\"black\",\"linewidth\":2,\"mirror\":true,\"showline\":true,\"title\":{\"text\":\"\"}}}},\"annotations\":[{\"font\":{},\"showarrow\":false,\"text\":\"Male\",\"x\":0.24,\"xanchor\":\"center\",\"xref\":\"paper\",\"y\":1.0,\"yanchor\":\"bottom\",\"yref\":\"paper\"},{\"font\":{},\"showarrow\":false,\"text\":\"Female\",\"x\":0.76,\"xanchor\":\"center\",\"xref\":\"paper\",\"y\":1.0,\"yanchor\":\"bottom\",\"yref\":\"paper\"}],\"legend\":{\"tracegroupgap\":0},\"margin\":{\"t\":60},\"showlegend\":false},                        {\"responsive\": true}                    ).then(function(){\n",
       "                            \n",
       "var gd = document.getElementById('30ab12d3-6fd2-4f39-9aa1-a4594044c2ef');\n",
       "var x = new MutationObserver(function (mutations, observer) {{\n",
       "        var display = window.getComputedStyle(gd).display;\n",
       "        if (!display || display === 'none') {{\n",
       "            console.log([gd, 'removed!']);\n",
       "            Plotly.purge(gd);\n",
       "            observer.disconnect();\n",
       "        }}\n",
       "}});\n",
       "\n",
       "// Listen for the removal of the full notebook cells\n",
       "var notebookContainer = gd.closest('#notebook-container');\n",
       "if (notebookContainer) {{\n",
       "    x.observe(notebookContainer, {childList: true});\n",
       "}}\n",
       "\n",
       "// Listen for the clearing of the current output cell\n",
       "var outputEl = gd.closest('.output');\n",
       "if (outputEl) {{\n",
       "    x.observe(outputEl, {childList: true});\n",
       "}}\n",
       "\n",
       "                        })                };                });            </script>        </div>"
      ]
     },
     "metadata": {},
     "output_type": "display_data"
    }
   ],
   "source": [
    "fig = px.pie(df, names=\"What is your sexual orientation?\", facet_col=\"What is your gender?\", \n",
    "                   facet_col_spacing=0.04,\n",
    "                   color=\"What is your sexual orientation?\")\n",
    "fig.for_each_annotation(lambda a: a.update(text=a.text.split(\"=\")[-1]))\n",
    "fig.update_traces(hovertemplate=\"<i>%{label}</i><br>Count: %{value}\")\n",
    "fig.update_layout(showlegend=False)\n",
    "fig.show()"
   ]
  },
  {
   "attachments": {},
   "cell_type": "markdown",
   "metadata": {},
   "source": [
    "## Are You a Domestic or International Student?"
   ]
  },
  {
   "cell_type": "code",
   "execution_count": 44,
   "metadata": {},
   "outputs": [
    {
     "data": {
      "text/html": [
       "<div>                            <div id=\"74685c95-c6b6-4304-a4e4-4b85967ff99c\" class=\"plotly-graph-div\" style=\"height:525px; width:100%;\"></div>            <script type=\"text/javascript\">                require([\"plotly\"], function(Plotly) {                    window.PLOTLYENV=window.PLOTLYENV || {};                                    if (document.getElementById(\"74685c95-c6b6-4304-a4e4-4b85967ff99c\")) {                    Plotly.newPlot(                        \"74685c95-c6b6-4304-a4e4-4b85967ff99c\",                        [{\"alignmentgroup\":\"True\",\"bingroup\":\"x\",\"hovertemplate\":\"%{x}=%{y}\",\"legendgroup\":\"International\",\"marker\":{\"color\":\"#1F77B4\",\"pattern\":{\"shape\":\"\"}},\"name\":\"International\",\"offsetgroup\":\"International\",\"orientation\":\"v\",\"showlegend\":true,\"x\":[\"International\",\"International\",\"International\",\"International\",\"International\",\"International\",\"International\",\"International\",\"International\",\"International\"],\"xaxis\":\"x\",\"yaxis\":\"y\",\"type\":\"histogram\"},{\"alignmentgroup\":\"True\",\"bingroup\":\"x\",\"hovertemplate\":\"%{x}=%{y}\",\"legendgroup\":\"Domestic\",\"marker\":{\"color\":\"#FF7F0E\",\"pattern\":{\"shape\":\"\"}},\"name\":\"Domestic\",\"offsetgroup\":\"Domestic\",\"orientation\":\"v\",\"showlegend\":true,\"x\":[\"Domestic\",\"Domestic\",\"Domestic\",\"Domestic\",\"Domestic\",\"Domestic\",\"Domestic\",\"Domestic\",\"Domestic\",\"Domestic\",\"Domestic\",\"Domestic\",\"Domestic\",\"Domestic\",\"Domestic\",\"Domestic\",\"Domestic\",\"Domestic\",\"Domestic\",\"Domestic\",\"Domestic\",\"Domestic\",\"Domestic\",\"Domestic\",\"Domestic\",\"Domestic\",\"Domestic\",\"Domestic\",\"Domestic\",\"Domestic\",\"Domestic\",\"Domestic\",\"Domestic\",\"Domestic\",\"Domestic\",\"Domestic\",\"Domestic\",\"Domestic\",\"Domestic\",\"Domestic\",\"Domestic\"],\"xaxis\":\"x\",\"yaxis\":\"y\",\"type\":\"histogram\"}],                        {\"template\":{\"layout\":{\"font\":{\"size\":12},\"margin\":{\"l\":70,\"r\":30},\"title\":{\"font\":{\"size\":18}},\"xaxis\":{\"linecolor\":\"black\",\"linewidth\":2,\"mirror\":true,\"showline\":true,\"title\":{\"text\":\"\"}},\"yaxis\":{\"linecolor\":\"black\",\"linewidth\":2,\"mirror\":true,\"showline\":true,\"title\":{\"text\":\"\"}}}},\"xaxis\":{\"anchor\":\"y\",\"domain\":[0.0,1.0],\"title\":{\"text\":\"\"},\"categoryorder\":\"array\",\"categoryarray\":[\"International\",\"Domestic\",null]},\"yaxis\":{\"anchor\":\"x\",\"domain\":[0.0,1.0],\"title\":{\"text\":\"count\"}},\"legend\":{\"title\":{\"text\":\"Are you a domestic or international student?\"},\"tracegroupgap\":0},\"margin\":{\"t\":60},\"barmode\":\"relative\"},                        {\"responsive\": true}                    ).then(function(){\n",
       "                            \n",
       "var gd = document.getElementById('74685c95-c6b6-4304-a4e4-4b85967ff99c');\n",
       "var x = new MutationObserver(function (mutations, observer) {{\n",
       "        var display = window.getComputedStyle(gd).display;\n",
       "        if (!display || display === 'none') {{\n",
       "            console.log([gd, 'removed!']);\n",
       "            Plotly.purge(gd);\n",
       "            observer.disconnect();\n",
       "        }}\n",
       "}});\n",
       "\n",
       "// Listen for the removal of the full notebook cells\n",
       "var notebookContainer = gd.closest('#notebook-container');\n",
       "if (notebookContainer) {{\n",
       "    x.observe(notebookContainer, {childList: true});\n",
       "}}\n",
       "\n",
       "// Listen for the clearing of the current output cell\n",
       "var outputEl = gd.closest('.output');\n",
       "if (outputEl) {{\n",
       "    x.observe(outputEl, {childList: true});\n",
       "}}\n",
       "\n",
       "                        })                };                });            </script>        </div>"
      ]
     },
     "metadata": {},
     "output_type": "display_data"
    }
   ],
   "source": [
    "fig = px.histogram(df, x=\"Are you a domestic or international student?\", color=\"Are you a domestic or international student?\")\n",
    "fig.update_layout(xaxis_title=\"\")\n",
    "fig.update_traces(hovertemplate=\"%{x}=%{y}\")\n",
    "fig.show()"
   ]
  },
  {
   "attachments": {},
   "cell_type": "markdown",
   "metadata": {},
   "source": [
    "## Where did you attend high school?"
   ]
  },
  {
   "cell_type": "code",
   "execution_count": 45,
   "metadata": {},
   "outputs": [
    {
     "data": {
      "text/plain": [
       "array(['Asia', 'GTA', 'West Coast of Canada', nan, 'Americas',\n",
       "       'Southern Ontario', 'USA'], dtype=object)"
      ]
     },
     "execution_count": 45,
     "metadata": {},
     "output_type": "execute_result"
    }
   ],
   "source": [
    "# df[\"Where did you attend high school?\"].unique()"
   ]
  },
  {
   "cell_type": "code",
   "execution_count": 67,
   "metadata": {},
   "outputs": [
    {
     "data": {
      "text/html": [
       "<div>\n",
       "<style scoped>\n",
       "    .dataframe tbody tr th:only-of-type {\n",
       "        vertical-align: middle;\n",
       "    }\n",
       "\n",
       "    .dataframe tbody tr th {\n",
       "        vertical-align: top;\n",
       "    }\n",
       "\n",
       "    .dataframe thead th {\n",
       "        text-align: right;\n",
       "    }\n",
       "</style>\n",
       "<table border=\"1\" class=\"dataframe\">\n",
       "  <thead>\n",
       "    <tr style=\"text-align: right;\">\n",
       "      <th></th>\n",
       "      <th>index</th>\n",
       "      <th>Where did you attend high school?</th>\n",
       "    </tr>\n",
       "  </thead>\n",
       "  <tbody>\n",
       "    <tr>\n",
       "      <th>0</th>\n",
       "      <td>GTA</td>\n",
       "      <td>24</td>\n",
       "    </tr>\n",
       "    <tr>\n",
       "      <th>1</th>\n",
       "      <td>Asia</td>\n",
       "      <td>9</td>\n",
       "    </tr>\n",
       "    <tr>\n",
       "      <th>2</th>\n",
       "      <td>Southern Ontario</td>\n",
       "      <td>8</td>\n",
       "    </tr>\n",
       "    <tr>\n",
       "      <th>3</th>\n",
       "      <td>West Coast of Canada</td>\n",
       "      <td>7</td>\n",
       "    </tr>\n",
       "    <tr>\n",
       "      <th>4</th>\n",
       "      <td>Americas</td>\n",
       "      <td>1</td>\n",
       "    </tr>\n",
       "  </tbody>\n",
       "</table>\n",
       "</div>"
      ],
      "text/plain": [
       "                  index  Where did you attend high school?\n",
       "0                   GTA                                 24\n",
       "1                  Asia                                  9\n",
       "2      Southern Ontario                                  8\n",
       "3  West Coast of Canada                                  7\n",
       "4              Americas                                  1"
      ]
     },
     "execution_count": 67,
     "metadata": {},
     "output_type": "execute_result"
    }
   ],
   "source": [
    "df_high_school = pd.DataFrame(df[\"Where did you attend high school?\"].value_counts()).reset_index()\n",
    "# df_high_school.head(5)"
   ]
  },
  {
   "cell_type": "code",
   "execution_count": 4,
   "metadata": {},
   "outputs": [
    {
     "data": {
      "text/html": [
       "        <script type=\"text/javascript\">\n",
       "        window.PlotlyConfig = {MathJaxConfig: 'local'};\n",
       "        if (window.MathJax && window.MathJax.Hub && window.MathJax.Hub.Config) {window.MathJax.Hub.Config({SVG: {font: \"STIX-Web\"}});}\n",
       "        if (typeof require !== 'undefined') {\n",
       "        require.undef(\"plotly\");\n",
       "        requirejs.config({\n",
       "            paths: {\n",
       "                'plotly': ['https://cdn.plot.ly/plotly-2.18.2.min']\n",
       "            }\n",
       "        });\n",
       "        require(['plotly'], function(Plotly) {\n",
       "            window._Plotly = Plotly;\n",
       "        });\n",
       "        }\n",
       "        </script>\n",
       "        "
      ]
     },
     "metadata": {},
     "output_type": "display_data"
    },
    {
     "data": {
      "text/html": [
       "<div>                            <div id=\"51e0997a-dd14-4dee-9fee-42d65d4f1ba8\" class=\"plotly-graph-div\" style=\"height:600px; width:100%;\"></div>            <script type=\"text/javascript\">                require([\"plotly\"], function(Plotly) {                    window.PLOTLYENV=window.PLOTLYENV || {};                                    if (document.getElementById(\"51e0997a-dd14-4dee-9fee-42d65d4f1ba8\")) {                    Plotly.newPlot(                        \"51e0997a-dd14-4dee-9fee-42d65d4f1ba8\",                        [{\"lat\":[41.979595,33.64044444,32.89595056,33.43416667,39.85840806,29.98047222,37.61900194,33.94253611,28.42888889,35.21401111,40.78838778,27.97547222,40.69249722,36.08036111,39.87195278,44.88054694,47.44898194,40.77724306,41.7859825,38.94453194,32.73355611,38.74768694,42.21205889,40.63975111,25.79325,42.3643475,38.69542167,39.17540167,33.67565861,29.99338889,37.36186194,38.85208333,45.58872222,26.53616667,26.68316194,35.87763889,29.64541861,29.53369444,26.07258333,39.29760528,37.72129083,40.49146583,35.04241667,42.94722222,41.41089417,30.49405556,32.11608333,39.71732917,39.49857611,35.39308833,41.72399917,36.19837222,39.04614278,39.99798528,38.17438889,34.056,34.72939611,32.84711389,41.30251861,36.89461111,39.90237583,43.11886611,36.28186944,36.12447667,35.04022222,32.31116667,31.80666667,37.50516667,41.93887417,31.94252778,30.53316083,35.81248722,38.80580556,30.47330556,43.11118694,33.56294306,42.93451639,33.82921556,27.39533333,27.77036083,34.6404475,33.93884,30.20527972,34.42621194,47.61985556,30.69141667,37.64995889,42.94052472,41.53493306,40.19349528,43.64616667,32.30064417,37.13189556,41.06695778,36.5869825,42.88081972,30.448674,32.65658333,39.22316,30.39652778,30.40728028,44.04532139,33.81772222,34.27061111,38.03697222,43.13985778,44.12326,32.12758333,33.66363889,41.88458833,34.89566722,36.09774694,40.7952425,41.44852639,35.43619444,40.91631194,40.47798556,26.22850611,30.48325,32.4466275,46.91934889,40.48118028,42.37422778,40.66424333,27.54373861,30.19453278,32.41132,37.24432611,42.96550333,36.47521417,31.06489778,32.89864639,44.48507333,44.25406722,32.51633333,41.70895361,43.56444444,33.67975,48.25937778,40.03925,37.32546833,39.64256778,43.60732417,45.77690139,39.1224125,34.20061917,38.03799139,38.53396333,43.51455556,36.77619444,39.84395194,26.17583333,40.50898361,47.949255,43.58135111,42.48180389,34.89924833,42.91130556,31.32133917,34.82916444,38.50886722,46.77411111,42.90835556,44.74144472,32.51086556,46.26468028,39.14096722,31.32737167,43.41713889,35.61677778,42.15614361,41.50409361,38.13863889,30.7825,44.77761917,35.65884306,40.97811528,31.25902778,40.85097222,40.97846583,44.52019417,37.06083333,35.23705806,41.33814944,33.45033444,44.34889806,35.07297222,33.369955,35.33659028,32.35413889,46.60681806,47.48200194,32.33313333,46.353639,37.95375861,35.03526833,46.37449806,37.70097028,42.74811944,44.47300361,48.31140472,28.10275,29.17991667,40.65236278,46.84209028,41.1557225,41.5942175,37.85830556,38.37315083,48.79275,37.62404861,44.25740806,36.385913,27.91076333,33.98879611,34.99147222,44.86525722,42.40295944,43.90882639,34.681499,45.8076625],\"lon\":[-87.90446417,-84.42694444,-97.0372,-112.0080556,-104.6670019,-95.33972222,-122.3748433,-118.4080744,-81.31602778,-80.94312583,-111.9777731,-82.53325,-74.16866056,-115.1523333,-75.24114083,-93.2169225,-122.3093131,-73.87260917,-87.75242444,-77.45580972,-117.1896567,-90.35998972,-83.34883583,-73.77892556,-80.29055556,-71.00517917,-121.5907669,-76.66819833,-117.8682225,-90.25802778,-121.9290089,-77.03772222,-122.5975,-81.75516667,-80.09559417,-78.78747222,-95.27888889,-98.46977778,-80.15275,-94.71390556,-122.2207167,-80.23287083,-89.97666667,-87.89658333,-81.84939667,-81.68786111,-110.9410278,-86.29438417,-119.7680647,-97.60073389,-71.42822111,-95.88824167,-84.6621725,-82.89188278,-85.736,-117.6011944,-92.22424556,-96.85177222,-95.89417306,-76.20122222,-84.219375,-77.67238389,-94.30681111,-86.67818222,-106.6091944,-90.07588889,-106.3778056,-77.31966667,-72.68322833,-102.2019139,-91.14963444,-83.99285583,-104.70025,-87.18744444,-76.10631056,-86.75354972,-71.43705583,-116.5062531,-82.55411111,-97.50121528,-86.77310944,-81.11953944,-91.987655,-119.8403733,-117.5338425,-88.24283333,-97.43304583,-78.73216667,-93.66068222,-76.76340361,-70.30875,-86.39397611,-76.4929875,-73.70757444,-121.8429478,-85.52276778,-84.550781,-114.6059722,-106.868845,-84.35033333,-89.07009278,-103.0573708,-118.1516111,-77.90255556,-84.60538889,-89.33751361,-123.2186856,-81.20213889,-101.8227778,-91.71087222,-82.21885833,-79.9372975,-73.10021194,-90.50753917,-82.54180556,-81.44246556,-88.91595278,-97.65439389,-86.5254,-93.82559833,-96.81498889,-107.2176597,-122.8734978,-89.69330556,-99.46154361,-97.66987194,-99.68189722,-93.38685806,-83.74345639,-82.40742056,-97.82779778,-80.04050583,-88.12959,-121.1499633,-84.93886111,-86.31847417,-116.2227778,-78.92833333,-101.2803339,-88.27805556,-79.97542833,-106.9176953,-110.7377389,-111.1530072,-108.5267347,-118.3584969,-87.53062667,-106.9331817,-112.0701667,-119.7181389,-89.67761861,-98.23861111,-122.2934019,-97.17611111,-96.74170028,-114.4877356,-120.4575825,-112.5958611,-85.44962889,-77.61213778,-107.8938333,-100.7467222,-106.4644661,-85.582235,-92.03768778,-119.1190292,-96.67083278,-92.54855611,-124.2460278,-106.0881389,-121.7332081,-74.10483833,-78.45286111,-83.27672222,-89.66677944,-117.8295122,-124.1086189,-81.46630556,-96.75925,-85.19514639,-109.0237961,-88.77375,-120.6423931,-75.7242675,-88.59136861,-105.5393614,-77.04294444,-81.96449611,-94.36744111,-95.40238611,-111.9827503,-111.3706853,-88.75120556,-87.395361,-107.90848,-85.20378778,-117.0153944,-113.098575,-73.80297861,-73.1503125,-114.2550694,-80.64580556,-81.05805556,-75.44040167,-92.19364861,-104.8118381,-109.0651928,-80.39947222,-81.59318972,-122.5375278,-118.8377722,-88.51947556,-92.548828,-82.68743944,-98.49189333,-78.88,-91.48507194,-90.70916722,-92.49798722,-90.348816,-108.5428611],\"marker\":{\"color\":[25129,21925,20662,17290,13781,13223,12016,11797,10536,10490,9898,9182,8678,8523,7965,7690,7541,7392,6979,6779,6233,6204,6044,5945,5907,5627,4943,4749,4616,4432,4367,4332,4071,4057,3972,3896,3824,3654,3616,3403,3386,3180,3058,3030,3015,3005,2786,2136,2104,2104,2044,2003,1986,1752,1716,1622,1620,1502,1474,1439,1337,1327,1310,1299,1258,1224,1206,1199,1162,1103,1095,1052,1040,1035,1006,956,953,949,932,926,880,840,818,800,785,768,747,711,708,702,686,686,675,664,658,656,653,627,611,608,582,572,562,553,540,538,529,524,518,516,479,472,460,451,448,445,426,414,410,410,409,408,404,404,396,393,382,381,379,347,346,338,333,328,324,324,319,314,310,306,301,296,295,288,285,280,270,270,264,264,258,248,248,246,245,225,216,216,214,212,210,208,208,201,199,168,168,168,168,168,168,159,158,158,156,146,144,140,127,114,112,112,112,112,112,112,112,112,112,110,108,108,104,104,104,104,102,96,93,91,90,74,72,60,58,56,56,56,56,56,56,56,56,52,50,50,48,48,37,32,23]},\"mode\":\"markers\",\"text\":[\"Chicago O'Hare InternationalChicago, ILArrivals: 25129\",\"William B Hartsfield-Atlanta IntlAtlanta, GAArrivals: 21925\",\"Dallas-Fort Worth InternationalDallas-Fort Worth, TXArrivals: 20662\",\"Phoenix Sky Harbor InternationalPhoenix, AZArrivals: 17290\",\"Denver IntlDenver, COArrivals: 13781\",\"George Bush IntercontinentalHouston, TXArrivals: 13223\",\"San Francisco InternationalSan Francisco, CAArrivals: 12016\",\"Los Angeles InternationalLos Angeles, CAArrivals: 11797\",\"Orlando InternationalOrlando, FLArrivals: 10536\",\"Charlotte/Douglas InternationalCharlotte, NCArrivals: 10490\",\"Salt Lake City IntlSalt Lake City, UTArrivals: 9898\",\"Tampa International Tampa, FLArrivals: 9182\",\"Newark IntlNewark, NJArrivals: 8678\",\"McCarran InternationalLas Vegas, NVArrivals: 8523\",\"Philadelphia IntlPhiladelphia, PAArrivals: 7965\",\"Minneapolis-St Paul IntlMinneapolis, MNArrivals: 7690\",\"Seattle-Tacoma IntlSeattle, WAArrivals: 7541\",\"LaGuardiaNew York, NYArrivals: 7392\",\"Chicago MidwayChicago, ILArrivals: 6979\",\"Washington Dulles InternationalChantilly, VAArrivals: 6779\",\"San Diego International-Lindbergh San Diego, CAArrivals: 6233\",\"Lambert-St Louis InternationalSt Louis, MOArrivals: 6204\",\"Detroit Metropolitan-Wayne CountyDetroit, MIArrivals: 6044\",\"John F Kennedy IntlNew York, NYArrivals: 5945\",\"Miami InternationalMiami, FLArrivals: 5907\",\"Gen Edw L Logan IntlBoston, MAArrivals: 5627\",\"Sacramento InternationalSacramento, CAArrivals: 4943\",\"Baltimore-Washington InternationalBaltimore, MDArrivals: 4749\",\"John Wayne /Orange CoSanta Ana, CAArrivals: 4616\",\"New Orleans International New Orleans, LAArrivals: 4432\",\"San Jose InternationalSan Jose, CAArrivals: 4367\",\"Ronald Reagan Washington NationalArlington, VAArrivals: 4332\",\"Portland IntlPortland, ORArrivals: 4071\",\"Southwest Florida InternationalFt. Myers, FLArrivals: 4057\",\"Palm Beach InternationalWest Palm Beach, FLArrivals: 3972\",\"Raleigh-Durham InternationalRaleigh, NCArrivals: 3896\",\"William P HobbyHouston, TXArrivals: 3824\",\"San Antonio InternationalSan Antonio, TXArrivals: 3654\",\"Fort Lauderdale-Hollywood Int'lFt. Lauderdale, FLArrivals: 3616\",\"Kansas City InternationalKansas City, MOArrivals: 3403\",\"Metropolitan Oakland InternationalOakland, CAArrivals: 3386\",\"Pittsburgh InternationalPittsburgh, PAArrivals: 3180\",\"Memphis InternationalMemphis, TNArrivals: 3058\",\"General Mitchell InternationalMilwaukee, WIArrivals: 3030\",\"Cleveland-Hopkins IntlCleveland, OHArrivals: 3015\",\"Jacksonville InternationalJacksonville, FLArrivals: 3005\",\"Tucson InternationalTucson, AZArrivals: 2786\",\"Indianapolis InternationalIndianapolis, INArrivals: 2136\",\"Reno/Tahoe InternationalReno, NVArrivals: 2104\",\"Will Rogers WorldOklahoma City, OKArrivals: 2104\",\"Theodore F Green StateProvidence, RIArrivals: 2044\",\"Tulsa InternationalTulsa, OKArrivals: 2003\",\"Cincinnati Northern Kentucky IntlCovington, KYArrivals: 1986\",\"Port Columbus IntlColumbus, OHArrivals: 1752\",\"Louisville International-Standiford Louisville, KYArrivals: 1716\",\"Ontario InternationalOntario, CAArrivals: 1622\",\"Adams Little Rock, ARArrivals: 1620\",\"Dallas Love Dallas, TXArrivals: 1502\",\"Eppley AirfieldOmaha, NEArrivals: 1474\",\"Norfolk InternationalNorfolk, VAArrivals: 1439\",\"James M Cox Dayton IntlDayton, OHArrivals: 1337\",\"Greater Rochester Int'lRochester, NYArrivals: 1327\",\"Northwest Arkansas RegionalFayetteville/Springdale/Rogers, ARArrivals: 1310\",\"Nashville InternationalNashville, TNArrivals: 1299\",\"Albuquerque InternationalAlbuquerque, NMArrivals: 1258\",\"Jackson InternationalJackson, MSArrivals: 1224\",\"El Paso InternationalEl Paso, TXArrivals: 1206\",\"Richmond InternationalRichmond, VAArrivals: 1199\",\"Bradley InternationalWindsor Locks, CTArrivals: 1162\",\"Midland InternationalMidland, TXArrivals: 1103\",\"Baton Rouge Metropolitan, Ryan Baton Rouge, LAArrivals: 1095\",\"McGhee-TysonKnoxville, TNArrivals: 1052\",\"City of Colorado Springs MuniColorado Springs, COArrivals: 1040\",\"Pensacola RegionalPensacola, FLArrivals: 1035\",\"Syracuse-Hancock IntlSyracuse, NYArrivals: 1006\",\"Birmingham InternationalBirmingham, ALArrivals: 956\",\"ManchesterManchester, NHArrivals: 953\",\"Palm Springs InternationalPalm Springs, CAArrivals: 949\",\"Sarasota Bradenton InternationalSarasota, FLArrivals: 932\",\"Corpus Christi InternationalCorpus Christi, TXArrivals: 926\",\"Huntsville International Huntsville, ALArrivals: 880\",\"Columbia MetropolitanColumbia, SCArrivals: 840\",\"Lafayette RegionalLafayette, LAArrivals: 818\",\"Santa Barbara MunicipalSanta Barbara, CAArrivals: 800\",\"Spokane IntlSpokane, WAArrivals: 785\",\"Mobile RegionalMobile, ALArrivals: 768\",\"Wichita Mid-ContinentWichita, KSArrivals: 747\",\"Buffalo Niagara IntlBuffalo, NYArrivals: 711\",\"Des Moines InternationalDes Moines, IAArrivals: 708\",\"Harrisburg IntlHarrisburg, PAArrivals: 702\",\"Portland International JetportPortland, MEArrivals: 686\",\"Montgomery Regional AptMontgomery, ALArrivals: 686\",\"Newport News/Williamsburg InternationalNewport News, VAArrivals: 675\",\"Westchester CtyWhite Plains, NYArrivals: 664\",\"Monterey PeninsulaMonterey, CAArrivals: 658\",\"Kent County InternationalGrand Rapids, MIArrivals: 656\",\"Florida BeachBeaches, FLArrivals: 653\",\"Yuma MCAS-Yuma InternationalYuma, AZArrivals: 627\",\"Aspen-Pitkin Co/Sardy Aspen, COArrivals: 611\",\"Tallahassee RegionalTallahassee, FLArrivals: 608\",\"Gulfport-Biloxi RegionalGulfport-Biloxi, MSArrivals: 582\",\"Rapid City RegionalRapid City, SDArrivals: 572\",\"Long Beach (Daugherty )Long Beach, CAArrivals: 562\",\"Wilmington InternationalWilmington, NCArrivals: 553\",\"Blue Grass Lexington, KYArrivals: 540\",\"Dane County RegionalMadison, WIArrivals: 538\",\"Mahlon Sweet Eugene, ORArrivals: 529\",\"Savannah InternationalSavannah, GAArrivals: 524\",\"Lubbock InternationalLubbock, TXArrivals: 518\",\"Eastern Iowa Cedar Rapids, IAArrivals: 516\",\"Greenville-SpartanburgGreer, SCArrivals: 479\",\"Piedmont Triad InternationalGreensboro, NCArrivals: 472\",\"Long Island - MacArthurIslip, NYArrivals: 460\",\"Quad CityMoline, ILArrivals: 451\",\"Asheville RegionalAsheville, NCArrivals: 448\",\"Akron-Canton RegionalAkron, OHArrivals: 445\",\"Central Illinois RegionalBloomington, ILArrivals: 426\",\"Valley InternationalHarlingen, TXArrivals: 414\",\"Eglin Air Force BaseValparaiso, FLArrivals: 410\",\"Shreveport RegionalShreveport, LAArrivals: 410\",\"Hector InternationalFargo, NDArrivals: 409\",\"Yampa ValleyHayden, COArrivals: 408\",\"Rogue Valley InternationalMedford, ORArrivals: 404\",\"Greater Peoria RegionalPeoria, ILArrivals: 404\",\"Laredo InternationalLaredo, TXArrivals: 396\",\"Austin-Bergstrom InternationalAustin, TXArrivals: 393\",\"Abilene RegionalAbilene, TXArrivals: 382\",\"Springfield-Branson RegionalSpringfield, MOArrivals: 381\",\"BishopFlint, MIArrivals: 379\",\"Tri-Cities RegionalBristol, TNArrivals: 347\",\"Robert Gray AAFKilleen, TXArrivals: 346\",\"Charleston AFB/InternationalCharleston, SCArrivals: 338\",\"Austin Straubel InternationalGreen Bay, WIArrivals: 333\",\"Roberts Redmond, ORArrivals: 328\",\"Columbus MetropolitanColumbus, GAArrivals: 324\",\"South Bend RegionalSouth Bend, INArrivals: 324\",\"Boise Air TerminalBoise, IDArrivals: 319\",\"Myrtle Beach InternationalMyrtle Beach, SCArrivals: 314\",\"Minot InternationalMinot, NDArrivals: 310\",\"University of Illinois-WillardChampaign/Urbana, ILArrivals: 306\",\"Roanoke Regional/ Woodrum Roanoke, VAArrivals: 301\",\"Eagle County RegionalEagle, COArrivals: 296\",\"Jackson HoleJackson, WYArrivals: 295\",\"Gallatin Bozeman, MTArrivals: 288\",\"Walker Grand Junction, COArrivals: 285\",\"Burbank-Glendale-PasadenaBurbank, CAArrivals: 280\",\"Evansville RegionalEvansville, INArrivals: 270\",\"Gunnison CountyGunnison, COArrivals: 270\",\"Idaho Falls RegionalIdaho Falls, IDArrivals: 264\",\"Fresno Yosemite InternationalFresno, CAArrivals: 264\",\"CapitalSpringfield, ILArrivals: 258\",\"McAllen Miller InternationalMcAllen, TXArrivals: 248\",\"Redding MunicipalRedding, CAArrivals: 248\",\"Grand Forks InternationalGrand Forks, NDArrivals: 246\",\"Joe Foss Sioux Falls, SDArrivals: 245\",\"Joslin Field - Magic ValleyTwin Falls, IDArrivals: 225\",\"Santa Maria Pub/Capt G Allan Hancock Santa Maria, CAArrivals: 216\",\"Pocatello RegionalPocatello, IDArrivals: 216\",\"Dothan Dothan, ALArrivals: 214\",\"Albert J EllisJacksonville, NCArrivals: 212\",\"Montrose RegionalMontrose, COArrivals: 210\",\"Bismarck MunicipalBismarck, NDArrivals: 208\",\"Natrona County IntlCasper, WYArrivals: 208\",\"Cherry CapitalTraverse City, MIArrivals: 201\",\"Monroe RegionalMonroe, LAArrivals: 199\",\"Tri-CitiesPasco, WAArrivals: 168\",\"Manhattan RegionalManhattan, KSArrivals: 168\",\"Alexandria InternationalAlexandria, LAArrivals: 168\",\"North Bend MuniNorth Bend, ORArrivals: 168\",\"Santa Fe MunicipalSanta Fe, NMArrivals: 168\",\"Klamath Falls InternationalKlamath Falls, ORArrivals: 168\",\"StewartNewburgh, NYArrivals: 159\",\"Charlottesville-AlbermarleCharlottesville, VAArrivals: 158\",\"Valdosta RegionalValdosta, GAArrivals: 158\",\"Central WisconsinMosinee, WIArrivals: 156\",\"InyokernInyokern, CAArrivals: 146\",\"ArcataArcata/Eureka, CAArrivals: 144\",\"Glynco JetportBrunswick, GAArrivals: 140\",\"Lincoln MunicipalLincoln, NEArrivals: 127\",\"Fort Wayne InternationalFort Wayne, INArrivals: 114\",\"Yellowstone RegionalCody, WYArrivals: 112\",\"Barkley RegionalPaducah, KYArrivals: 112\",\"San Luis Obispo Co-McChesney San Luis Obispo, CAArrivals: 112\",\"Wilkes-Barre/Scranton IntlWilkes-Barre/Scranton, PAArrivals: 112\",\"Golden Triangle RegionalColumbus-Starkville-West Point, MSArrivals: 112\",\"Gillette-Campbell CountyGillette, WYArrivals: 112\",\"Craven County RegionalNew Bern, NCArrivals: 112\",\"Bush Augusta, GAArrivals: 112\",\"Fort Smith RegionalFort Smith, ARArrivals: 112\",\"Tyler Pounds Tyler, TXArrivals: 110\",\"Helena RegionalHelena, MTArrivals: 108\",\"Great Falls IntlGreat Falls, MTArrivals: 108\",\"Key Meridian, MSArrivals: 104\",null,\"Telluride RegionalTelluride, COArrivals: 104\",\"Lovell Chattanooga, TNArrivals: 104\",\"Lewiston-Nez Perce CountyLewiston, IDArrivals: 102\",\"Cedar City MuniCedar City, UTArrivals: 96\",\"Albany CtyAlbany, NYArrivals: 93\",\"Burlington InternationalBurlington, VTArrivals: 91\",\"Glacier Park IntlKalispell, MTArrivals: 90\",\"Melbourne International Melbourne, FLArrivals: 74\",\"Daytona Beach InternationalDaytona Beach, FLArrivals: 72\",\"Lehigh Valley InternationalAllentown, PAArrivals: 60\",\"Duluth InternationalDuluth, MNArrivals: 58\",\"CheyenneCheyenne, WYArrivals: 56\",\"Rock Springs-Sweetwater CountyRock Springs, WYArrivals: 56\",\"Greenbrier ValleyLewisburg, WVArrivals: 56\",\"YeagerCharleston, WVArrivals: 56\",\"Bellingham IntlBellingham, WAArrivals: 56\",\"Mammoth YosemiteMammoth Lakes, CAArrivals: 56\",\"Outagamie County RegionalAppleton, WIArrivals: 56\",\"Branson AirportHollister, MOArrivals: 56\",\"St. Petersburg-Clearwater InternationalSt. Petersburg, FLArrivals: 52\",\"Sheppard AFB/Wichita Falls MunicipalWichita Falls, TXArrivals: 50\",\"Fayetteville MunicipalFayetteville, NCArrivals: 50\",\"Chippewa Valley RegionalEau Claire, WIArrivals: 48\",\"Dubuque MunicipalDubuque, IAArrivals: 48\",\"Rochester InternationalRochester, MNArrivals: 37\",\"Tunica Municipal AirportTunica, MSArrivals: 32\",\"Billings Logan IntlBillings, MTArrivals: 23\"],\"type\":\"scattergeo\"}],                        {\"template\":{\"data\":{\"histogram2dcontour\":[{\"type\":\"histogram2dcontour\",\"colorbar\":{\"outlinewidth\":0,\"ticks\":\"\"},\"colorscale\":[[0.0,\"#0d0887\"],[0.1111111111111111,\"#46039f\"],[0.2222222222222222,\"#7201a8\"],[0.3333333333333333,\"#9c179e\"],[0.4444444444444444,\"#bd3786\"],[0.5555555555555556,\"#d8576b\"],[0.6666666666666666,\"#ed7953\"],[0.7777777777777778,\"#fb9f3a\"],[0.8888888888888888,\"#fdca26\"],[1.0,\"#f0f921\"]]}],\"choropleth\":[{\"type\":\"choropleth\",\"colorbar\":{\"outlinewidth\":0,\"ticks\":\"\"}}],\"histogram2d\":[{\"type\":\"histogram2d\",\"colorbar\":{\"outlinewidth\":0,\"ticks\":\"\"},\"colorscale\":[[0.0,\"#0d0887\"],[0.1111111111111111,\"#46039f\"],[0.2222222222222222,\"#7201a8\"],[0.3333333333333333,\"#9c179e\"],[0.4444444444444444,\"#bd3786\"],[0.5555555555555556,\"#d8576b\"],[0.6666666666666666,\"#ed7953\"],[0.7777777777777778,\"#fb9f3a\"],[0.8888888888888888,\"#fdca26\"],[1.0,\"#f0f921\"]]}],\"heatmap\":[{\"type\":\"heatmap\",\"colorbar\":{\"outlinewidth\":0,\"ticks\":\"\"},\"colorscale\":[[0.0,\"#0d0887\"],[0.1111111111111111,\"#46039f\"],[0.2222222222222222,\"#7201a8\"],[0.3333333333333333,\"#9c179e\"],[0.4444444444444444,\"#bd3786\"],[0.5555555555555556,\"#d8576b\"],[0.6666666666666666,\"#ed7953\"],[0.7777777777777778,\"#fb9f3a\"],[0.8888888888888888,\"#fdca26\"],[1.0,\"#f0f921\"]]}],\"heatmapgl\":[{\"type\":\"heatmapgl\",\"colorbar\":{\"outlinewidth\":0,\"ticks\":\"\"},\"colorscale\":[[0.0,\"#0d0887\"],[0.1111111111111111,\"#46039f\"],[0.2222222222222222,\"#7201a8\"],[0.3333333333333333,\"#9c179e\"],[0.4444444444444444,\"#bd3786\"],[0.5555555555555556,\"#d8576b\"],[0.6666666666666666,\"#ed7953\"],[0.7777777777777778,\"#fb9f3a\"],[0.8888888888888888,\"#fdca26\"],[1.0,\"#f0f921\"]]}],\"contourcarpet\":[{\"type\":\"contourcarpet\",\"colorbar\":{\"outlinewidth\":0,\"ticks\":\"\"}}],\"contour\":[{\"type\":\"contour\",\"colorbar\":{\"outlinewidth\":0,\"ticks\":\"\"},\"colorscale\":[[0.0,\"#0d0887\"],[0.1111111111111111,\"#46039f\"],[0.2222222222222222,\"#7201a8\"],[0.3333333333333333,\"#9c179e\"],[0.4444444444444444,\"#bd3786\"],[0.5555555555555556,\"#d8576b\"],[0.6666666666666666,\"#ed7953\"],[0.7777777777777778,\"#fb9f3a\"],[0.8888888888888888,\"#fdca26\"],[1.0,\"#f0f921\"]]}],\"surface\":[{\"type\":\"surface\",\"colorbar\":{\"outlinewidth\":0,\"ticks\":\"\"},\"colorscale\":[[0.0,\"#0d0887\"],[0.1111111111111111,\"#46039f\"],[0.2222222222222222,\"#7201a8\"],[0.3333333333333333,\"#9c179e\"],[0.4444444444444444,\"#bd3786\"],[0.5555555555555556,\"#d8576b\"],[0.6666666666666666,\"#ed7953\"],[0.7777777777777778,\"#fb9f3a\"],[0.8888888888888888,\"#fdca26\"],[1.0,\"#f0f921\"]]}],\"mesh3d\":[{\"type\":\"mesh3d\",\"colorbar\":{\"outlinewidth\":0,\"ticks\":\"\"}}],\"scatter\":[{\"fillpattern\":{\"fillmode\":\"overlay\",\"size\":10,\"solidity\":0.2},\"type\":\"scatter\"}],\"parcoords\":[{\"type\":\"parcoords\",\"line\":{\"colorbar\":{\"outlinewidth\":0,\"ticks\":\"\"}}}],\"scatterpolargl\":[{\"type\":\"scatterpolargl\",\"marker\":{\"colorbar\":{\"outlinewidth\":0,\"ticks\":\"\"}}}],\"bar\":[{\"error_x\":{\"color\":\"#2a3f5f\"},\"error_y\":{\"color\":\"#2a3f5f\"},\"marker\":{\"line\":{\"color\":\"#E5ECF6\",\"width\":0.5},\"pattern\":{\"fillmode\":\"overlay\",\"size\":10,\"solidity\":0.2}},\"type\":\"bar\"}],\"scattergeo\":[{\"type\":\"scattergeo\",\"marker\":{\"colorbar\":{\"outlinewidth\":0,\"ticks\":\"\"}}}],\"scatterpolar\":[{\"type\":\"scatterpolar\",\"marker\":{\"colorbar\":{\"outlinewidth\":0,\"ticks\":\"\"}}}],\"histogram\":[{\"marker\":{\"pattern\":{\"fillmode\":\"overlay\",\"size\":10,\"solidity\":0.2}},\"type\":\"histogram\"}],\"scattergl\":[{\"type\":\"scattergl\",\"marker\":{\"colorbar\":{\"outlinewidth\":0,\"ticks\":\"\"}}}],\"scatter3d\":[{\"type\":\"scatter3d\",\"line\":{\"colorbar\":{\"outlinewidth\":0,\"ticks\":\"\"}},\"marker\":{\"colorbar\":{\"outlinewidth\":0,\"ticks\":\"\"}}}],\"scattermapbox\":[{\"type\":\"scattermapbox\",\"marker\":{\"colorbar\":{\"outlinewidth\":0,\"ticks\":\"\"}}}],\"scatterternary\":[{\"type\":\"scatterternary\",\"marker\":{\"colorbar\":{\"outlinewidth\":0,\"ticks\":\"\"}}}],\"scattercarpet\":[{\"type\":\"scattercarpet\",\"marker\":{\"colorbar\":{\"outlinewidth\":0,\"ticks\":\"\"}}}],\"carpet\":[{\"aaxis\":{\"endlinecolor\":\"#2a3f5f\",\"gridcolor\":\"white\",\"linecolor\":\"white\",\"minorgridcolor\":\"white\",\"startlinecolor\":\"#2a3f5f\"},\"baxis\":{\"endlinecolor\":\"#2a3f5f\",\"gridcolor\":\"white\",\"linecolor\":\"white\",\"minorgridcolor\":\"white\",\"startlinecolor\":\"#2a3f5f\"},\"type\":\"carpet\"}],\"table\":[{\"cells\":{\"fill\":{\"color\":\"#EBF0F8\"},\"line\":{\"color\":\"white\"}},\"header\":{\"fill\":{\"color\":\"#C8D4E3\"},\"line\":{\"color\":\"white\"}},\"type\":\"table\"}],\"barpolar\":[{\"marker\":{\"line\":{\"color\":\"#E5ECF6\",\"width\":0.5},\"pattern\":{\"fillmode\":\"overlay\",\"size\":10,\"solidity\":0.2}},\"type\":\"barpolar\"}],\"pie\":[{\"automargin\":true,\"type\":\"pie\"}]},\"layout\":{\"autotypenumbers\":\"strict\",\"colorway\":[\"#636efa\",\"#EF553B\",\"#00cc96\",\"#ab63fa\",\"#FFA15A\",\"#19d3f3\",\"#FF6692\",\"#B6E880\",\"#FF97FF\",\"#FECB52\"],\"font\":{\"color\":\"#2a3f5f\"},\"hovermode\":\"closest\",\"hoverlabel\":{\"align\":\"left\"},\"paper_bgcolor\":\"white\",\"plot_bgcolor\":\"#E5ECF6\",\"polar\":{\"bgcolor\":\"#E5ECF6\",\"angularaxis\":{\"gridcolor\":\"white\",\"linecolor\":\"white\",\"ticks\":\"\"},\"radialaxis\":{\"gridcolor\":\"white\",\"linecolor\":\"white\",\"ticks\":\"\"}},\"ternary\":{\"bgcolor\":\"#E5ECF6\",\"aaxis\":{\"gridcolor\":\"white\",\"linecolor\":\"white\",\"ticks\":\"\"},\"baxis\":{\"gridcolor\":\"white\",\"linecolor\":\"white\",\"ticks\":\"\"},\"caxis\":{\"gridcolor\":\"white\",\"linecolor\":\"white\",\"ticks\":\"\"}},\"coloraxis\":{\"colorbar\":{\"outlinewidth\":0,\"ticks\":\"\"}},\"colorscale\":{\"sequential\":[[0.0,\"#0d0887\"],[0.1111111111111111,\"#46039f\"],[0.2222222222222222,\"#7201a8\"],[0.3333333333333333,\"#9c179e\"],[0.4444444444444444,\"#bd3786\"],[0.5555555555555556,\"#d8576b\"],[0.6666666666666666,\"#ed7953\"],[0.7777777777777778,\"#fb9f3a\"],[0.8888888888888888,\"#fdca26\"],[1.0,\"#f0f921\"]],\"sequentialminus\":[[0.0,\"#0d0887\"],[0.1111111111111111,\"#46039f\"],[0.2222222222222222,\"#7201a8\"],[0.3333333333333333,\"#9c179e\"],[0.4444444444444444,\"#bd3786\"],[0.5555555555555556,\"#d8576b\"],[0.6666666666666666,\"#ed7953\"],[0.7777777777777778,\"#fb9f3a\"],[0.8888888888888888,\"#fdca26\"],[1.0,\"#f0f921\"]],\"diverging\":[[0,\"#8e0152\"],[0.1,\"#c51b7d\"],[0.2,\"#de77ae\"],[0.3,\"#f1b6da\"],[0.4,\"#fde0ef\"],[0.5,\"#f7f7f7\"],[0.6,\"#e6f5d0\"],[0.7,\"#b8e186\"],[0.8,\"#7fbc41\"],[0.9,\"#4d9221\"],[1,\"#276419\"]]},\"xaxis\":{\"gridcolor\":\"white\",\"linecolor\":\"white\",\"ticks\":\"\",\"title\":{\"standoff\":15},\"zerolinecolor\":\"white\",\"automargin\":true,\"zerolinewidth\":2},\"yaxis\":{\"gridcolor\":\"white\",\"linecolor\":\"white\",\"ticks\":\"\",\"title\":{\"standoff\":15},\"zerolinecolor\":\"white\",\"automargin\":true,\"zerolinewidth\":2},\"scene\":{\"xaxis\":{\"backgroundcolor\":\"#E5ECF6\",\"gridcolor\":\"white\",\"linecolor\":\"white\",\"showbackground\":true,\"ticks\":\"\",\"zerolinecolor\":\"white\",\"gridwidth\":2},\"yaxis\":{\"backgroundcolor\":\"#E5ECF6\",\"gridcolor\":\"white\",\"linecolor\":\"white\",\"showbackground\":true,\"ticks\":\"\",\"zerolinecolor\":\"white\",\"gridwidth\":2},\"zaxis\":{\"backgroundcolor\":\"#E5ECF6\",\"gridcolor\":\"white\",\"linecolor\":\"white\",\"showbackground\":true,\"ticks\":\"\",\"zerolinecolor\":\"white\",\"gridwidth\":2}},\"shapedefaults\":{\"line\":{\"color\":\"#2a3f5f\"}},\"annotationdefaults\":{\"arrowcolor\":\"#2a3f5f\",\"arrowhead\":0,\"arrowwidth\":1},\"geo\":{\"bgcolor\":\"white\",\"landcolor\":\"#E5ECF6\",\"subunitcolor\":\"white\",\"showland\":true,\"showlakes\":true,\"lakecolor\":\"white\"},\"title\":{\"x\":0.05},\"mapbox\":{\"style\":\"light\"}}},\"geo\":{\"projection\":{\"type\":\"orthographic\"}},\"height\":600,\"title\":{\"text\":\"Most trafficked US airports<br>(Hover for airport names)\"}},                        {\"responsive\": true}                    ).then(function(){\n",
       "                            \n",
       "var gd = document.getElementById('51e0997a-dd14-4dee-9fee-42d65d4f1ba8');\n",
       "var x = new MutationObserver(function (mutations, observer) {{\n",
       "        var display = window.getComputedStyle(gd).display;\n",
       "        if (!display || display === 'none') {{\n",
       "            console.log([gd, 'removed!']);\n",
       "            Plotly.purge(gd);\n",
       "            observer.disconnect();\n",
       "        }}\n",
       "}});\n",
       "\n",
       "// Listen for the removal of the full notebook cells\n",
       "var notebookContainer = gd.closest('#notebook-container');\n",
       "if (notebookContainer) {{\n",
       "    x.observe(notebookContainer, {childList: true});\n",
       "}}\n",
       "\n",
       "// Listen for the clearing of the current output cell\n",
       "var outputEl = gd.closest('.output');\n",
       "if (outputEl) {{\n",
       "    x.observe(outputEl, {childList: true});\n",
       "}}\n",
       "\n",
       "                        })                };                });            </script>        </div>"
      ]
     },
     "metadata": {},
     "output_type": "display_data"
    }
   ],
   "source": [
    "df_traffic = pd.read_csv('https://raw.githubusercontent.com/plotly/datasets/master/2011_february_us_airport_traffic.csv')\n",
    "df_traffic['text'] = df_traffic['airport'] + '' + df_traffic['city'] + ', ' + df_traffic['state'] + '' + 'Arrivals: ' + df_traffic['cnt'].astype(str)\n",
    "\n",
    "fig = go.Figure(data=go.Scattergeo(\n",
    "        lon = df_traffic['long'],\n",
    "        lat = df_traffic['lat'],\n",
    "        text = df_traffic['text'],\n",
    "        mode = 'markers',\n",
    "        marker_color = df_traffic['cnt'],\n",
    "        ))\n",
    "\n",
    "\n",
    "fig.update_geos(projection_type=\"orthographic\")\n",
    "fig.update_layout(height=600,\n",
    "                  title = 'Most trafficked US airports<br>(Hover for airport names)',\n",
    "                  )\n",
    "# fig.update_layout(\n",
    "\n",
    "# )\n",
    "fig.show()"
   ]
  },
  {
   "attachments": {},
   "cell_type": "markdown",
   "metadata": {
    "tags": [
     "hide_code"
    ]
   },
   "source": [
    "## Test"
   ]
  },
  {
   "cell_type": "code",
   "execution_count": 18,
   "metadata": {
    "tags": [
     "hide_code"
    ]
   },
   "outputs": [],
   "source": [
    "# a = pd.DataFrame([[True, False, False, False], [False, True, True, False], [True, True, False, False]], columns=[\"\"])\n",
    "# a.head()"
   ]
  },
  {
   "cell_type": "code",
   "execution_count": null,
   "metadata": {},
   "outputs": [],
   "source": [
    "# Correlation Matrix could be fun to unravel some insight\n",
    "# df.corr()"
   ]
  }
 ],
 "metadata": {
  "kernelspec": {
   "display_name": "fourth_year_opinions",
   "language": "python",
   "name": "python3"
  },
  "language_info": {
   "codemirror_mode": {
    "name": "ipython",
    "version": 3
   },
   "file_extension": ".py",
   "mimetype": "text/x-python",
   "name": "python",
   "nbconvert_exporter": "python",
   "pygments_lexer": "ipython3",
   "version": "3.11.2"
  },
  "orig_nbformat": 4
 },
 "nbformat": 4,
 "nbformat_minor": 2
}
